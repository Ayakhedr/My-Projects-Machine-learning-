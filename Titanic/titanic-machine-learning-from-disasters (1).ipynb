{
 "cells": [
  {
   "cell_type": "code",
   "execution_count": 1,
   "id": "1987f777",
   "metadata": {
    "_cell_guid": "b1076dfc-b9ad-4769-8c92-a6c4dae69d19",
    "_uuid": "8f2839f25d086af736a60e9eeb907d3b93b6e0e5",
    "execution": {
     "iopub.execute_input": "2025-10-16T14:00:54.493184Z",
     "iopub.status.busy": "2025-10-16T14:00:54.492441Z",
     "iopub.status.idle": "2025-10-16T14:00:55.980656Z",
     "shell.execute_reply": "2025-10-16T14:00:55.979946Z"
    },
    "papermill": {
     "duration": 1.502111,
     "end_time": "2025-10-16T14:00:55.981930",
     "exception": false,
     "start_time": "2025-10-16T14:00:54.479819",
     "status": "completed"
    },
    "tags": []
   },
   "outputs": [
    {
     "name": "stdout",
     "output_type": "stream",
     "text": [
      "/kaggle/input/titanic/train.csv\n",
      "/kaggle/input/titanic/test.csv\n",
      "/kaggle/input/titanic/gender_submission.csv\n"
     ]
    }
   ],
   "source": [
    "# This Python 3 environment comes with many helpful analytics libraries installed\n",
    "# It is defined by the kaggle/python Docker image: https://github.com/kaggle/docker-python\n",
    "# For example, here's several helpful packages to load\n",
    "\n",
    "import numpy as np # linear algebra\n",
    "import pandas as pd # data processing, CSV file I/O (e.g. pd.read_csv)\n",
    "\n",
    "# Input data files are available in the read-only \"../input/\" directory\n",
    "# For example, running this (by clicking run or pressing Shift+Enter) will list all files under the input directory\n",
    "\n",
    "import os\n",
    "for dirname, _, filenames in os.walk('/kaggle/input'):\n",
    "    for filename in filenames:\n",
    "        print(os.path.join(dirname, filename))\n",
    "\n",
    "# You can write up to 20GB to the current directory (/kaggle/working/) that gets preserved as output when you create a version using \"Save & Run All\" \n",
    "# You can also write temporary files to /kaggle/temp/, but they won't be saved outside of the current session"
   ]
  },
  {
   "cell_type": "markdown",
   "id": "f5d463f4",
   "metadata": {
    "papermill": {
     "duration": 0.011797,
     "end_time": "2025-10-16T14:00:56.008988",
     "exception": false,
     "start_time": "2025-10-16T14:00:55.997191",
     "status": "completed"
    },
    "tags": []
   },
   "source": [
    "# **Data Classification**"
   ]
  },
  {
   "cell_type": "markdown",
   "id": "b416d7ae",
   "metadata": {
    "papermill": {
     "duration": 0.011137,
     "end_time": "2025-10-16T14:00:56.034317",
     "exception": false,
     "start_time": "2025-10-16T14:00:56.023180",
     "status": "completed"
    },
    "tags": []
   },
   "source": [
    "## **Importing Libraries**"
   ]
  },
  {
   "cell_type": "code",
   "execution_count": 2,
   "id": "f6d0c202",
   "metadata": {
    "execution": {
     "iopub.execute_input": "2025-10-16T14:00:56.055244Z",
     "iopub.status.busy": "2025-10-16T14:00:56.054877Z",
     "iopub.status.idle": "2025-10-16T14:00:58.604200Z",
     "shell.execute_reply": "2025-10-16T14:00:58.603418Z"
    },
    "papermill": {
     "duration": 2.561567,
     "end_time": "2025-10-16T14:00:58.605805",
     "exception": false,
     "start_time": "2025-10-16T14:00:56.044238",
     "status": "completed"
    },
    "tags": []
   },
   "outputs": [],
   "source": [
    "import numpy as np\n",
    "import pandas as pd\n",
    "import seaborn as sns\n",
    "import matplotlib.pyplot as plt\n",
    "from catboost import CatBoostClassifier\n",
    "from sklearn.metrics import roc_curve, auc\n",
    "from sklearn.preprocessing import StandardScaler\n",
    "from sklearn.model_selection import train_test_split\n",
    "from sklearn.linear_model import LogisticRegression\n",
    "from sklearn.ensemble import RandomForestClassifier\n",
    "from sklearn.metrics import roc_curve, roc_auc_score\n",
    "from sklearn.metrics import accuracy_score, classification_report, confusion_matrix\n",
    "\n",
    "import warnings\n",
    "warnings.filterwarnings('ignore')"
   ]
  },
  {
   "cell_type": "markdown",
   "id": "9a55fc50",
   "metadata": {
    "papermill": {
     "duration": 0.009953,
     "end_time": "2025-10-16T14:00:58.626379",
     "exception": false,
     "start_time": "2025-10-16T14:00:58.616426",
     "status": "completed"
    },
    "tags": []
   },
   "source": [
    "## **Reading Train Data**"
   ]
  },
  {
   "cell_type": "code",
   "execution_count": 3,
   "id": "cb60bf3d",
   "metadata": {
    "execution": {
     "iopub.execute_input": "2025-10-16T14:00:58.647853Z",
     "iopub.status.busy": "2025-10-16T14:00:58.647427Z",
     "iopub.status.idle": "2025-10-16T14:00:58.668522Z",
     "shell.execute_reply": "2025-10-16T14:00:58.667568Z"
    },
    "papermill": {
     "duration": 0.033761,
     "end_time": "2025-10-16T14:00:58.670138",
     "exception": false,
     "start_time": "2025-10-16T14:00:58.636377",
     "status": "completed"
    },
    "tags": []
   },
   "outputs": [],
   "source": [
    "Titanic_train = pd.read_csv('/kaggle/input/titanic/train.csv')"
   ]
  },
  {
   "cell_type": "code",
   "execution_count": 4,
   "id": "c22016a9",
   "metadata": {
    "execution": {
     "iopub.execute_input": "2025-10-16T14:00:58.691663Z",
     "iopub.status.busy": "2025-10-16T14:00:58.691359Z",
     "iopub.status.idle": "2025-10-16T14:00:58.715191Z",
     "shell.execute_reply": "2025-10-16T14:00:58.714400Z"
    },
    "papermill": {
     "duration": 0.035726,
     "end_time": "2025-10-16T14:00:58.716304",
     "exception": false,
     "start_time": "2025-10-16T14:00:58.680578",
     "status": "completed"
    },
    "tags": []
   },
   "outputs": [
    {
     "data": {
      "text/html": [
       "<div>\n",
       "<style scoped>\n",
       "    .dataframe tbody tr th:only-of-type {\n",
       "        vertical-align: middle;\n",
       "    }\n",
       "\n",
       "    .dataframe tbody tr th {\n",
       "        vertical-align: top;\n",
       "    }\n",
       "\n",
       "    .dataframe thead th {\n",
       "        text-align: right;\n",
       "    }\n",
       "</style>\n",
       "<table border=\"1\" class=\"dataframe\">\n",
       "  <thead>\n",
       "    <tr style=\"text-align: right;\">\n",
       "      <th></th>\n",
       "      <th>PassengerId</th>\n",
       "      <th>Survived</th>\n",
       "      <th>Pclass</th>\n",
       "      <th>Name</th>\n",
       "      <th>Sex</th>\n",
       "      <th>Age</th>\n",
       "      <th>SibSp</th>\n",
       "      <th>Parch</th>\n",
       "      <th>Ticket</th>\n",
       "      <th>Fare</th>\n",
       "      <th>Cabin</th>\n",
       "      <th>Embarked</th>\n",
       "    </tr>\n",
       "  </thead>\n",
       "  <tbody>\n",
       "    <tr>\n",
       "      <th>0</th>\n",
       "      <td>1</td>\n",
       "      <td>0</td>\n",
       "      <td>3</td>\n",
       "      <td>Braund, Mr. Owen Harris</td>\n",
       "      <td>male</td>\n",
       "      <td>22.0</td>\n",
       "      <td>1</td>\n",
       "      <td>0</td>\n",
       "      <td>A/5 21171</td>\n",
       "      <td>7.2500</td>\n",
       "      <td>NaN</td>\n",
       "      <td>S</td>\n",
       "    </tr>\n",
       "    <tr>\n",
       "      <th>1</th>\n",
       "      <td>2</td>\n",
       "      <td>1</td>\n",
       "      <td>1</td>\n",
       "      <td>Cumings, Mrs. John Bradley (Florence Briggs Th...</td>\n",
       "      <td>female</td>\n",
       "      <td>38.0</td>\n",
       "      <td>1</td>\n",
       "      <td>0</td>\n",
       "      <td>PC 17599</td>\n",
       "      <td>71.2833</td>\n",
       "      <td>C85</td>\n",
       "      <td>C</td>\n",
       "    </tr>\n",
       "    <tr>\n",
       "      <th>2</th>\n",
       "      <td>3</td>\n",
       "      <td>1</td>\n",
       "      <td>3</td>\n",
       "      <td>Heikkinen, Miss. Laina</td>\n",
       "      <td>female</td>\n",
       "      <td>26.0</td>\n",
       "      <td>0</td>\n",
       "      <td>0</td>\n",
       "      <td>STON/O2. 3101282</td>\n",
       "      <td>7.9250</td>\n",
       "      <td>NaN</td>\n",
       "      <td>S</td>\n",
       "    </tr>\n",
       "    <tr>\n",
       "      <th>3</th>\n",
       "      <td>4</td>\n",
       "      <td>1</td>\n",
       "      <td>1</td>\n",
       "      <td>Futrelle, Mrs. Jacques Heath (Lily May Peel)</td>\n",
       "      <td>female</td>\n",
       "      <td>35.0</td>\n",
       "      <td>1</td>\n",
       "      <td>0</td>\n",
       "      <td>113803</td>\n",
       "      <td>53.1000</td>\n",
       "      <td>C123</td>\n",
       "      <td>S</td>\n",
       "    </tr>\n",
       "    <tr>\n",
       "      <th>4</th>\n",
       "      <td>5</td>\n",
       "      <td>0</td>\n",
       "      <td>3</td>\n",
       "      <td>Allen, Mr. William Henry</td>\n",
       "      <td>male</td>\n",
       "      <td>35.0</td>\n",
       "      <td>0</td>\n",
       "      <td>0</td>\n",
       "      <td>373450</td>\n",
       "      <td>8.0500</td>\n",
       "      <td>NaN</td>\n",
       "      <td>S</td>\n",
       "    </tr>\n",
       "  </tbody>\n",
       "</table>\n",
       "</div>"
      ],
      "text/plain": [
       "   PassengerId  Survived  Pclass  \\\n",
       "0            1         0       3   \n",
       "1            2         1       1   \n",
       "2            3         1       3   \n",
       "3            4         1       1   \n",
       "4            5         0       3   \n",
       "\n",
       "                                                Name     Sex   Age  SibSp  \\\n",
       "0                            Braund, Mr. Owen Harris    male  22.0      1   \n",
       "1  Cumings, Mrs. John Bradley (Florence Briggs Th...  female  38.0      1   \n",
       "2                             Heikkinen, Miss. Laina  female  26.0      0   \n",
       "3       Futrelle, Mrs. Jacques Heath (Lily May Peel)  female  35.0      1   \n",
       "4                           Allen, Mr. William Henry    male  35.0      0   \n",
       "\n",
       "   Parch            Ticket     Fare Cabin Embarked  \n",
       "0      0         A/5 21171   7.2500   NaN        S  \n",
       "1      0          PC 17599  71.2833   C85        C  \n",
       "2      0  STON/O2. 3101282   7.9250   NaN        S  \n",
       "3      0            113803  53.1000  C123        S  \n",
       "4      0            373450   8.0500   NaN        S  "
      ]
     },
     "execution_count": 4,
     "metadata": {},
     "output_type": "execute_result"
    }
   ],
   "source": [
    "Titanic_train.head()"
   ]
  },
  {
   "cell_type": "code",
   "execution_count": 5,
   "id": "b72294d5",
   "metadata": {
    "execution": {
     "iopub.execute_input": "2025-10-16T14:00:58.738071Z",
     "iopub.status.busy": "2025-10-16T14:00:58.737801Z",
     "iopub.status.idle": "2025-10-16T14:00:58.761238Z",
     "shell.execute_reply": "2025-10-16T14:00:58.760444Z"
    },
    "papermill": {
     "duration": 0.035705,
     "end_time": "2025-10-16T14:00:58.762388",
     "exception": false,
     "start_time": "2025-10-16T14:00:58.726683",
     "status": "completed"
    },
    "tags": []
   },
   "outputs": [
    {
     "name": "stdout",
     "output_type": "stream",
     "text": [
      "<class 'pandas.core.frame.DataFrame'>\n",
      "RangeIndex: 891 entries, 0 to 890\n",
      "Data columns (total 12 columns):\n",
      " #   Column       Non-Null Count  Dtype  \n",
      "---  ------       --------------  -----  \n",
      " 0   PassengerId  891 non-null    int64  \n",
      " 1   Survived     891 non-null    int64  \n",
      " 2   Pclass       891 non-null    int64  \n",
      " 3   Name         891 non-null    object \n",
      " 4   Sex          891 non-null    object \n",
      " 5   Age          714 non-null    float64\n",
      " 6   SibSp        891 non-null    int64  \n",
      " 7   Parch        891 non-null    int64  \n",
      " 8   Ticket       891 non-null    object \n",
      " 9   Fare         891 non-null    float64\n",
      " 10  Cabin        204 non-null    object \n",
      " 11  Embarked     889 non-null    object \n",
      "dtypes: float64(2), int64(5), object(5)\n",
      "memory usage: 83.7+ KB\n"
     ]
    }
   ],
   "source": [
    "Titanic_train.info()"
   ]
  },
  {
   "cell_type": "code",
   "execution_count": 6,
   "id": "ce2489de",
   "metadata": {
    "execution": {
     "iopub.execute_input": "2025-10-16T14:00:58.784529Z",
     "iopub.status.busy": "2025-10-16T14:00:58.784227Z",
     "iopub.status.idle": "2025-10-16T14:00:58.813927Z",
     "shell.execute_reply": "2025-10-16T14:00:58.813140Z"
    },
    "papermill": {
     "duration": 0.041935,
     "end_time": "2025-10-16T14:00:58.814977",
     "exception": false,
     "start_time": "2025-10-16T14:00:58.773042",
     "status": "completed"
    },
    "tags": []
   },
   "outputs": [
    {
     "data": {
      "text/html": [
       "<div>\n",
       "<style scoped>\n",
       "    .dataframe tbody tr th:only-of-type {\n",
       "        vertical-align: middle;\n",
       "    }\n",
       "\n",
       "    .dataframe tbody tr th {\n",
       "        vertical-align: top;\n",
       "    }\n",
       "\n",
       "    .dataframe thead th {\n",
       "        text-align: right;\n",
       "    }\n",
       "</style>\n",
       "<table border=\"1\" class=\"dataframe\">\n",
       "  <thead>\n",
       "    <tr style=\"text-align: right;\">\n",
       "      <th></th>\n",
       "      <th>PassengerId</th>\n",
       "      <th>Survived</th>\n",
       "      <th>Pclass</th>\n",
       "      <th>Age</th>\n",
       "      <th>SibSp</th>\n",
       "      <th>Parch</th>\n",
       "      <th>Fare</th>\n",
       "    </tr>\n",
       "  </thead>\n",
       "  <tbody>\n",
       "    <tr>\n",
       "      <th>count</th>\n",
       "      <td>891.000000</td>\n",
       "      <td>891.000000</td>\n",
       "      <td>891.000000</td>\n",
       "      <td>714.000000</td>\n",
       "      <td>891.000000</td>\n",
       "      <td>891.000000</td>\n",
       "      <td>891.000000</td>\n",
       "    </tr>\n",
       "    <tr>\n",
       "      <th>mean</th>\n",
       "      <td>446.000000</td>\n",
       "      <td>0.383838</td>\n",
       "      <td>2.308642</td>\n",
       "      <td>29.699118</td>\n",
       "      <td>0.523008</td>\n",
       "      <td>0.381594</td>\n",
       "      <td>32.204208</td>\n",
       "    </tr>\n",
       "    <tr>\n",
       "      <th>std</th>\n",
       "      <td>257.353842</td>\n",
       "      <td>0.486592</td>\n",
       "      <td>0.836071</td>\n",
       "      <td>14.526497</td>\n",
       "      <td>1.102743</td>\n",
       "      <td>0.806057</td>\n",
       "      <td>49.693429</td>\n",
       "    </tr>\n",
       "    <tr>\n",
       "      <th>min</th>\n",
       "      <td>1.000000</td>\n",
       "      <td>0.000000</td>\n",
       "      <td>1.000000</td>\n",
       "      <td>0.420000</td>\n",
       "      <td>0.000000</td>\n",
       "      <td>0.000000</td>\n",
       "      <td>0.000000</td>\n",
       "    </tr>\n",
       "    <tr>\n",
       "      <th>25%</th>\n",
       "      <td>223.500000</td>\n",
       "      <td>0.000000</td>\n",
       "      <td>2.000000</td>\n",
       "      <td>20.125000</td>\n",
       "      <td>0.000000</td>\n",
       "      <td>0.000000</td>\n",
       "      <td>7.910400</td>\n",
       "    </tr>\n",
       "    <tr>\n",
       "      <th>50%</th>\n",
       "      <td>446.000000</td>\n",
       "      <td>0.000000</td>\n",
       "      <td>3.000000</td>\n",
       "      <td>28.000000</td>\n",
       "      <td>0.000000</td>\n",
       "      <td>0.000000</td>\n",
       "      <td>14.454200</td>\n",
       "    </tr>\n",
       "    <tr>\n",
       "      <th>75%</th>\n",
       "      <td>668.500000</td>\n",
       "      <td>1.000000</td>\n",
       "      <td>3.000000</td>\n",
       "      <td>38.000000</td>\n",
       "      <td>1.000000</td>\n",
       "      <td>0.000000</td>\n",
       "      <td>31.000000</td>\n",
       "    </tr>\n",
       "    <tr>\n",
       "      <th>max</th>\n",
       "      <td>891.000000</td>\n",
       "      <td>1.000000</td>\n",
       "      <td>3.000000</td>\n",
       "      <td>80.000000</td>\n",
       "      <td>8.000000</td>\n",
       "      <td>6.000000</td>\n",
       "      <td>512.329200</td>\n",
       "    </tr>\n",
       "  </tbody>\n",
       "</table>\n",
       "</div>"
      ],
      "text/plain": [
       "       PassengerId    Survived      Pclass         Age       SibSp  \\\n",
       "count   891.000000  891.000000  891.000000  714.000000  891.000000   \n",
       "mean    446.000000    0.383838    2.308642   29.699118    0.523008   \n",
       "std     257.353842    0.486592    0.836071   14.526497    1.102743   \n",
       "min       1.000000    0.000000    1.000000    0.420000    0.000000   \n",
       "25%     223.500000    0.000000    2.000000   20.125000    0.000000   \n",
       "50%     446.000000    0.000000    3.000000   28.000000    0.000000   \n",
       "75%     668.500000    1.000000    3.000000   38.000000    1.000000   \n",
       "max     891.000000    1.000000    3.000000   80.000000    8.000000   \n",
       "\n",
       "            Parch        Fare  \n",
       "count  891.000000  891.000000  \n",
       "mean     0.381594   32.204208  \n",
       "std      0.806057   49.693429  \n",
       "min      0.000000    0.000000  \n",
       "25%      0.000000    7.910400  \n",
       "50%      0.000000   14.454200  \n",
       "75%      0.000000   31.000000  \n",
       "max      6.000000  512.329200  "
      ]
     },
     "execution_count": 6,
     "metadata": {},
     "output_type": "execute_result"
    }
   ],
   "source": [
    "Titanic_train.describe()"
   ]
  },
  {
   "cell_type": "code",
   "execution_count": 7,
   "id": "26ca58d6",
   "metadata": {
    "execution": {
     "iopub.execute_input": "2025-10-16T14:00:58.836898Z",
     "iopub.status.busy": "2025-10-16T14:00:58.836588Z",
     "iopub.status.idle": "2025-10-16T14:00:58.841664Z",
     "shell.execute_reply": "2025-10-16T14:00:58.840818Z"
    },
    "papermill": {
     "duration": 0.017277,
     "end_time": "2025-10-16T14:00:58.842847",
     "exception": false,
     "start_time": "2025-10-16T14:00:58.825570",
     "status": "completed"
    },
    "tags": []
   },
   "outputs": [
    {
     "data": {
      "text/plain": [
       "(891, 12)"
      ]
     },
     "execution_count": 7,
     "metadata": {},
     "output_type": "execute_result"
    }
   ],
   "source": [
    "Titanic_train.shape"
   ]
  },
  {
   "cell_type": "markdown",
   "id": "9695e319",
   "metadata": {
    "papermill": {
     "duration": 0.01007,
     "end_time": "2025-10-16T14:00:58.863825",
     "exception": false,
     "start_time": "2025-10-16T14:00:58.853755",
     "status": "completed"
    },
    "tags": []
   },
   "source": [
    "## **Nulls at Train data**"
   ]
  },
  {
   "cell_type": "markdown",
   "id": "aaa644aa",
   "metadata": {
    "papermill": {
     "duration": 0.010146,
     "end_time": "2025-10-16T14:00:58.885586",
     "exception": false,
     "start_time": "2025-10-16T14:00:58.875440",
     "status": "completed"
    },
    "tags": []
   },
   "source": [
    "To extract if data hase any nulls:"
   ]
  },
  {
   "cell_type": "code",
   "execution_count": 8,
   "id": "ee93de77",
   "metadata": {
    "execution": {
     "iopub.execute_input": "2025-10-16T14:00:58.907165Z",
     "iopub.status.busy": "2025-10-16T14:00:58.906905Z",
     "iopub.status.idle": "2025-10-16T14:00:58.913251Z",
     "shell.execute_reply": "2025-10-16T14:00:58.912514Z"
    },
    "papermill": {
     "duration": 0.018949,
     "end_time": "2025-10-16T14:00:58.914676",
     "exception": false,
     "start_time": "2025-10-16T14:00:58.895727",
     "status": "completed"
    },
    "tags": []
   },
   "outputs": [
    {
     "data": {
      "text/plain": [
       "PassengerId      0\n",
       "Survived         0\n",
       "Pclass           0\n",
       "Name             0\n",
       "Sex              0\n",
       "Age            177\n",
       "SibSp            0\n",
       "Parch            0\n",
       "Ticket           0\n",
       "Fare             0\n",
       "Cabin          687\n",
       "Embarked         2\n",
       "dtype: int64"
      ]
     },
     "execution_count": 8,
     "metadata": {},
     "output_type": "execute_result"
    }
   ],
   "source": [
    "Titanic_train.isnull().sum()"
   ]
  },
  {
   "cell_type": "markdown",
   "id": "8682fdd3",
   "metadata": {
    "papermill": {
     "duration": 0.010091,
     "end_time": "2025-10-16T14:00:58.935546",
     "exception": false,
     "start_time": "2025-10-16T14:00:58.925455",
     "status": "completed"
    },
    "tags": []
   },
   "source": [
    "We fill Nulls at **age** column by using median:"
   ]
  },
  {
   "cell_type": "code",
   "execution_count": 9,
   "id": "a86f4c1c",
   "metadata": {
    "execution": {
     "iopub.execute_input": "2025-10-16T14:00:58.957487Z",
     "iopub.status.busy": "2025-10-16T14:00:58.957198Z",
     "iopub.status.idle": "2025-10-16T14:00:58.962651Z",
     "shell.execute_reply": "2025-10-16T14:00:58.961635Z"
    },
    "papermill": {
     "duration": 0.017866,
     "end_time": "2025-10-16T14:00:58.963794",
     "exception": false,
     "start_time": "2025-10-16T14:00:58.945928",
     "status": "completed"
    },
    "tags": []
   },
   "outputs": [],
   "source": [
    "Titanic_train['Age'].fillna(Titanic_train['Age'].median(), inplace=True)"
   ]
  },
  {
   "cell_type": "markdown",
   "id": "5ae2a6a8",
   "metadata": {
    "papermill": {
     "duration": 0.010192,
     "end_time": "2025-10-16T14:00:58.984867",
     "exception": false,
     "start_time": "2025-10-16T14:00:58.974675",
     "status": "completed"
    },
    "tags": []
   },
   "source": [
    "We fill Nulls at ***Embarked*** by using mode:"
   ]
  },
  {
   "cell_type": "code",
   "execution_count": 10,
   "id": "aa771f6c",
   "metadata": {
    "execution": {
     "iopub.execute_input": "2025-10-16T14:00:59.007535Z",
     "iopub.status.busy": "2025-10-16T14:00:59.007220Z",
     "iopub.status.idle": "2025-10-16T14:00:59.011839Z",
     "shell.execute_reply": "2025-10-16T14:00:59.011180Z"
    },
    "papermill": {
     "duration": 0.017908,
     "end_time": "2025-10-16T14:00:59.012949",
     "exception": false,
     "start_time": "2025-10-16T14:00:58.995041",
     "status": "completed"
    },
    "tags": []
   },
   "outputs": [],
   "source": [
    "Titanic_train['Embarked'].fillna(Titanic_train['Embarked'].mode()[0], inplace=True)"
   ]
  },
  {
   "cell_type": "markdown",
   "id": "145761bd",
   "metadata": {
    "papermill": {
     "duration": 0.01043,
     "end_time": "2025-10-16T14:00:59.034455",
     "exception": false,
     "start_time": "2025-10-16T14:00:59.024025",
     "status": "completed"
    },
    "tags": []
   },
   "source": [
    "We extract another column from **Cabin** column to fill nulls by using this code:"
   ]
  },
  {
   "cell_type": "code",
   "execution_count": 11,
   "id": "1d9e9004",
   "metadata": {
    "execution": {
     "iopub.execute_input": "2025-10-16T14:00:59.056692Z",
     "iopub.status.busy": "2025-10-16T14:00:59.056431Z",
     "iopub.status.idle": "2025-10-16T14:00:59.061436Z",
     "shell.execute_reply": "2025-10-16T14:00:59.060638Z"
    },
    "papermill": {
     "duration": 0.01759,
     "end_time": "2025-10-16T14:00:59.062766",
     "exception": false,
     "start_time": "2025-10-16T14:00:59.045176",
     "status": "completed"
    },
    "tags": []
   },
   "outputs": [],
   "source": [
    "Titanic_train['HasCabin'] = Titanic_train['Cabin'].notnull().astype(int)"
   ]
  },
  {
   "cell_type": "markdown",
   "id": "d4e245b5",
   "metadata": {
    "papermill": {
     "duration": 0.010205,
     "end_time": "2025-10-16T14:00:59.083766",
     "exception": false,
     "start_time": "2025-10-16T14:00:59.073561",
     "status": "completed"
    },
    "tags": []
   },
   "source": [
    "## **Outliers**"
   ]
  },
  {
   "cell_type": "markdown",
   "id": "7c4c78ca",
   "metadata": {
    "papermill": {
     "duration": 0.010088,
     "end_time": "2025-10-16T14:00:59.104260",
     "exception": false,
     "start_time": "2025-10-16T14:00:59.094172",
     "status": "completed"
    },
    "tags": []
   },
   "source": [
    "To visualization Outliers by using BoxPlot:"
   ]
  },
  {
   "cell_type": "code",
   "execution_count": 12,
   "id": "c30dc49e",
   "metadata": {
    "execution": {
     "iopub.execute_input": "2025-10-16T14:00:59.126375Z",
     "iopub.status.busy": "2025-10-16T14:00:59.126087Z",
     "iopub.status.idle": "2025-10-16T14:00:59.513603Z",
     "shell.execute_reply": "2025-10-16T14:00:59.512838Z"
    },
    "papermill": {
     "duration": 0.40005,
     "end_time": "2025-10-16T14:00:59.514828",
     "exception": false,
     "start_time": "2025-10-16T14:00:59.114778",
     "status": "completed"
    },
    "tags": []
   },
   "outputs": [
    {
     "data": {
      "image/png": "[encoded data removed]",
      "text/plain": [
       "<Figure size 1600x500 with 4 Axes>"
      ]
     },
     "metadata": {},
     "output_type": "display_data"
    }
   ],
   "source": [
    "num_cols = ['Age', 'SibSp', 'Parch', 'Fare']\n",
    "\n",
    "# boxplots\n",
    "plt.figure(figsize=(16, 5))\n",
    "for i, col in enumerate(num_cols, 1):\n",
    "    plt.subplot(1, len(num_cols), i)\n",
    "    sns.boxplot(x=Titanic_train[col])\n",
    "    plt.title(col)\n",
    "\n",
    "plt.tight_layout()\n",
    "plt.show()"
   ]
  },
  {
   "cell_type": "markdown",
   "id": "9bfbd43a",
   "metadata": {
    "papermill": {
     "duration": 0.009957,
     "end_time": "2025-10-16T14:00:59.535431",
     "exception": false,
     "start_time": "2025-10-16T14:00:59.525474",
     "status": "completed"
    },
    "tags": []
   },
   "source": [
    "To calculate Percentage of Outliers we use this code:"
   ]
  },
  {
   "cell_type": "code",
   "execution_count": 13,
   "id": "a7e51b99",
   "metadata": {
    "execution": {
     "iopub.execute_input": "2025-10-16T14:00:59.560358Z",
     "iopub.status.busy": "2025-10-16T14:00:59.559699Z",
     "iopub.status.idle": "2025-10-16T14:00:59.584050Z",
     "shell.execute_reply": "2025-10-16T14:00:59.583056Z"
    },
    "papermill": {
     "duration": 0.036948,
     "end_time": "2025-10-16T14:00:59.585105",
     "exception": false,
     "start_time": "2025-10-16T14:00:59.548157",
     "status": "completed"
    },
    "tags": []
   },
   "outputs": [
    {
     "name": "stdout",
     "output_type": "stream",
     "text": [
      "        Column  num of Outliers  Total  Percentage of Outliers (%)\n",
      "0  PassengerId                0    891                        0.00\n",
      "1     Survived                0    891                        0.00\n",
      "2       Pclass                0    891                        0.00\n",
      "3          Age               66    891                        7.41\n",
      "4        SibSp               46    891                        5.16\n",
      "5        Parch              213    891                       23.91\n",
      "6         Fare              116    891                       13.02\n",
      "7     HasCabin              204    891                       22.90\n"
     ]
    }
   ],
   "source": [
    "def outlier_percentage(Titanic_train):\n",
    "    numeric_cols = Titanic_train.select_dtypes(include=['int64', 'float64']).columns\n",
    "    results = []\n",
    "\n",
    "    for col in numeric_cols:\n",
    "        Q1 = Titanic_train[col].quantile(0.25)\n",
    "        Q3 = Titanic_train[col].quantile(0.75)\n",
    "        IQR = Q3 - Q1\n",
    "        lower = Q1 - 1.5 * IQR\n",
    "        upper = Q3 + 1.5 * IQR\n",
    "        \n",
    "        # Outliers\n",
    "        outliers = Titanic_train[(Titanic_train[col] < lower) | (Titanic_train[col] > upper)][col].count()\n",
    "        total = Titanic_train[col].notnull().sum()\n",
    "        percent = (outliers / total) * 100\n",
    "        \n",
    "        results.append({\n",
    "            'Column': col,\n",
    "            'num of Outliers':outliers,\n",
    "            'Total': total,\n",
    "            'Percentage of Outliers (%)': round(percent, 2)})\n",
    "    \n",
    "    return pd.DataFrame(results)\n",
    "\n",
    "\n",
    "outlier_df = outlier_percentage(Titanic_train)\n",
    "print(outlier_df)"
   ]
  },
  {
   "cell_type": "markdown",
   "id": "20ad58c8",
   "metadata": {
    "papermill": {
     "duration": 0.010375,
     "end_time": "2025-10-16T14:00:59.606447",
     "exception": false,
     "start_time": "2025-10-16T14:00:59.596072",
     "status": "completed"
    },
    "tags": []
   },
   "source": [
    "## **Feature Extraction**"
   ]
  },
  {
   "cell_type": "markdown",
   "id": "b2123893",
   "metadata": {
    "papermill": {
     "duration": 0.01041,
     "end_time": "2025-10-16T14:00:59.627421",
     "exception": false,
     "start_time": "2025-10-16T14:00:59.617011",
     "status": "completed"
    },
    "tags": []
   },
   "source": [
    "To extract Title from name feature we use this code:"
   ]
  },
  {
   "cell_type": "code",
   "execution_count": 14,
   "id": "38d4ba4c",
   "metadata": {
    "execution": {
     "iopub.execute_input": "2025-10-16T14:00:59.649466Z",
     "iopub.status.busy": "2025-10-16T14:00:59.649195Z",
     "iopub.status.idle": "2025-10-16T14:00:59.655640Z",
     "shell.execute_reply": "2025-10-16T14:00:59.654921Z"
    },
    "papermill": {
     "duration": 0.018802,
     "end_time": "2025-10-16T14:00:59.656677",
     "exception": false,
     "start_time": "2025-10-16T14:00:59.637875",
     "status": "completed"
    },
    "tags": []
   },
   "outputs": [],
   "source": [
    "Titanic_train['Title'] = Titanic_train['Name'].str.extract(' ([A-Za-z]+)\\.', expand=False)\n",
    "\n",
    "# to drop main column\n",
    "Titanic_train.drop('Name', axis=1, inplace=True)"
   ]
  },
  {
   "cell_type": "markdown",
   "id": "fe497e52",
   "metadata": {
    "papermill": {
     "duration": 0.010483,
     "end_time": "2025-10-16T14:00:59.678228",
     "exception": false,
     "start_time": "2025-10-16T14:00:59.667745",
     "status": "completed"
    },
    "tags": []
   },
   "source": [
    "We extract FamilySize from Feature we use this code :"
   ]
  },
  {
   "cell_type": "code",
   "execution_count": 15,
   "id": "b7bc0317",
   "metadata": {
    "execution": {
     "iopub.execute_input": "2025-10-16T14:00:59.700677Z",
     "iopub.status.busy": "2025-10-16T14:00:59.700405Z",
     "iopub.status.idle": "2025-10-16T14:00:59.705021Z",
     "shell.execute_reply": "2025-10-16T14:00:59.704260Z"
    },
    "papermill": {
     "duration": 0.017358,
     "end_time": "2025-10-16T14:00:59.706124",
     "exception": false,
     "start_time": "2025-10-16T14:00:59.688766",
     "status": "completed"
    },
    "tags": []
   },
   "outputs": [],
   "source": [
    "Titanic_train['FamilySize'] = Titanic_train['SibSp'] + Titanic_train['Parch'] + 1"
   ]
  },
  {
   "cell_type": "markdown",
   "id": "76fa793a",
   "metadata": {
    "papermill": {
     "duration": 0.010226,
     "end_time": "2025-10-16T14:00:59.727176",
     "exception": false,
     "start_time": "2025-10-16T14:00:59.716950",
     "status": "completed"
    },
    "tags": []
   },
   "source": [
    "To make feature called IsAlone by using thos code:"
   ]
  },
  {
   "cell_type": "code",
   "execution_count": 16,
   "id": "b81766a3",
   "metadata": {
    "execution": {
     "iopub.execute_input": "2025-10-16T14:00:59.749448Z",
     "iopub.status.busy": "2025-10-16T14:00:59.749183Z",
     "iopub.status.idle": "2025-10-16T14:00:59.753403Z",
     "shell.execute_reply": "2025-10-16T14:00:59.752813Z"
    },
    "papermill": {
     "duration": 0.016745,
     "end_time": "2025-10-16T14:00:59.754617",
     "exception": false,
     "start_time": "2025-10-16T14:00:59.737872",
     "status": "completed"
    },
    "tags": []
   },
   "outputs": [],
   "source": [
    "Titanic_train['IsAlone'] = (Titanic_train['FamilySize'] == 1).astype(int)"
   ]
  },
  {
   "cell_type": "markdown",
   "id": "7019aa5f",
   "metadata": {
    "papermill": {
     "duration": 0.010677,
     "end_time": "2025-10-16T14:00:59.776539",
     "exception": false,
     "start_time": "2025-10-16T14:00:59.765862",
     "status": "completed"
    },
    "tags": []
   },
   "source": [
    "We extract feature from Cabin depend on first letter from cabin :"
   ]
  },
  {
   "cell_type": "code",
   "execution_count": 17,
   "id": "71b56028",
   "metadata": {
    "execution": {
     "iopub.execute_input": "2025-10-16T14:00:59.800266Z",
     "iopub.status.busy": "2025-10-16T14:00:59.800002Z",
     "iopub.status.idle": "2025-10-16T14:00:59.805321Z",
     "shell.execute_reply": "2025-10-16T14:00:59.804512Z"
    },
    "papermill": {
     "duration": 0.018986,
     "end_time": "2025-10-16T14:00:59.806798",
     "exception": false,
     "start_time": "2025-10-16T14:00:59.787812",
     "status": "completed"
    },
    "tags": []
   },
   "outputs": [],
   "source": [
    "Titanic_train['Deck'] = Titanic_train['Cabin'].str[0]\n",
    "Titanic_train['Deck'] = Titanic_train['Deck'].fillna('U')  # U = Unknown"
   ]
  },
  {
   "cell_type": "markdown",
   "id": "0bd3cadf",
   "metadata": {
    "papermill": {
     "duration": 0.010943,
     "end_time": "2025-10-16T14:00:59.829852",
     "exception": false,
     "start_time": "2025-10-16T14:00:59.818909",
     "status": "completed"
    },
    "tags": []
   },
   "source": [
    "We extract TicketPrefix Feature:"
   ]
  },
  {
   "cell_type": "code",
   "execution_count": 18,
   "id": "3a09109d",
   "metadata": {
    "execution": {
     "iopub.execute_input": "2025-10-16T14:00:59.852879Z",
     "iopub.status.busy": "2025-10-16T14:00:59.852632Z",
     "iopub.status.idle": "2025-10-16T14:00:59.858053Z",
     "shell.execute_reply": "2025-10-16T14:00:59.857141Z"
    },
    "papermill": {
     "duration": 0.018638,
     "end_time": "2025-10-16T14:00:59.859377",
     "exception": false,
     "start_time": "2025-10-16T14:00:59.840739",
     "status": "completed"
    },
    "tags": []
   },
   "outputs": [],
   "source": [
    "Titanic_train['TicketPrefix'] = Titanic_train['Ticket'].apply(lambda x: x.split(' ')[0] if not x.isdigit() else 'None')"
   ]
  },
  {
   "cell_type": "markdown",
   "id": "0e318374",
   "metadata": {
    "papermill": {
     "duration": 0.010291,
     "end_time": "2025-10-16T14:00:59.881568",
     "exception": false,
     "start_time": "2025-10-16T14:00:59.871277",
     "status": "completed"
    },
    "tags": []
   },
   "source": [
    "We extract FarePerPerson for one person:"
   ]
  },
  {
   "cell_type": "code",
   "execution_count": 19,
   "id": "1ed340c1",
   "metadata": {
    "execution": {
     "iopub.execute_input": "2025-10-16T14:00:59.903618Z",
     "iopub.status.busy": "2025-10-16T14:00:59.903281Z",
     "iopub.status.idle": "2025-10-16T14:00:59.908152Z",
     "shell.execute_reply": "2025-10-16T14:00:59.907392Z"
    },
    "papermill": {
     "duration": 0.017168,
     "end_time": "2025-10-16T14:00:59.909150",
     "exception": false,
     "start_time": "2025-10-16T14:00:59.891982",
     "status": "completed"
    },
    "tags": []
   },
   "outputs": [],
   "source": [
    "Titanic_train['FarePerPerson'] = Titanic_train['Fare'] / Titanic_train['FamilySize']"
   ]
  },
  {
   "cell_type": "markdown",
   "id": "e43548c7",
   "metadata": {
    "papermill": {
     "duration": 0.010341,
     "end_time": "2025-10-16T14:00:59.930315",
     "exception": false,
     "start_time": "2025-10-16T14:00:59.919974",
     "status": "completed"
    },
    "tags": []
   },
   "source": [
    "We classified age by using this code:"
   ]
  },
  {
   "cell_type": "code",
   "execution_count": 20,
   "id": "7ebbd53b",
   "metadata": {
    "execution": {
     "iopub.execute_input": "2025-10-16T14:00:59.952272Z",
     "iopub.status.busy": "2025-10-16T14:00:59.952003Z",
     "iopub.status.idle": "2025-10-16T14:00:59.960959Z",
     "shell.execute_reply": "2025-10-16T14:00:59.960374Z"
    },
    "papermill": {
     "duration": 0.021217,
     "end_time": "2025-10-16T14:00:59.962035",
     "exception": false,
     "start_time": "2025-10-16T14:00:59.940818",
     "status": "completed"
    },
    "tags": []
   },
   "outputs": [],
   "source": [
    "Titanic_train['AgeGroup'] = pd.cut(Titanic_train['Age'], bins=[0,12,18,35,60,80], labels=['Child','Teen','Adult','MiddleAge','Senior'])"
   ]
  },
  {
   "cell_type": "code",
   "execution_count": 21,
   "id": "67c56c4c",
   "metadata": {
    "execution": {
     "iopub.execute_input": "2025-10-16T14:00:59.984799Z",
     "iopub.status.busy": "2025-10-16T14:00:59.984508Z",
     "iopub.status.idle": "2025-10-16T14:00:59.998607Z",
     "shell.execute_reply": "2025-10-16T14:00:59.997930Z"
    },
    "papermill": {
     "duration": 0.026878,
     "end_time": "2025-10-16T14:00:59.999824",
     "exception": false,
     "start_time": "2025-10-16T14:00:59.972946",
     "status": "completed"
    },
    "tags": []
   },
   "outputs": [
    {
     "data": {
      "text/html": [
       "<div>\n",
       "<style scoped>\n",
       "    .dataframe tbody tr th:only-of-type {\n",
       "        vertical-align: middle;\n",
       "    }\n",
       "\n",
       "    .dataframe tbody tr th {\n",
       "        vertical-align: top;\n",
       "    }\n",
       "\n",
       "    .dataframe thead th {\n",
       "        text-align: right;\n",
       "    }\n",
       "</style>\n",
       "<table border=\"1\" class=\"dataframe\">\n",
       "  <thead>\n",
       "    <tr style=\"text-align: right;\">\n",
       "      <th></th>\n",
       "      <th>PassengerId</th>\n",
       "      <th>Survived</th>\n",
       "      <th>Pclass</th>\n",
       "      <th>Sex</th>\n",
       "      <th>Age</th>\n",
       "      <th>SibSp</th>\n",
       "      <th>Parch</th>\n",
       "      <th>Ticket</th>\n",
       "      <th>Fare</th>\n",
       "      <th>Cabin</th>\n",
       "      <th>Embarked</th>\n",
       "      <th>HasCabin</th>\n",
       "      <th>Title</th>\n",
       "      <th>FamilySize</th>\n",
       "      <th>IsAlone</th>\n",
       "      <th>Deck</th>\n",
       "      <th>TicketPrefix</th>\n",
       "      <th>FarePerPerson</th>\n",
       "      <th>AgeGroup</th>\n",
       "    </tr>\n",
       "  </thead>\n",
       "  <tbody>\n",
       "    <tr>\n",
       "      <th>0</th>\n",
       "      <td>1</td>\n",
       "      <td>0</td>\n",
       "      <td>3</td>\n",
       "      <td>male</td>\n",
       "      <td>22.0</td>\n",
       "      <td>1</td>\n",
       "      <td>0</td>\n",
       "      <td>A/5 21171</td>\n",
       "      <td>7.2500</td>\n",
       "      <td>NaN</td>\n",
       "      <td>S</td>\n",
       "      <td>0</td>\n",
       "      <td>Mr</td>\n",
       "      <td>2</td>\n",
       "      <td>0</td>\n",
       "      <td>U</td>\n",
       "      <td>A/5</td>\n",
       "      <td>3.62500</td>\n",
       "      <td>Adult</td>\n",
       "    </tr>\n",
       "    <tr>\n",
       "      <th>1</th>\n",
       "      <td>2</td>\n",
       "      <td>1</td>\n",
       "      <td>1</td>\n",
       "      <td>female</td>\n",
       "      <td>38.0</td>\n",
       "      <td>1</td>\n",
       "      <td>0</td>\n",
       "      <td>PC 17599</td>\n",
       "      <td>71.2833</td>\n",
       "      <td>C85</td>\n",
       "      <td>C</td>\n",
       "      <td>1</td>\n",
       "      <td>Mrs</td>\n",
       "      <td>2</td>\n",
       "      <td>0</td>\n",
       "      <td>C</td>\n",
       "      <td>PC</td>\n",
       "      <td>35.64165</td>\n",
       "      <td>MiddleAge</td>\n",
       "    </tr>\n",
       "    <tr>\n",
       "      <th>2</th>\n",
       "      <td>3</td>\n",
       "      <td>1</td>\n",
       "      <td>3</td>\n",
       "      <td>female</td>\n",
       "      <td>26.0</td>\n",
       "      <td>0</td>\n",
       "      <td>0</td>\n",
       "      <td>STON/O2. 3101282</td>\n",
       "      <td>7.9250</td>\n",
       "      <td>NaN</td>\n",
       "      <td>S</td>\n",
       "      <td>0</td>\n",
       "      <td>Miss</td>\n",
       "      <td>1</td>\n",
       "      <td>1</td>\n",
       "      <td>U</td>\n",
       "      <td>STON/O2.</td>\n",
       "      <td>7.92500</td>\n",
       "      <td>Adult</td>\n",
       "    </tr>\n",
       "    <tr>\n",
       "      <th>3</th>\n",
       "      <td>4</td>\n",
       "      <td>1</td>\n",
       "      <td>1</td>\n",
       "      <td>female</td>\n",
       "      <td>35.0</td>\n",
       "      <td>1</td>\n",
       "      <td>0</td>\n",
       "      <td>113803</td>\n",
       "      <td>53.1000</td>\n",
       "      <td>C123</td>\n",
       "      <td>S</td>\n",
       "      <td>1</td>\n",
       "      <td>Mrs</td>\n",
       "      <td>2</td>\n",
       "      <td>0</td>\n",
       "      <td>C</td>\n",
       "      <td>None</td>\n",
       "      <td>26.55000</td>\n",
       "      <td>Adult</td>\n",
       "    </tr>\n",
       "    <tr>\n",
       "      <th>4</th>\n",
       "      <td>5</td>\n",
       "      <td>0</td>\n",
       "      <td>3</td>\n",
       "      <td>male</td>\n",
       "      <td>35.0</td>\n",
       "      <td>0</td>\n",
       "      <td>0</td>\n",
       "      <td>373450</td>\n",
       "      <td>8.0500</td>\n",
       "      <td>NaN</td>\n",
       "      <td>S</td>\n",
       "      <td>0</td>\n",
       "      <td>Mr</td>\n",
       "      <td>1</td>\n",
       "      <td>1</td>\n",
       "      <td>U</td>\n",
       "      <td>None</td>\n",
       "      <td>8.05000</td>\n",
       "      <td>Adult</td>\n",
       "    </tr>\n",
       "    <tr>\n",
       "      <th>...</th>\n",
       "      <td>...</td>\n",
       "      <td>...</td>\n",
       "      <td>...</td>\n",
       "      <td>...</td>\n",
       "      <td>...</td>\n",
       "      <td>...</td>\n",
       "      <td>...</td>\n",
       "      <td>...</td>\n",
       "      <td>...</td>\n",
       "      <td>...</td>\n",
       "      <td>...</td>\n",
       "      <td>...</td>\n",
       "      <td>...</td>\n",
       "      <td>...</td>\n",
       "      <td>...</td>\n",
       "      <td>...</td>\n",
       "      <td>...</td>\n",
       "      <td>...</td>\n",
       "      <td>...</td>\n",
       "    </tr>\n",
       "    <tr>\n",
       "      <th>886</th>\n",
       "      <td>887</td>\n",
       "      <td>0</td>\n",
       "      <td>2</td>\n",
       "      <td>male</td>\n",
       "      <td>27.0</td>\n",
       "      <td>0</td>\n",
       "      <td>0</td>\n",
       "      <td>211536</td>\n",
       "      <td>13.0000</td>\n",
       "      <td>NaN</td>\n",
       "      <td>S</td>\n",
       "      <td>0</td>\n",
       "      <td>Rev</td>\n",
       "      <td>1</td>\n",
       "      <td>1</td>\n",
       "      <td>U</td>\n",
       "      <td>None</td>\n",
       "      <td>13.00000</td>\n",
       "      <td>Adult</td>\n",
       "    </tr>\n",
       "    <tr>\n",
       "      <th>887</th>\n",
       "      <td>888</td>\n",
       "      <td>1</td>\n",
       "      <td>1</td>\n",
       "      <td>female</td>\n",
       "      <td>19.0</td>\n",
       "      <td>0</td>\n",
       "      <td>0</td>\n",
       "      <td>112053</td>\n",
       "      <td>30.0000</td>\n",
       "      <td>B42</td>\n",
       "      <td>S</td>\n",
       "      <td>1</td>\n",
       "      <td>Miss</td>\n",
       "      <td>1</td>\n",
       "      <td>1</td>\n",
       "      <td>B</td>\n",
       "      <td>None</td>\n",
       "      <td>30.00000</td>\n",
       "      <td>Adult</td>\n",
       "    </tr>\n",
       "    <tr>\n",
       "      <th>888</th>\n",
       "      <td>889</td>\n",
       "      <td>0</td>\n",
       "      <td>3</td>\n",
       "      <td>female</td>\n",
       "      <td>28.0</td>\n",
       "      <td>1</td>\n",
       "      <td>2</td>\n",
       "      <td>W./C. 6607</td>\n",
       "      <td>23.4500</td>\n",
       "      <td>NaN</td>\n",
       "      <td>S</td>\n",
       "      <td>0</td>\n",
       "      <td>Miss</td>\n",
       "      <td>4</td>\n",
       "      <td>0</td>\n",
       "      <td>U</td>\n",
       "      <td>W./C.</td>\n",
       "      <td>5.86250</td>\n",
       "      <td>Adult</td>\n",
       "    </tr>\n",
       "    <tr>\n",
       "      <th>889</th>\n",
       "      <td>890</td>\n",
       "      <td>1</td>\n",
       "      <td>1</td>\n",
       "      <td>male</td>\n",
       "      <td>26.0</td>\n",
       "      <td>0</td>\n",
       "      <td>0</td>\n",
       "      <td>111369</td>\n",
       "      <td>30.0000</td>\n",
       "      <td>C148</td>\n",
       "      <td>C</td>\n",
       "      <td>1</td>\n",
       "      <td>Mr</td>\n",
       "      <td>1</td>\n",
       "      <td>1</td>\n",
       "      <td>C</td>\n",
       "      <td>None</td>\n",
       "      <td>30.00000</td>\n",
       "      <td>Adult</td>\n",
       "    </tr>\n",
       "    <tr>\n",
       "      <th>890</th>\n",
       "      <td>891</td>\n",
       "      <td>0</td>\n",
       "      <td>3</td>\n",
       "      <td>male</td>\n",
       "      <td>32.0</td>\n",
       "      <td>0</td>\n",
       "      <td>0</td>\n",
       "      <td>370376</td>\n",
       "      <td>7.7500</td>\n",
       "      <td>NaN</td>\n",
       "      <td>Q</td>\n",
       "      <td>0</td>\n",
       "      <td>Mr</td>\n",
       "      <td>1</td>\n",
       "      <td>1</td>\n",
       "      <td>U</td>\n",
       "      <td>None</td>\n",
       "      <td>7.75000</td>\n",
       "      <td>Adult</td>\n",
       "    </tr>\n",
       "  </tbody>\n",
       "</table>\n",
       "<p>891 rows × 19 columns</p>\n",
       "</div>"
      ],
      "text/plain": [
       "     PassengerId  Survived  Pclass     Sex   Age  SibSp  Parch  \\\n",
       "0              1         0       3    male  22.0      1      0   \n",
       "1              2         1       1  female  38.0      1      0   \n",
       "2              3         1       3  female  26.0      0      0   \n",
       "3              4         1       1  female  35.0      1      0   \n",
       "4              5         0       3    male  35.0      0      0   \n",
       "..           ...       ...     ...     ...   ...    ...    ...   \n",
       "886          887         0       2    male  27.0      0      0   \n",
       "887          888         1       1  female  19.0      0      0   \n",
       "888          889         0       3  female  28.0      1      2   \n",
       "889          890         1       1    male  26.0      0      0   \n",
       "890          891         0       3    male  32.0      0      0   \n",
       "\n",
       "               Ticket     Fare Cabin Embarked  HasCabin Title  FamilySize  \\\n",
       "0           A/5 21171   7.2500   NaN        S         0    Mr           2   \n",
       "1            PC 17599  71.2833   C85        C         1   Mrs           2   \n",
       "2    STON/O2. 3101282   7.9250   NaN        S         0  Miss           1   \n",
       "3              113803  53.1000  C123        S         1   Mrs           2   \n",
       "4              373450   8.0500   NaN        S         0    Mr           1   \n",
       "..                ...      ...   ...      ...       ...   ...         ...   \n",
       "886            211536  13.0000   NaN        S         0   Rev           1   \n",
       "887            112053  30.0000   B42        S         1  Miss           1   \n",
       "888        W./C. 6607  23.4500   NaN        S         0  Miss           4   \n",
       "889            111369  30.0000  C148        C         1    Mr           1   \n",
       "890            370376   7.7500   NaN        Q         0    Mr           1   \n",
       "\n",
       "     IsAlone Deck TicketPrefix  FarePerPerson   AgeGroup  \n",
       "0          0    U          A/5        3.62500      Adult  \n",
       "1          0    C           PC       35.64165  MiddleAge  \n",
       "2          1    U     STON/O2.        7.92500      Adult  \n",
       "3          0    C         None       26.55000      Adult  \n",
       "4          1    U         None        8.05000      Adult  \n",
       "..       ...  ...          ...            ...        ...  \n",
       "886        1    U         None       13.00000      Adult  \n",
       "887        1    B         None       30.00000      Adult  \n",
       "888        0    U        W./C.        5.86250      Adult  \n",
       "889        1    C         None       30.00000      Adult  \n",
       "890        1    U         None        7.75000      Adult  \n",
       "\n",
       "[891 rows x 19 columns]"
      ]
     },
     "execution_count": 21,
     "metadata": {},
     "output_type": "execute_result"
    }
   ],
   "source": [
    "Titanic_train"
   ]
  },
  {
   "cell_type": "markdown",
   "id": "ff782a56",
   "metadata": {
    "papermill": {
     "duration": 0.011276,
     "end_time": "2025-10-16T14:01:00.022827",
     "exception": false,
     "start_time": "2025-10-16T14:01:00.011551",
     "status": "completed"
    },
    "tags": []
   },
   "source": [
    "We make **Scaling** for numerical column:"
   ]
  },
  {
   "cell_type": "code",
   "execution_count": 22,
   "id": "41fe9982",
   "metadata": {
    "execution": {
     "iopub.execute_input": "2025-10-16T14:01:00.047153Z",
     "iopub.status.busy": "2025-10-16T14:01:00.046897Z",
     "iopub.status.idle": "2025-10-16T14:01:00.057071Z",
     "shell.execute_reply": "2025-10-16T14:01:00.056489Z"
    },
    "papermill": {
     "duration": 0.024085,
     "end_time": "2025-10-16T14:01:00.058322",
     "exception": false,
     "start_time": "2025-10-16T14:01:00.034237",
     "status": "completed"
    },
    "tags": []
   },
   "outputs": [],
   "source": [
    "numeric_cols = ['Age', 'SibSp', 'Parch', 'Fare', 'FamilySize', 'FarePerPerson']\n",
    "\n",
    "# to fill nulls by median\n",
    "Titanic_train[numeric_cols] = Titanic_train[numeric_cols].fillna(Titanic_train[numeric_cols].median())\n",
    "\n",
    "# Scaling\n",
    "scaler = StandardScaler()\n",
    "Titanic_train[numeric_cols] = scaler.fit_transform(Titanic_train[numeric_cols])"
   ]
  },
  {
   "cell_type": "markdown",
   "id": "6ee54a6f",
   "metadata": {
    "papermill": {
     "duration": 0.010927,
     "end_time": "2025-10-16T14:01:00.080788",
     "exception": false,
     "start_time": "2025-10-16T14:01:00.069861",
     "status": "completed"
    },
    "tags": []
   },
   "source": [
    "We make **Encoding** for categorical columns:"
   ]
  },
  {
   "cell_type": "code",
   "execution_count": 23,
   "id": "fd765e8f",
   "metadata": {
    "execution": {
     "iopub.execute_input": "2025-10-16T14:01:00.104316Z",
     "iopub.status.busy": "2025-10-16T14:01:00.104032Z",
     "iopub.status.idle": "2025-10-16T14:01:00.118482Z",
     "shell.execute_reply": "2025-10-16T14:01:00.117818Z"
    },
    "papermill": {
     "duration": 0.027584,
     "end_time": "2025-10-16T14:01:00.119633",
     "exception": false,
     "start_time": "2025-10-16T14:01:00.092049",
     "status": "completed"
    },
    "tags": []
   },
   "outputs": [],
   "source": [
    "# Define the categorical columns\n",
    "categorical_cols = ['Sex', 'Embarked', 'Title', 'Deck', 'AgeGroup', 'TicketPrefix']\n",
    "\n",
    "# Convert columns to 'object' type to avoid Categorical errors\n",
    "Titanic_train[categorical_cols] = Titanic_train[categorical_cols].astype('object')\n",
    "\n",
    "# Fill missing values with 'Unknown'\n",
    "Titanic_train[categorical_cols] = Titanic_train[categorical_cols].fillna('Unknown')\n",
    "\n",
    "# Apply One-Hot Encoding (drop_first=True to avoid dummy variable trap)\n",
    "Titanic_train = pd.get_dummies(Titanic_train, columns=categorical_cols, drop_first=True)"
   ]
  },
  {
   "cell_type": "markdown",
   "id": "07c9d485",
   "metadata": {
    "papermill": {
     "duration": 0.010716,
     "end_time": "2025-10-16T14:01:00.142017",
     "exception": false,
     "start_time": "2025-10-16T14:01:00.131301",
     "status": "completed"
    },
    "tags": []
   },
   "source": [
    "We drop non numerical columns:"
   ]
  },
  {
   "cell_type": "code",
   "execution_count": 24,
   "id": "0fc4ad75",
   "metadata": {
    "execution": {
     "iopub.execute_input": "2025-10-16T14:01:00.165154Z",
     "iopub.status.busy": "2025-10-16T14:01:00.164896Z",
     "iopub.status.idle": "2025-10-16T14:01:00.171039Z",
     "shell.execute_reply": "2025-10-16T14:01:00.170415Z"
    },
    "papermill": {
     "duration": 0.01911,
     "end_time": "2025-10-16T14:01:00.171993",
     "exception": false,
     "start_time": "2025-10-16T14:01:00.152883",
     "status": "completed"
    },
    "tags": []
   },
   "outputs": [],
   "source": [
    "drop_cols = ['Name', 'Ticket', 'Cabin','PassengerId']  # columns with raw strings\n",
    "Titanic_train = Titanic_train.drop(columns=drop_cols, errors='ignore')"
   ]
  },
  {
   "cell_type": "code",
   "execution_count": 25,
   "id": "2fe95921",
   "metadata": {
    "execution": {
     "iopub.execute_input": "2025-10-16T14:01:00.195877Z",
     "iopub.status.busy": "2025-10-16T14:01:00.195618Z",
     "iopub.status.idle": "2025-10-16T14:01:00.200541Z",
     "shell.execute_reply": "2025-10-16T14:01:00.199879Z"
    },
    "papermill": {
     "duration": 0.017943,
     "end_time": "2025-10-16T14:01:00.201564",
     "exception": false,
     "start_time": "2025-10-16T14:01:00.183621",
     "status": "completed"
    },
    "tags": []
   },
   "outputs": [
    {
     "data": {
      "text/plain": [
       "(891, 84)"
      ]
     },
     "execution_count": 25,
     "metadata": {},
     "output_type": "execute_result"
    }
   ],
   "source": [
    "Titanic_train.shape"
   ]
  },
  {
   "cell_type": "code",
   "execution_count": 26,
   "id": "5668a86b",
   "metadata": {
    "execution": {
     "iopub.execute_input": "2025-10-16T14:01:00.225202Z",
     "iopub.status.busy": "2025-10-16T14:01:00.224931Z",
     "iopub.status.idle": "2025-10-16T14:01:00.240635Z",
     "shell.execute_reply": "2025-10-16T14:01:00.239898Z"
    },
    "papermill": {
     "duration": 0.02859,
     "end_time": "2025-10-16T14:01:00.241711",
     "exception": false,
     "start_time": "2025-10-16T14:01:00.213121",
     "status": "completed"
    },
    "tags": []
   },
   "outputs": [
    {
     "data": {
      "text/html": [
       "<div>\n",
       "<style scoped>\n",
       "    .dataframe tbody tr th:only-of-type {\n",
       "        vertical-align: middle;\n",
       "    }\n",
       "\n",
       "    .dataframe tbody tr th {\n",
       "        vertical-align: top;\n",
       "    }\n",
       "\n",
       "    .dataframe thead th {\n",
       "        text-align: right;\n",
       "    }\n",
       "</style>\n",
       "<table border=\"1\" class=\"dataframe\">\n",
       "  <thead>\n",
       "    <tr style=\"text-align: right;\">\n",
       "      <th></th>\n",
       "      <th>Survived</th>\n",
       "      <th>Pclass</th>\n",
       "      <th>Age</th>\n",
       "      <th>SibSp</th>\n",
       "      <th>Parch</th>\n",
       "      <th>Fare</th>\n",
       "      <th>HasCabin</th>\n",
       "      <th>FamilySize</th>\n",
       "      <th>IsAlone</th>\n",
       "      <th>FarePerPerson</th>\n",
       "      <th>...</th>\n",
       "      <th>TicketPrefix_SOTON/O.Q.</th>\n",
       "      <th>TicketPrefix_SOTON/O2</th>\n",
       "      <th>TicketPrefix_SOTON/OQ</th>\n",
       "      <th>TicketPrefix_STON/O</th>\n",
       "      <th>TicketPrefix_STON/O2.</th>\n",
       "      <th>TicketPrefix_SW/PP</th>\n",
       "      <th>TicketPrefix_W./C.</th>\n",
       "      <th>TicketPrefix_W.E.P.</th>\n",
       "      <th>TicketPrefix_W/C</th>\n",
       "      <th>TicketPrefix_WE/P</th>\n",
       "    </tr>\n",
       "  </thead>\n",
       "  <tbody>\n",
       "    <tr>\n",
       "      <th>0</th>\n",
       "      <td>0</td>\n",
       "      <td>3</td>\n",
       "      <td>-0.565736</td>\n",
       "      <td>0.432793</td>\n",
       "      <td>-0.473674</td>\n",
       "      <td>-0.502445</td>\n",
       "      <td>0</td>\n",
       "      <td>0.059160</td>\n",
       "      <td>0</td>\n",
       "      <td>-0.454798</td>\n",
       "      <td>...</td>\n",
       "      <td>False</td>\n",
       "      <td>False</td>\n",
       "      <td>False</td>\n",
       "      <td>False</td>\n",
       "      <td>False</td>\n",
       "      <td>False</td>\n",
       "      <td>False</td>\n",
       "      <td>False</td>\n",
       "      <td>False</td>\n",
       "      <td>False</td>\n",
       "    </tr>\n",
       "    <tr>\n",
       "      <th>1</th>\n",
       "      <td>1</td>\n",
       "      <td>1</td>\n",
       "      <td>0.663861</td>\n",
       "      <td>0.432793</td>\n",
       "      <td>-0.473674</td>\n",
       "      <td>0.786845</td>\n",
       "      <td>1</td>\n",
       "      <td>0.059160</td>\n",
       "      <td>0</td>\n",
       "      <td>0.438994</td>\n",
       "      <td>...</td>\n",
       "      <td>False</td>\n",
       "      <td>False</td>\n",
       "      <td>False</td>\n",
       "      <td>False</td>\n",
       "      <td>False</td>\n",
       "      <td>False</td>\n",
       "      <td>False</td>\n",
       "      <td>False</td>\n",
       "      <td>False</td>\n",
       "      <td>False</td>\n",
       "    </tr>\n",
       "    <tr>\n",
       "      <th>2</th>\n",
       "      <td>1</td>\n",
       "      <td>3</td>\n",
       "      <td>-0.258337</td>\n",
       "      <td>-0.474545</td>\n",
       "      <td>-0.473674</td>\n",
       "      <td>-0.488854</td>\n",
       "      <td>0</td>\n",
       "      <td>-0.560975</td>\n",
       "      <td>1</td>\n",
       "      <td>-0.334757</td>\n",
       "      <td>...</td>\n",
       "      <td>False</td>\n",
       "      <td>False</td>\n",
       "      <td>False</td>\n",
       "      <td>False</td>\n",
       "      <td>True</td>\n",
       "      <td>False</td>\n",
       "      <td>False</td>\n",
       "      <td>False</td>\n",
       "      <td>False</td>\n",
       "      <td>False</td>\n",
       "    </tr>\n",
       "    <tr>\n",
       "      <th>3</th>\n",
       "      <td>1</td>\n",
       "      <td>1</td>\n",
       "      <td>0.433312</td>\n",
       "      <td>0.432793</td>\n",
       "      <td>-0.473674</td>\n",
       "      <td>0.420730</td>\n",
       "      <td>1</td>\n",
       "      <td>0.059160</td>\n",
       "      <td>0</td>\n",
       "      <td>0.185187</td>\n",
       "      <td>...</td>\n",
       "      <td>False</td>\n",
       "      <td>False</td>\n",
       "      <td>False</td>\n",
       "      <td>False</td>\n",
       "      <td>False</td>\n",
       "      <td>False</td>\n",
       "      <td>False</td>\n",
       "      <td>False</td>\n",
       "      <td>False</td>\n",
       "      <td>False</td>\n",
       "    </tr>\n",
       "    <tr>\n",
       "      <th>4</th>\n",
       "      <td>0</td>\n",
       "      <td>3</td>\n",
       "      <td>0.433312</td>\n",
       "      <td>-0.474545</td>\n",
       "      <td>-0.473674</td>\n",
       "      <td>-0.486337</td>\n",
       "      <td>0</td>\n",
       "      <td>-0.560975</td>\n",
       "      <td>1</td>\n",
       "      <td>-0.331267</td>\n",
       "      <td>...</td>\n",
       "      <td>False</td>\n",
       "      <td>False</td>\n",
       "      <td>False</td>\n",
       "      <td>False</td>\n",
       "      <td>False</td>\n",
       "      <td>False</td>\n",
       "      <td>False</td>\n",
       "      <td>False</td>\n",
       "      <td>False</td>\n",
       "      <td>False</td>\n",
       "    </tr>\n",
       "  </tbody>\n",
       "</table>\n",
       "<p>5 rows × 84 columns</p>\n",
       "</div>"
      ],
      "text/plain": [
       "   Survived  Pclass       Age     SibSp     Parch      Fare  HasCabin  \\\n",
       "0         0       3 -0.565736  0.432793 -0.473674 -0.502445         0   \n",
       "1         1       1  0.663861  0.432793 -0.473674  0.786845         1   \n",
       "2         1       3 -0.258337 -0.474545 -0.473674 -0.488854         0   \n",
       "3         1       1  0.433312  0.432793 -0.473674  0.420730         1   \n",
       "4         0       3  0.433312 -0.474545 -0.473674 -0.486337         0   \n",
       "\n",
       "   FamilySize  IsAlone  FarePerPerson  ...  TicketPrefix_SOTON/O.Q.  \\\n",
       "0    0.059160        0      -0.454798  ...                    False   \n",
       "1    0.059160        0       0.438994  ...                    False   \n",
       "2   -0.560975        1      -0.334757  ...                    False   \n",
       "3    0.059160        0       0.185187  ...                    False   \n",
       "4   -0.560975        1      -0.331267  ...                    False   \n",
       "\n",
       "   TicketPrefix_SOTON/O2  TicketPrefix_SOTON/OQ  TicketPrefix_STON/O  \\\n",
       "0                  False                  False                False   \n",
       "1                  False                  False                False   \n",
       "2                  False                  False                False   \n",
       "3                  False                  False                False   \n",
       "4                  False                  False                False   \n",
       "\n",
       "   TicketPrefix_STON/O2.  TicketPrefix_SW/PP  TicketPrefix_W./C.  \\\n",
       "0                  False               False               False   \n",
       "1                  False               False               False   \n",
       "2                   True               False               False   \n",
       "3                  False               False               False   \n",
       "4                  False               False               False   \n",
       "\n",
       "   TicketPrefix_W.E.P.  TicketPrefix_W/C  TicketPrefix_WE/P  \n",
       "0                False             False              False  \n",
       "1                False             False              False  \n",
       "2                False             False              False  \n",
       "3                False             False              False  \n",
       "4                False             False              False  \n",
       "\n",
       "[5 rows x 84 columns]"
      ]
     },
     "execution_count": 26,
     "metadata": {},
     "output_type": "execute_result"
    }
   ],
   "source": [
    "Titanic_train.head()"
   ]
  },
  {
   "cell_type": "markdown",
   "id": "04b1d827",
   "metadata": {
    "papermill": {
     "duration": 0.010752,
     "end_time": "2025-10-16T14:01:00.263985",
     "exception": false,
     "start_time": "2025-10-16T14:01:00.253233",
     "status": "completed"
    },
    "tags": []
   },
   "source": [
    "## **Splitting Data**"
   ]
  },
  {
   "cell_type": "code",
   "execution_count": 27,
   "id": "8ecca448",
   "metadata": {
    "execution": {
     "iopub.execute_input": "2025-10-16T14:01:00.287824Z",
     "iopub.status.busy": "2025-10-16T14:01:00.287545Z",
     "iopub.status.idle": "2025-10-16T14:01:00.292503Z",
     "shell.execute_reply": "2025-10-16T14:01:00.291646Z"
    },
    "papermill": {
     "duration": 0.018434,
     "end_time": "2025-10-16T14:01:00.293781",
     "exception": false,
     "start_time": "2025-10-16T14:01:00.275347",
     "status": "completed"
    },
    "tags": []
   },
   "outputs": [],
   "source": [
    "X = Titanic_train.drop('Survived', axis=1)\n",
    "y = Titanic_train['Survived']"
   ]
  },
  {
   "cell_type": "code",
   "execution_count": 28,
   "id": "ddce874f",
   "metadata": {
    "execution": {
     "iopub.execute_input": "2025-10-16T14:01:00.420595Z",
     "iopub.status.busy": "2025-10-16T14:01:00.420241Z",
     "iopub.status.idle": "2025-10-16T14:01:00.427236Z",
     "shell.execute_reply": "2025-10-16T14:01:00.426203Z"
    },
    "papermill": {
     "duration": 0.123126,
     "end_time": "2025-10-16T14:01:00.428404",
     "exception": false,
     "start_time": "2025-10-16T14:01:00.305278",
     "status": "completed"
    },
    "tags": []
   },
   "outputs": [],
   "source": [
    "X_train, X_test, y_train, y_test = train_test_split(X, y, test_size=0.2, random_state=42)"
   ]
  },
  {
   "cell_type": "markdown",
   "id": "9bfaaab3",
   "metadata": {
    "papermill": {
     "duration": 0.011189,
     "end_time": "2025-10-16T14:01:00.451291",
     "exception": false,
     "start_time": "2025-10-16T14:01:00.440102",
     "status": "completed"
    },
    "tags": []
   },
   "source": [
    "## **Modeling**"
   ]
  },
  {
   "cell_type": "markdown",
   "id": "ec1113f7",
   "metadata": {
    "papermill": {
     "duration": 0.010798,
     "end_time": "2025-10-16T14:01:00.473193",
     "exception": false,
     "start_time": "2025-10-16T14:01:00.462395",
     "status": "completed"
    },
    "tags": []
   },
   "source": [
    "We use **RandomForest Model** after make **GridSearch** with best parameters:"
   ]
  },
  {
   "cell_type": "code",
   "execution_count": 29,
   "id": "4940da10",
   "metadata": {
    "execution": {
     "iopub.execute_input": "2025-10-16T14:01:00.496731Z",
     "iopub.status.busy": "2025-10-16T14:01:00.496455Z",
     "iopub.status.idle": "2025-10-16T14:01:00.746445Z",
     "shell.execute_reply": "2025-10-16T14:01:00.745430Z"
    },
    "papermill": {
     "duration": 0.263635,
     "end_time": "2025-10-16T14:01:00.747906",
     "exception": false,
     "start_time": "2025-10-16T14:01:00.484271",
     "status": "completed"
    },
    "tags": []
   },
   "outputs": [],
   "source": [
    "# Best params after GridSearchCV\n",
    "best_rf_model = RandomForestClassifier(\n",
    "    n_estimators=200,\n",
    "    max_depth=10,\n",
    "    min_samples_split=5,\n",
    "    random_state=42)\n",
    "\n",
    "# Training\n",
    "best_rf_model.fit(X_train, y_train)\n",
    "\n",
    "# Prediction on test data\n",
    "y_pred_rf = best_rf_model.predict(X_test)"
   ]
  },
  {
   "cell_type": "markdown",
   "id": "09e37bdd",
   "metadata": {
    "papermill": {
     "duration": 0.011227,
     "end_time": "2025-10-16T14:01:00.771150",
     "exception": false,
     "start_time": "2025-10-16T14:01:00.759923",
     "status": "completed"
    },
    "tags": []
   },
   "source": [
    "#### **Evaluation of RandomForest Model**"
   ]
  },
  {
   "cell_type": "code",
   "execution_count": 30,
   "id": "2dd03922",
   "metadata": {
    "execution": {
     "iopub.execute_input": "2025-10-16T14:01:00.796732Z",
     "iopub.status.busy": "2025-10-16T14:01:00.796446Z",
     "iopub.status.idle": "2025-10-16T14:01:00.807365Z",
     "shell.execute_reply": "2025-10-16T14:01:00.806663Z"
    },
    "papermill": {
     "duration": 0.024441,
     "end_time": "2025-10-16T14:01:00.808311",
     "exception": false,
     "start_time": "2025-10-16T14:01:00.783870",
     "status": "completed"
    },
    "tags": []
   },
   "outputs": [
    {
     "name": "stdout",
     "output_type": "stream",
     "text": [
      "Final Random Forest Accuracy: 0.8324\n",
      "\n",
      " Classification Report:\n",
      "              precision    recall  f1-score   support\n",
      "\n",
      "           0       0.84      0.89      0.86       105\n",
      "           1       0.82      0.76      0.79        74\n",
      "\n",
      "    accuracy                           0.83       179\n",
      "   macro avg       0.83      0.82      0.82       179\n",
      "weighted avg       0.83      0.83      0.83       179\n",
      "\n"
     ]
    }
   ],
   "source": [
    "# Evaluation\n",
    "acc_rf = accuracy_score(y_test, y_pred_rf)\n",
    "print(f\"Final Random Forest Accuracy: {acc_rf:.4f}\")\n",
    "print(\"\\n Classification Report:\")\n",
    "print(classification_report(y_test, y_pred_rf))"
   ]
  },
  {
   "cell_type": "markdown",
   "id": "495562fe",
   "metadata": {
    "papermill": {
     "duration": 0.011173,
     "end_time": "2025-10-16T14:01:00.830976",
     "exception": false,
     "start_time": "2025-10-16T14:01:00.819803",
     "status": "completed"
    },
    "tags": []
   },
   "source": [
    "Visualizatio **confusion Metrix** :"
   ]
  },
  {
   "cell_type": "code",
   "execution_count": 31,
   "id": "127d34f9",
   "metadata": {
    "execution": {
     "iopub.execute_input": "2025-10-16T14:01:00.856974Z",
     "iopub.status.busy": "2025-10-16T14:01:00.856713Z",
     "iopub.status.idle": "2025-10-16T14:01:00.997165Z",
     "shell.execute_reply": "2025-10-16T14:01:00.996256Z"
    },
    "papermill": {
     "duration": 0.154875,
     "end_time": "2025-10-16T14:01:00.998510",
     "exception": false,
     "start_time": "2025-10-16T14:01:00.843635",
     "status": "completed"
    },
    "tags": []
   },
   "outputs": [
    {
     "data": {
      "image/png": "[encoded data removed]",
      "text/plain": [
       "<Figure size 640x480 with 2 Axes>"
      ]
     },
     "metadata": {},
     "output_type": "display_data"
    }
   ],
   "source": [
    "# Confusion metrix\n",
    "cm = confusion_matrix(y_test, y_pred_rf)\n",
    "sns.heatmap(cm, annot=True, fmt='d', cmap='Greens')\n",
    "plt.title(\"Final Random Forest - Confusion Matrix\")\n",
    "plt.xlabel(\"Predicted\")\n",
    "plt.ylabel(\"Actual\")\n",
    "plt.show()"
   ]
  },
  {
   "cell_type": "markdown",
   "id": "d761d8b8",
   "metadata": {
    "papermill": {
     "duration": 0.012271,
     "end_time": "2025-10-16T14:01:01.023413",
     "exception": false,
     "start_time": "2025-10-16T14:01:01.011142",
     "status": "completed"
    },
    "tags": []
   },
   "source": [
    "\n",
    "We use **CatBoostClassiier Model** after make **GridSearch** with best parameters:"
   ]
  },
  {
   "cell_type": "code",
   "execution_count": 32,
   "id": "56e8c0f4",
   "metadata": {
    "execution": {
     "iopub.execute_input": "2025-10-16T14:01:01.050052Z",
     "iopub.status.busy": "2025-10-16T14:01:01.049757Z",
     "iopub.status.idle": "2025-10-16T14:01:01.771579Z",
     "shell.execute_reply": "2025-10-16T14:01:01.770672Z"
    },
    "papermill": {
     "duration": 0.736336,
     "end_time": "2025-10-16T14:01:01.772954",
     "exception": false,
     "start_time": "2025-10-16T14:01:01.036618",
     "status": "completed"
    },
    "tags": []
   },
   "outputs": [],
   "source": [
    "# Best model after GridSearch\n",
    "best_cat_model = CatBoostClassifier(\n",
    "    depth=6,\n",
    "    iterations=600,\n",
    "    l2_leaf_reg=1,\n",
    "    learning_rate=0.01,\n",
    "    verbose=0,\n",
    "    random_state=42\n",
    ")\n",
    "\n",
    "# Training data\n",
    "best_cat_model.fit(X_train, y_train)\n",
    "\n",
    "# Prediction on test data\n",
    "y_pred = best_cat_model.predict(X_test)"
   ]
  },
  {
   "cell_type": "markdown",
   "id": "e48344ce",
   "metadata": {
    "papermill": {
     "duration": 0.011542,
     "end_time": "2025-10-16T14:01:01.796535",
     "exception": false,
     "start_time": "2025-10-16T14:01:01.784993",
     "status": "completed"
    },
    "tags": []
   },
   "source": [
    "#### **Evaluation of CatBoostClassifier Model**"
   ]
  },
  {
   "cell_type": "code",
   "execution_count": 33,
   "id": "17f03b5c",
   "metadata": {
    "execution": {
     "iopub.execute_input": "2025-10-16T14:01:01.821086Z",
     "iopub.status.busy": "2025-10-16T14:01:01.820854Z",
     "iopub.status.idle": "2025-10-16T14:01:01.833118Z",
     "shell.execute_reply": "2025-10-16T14:01:01.832267Z"
    },
    "papermill": {
     "duration": 0.026631,
     "end_time": "2025-10-16T14:01:01.834730",
     "exception": false,
     "start_time": "2025-10-16T14:01:01.808099",
     "status": "completed"
    },
    "tags": []
   },
   "outputs": [
    {
     "name": "stdout",
     "output_type": "stream",
     "text": [
      " Final CatBoost Accuracy: 0.8324\n",
      "\n",
      " Classification Report:\n",
      "              precision    recall  f1-score   support\n",
      "\n",
      "           0       0.83      0.90      0.86       105\n",
      "           1       0.83      0.74      0.79        74\n",
      "\n",
      "    accuracy                           0.83       179\n",
      "   macro avg       0.83      0.82      0.82       179\n",
      "weighted avg       0.83      0.83      0.83       179\n",
      "\n"
     ]
    }
   ],
   "source": [
    "# Evaluation\n",
    "acc = accuracy_score(y_test, y_pred)\n",
    "print(f\" Final CatBoost Accuracy: {acc:.4f}\")\n",
    "print(\"\\n Classification Report:\")\n",
    "print(classification_report(y_test, y_pred))"
   ]
  },
  {
   "cell_type": "markdown",
   "id": "e61a7522",
   "metadata": {
    "papermill": {
     "duration": 0.011684,
     "end_time": "2025-10-16T14:01:01.858731",
     "exception": false,
     "start_time": "2025-10-16T14:01:01.847047",
     "status": "completed"
    },
    "tags": []
   },
   "source": [
    "Visualizatio **confusion Metrix :**"
   ]
  },
  {
   "cell_type": "code",
   "execution_count": 34,
   "id": "a0e9da8b",
   "metadata": {
    "execution": {
     "iopub.execute_input": "2025-10-16T14:01:01.884908Z",
     "iopub.status.busy": "2025-10-16T14:01:01.884612Z",
     "iopub.status.idle": "2025-10-16T14:01:02.017345Z",
     "shell.execute_reply": "2025-10-16T14:01:02.016676Z"
    },
    "papermill": {
     "duration": 0.147843,
     "end_time": "2025-10-16T14:01:02.018555",
     "exception": false,
     "start_time": "2025-10-16T14:01:01.870712",
     "status": "completed"
    },
    "tags": []
   },
   "outputs": [
    {
     "data": {
      "image/png": "[encoded data removed]",
      "text/plain": [
       "<Figure size 640x480 with 2 Axes>"
      ]
     },
     "metadata": {},
     "output_type": "display_data"
    }
   ],
   "source": [
    "# Confussion Metrix\n",
    "cm = confusion_matrix(y_test, y_pred)\n",
    "sns.heatmap(cm, annot=True, fmt='d', cmap='Blues')\n",
    "plt.title(\"Final CatBoost - Confusion Matrix\")\n",
    "plt.xlabel(\"Predicted\")\n",
    "plt.ylabel(\"Actual\")\n",
    "plt.show()"
   ]
  },
  {
   "cell_type": "markdown",
   "id": "8f673ab1",
   "metadata": {
    "papermill": {
     "duration": 0.011795,
     "end_time": "2025-10-16T14:01:02.042824",
     "exception": false,
     "start_time": "2025-10-16T14:01:02.031029",
     "status": "completed"
    },
    "tags": []
   },
   "source": [
    "To compare between two models by visualization by **ROC Curve** we use this code:"
   ]
  },
  {
   "cell_type": "code",
   "execution_count": 35,
   "id": "eff99e33",
   "metadata": {
    "execution": {
     "iopub.execute_input": "2025-10-16T14:01:02.067951Z",
     "iopub.status.busy": "2025-10-16T14:01:02.067706Z",
     "iopub.status.idle": "2025-10-16T14:01:02.233542Z",
     "shell.execute_reply": "2025-10-16T14:01:02.232838Z"
    },
    "papermill": {
     "duration": 0.180006,
     "end_time": "2025-10-16T14:01:02.234797",
     "exception": false,
     "start_time": "2025-10-16T14:01:02.054791",
     "status": "completed"
    },
    "tags": []
   },
   "outputs": [
    {
     "data": {
      "image/png": "[encoded data removed]",
      "text/plain": [
       "<Figure size 800x600 with 1 Axes>"
      ]
     },
     "metadata": {},
     "output_type": "display_data"
    }
   ],
   "source": [
    "# Probabilities for Random Forest\n",
    "y_proba_rf = best_rf_model.predict_proba(X_test)[:, 1]\n",
    "fpr_rf, tpr_rf, _ = roc_curve(y_test, y_proba_rf)\n",
    "auc_rf = roc_auc_score(y_test, y_proba_rf)\n",
    "\n",
    "# Probabilities for CatBoost\n",
    "y_proba_cat = best_cat_model.predict_proba(X_test)[:, 1]\n",
    "fpr_cat, tpr_cat, _ = roc_curve(y_test, y_proba_cat)\n",
    "auc_cat = roc_auc_score(y_test, y_proba_cat)\n",
    "\n",
    "# Plot both ROC curves\n",
    "plt.figure(figsize=(8,6))\n",
    "plt.plot(fpr_rf, tpr_rf, label=f'Random Forest (AUC = {auc_rf:.3f})', color='blue')\n",
    "plt.plot(fpr_cat, tpr_cat, label=f'CatBoost (AUC = {auc_cat:.3f})', color='green')\n",
    "plt.plot([0, 1], [0, 1], linestyle='--', color='gray')  # Reference line\n",
    "plt.xlabel('False Positive Rate')\n",
    "plt.ylabel('True Positive Rate')\n",
    "plt.title('ROC Curve Comparison')\n",
    "plt.legend()\n",
    "plt.grid(True)\n",
    "plt.show()"
   ]
  },
  {
   "cell_type": "markdown",
   "id": "e634660e",
   "metadata": {
    "papermill": {
     "duration": 0.013563,
     "end_time": "2025-10-16T14:01:02.261316",
     "exception": false,
     "start_time": "2025-10-16T14:01:02.247753",
     "status": "completed"
    },
    "tags": []
   },
   "source": [
    "So we use CatBoost Model beacuse it make model more stable for prediction"
   ]
  },
  {
   "cell_type": "markdown",
   "id": "57a21126",
   "metadata": {
    "papermill": {
     "duration": 0.012365,
     "end_time": "2025-10-16T14:01:02.286401",
     "exception": false,
     "start_time": "2025-10-16T14:01:02.274036",
     "status": "completed"
    },
    "tags": []
   },
   "source": [
    "### **Reading Test data**"
   ]
  },
  {
   "cell_type": "code",
   "execution_count": 36,
   "id": "c42e5461",
   "metadata": {
    "execution": {
     "iopub.execute_input": "2025-10-16T14:01:02.312799Z",
     "iopub.status.busy": "2025-10-16T14:01:02.312515Z",
     "iopub.status.idle": "2025-10-16T14:01:02.322113Z",
     "shell.execute_reply": "2025-10-16T14:01:02.321461Z"
    },
    "papermill": {
     "duration": 0.024217,
     "end_time": "2025-10-16T14:01:02.323323",
     "exception": false,
     "start_time": "2025-10-16T14:01:02.299106",
     "status": "completed"
    },
    "tags": []
   },
   "outputs": [],
   "source": [
    "Titanic_test = pd.read_csv('/kaggle/input/titanic/test.csv')"
   ]
  },
  {
   "cell_type": "code",
   "execution_count": 37,
   "id": "1fdbf941",
   "metadata": {
    "execution": {
     "iopub.execute_input": "2025-10-16T14:01:02.350693Z",
     "iopub.status.busy": "2025-10-16T14:01:02.350444Z",
     "iopub.status.idle": "2025-10-16T14:01:02.360169Z",
     "shell.execute_reply": "2025-10-16T14:01:02.359366Z"
    },
    "papermill": {
     "duration": 0.024706,
     "end_time": "2025-10-16T14:01:02.361165",
     "exception": false,
     "start_time": "2025-10-16T14:01:02.336459",
     "status": "completed"
    },
    "tags": []
   },
   "outputs": [
    {
     "data": {
      "text/html": [
       "<div>\n",
       "<style scoped>\n",
       "    .dataframe tbody tr th:only-of-type {\n",
       "        vertical-align: middle;\n",
       "    }\n",
       "\n",
       "    .dataframe tbody tr th {\n",
       "        vertical-align: top;\n",
       "    }\n",
       "\n",
       "    .dataframe thead th {\n",
       "        text-align: right;\n",
       "    }\n",
       "</style>\n",
       "<table border=\"1\" class=\"dataframe\">\n",
       "  <thead>\n",
       "    <tr style=\"text-align: right;\">\n",
       "      <th></th>\n",
       "      <th>PassengerId</th>\n",
       "      <th>Pclass</th>\n",
       "      <th>Name</th>\n",
       "      <th>Sex</th>\n",
       "      <th>Age</th>\n",
       "      <th>SibSp</th>\n",
       "      <th>Parch</th>\n",
       "      <th>Ticket</th>\n",
       "      <th>Fare</th>\n",
       "      <th>Cabin</th>\n",
       "      <th>Embarked</th>\n",
       "    </tr>\n",
       "  </thead>\n",
       "  <tbody>\n",
       "    <tr>\n",
       "      <th>0</th>\n",
       "      <td>892</td>\n",
       "      <td>3</td>\n",
       "      <td>Kelly, Mr. James</td>\n",
       "      <td>male</td>\n",
       "      <td>34.5</td>\n",
       "      <td>0</td>\n",
       "      <td>0</td>\n",
       "      <td>330911</td>\n",
       "      <td>7.8292</td>\n",
       "      <td>NaN</td>\n",
       "      <td>Q</td>\n",
       "    </tr>\n",
       "    <tr>\n",
       "      <th>1</th>\n",
       "      <td>893</td>\n",
       "      <td>3</td>\n",
       "      <td>Wilkes, Mrs. James (Ellen Needs)</td>\n",
       "      <td>female</td>\n",
       "      <td>47.0</td>\n",
       "      <td>1</td>\n",
       "      <td>0</td>\n",
       "      <td>363272</td>\n",
       "      <td>7.0000</td>\n",
       "      <td>NaN</td>\n",
       "      <td>S</td>\n",
       "    </tr>\n",
       "    <tr>\n",
       "      <th>2</th>\n",
       "      <td>894</td>\n",
       "      <td>2</td>\n",
       "      <td>Myles, Mr. Thomas Francis</td>\n",
       "      <td>male</td>\n",
       "      <td>62.0</td>\n",
       "      <td>0</td>\n",
       "      <td>0</td>\n",
       "      <td>240276</td>\n",
       "      <td>9.6875</td>\n",
       "      <td>NaN</td>\n",
       "      <td>Q</td>\n",
       "    </tr>\n",
       "    <tr>\n",
       "      <th>3</th>\n",
       "      <td>895</td>\n",
       "      <td>3</td>\n",
       "      <td>Wirz, Mr. Albert</td>\n",
       "      <td>male</td>\n",
       "      <td>27.0</td>\n",
       "      <td>0</td>\n",
       "      <td>0</td>\n",
       "      <td>315154</td>\n",
       "      <td>8.6625</td>\n",
       "      <td>NaN</td>\n",
       "      <td>S</td>\n",
       "    </tr>\n",
       "    <tr>\n",
       "      <th>4</th>\n",
       "      <td>896</td>\n",
       "      <td>3</td>\n",
       "      <td>Hirvonen, Mrs. Alexander (Helga E Lindqvist)</td>\n",
       "      <td>female</td>\n",
       "      <td>22.0</td>\n",
       "      <td>1</td>\n",
       "      <td>1</td>\n",
       "      <td>3101298</td>\n",
       "      <td>12.2875</td>\n",
       "      <td>NaN</td>\n",
       "      <td>S</td>\n",
       "    </tr>\n",
       "  </tbody>\n",
       "</table>\n",
       "</div>"
      ],
      "text/plain": [
       "   PassengerId  Pclass                                          Name     Sex  \\\n",
       "0          892       3                              Kelly, Mr. James    male   \n",
       "1          893       3              Wilkes, Mrs. James (Ellen Needs)  female   \n",
       "2          894       2                     Myles, Mr. Thomas Francis    male   \n",
       "3          895       3                              Wirz, Mr. Albert    male   \n",
       "4          896       3  Hirvonen, Mrs. Alexander (Helga E Lindqvist)  female   \n",
       "\n",
       "    Age  SibSp  Parch   Ticket     Fare Cabin Embarked  \n",
       "0  34.5      0      0   330911   7.8292   NaN        Q  \n",
       "1  47.0      1      0   363272   7.0000   NaN        S  \n",
       "2  62.0      0      0   240276   9.6875   NaN        Q  \n",
       "3  27.0      0      0   315154   8.6625   NaN        S  \n",
       "4  22.0      1      1  3101298  12.2875   NaN        S  "
      ]
     },
     "execution_count": 37,
     "metadata": {},
     "output_type": "execute_result"
    }
   ],
   "source": [
    "Titanic_test.head()"
   ]
  },
  {
   "cell_type": "code",
   "execution_count": 38,
   "id": "37b74d17",
   "metadata": {
    "execution": {
     "iopub.execute_input": "2025-10-16T14:01:02.388027Z",
     "iopub.status.busy": "2025-10-16T14:01:02.387781Z",
     "iopub.status.idle": "2025-10-16T14:01:02.396307Z",
     "shell.execute_reply": "2025-10-16T14:01:02.395421Z"
    },
    "papermill": {
     "duration": 0.023632,
     "end_time": "2025-10-16T14:01:02.397509",
     "exception": false,
     "start_time": "2025-10-16T14:01:02.373877",
     "status": "completed"
    },
    "tags": []
   },
   "outputs": [
    {
     "name": "stdout",
     "output_type": "stream",
     "text": [
      "<class 'pandas.core.frame.DataFrame'>\n",
      "RangeIndex: 418 entries, 0 to 417\n",
      "Data columns (total 11 columns):\n",
      " #   Column       Non-Null Count  Dtype  \n",
      "---  ------       --------------  -----  \n",
      " 0   PassengerId  418 non-null    int64  \n",
      " 1   Pclass       418 non-null    int64  \n",
      " 2   Name         418 non-null    object \n",
      " 3   Sex          418 non-null    object \n",
      " 4   Age          332 non-null    float64\n",
      " 5   SibSp        418 non-null    int64  \n",
      " 6   Parch        418 non-null    int64  \n",
      " 7   Ticket       418 non-null    object \n",
      " 8   Fare         417 non-null    float64\n",
      " 9   Cabin        91 non-null     object \n",
      " 10  Embarked     418 non-null    object \n",
      "dtypes: float64(2), int64(4), object(5)\n",
      "memory usage: 36.1+ KB\n"
     ]
    }
   ],
   "source": [
    "Titanic_test.info()"
   ]
  },
  {
   "cell_type": "code",
   "execution_count": 39,
   "id": "6b24c2e2",
   "metadata": {
    "execution": {
     "iopub.execute_input": "2025-10-16T14:01:02.424097Z",
     "iopub.status.busy": "2025-10-16T14:01:02.423606Z",
     "iopub.status.idle": "2025-10-16T14:01:02.439852Z",
     "shell.execute_reply": "2025-10-16T14:01:02.439043Z"
    },
    "papermill": {
     "duration": 0.030834,
     "end_time": "2025-10-16T14:01:02.441128",
     "exception": false,
     "start_time": "2025-10-16T14:01:02.410294",
     "status": "completed"
    },
    "tags": []
   },
   "outputs": [
    {
     "data": {
      "text/html": [
       "<div>\n",
       "<style scoped>\n",
       "    .dataframe tbody tr th:only-of-type {\n",
       "        vertical-align: middle;\n",
       "    }\n",
       "\n",
       "    .dataframe tbody tr th {\n",
       "        vertical-align: top;\n",
       "    }\n",
       "\n",
       "    .dataframe thead th {\n",
       "        text-align: right;\n",
       "    }\n",
       "</style>\n",
       "<table border=\"1\" class=\"dataframe\">\n",
       "  <thead>\n",
       "    <tr style=\"text-align: right;\">\n",
       "      <th></th>\n",
       "      <th>PassengerId</th>\n",
       "      <th>Pclass</th>\n",
       "      <th>Age</th>\n",
       "      <th>SibSp</th>\n",
       "      <th>Parch</th>\n",
       "      <th>Fare</th>\n",
       "    </tr>\n",
       "  </thead>\n",
       "  <tbody>\n",
       "    <tr>\n",
       "      <th>count</th>\n",
       "      <td>418.000000</td>\n",
       "      <td>418.000000</td>\n",
       "      <td>332.000000</td>\n",
       "      <td>418.000000</td>\n",
       "      <td>418.000000</td>\n",
       "      <td>417.000000</td>\n",
       "    </tr>\n",
       "    <tr>\n",
       "      <th>mean</th>\n",
       "      <td>1100.500000</td>\n",
       "      <td>2.265550</td>\n",
       "      <td>30.272590</td>\n",
       "      <td>0.447368</td>\n",
       "      <td>0.392344</td>\n",
       "      <td>35.627188</td>\n",
       "    </tr>\n",
       "    <tr>\n",
       "      <th>std</th>\n",
       "      <td>120.810458</td>\n",
       "      <td>0.841838</td>\n",
       "      <td>14.181209</td>\n",
       "      <td>0.896760</td>\n",
       "      <td>0.981429</td>\n",
       "      <td>55.907576</td>\n",
       "    </tr>\n",
       "    <tr>\n",
       "      <th>min</th>\n",
       "      <td>892.000000</td>\n",
       "      <td>1.000000</td>\n",
       "      <td>0.170000</td>\n",
       "      <td>0.000000</td>\n",
       "      <td>0.000000</td>\n",
       "      <td>0.000000</td>\n",
       "    </tr>\n",
       "    <tr>\n",
       "      <th>25%</th>\n",
       "      <td>996.250000</td>\n",
       "      <td>1.000000</td>\n",
       "      <td>21.000000</td>\n",
       "      <td>0.000000</td>\n",
       "      <td>0.000000</td>\n",
       "      <td>7.895800</td>\n",
       "    </tr>\n",
       "    <tr>\n",
       "      <th>50%</th>\n",
       "      <td>1100.500000</td>\n",
       "      <td>3.000000</td>\n",
       "      <td>27.000000</td>\n",
       "      <td>0.000000</td>\n",
       "      <td>0.000000</td>\n",
       "      <td>14.454200</td>\n",
       "    </tr>\n",
       "    <tr>\n",
       "      <th>75%</th>\n",
       "      <td>1204.750000</td>\n",
       "      <td>3.000000</td>\n",
       "      <td>39.000000</td>\n",
       "      <td>1.000000</td>\n",
       "      <td>0.000000</td>\n",
       "      <td>31.500000</td>\n",
       "    </tr>\n",
       "    <tr>\n",
       "      <th>max</th>\n",
       "      <td>1309.000000</td>\n",
       "      <td>3.000000</td>\n",
       "      <td>76.000000</td>\n",
       "      <td>8.000000</td>\n",
       "      <td>9.000000</td>\n",
       "      <td>512.329200</td>\n",
       "    </tr>\n",
       "  </tbody>\n",
       "</table>\n",
       "</div>"
      ],
      "text/plain": [
       "       PassengerId      Pclass         Age       SibSp       Parch        Fare\n",
       "count   418.000000  418.000000  332.000000  418.000000  418.000000  417.000000\n",
       "mean   1100.500000    2.265550   30.272590    0.447368    0.392344   35.627188\n",
       "std     120.810458    0.841838   14.181209    0.896760    0.981429   55.907576\n",
       "min     892.000000    1.000000    0.170000    0.000000    0.000000    0.000000\n",
       "25%     996.250000    1.000000   21.000000    0.000000    0.000000    7.895800\n",
       "50%    1100.500000    3.000000   27.000000    0.000000    0.000000   14.454200\n",
       "75%    1204.750000    3.000000   39.000000    1.000000    0.000000   31.500000\n",
       "max    1309.000000    3.000000   76.000000    8.000000    9.000000  512.329200"
      ]
     },
     "execution_count": 39,
     "metadata": {},
     "output_type": "execute_result"
    }
   ],
   "source": [
    "Titanic_test.describe()"
   ]
  },
  {
   "cell_type": "code",
   "execution_count": 40,
   "id": "64c02128",
   "metadata": {
    "execution": {
     "iopub.execute_input": "2025-10-16T14:01:02.468364Z",
     "iopub.status.busy": "2025-10-16T14:01:02.468061Z",
     "iopub.status.idle": "2025-10-16T14:01:02.472717Z",
     "shell.execute_reply": "2025-10-16T14:01:02.472074Z"
    },
    "papermill": {
     "duration": 0.019368,
     "end_time": "2025-10-16T14:01:02.473836",
     "exception": false,
     "start_time": "2025-10-16T14:01:02.454468",
     "status": "completed"
    },
    "tags": []
   },
   "outputs": [
    {
     "data": {
      "text/plain": [
       "(418, 11)"
      ]
     },
     "execution_count": 40,
     "metadata": {},
     "output_type": "execute_result"
    }
   ],
   "source": [
    "Titanic_test.shape"
   ]
  },
  {
   "cell_type": "markdown",
   "id": "21cb1400",
   "metadata": {
    "papermill": {
     "duration": 0.013124,
     "end_time": "2025-10-16T14:01:02.500445",
     "exception": false,
     "start_time": "2025-10-16T14:01:02.487321",
     "status": "completed"
    },
    "tags": []
   },
   "source": [
    "### **Nulls at Test data**"
   ]
  },
  {
   "cell_type": "markdown",
   "id": "e0093f24",
   "metadata": {
    "papermill": {
     "duration": 0.012822,
     "end_time": "2025-10-16T14:01:02.526427",
     "exception": false,
     "start_time": "2025-10-16T14:01:02.513605",
     "status": "completed"
    },
    "tags": []
   },
   "source": [
    "To extract if data hase any nulls:"
   ]
  },
  {
   "cell_type": "code",
   "execution_count": 41,
   "id": "f867e8ca",
   "metadata": {
    "execution": {
     "iopub.execute_input": "2025-10-16T14:01:02.553936Z",
     "iopub.status.busy": "2025-10-16T14:01:02.553696Z",
     "iopub.status.idle": "2025-10-16T14:01:02.559369Z",
     "shell.execute_reply": "2025-10-16T14:01:02.558760Z"
    },
    "papermill": {
     "duration": 0.02061,
     "end_time": "2025-10-16T14:01:02.560302",
     "exception": false,
     "start_time": "2025-10-16T14:01:02.539692",
     "status": "completed"
    },
    "tags": []
   },
   "outputs": [
    {
     "data": {
      "text/plain": [
       "PassengerId      0\n",
       "Pclass           0\n",
       "Name             0\n",
       "Sex              0\n",
       "Age             86\n",
       "SibSp            0\n",
       "Parch            0\n",
       "Ticket           0\n",
       "Fare             1\n",
       "Cabin          327\n",
       "Embarked         0\n",
       "dtype: int64"
      ]
     },
     "execution_count": 41,
     "metadata": {},
     "output_type": "execute_result"
    }
   ],
   "source": [
    "Titanic_test.isnull().sum()"
   ]
  },
  {
   "cell_type": "markdown",
   "id": "31e6bd83",
   "metadata": {
    "papermill": {
     "duration": 0.012777,
     "end_time": "2025-10-16T14:01:02.586635",
     "exception": false,
     "start_time": "2025-10-16T14:01:02.573858",
     "status": "completed"
    },
    "tags": []
   },
   "source": [
    "We fill Nulls at **age** column by using median:"
   ]
  },
  {
   "cell_type": "code",
   "execution_count": 42,
   "id": "a5b6ba1c",
   "metadata": {
    "execution": {
     "iopub.execute_input": "2025-10-16T14:01:02.613832Z",
     "iopub.status.busy": "2025-10-16T14:01:02.613591Z",
     "iopub.status.idle": "2025-10-16T14:01:02.617810Z",
     "shell.execute_reply": "2025-10-16T14:01:02.617195Z"
    },
    "papermill": {
     "duration": 0.019201,
     "end_time": "2025-10-16T14:01:02.618954",
     "exception": false,
     "start_time": "2025-10-16T14:01:02.599753",
     "status": "completed"
    },
    "tags": []
   },
   "outputs": [],
   "source": [
    "Titanic_test['Age'].fillna(Titanic_test['Age'].median(), inplace=True)"
   ]
  },
  {
   "cell_type": "markdown",
   "id": "27a4e143",
   "metadata": {
    "papermill": {
     "duration": 0.012726,
     "end_time": "2025-10-16T14:01:02.644941",
     "exception": false,
     "start_time": "2025-10-16T14:01:02.632215",
     "status": "completed"
    },
    "tags": []
   },
   "source": [
    "We fill Nulls at **Embarked** by using mode:"
   ]
  },
  {
   "cell_type": "code",
   "execution_count": 43,
   "id": "cef4ee4b",
   "metadata": {
    "execution": {
     "iopub.execute_input": "2025-10-16T14:01:02.672498Z",
     "iopub.status.busy": "2025-10-16T14:01:02.672197Z",
     "iopub.status.idle": "2025-10-16T14:01:02.676173Z",
     "shell.execute_reply": "2025-10-16T14:01:02.675607Z"
    },
    "papermill": {
     "duration": 0.019144,
     "end_time": "2025-10-16T14:01:02.677149",
     "exception": false,
     "start_time": "2025-10-16T14:01:02.658005",
     "status": "completed"
    },
    "tags": []
   },
   "outputs": [],
   "source": [
    "Titanic_test['Embarked'].fillna(Titanic_test['Embarked'].mode()[0], inplace=True)"
   ]
  },
  {
   "cell_type": "markdown",
   "id": "793c8ad7",
   "metadata": {
    "papermill": {
     "duration": 0.012653,
     "end_time": "2025-10-16T14:01:02.703118",
     "exception": false,
     "start_time": "2025-10-16T14:01:02.690465",
     "status": "completed"
    },
    "tags": []
   },
   "source": [
    "We extract another column from **Cabin** column to fill nulls by using this code:"
   ]
  },
  {
   "cell_type": "code",
   "execution_count": 44,
   "id": "f0d57132",
   "metadata": {
    "execution": {
     "iopub.execute_input": "2025-10-16T14:01:02.729758Z",
     "iopub.status.busy": "2025-10-16T14:01:02.729495Z",
     "iopub.status.idle": "2025-10-16T14:01:02.734140Z",
     "shell.execute_reply": "2025-10-16T14:01:02.733425Z"
    },
    "papermill": {
     "duration": 0.019603,
     "end_time": "2025-10-16T14:01:02.735456",
     "exception": false,
     "start_time": "2025-10-16T14:01:02.715853",
     "status": "completed"
    },
    "tags": []
   },
   "outputs": [],
   "source": [
    "Titanic_test['HasCabin'] = Titanic_test['Cabin'].notnull().astype(int)"
   ]
  },
  {
   "cell_type": "markdown",
   "id": "db2b66b3",
   "metadata": {
    "papermill": {
     "duration": 0.013297,
     "end_time": "2025-10-16T14:01:02.762278",
     "exception": false,
     "start_time": "2025-10-16T14:01:02.748981",
     "status": "completed"
    },
    "tags": []
   },
   "source": [
    "### **Feature Extraction at Test data**"
   ]
  },
  {
   "cell_type": "markdown",
   "id": "2e054d2b",
   "metadata": {
    "papermill": {
     "duration": 0.012912,
     "end_time": "2025-10-16T14:01:02.788492",
     "exception": false,
     "start_time": "2025-10-16T14:01:02.775580",
     "status": "completed"
    },
    "tags": []
   },
   "source": [
    "To extract Title from **name** feature we use this code:"
   ]
  },
  {
   "cell_type": "code",
   "execution_count": 45,
   "id": "0c22eea7",
   "metadata": {
    "execution": {
     "iopub.execute_input": "2025-10-16T14:01:02.815983Z",
     "iopub.status.busy": "2025-10-16T14:01:02.815726Z",
     "iopub.status.idle": "2025-10-16T14:01:02.821481Z",
     "shell.execute_reply": "2025-10-16T14:01:02.820571Z"
    },
    "papermill": {
     "duration": 0.020867,
     "end_time": "2025-10-16T14:01:02.822572",
     "exception": false,
     "start_time": "2025-10-16T14:01:02.801705",
     "status": "completed"
    },
    "tags": []
   },
   "outputs": [],
   "source": [
    "Titanic_test['Title'] = Titanic_test['Name'].str.extract(' ([A-Za-z]+)\\.', expand=False)\n",
    "\n",
    "# to drop main column\n",
    "Titanic_test.drop('Name', axis=1, inplace=True)"
   ]
  },
  {
   "cell_type": "markdown",
   "id": "6fea6bdc",
   "metadata": {
    "papermill": {
     "duration": 0.012449,
     "end_time": "2025-10-16T14:01:02.848750",
     "exception": false,
     "start_time": "2025-10-16T14:01:02.836301",
     "status": "completed"
    },
    "tags": []
   },
   "source": [
    "We extract FamilySize from Feature we use this code :"
   ]
  },
  {
   "cell_type": "code",
   "execution_count": 46,
   "id": "f796569b",
   "metadata": {
    "execution": {
     "iopub.execute_input": "2025-10-16T14:01:02.875307Z",
     "iopub.status.busy": "2025-10-16T14:01:02.875038Z",
     "iopub.status.idle": "2025-10-16T14:01:02.879998Z",
     "shell.execute_reply": "2025-10-16T14:01:02.879395Z"
    },
    "papermill": {
     "duration": 0.019431,
     "end_time": "2025-10-16T14:01:02.880990",
     "exception": false,
     "start_time": "2025-10-16T14:01:02.861559",
     "status": "completed"
    },
    "tags": []
   },
   "outputs": [],
   "source": [
    "Titanic_test['FamilySize'] = Titanic_test['SibSp'] + Titanic_test['Parch'] + 1"
   ]
  },
  {
   "cell_type": "markdown",
   "id": "49853dea",
   "metadata": {
    "papermill": {
     "duration": 0.013145,
     "end_time": "2025-10-16T14:01:02.908007",
     "exception": false,
     "start_time": "2025-10-16T14:01:02.894862",
     "status": "completed"
    },
    "tags": []
   },
   "source": [
    "To make feature called IsAlone by using thos code:"
   ]
  },
  {
   "cell_type": "code",
   "execution_count": 47,
   "id": "b67dbd39",
   "metadata": {
    "execution": {
     "iopub.execute_input": "2025-10-16T14:01:02.935485Z",
     "iopub.status.busy": "2025-10-16T14:01:02.935184Z",
     "iopub.status.idle": "2025-10-16T14:01:02.939850Z",
     "shell.execute_reply": "2025-10-16T14:01:02.939157Z"
    },
    "papermill": {
     "duration": 0.019619,
     "end_time": "2025-10-16T14:01:02.940843",
     "exception": false,
     "start_time": "2025-10-16T14:01:02.921224",
     "status": "completed"
    },
    "tags": []
   },
   "outputs": [],
   "source": [
    "Titanic_test['IsAlone'] = (Titanic_test['FamilySize'] == 1).astype(int)"
   ]
  },
  {
   "cell_type": "markdown",
   "id": "4dc53627",
   "metadata": {
    "papermill": {
     "duration": 0.013058,
     "end_time": "2025-10-16T14:01:02.967054",
     "exception": false,
     "start_time": "2025-10-16T14:01:02.953996",
     "status": "completed"
    },
    "tags": []
   },
   "source": [
    "We extract feature from Cabin depend on first letter from cabin :"
   ]
  },
  {
   "cell_type": "code",
   "execution_count": 48,
   "id": "a1c49e62",
   "metadata": {
    "execution": {
     "iopub.execute_input": "2025-10-16T14:01:02.995702Z",
     "iopub.status.busy": "2025-10-16T14:01:02.995435Z",
     "iopub.status.idle": "2025-10-16T14:01:03.000850Z",
     "shell.execute_reply": "2025-10-16T14:01:03.000012Z"
    },
    "papermill": {
     "duration": 0.021024,
     "end_time": "2025-10-16T14:01:03.002153",
     "exception": false,
     "start_time": "2025-10-16T14:01:02.981129",
     "status": "completed"
    },
    "tags": []
   },
   "outputs": [],
   "source": [
    "Titanic_test['Deck'] = Titanic_test['Cabin'].str[0]\n",
    "Titanic_test['Deck'] = Titanic_test['Deck'].fillna('U')  # U = Unknown"
   ]
  },
  {
   "cell_type": "markdown",
   "id": "fe71cbfe",
   "metadata": {
    "papermill": {
     "duration": 0.01268,
     "end_time": "2025-10-16T14:01:03.028406",
     "exception": false,
     "start_time": "2025-10-16T14:01:03.015726",
     "status": "completed"
    },
    "tags": []
   },
   "source": [
    "We extract TicketPrefix Feature:"
   ]
  },
  {
   "cell_type": "code",
   "execution_count": 49,
   "id": "b126f275",
   "metadata": {
    "execution": {
     "iopub.execute_input": "2025-10-16T14:01:03.055467Z",
     "iopub.status.busy": "2025-10-16T14:01:03.055179Z",
     "iopub.status.idle": "2025-10-16T14:01:03.059895Z",
     "shell.execute_reply": "2025-10-16T14:01:03.059260Z"
    },
    "papermill": {
     "duration": 0.01983,
     "end_time": "2025-10-16T14:01:03.061141",
     "exception": false,
     "start_time": "2025-10-16T14:01:03.041311",
     "status": "completed"
    },
    "tags": []
   },
   "outputs": [],
   "source": [
    "Titanic_test['TicketPrefix'] = Titanic_test['Ticket'].apply(lambda x: x.split(' ')[0] if not x.isdigit() else 'None')"
   ]
  },
  {
   "cell_type": "markdown",
   "id": "34903a2d",
   "metadata": {
    "papermill": {
     "duration": 0.01272,
     "end_time": "2025-10-16T14:01:03.087157",
     "exception": false,
     "start_time": "2025-10-16T14:01:03.074437",
     "status": "completed"
    },
    "tags": []
   },
   "source": [
    "We extract FarePerPerson for one person:"
   ]
  },
  {
   "cell_type": "code",
   "execution_count": 50,
   "id": "29acf098",
   "metadata": {
    "execution": {
     "iopub.execute_input": "2025-10-16T14:01:03.114011Z",
     "iopub.status.busy": "2025-10-16T14:01:03.113779Z",
     "iopub.status.idle": "2025-10-16T14:01:03.117909Z",
     "shell.execute_reply": "2025-10-16T14:01:03.117376Z"
    },
    "papermill": {
     "duration": 0.018772,
     "end_time": "2025-10-16T14:01:03.118852",
     "exception": false,
     "start_time": "2025-10-16T14:01:03.100080",
     "status": "completed"
    },
    "tags": []
   },
   "outputs": [],
   "source": [
    "Titanic_test['FarePerPerson'] = Titanic_test['Fare'] / Titanic_test['FamilySize']"
   ]
  },
  {
   "cell_type": "markdown",
   "id": "117f21a1",
   "metadata": {
    "papermill": {
     "duration": 0.012756,
     "end_time": "2025-10-16T14:01:03.145814",
     "exception": false,
     "start_time": "2025-10-16T14:01:03.133058",
     "status": "completed"
    },
    "tags": []
   },
   "source": [
    "We classified age by using this code:"
   ]
  },
  {
   "cell_type": "code",
   "execution_count": 51,
   "id": "ac7faf20",
   "metadata": {
    "execution": {
     "iopub.execute_input": "2025-10-16T14:01:03.172696Z",
     "iopub.status.busy": "2025-10-16T14:01:03.172397Z",
     "iopub.status.idle": "2025-10-16T14:01:03.178070Z",
     "shell.execute_reply": "2025-10-16T14:01:03.177394Z"
    },
    "papermill": {
     "duration": 0.020707,
     "end_time": "2025-10-16T14:01:03.179266",
     "exception": false,
     "start_time": "2025-10-16T14:01:03.158559",
     "status": "completed"
    },
    "tags": []
   },
   "outputs": [],
   "source": [
    "Titanic_test['AgeGroup'] = pd.cut(Titanic_test['Age'], bins=[0,12,18,35,60,80], labels=['Child','Teen','Adult','MiddleAge','Senior'])"
   ]
  },
  {
   "cell_type": "markdown",
   "id": "57337cea",
   "metadata": {
    "papermill": {
     "duration": 0.01303,
     "end_time": "2025-10-16T14:01:03.205701",
     "exception": false,
     "start_time": "2025-10-16T14:01:03.192671",
     "status": "completed"
    },
    "tags": []
   },
   "source": [
    "We make **Scaling** for numerical column:"
   ]
  },
  {
   "cell_type": "code",
   "execution_count": 52,
   "id": "638690c9",
   "metadata": {
    "execution": {
     "iopub.execute_input": "2025-10-16T14:01:03.232898Z",
     "iopub.status.busy": "2025-10-16T14:01:03.232313Z",
     "iopub.status.idle": "2025-10-16T14:01:03.244540Z",
     "shell.execute_reply": "2025-10-16T14:01:03.243812Z"
    },
    "papermill": {
     "duration": 0.027284,
     "end_time": "2025-10-16T14:01:03.245805",
     "exception": false,
     "start_time": "2025-10-16T14:01:03.218521",
     "status": "completed"
    },
    "tags": []
   },
   "outputs": [],
   "source": [
    "numeric_cols = ['Age', 'SibSp', 'Parch', 'Fare', 'FamilySize', 'FarePerPerson']\n",
    "\n",
    "# to fill nulls by median\n",
    "Titanic_test[numeric_cols] = Titanic_test[numeric_cols].fillna(Titanic_test[numeric_cols].median())\n",
    "\n",
    "# Scaling\n",
    "scaler = StandardScaler()\n",
    "Titanic_test[numeric_cols] = scaler.fit_transform(Titanic_test[numeric_cols])"
   ]
  },
  {
   "cell_type": "markdown",
   "id": "a37919d3",
   "metadata": {
    "papermill": {
     "duration": 0.013059,
     "end_time": "2025-10-16T14:01:03.272666",
     "exception": false,
     "start_time": "2025-10-16T14:01:03.259607",
     "status": "completed"
    },
    "tags": []
   },
   "source": [
    "We make **Encoding** for categorical columns:"
   ]
  },
  {
   "cell_type": "code",
   "execution_count": 53,
   "id": "3fb0946e",
   "metadata": {
    "execution": {
     "iopub.execute_input": "2025-10-16T14:01:03.300565Z",
     "iopub.status.busy": "2025-10-16T14:01:03.300255Z",
     "iopub.status.idle": "2025-10-16T14:01:03.313425Z",
     "shell.execute_reply": "2025-10-16T14:01:03.312369Z"
    },
    "papermill": {
     "duration": 0.028469,
     "end_time": "2025-10-16T14:01:03.314912",
     "exception": false,
     "start_time": "2025-10-16T14:01:03.286443",
     "status": "completed"
    },
    "tags": []
   },
   "outputs": [],
   "source": [
    "# Define the categorical columns\n",
    "categorical_cols = ['Sex', 'Embarked', 'Title', 'Deck', 'AgeGroup', 'TicketPrefix']\n",
    "\n",
    "# Convert columns to 'object' type to avoid Categorical errors\n",
    "Titanic_test[categorical_cols] = Titanic_test[categorical_cols].astype('object')\n",
    "\n",
    "# Fill missing values with 'Unknown'\n",
    "Titanic_test[categorical_cols] = Titanic_test[categorical_cols].fillna('Unknown')\n",
    "\n",
    "# Apply One-Hot Encoding (drop_first=True to avoid dummy variable trap)\n",
    "Titanic_test = pd.get_dummies(Titanic_test, columns=categorical_cols, drop_first=True)"
   ]
  },
  {
   "cell_type": "markdown",
   "id": "63ac9d64",
   "metadata": {
    "papermill": {
     "duration": 0.012732,
     "end_time": "2025-10-16T14:01:03.340985",
     "exception": false,
     "start_time": "2025-10-16T14:01:03.328253",
     "status": "completed"
    },
    "tags": []
   },
   "source": [
    "We drop non numerical columns:"
   ]
  },
  {
   "cell_type": "code",
   "execution_count": 54,
   "id": "3c00a4a6",
   "metadata": {
    "execution": {
     "iopub.execute_input": "2025-10-16T14:01:03.369034Z",
     "iopub.status.busy": "2025-10-16T14:01:03.368759Z",
     "iopub.status.idle": "2025-10-16T14:01:03.372955Z",
     "shell.execute_reply": "2025-10-16T14:01:03.372178Z"
    },
    "papermill": {
     "duration": 0.019981,
     "end_time": "2025-10-16T14:01:03.374276",
     "exception": false,
     "start_time": "2025-10-16T14:01:03.354295",
     "status": "completed"
    },
    "tags": []
   },
   "outputs": [],
   "source": [
    "Test_id = Titanic_test['PassengerId'].copy()"
   ]
  },
  {
   "cell_type": "code",
   "execution_count": 55,
   "id": "2a9c7281",
   "metadata": {
    "execution": {
     "iopub.execute_input": "2025-10-16T14:01:03.402824Z",
     "iopub.status.busy": "2025-10-16T14:01:03.402544Z",
     "iopub.status.idle": "2025-10-16T14:01:03.407977Z",
     "shell.execute_reply": "2025-10-16T14:01:03.407282Z"
    },
    "papermill": {
     "duration": 0.021136,
     "end_time": "2025-10-16T14:01:03.409253",
     "exception": false,
     "start_time": "2025-10-16T14:01:03.388117",
     "status": "completed"
    },
    "tags": []
   },
   "outputs": [],
   "source": [
    "drop_cols = ['Name', 'Ticket', 'Cabin','PassengerId']  # columns with raw strings\n",
    "Titanic_test = Titanic_test.drop(columns=drop_cols, errors='ignore')"
   ]
  },
  {
   "cell_type": "code",
   "execution_count": 56,
   "id": "97429d14",
   "metadata": {
    "execution": {
     "iopub.execute_input": "2025-10-16T14:01:03.436894Z",
     "iopub.status.busy": "2025-10-16T14:01:03.436650Z",
     "iopub.status.idle": "2025-10-16T14:01:03.441389Z",
     "shell.execute_reply": "2025-10-16T14:01:03.440707Z"
    },
    "papermill": {
     "duration": 0.020036,
     "end_time": "2025-10-16T14:01:03.442687",
     "exception": false,
     "start_time": "2025-10-16T14:01:03.422651",
     "status": "completed"
    },
    "tags": []
   },
   "outputs": [
    {
     "data": {
      "text/plain": [
       "(418, 65)"
      ]
     },
     "execution_count": 56,
     "metadata": {},
     "output_type": "execute_result"
    }
   ],
   "source": [
    "Titanic_test.shape"
   ]
  },
  {
   "cell_type": "code",
   "execution_count": 57,
   "id": "2339ae44",
   "metadata": {
    "execution": {
     "iopub.execute_input": "2025-10-16T14:01:03.471080Z",
     "iopub.status.busy": "2025-10-16T14:01:03.470845Z",
     "iopub.status.idle": "2025-10-16T14:01:03.482413Z",
     "shell.execute_reply": "2025-10-16T14:01:03.481750Z"
    },
    "papermill": {
     "duration": 0.026769,
     "end_time": "2025-10-16T14:01:03.483545",
     "exception": false,
     "start_time": "2025-10-16T14:01:03.456776",
     "status": "completed"
    },
    "tags": []
   },
   "outputs": [],
   "source": [
    "X_test = Titanic_test.copy()\n",
    "\n",
    "# add loss columns\n",
    "for col in X_train.columns:\n",
    "    if col not in X_test.columns:\n",
    "        X_test[col] = 0\n",
    "\n",
    "# rearrange test data as train data\n",
    "X_test = X_test[X_train.columns]"
   ]
  },
  {
   "cell_type": "markdown",
   "id": "0db76a34",
   "metadata": {
    "papermill": {
     "duration": 0.01278,
     "end_time": "2025-10-16T14:01:03.509564",
     "exception": false,
     "start_time": "2025-10-16T14:01:03.496784",
     "status": "completed"
    },
    "tags": []
   },
   "source": [
    "## **Prediction**"
   ]
  },
  {
   "cell_type": "code",
   "execution_count": 58,
   "id": "76e7da50",
   "metadata": {
    "execution": {
     "iopub.execute_input": "2025-10-16T14:01:03.537384Z",
     "iopub.status.busy": "2025-10-16T14:01:03.537110Z",
     "iopub.status.idle": "2025-10-16T14:01:03.544536Z",
     "shell.execute_reply": "2025-10-16T14:01:03.543802Z"
    },
    "papermill": {
     "duration": 0.022892,
     "end_time": "2025-10-16T14:01:03.545734",
     "exception": false,
     "start_time": "2025-10-16T14:01:03.522842",
     "status": "completed"
    },
    "tags": []
   },
   "outputs": [],
   "source": [
    "y_pred = best_cat_model.predict(X_test)"
   ]
  },
  {
   "cell_type": "markdown",
   "id": "b2b7bd69",
   "metadata": {
    "papermill": {
     "duration": 0.013422,
     "end_time": "2025-10-16T14:01:03.572679",
     "exception": false,
     "start_time": "2025-10-16T14:01:03.559257",
     "status": "completed"
    },
    "tags": []
   },
   "source": [
    "## **Submission**"
   ]
  },
  {
   "cell_type": "code",
   "execution_count": 59,
   "id": "8370e4c3",
   "metadata": {
    "execution": {
     "iopub.execute_input": "2025-10-16T14:01:03.600792Z",
     "iopub.status.busy": "2025-10-16T14:01:03.600538Z",
     "iopub.status.idle": "2025-10-16T14:01:03.604974Z",
     "shell.execute_reply": "2025-10-16T14:01:03.603988Z"
    },
    "papermill": {
     "duration": 0.020136,
     "end_time": "2025-10-16T14:01:03.606243",
     "exception": false,
     "start_time": "2025-10-16T14:01:03.586107",
     "status": "completed"
    },
    "tags": []
   },
   "outputs": [],
   "source": [
    "submission = pd.DataFrame({\n",
    "    'PassengerId': Test_id.astype(int),\n",
    "    'Survived': y_pred.astype(int)\n",
    "})"
   ]
  },
  {
   "cell_type": "code",
   "execution_count": 60,
   "id": "0f95496d",
   "metadata": {
    "execution": {
     "iopub.execute_input": "2025-10-16T14:01:03.634227Z",
     "iopub.status.busy": "2025-10-16T14:01:03.633447Z",
     "iopub.status.idle": "2025-10-16T14:01:03.639741Z",
     "shell.execute_reply": "2025-10-16T14:01:03.639067Z"
    },
    "papermill": {
     "duration": 0.021128,
     "end_time": "2025-10-16T14:01:03.640797",
     "exception": false,
     "start_time": "2025-10-16T14:01:03.619669",
     "status": "completed"
    },
    "tags": []
   },
   "outputs": [
    {
     "data": {
      "text/html": [
       "<div>\n",
       "<style scoped>\n",
       "    .dataframe tbody tr th:only-of-type {\n",
       "        vertical-align: middle;\n",
       "    }\n",
       "\n",
       "    .dataframe tbody tr th {\n",
       "        vertical-align: top;\n",
       "    }\n",
       "\n",
       "    .dataframe thead th {\n",
       "        text-align: right;\n",
       "    }\n",
       "</style>\n",
       "<table border=\"1\" class=\"dataframe\">\n",
       "  <thead>\n",
       "    <tr style=\"text-align: right;\">\n",
       "      <th></th>\n",
       "      <th>PassengerId</th>\n",
       "      <th>Survived</th>\n",
       "    </tr>\n",
       "  </thead>\n",
       "  <tbody>\n",
       "    <tr>\n",
       "      <th>0</th>\n",
       "      <td>892</td>\n",
       "      <td>0</td>\n",
       "    </tr>\n",
       "    <tr>\n",
       "      <th>1</th>\n",
       "      <td>893</td>\n",
       "      <td>0</td>\n",
       "    </tr>\n",
       "    <tr>\n",
       "      <th>2</th>\n",
       "      <td>894</td>\n",
       "      <td>0</td>\n",
       "    </tr>\n",
       "    <tr>\n",
       "      <th>3</th>\n",
       "      <td>895</td>\n",
       "      <td>0</td>\n",
       "    </tr>\n",
       "    <tr>\n",
       "      <th>4</th>\n",
       "      <td>896</td>\n",
       "      <td>1</td>\n",
       "    </tr>\n",
       "  </tbody>\n",
       "</table>\n",
       "</div>"
      ],
      "text/plain": [
       "   PassengerId  Survived\n",
       "0          892         0\n",
       "1          893         0\n",
       "2          894         0\n",
       "3          895         0\n",
       "4          896         1"
      ]
     },
     "execution_count": 60,
     "metadata": {},
     "output_type": "execute_result"
    }
   ],
   "source": [
    "submission.head()"
   ]
  },
  {
   "cell_type": "code",
   "execution_count": 61,
   "id": "1f93d7b9",
   "metadata": {
    "execution": {
     "iopub.execute_input": "2025-10-16T14:01:03.670710Z",
     "iopub.status.busy": "2025-10-16T14:01:03.670319Z",
     "iopub.status.idle": "2025-10-16T14:01:03.679678Z",
     "shell.execute_reply": "2025-10-16T14:01:03.678835Z"
    },
    "papermill": {
     "duration": 0.025557,
     "end_time": "2025-10-16T14:01:03.680996",
     "exception": false,
     "start_time": "2025-10-16T14:01:03.655439",
     "status": "completed"
    },
    "tags": []
   },
   "outputs": [],
   "source": [
    "submission.to_csv('submission.csv', index=False)"
   ]
  }
 ],
 "metadata": {
  "kaggle": {
   "accelerator": "none",
   "dataSources": [
    {
     "databundleVersionId": 26502,
     "sourceId": 3136,
     "sourceType": "competition"
    }
   ],
   "dockerImageVersionId": 31153,
   "isGpuEnabled": false,
   "isInternetEnabled": true,
   "language": "python",
   "sourceType": "notebook"
  },
  "kernelspec": {
   "display_name": "Python 3",
   "language": "python",
   "name": "python3"
  },
  "language_info": {
   "codemirror_mode": {
    "name": "ipython",
    "version": 3
   },
   "file_extension": ".py",
   "mimetype": "text/x-python",
   "name": "python",
   "nbconvert_exporter": "python",
   "pygments_lexer": "ipython3",
   "version": "3.11.13"
  },
  "papermill": {
   "default_parameters": {},
   "duration": 13.624529,
   "end_time": "2025-10-16T14:01:04.315218",
   "environment_variables": {},
   "exception": null,
   "input_path": "__notebook__.ipynb",
   "output_path": "__notebook__.ipynb",
   "parameters": {},
   "start_time": "2025-10-16T14:00:50.690689",
   "version": "2.6.0"
  }
 },
 "nbformat": 4,
 "nbformat_minor": 5
}
