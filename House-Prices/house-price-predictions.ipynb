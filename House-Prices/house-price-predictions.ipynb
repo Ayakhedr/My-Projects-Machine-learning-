{
 "cells": [
  {
   "cell_type": "code",
   "execution_count": 1,
   "id": "4b43c09b",
   "metadata": {
    "_cell_guid": "b1076dfc-b9ad-4769-8c92-a6c4dae69d19",
    "_uuid": "8f2839f25d086af736a60e9eeb907d3b93b6e0e5",
    "execution": {
     "iopub.execute_input": "2025-10-12T17:15:23.706251Z",
     "iopub.status.busy": "2025-10-12T17:15:23.705807Z",
     "iopub.status.idle": "2025-10-12T17:15:26.170460Z",
     "shell.execute_reply": "2025-10-12T17:15:26.169396Z"
    },
    "papermill": {
     "duration": 2.487014,
     "end_time": "2025-10-12T17:15:26.172598",
     "exception": false,
     "start_time": "2025-10-12T17:15:23.685584",
     "status": "completed"
    },
    "tags": []
   },
   "outputs": [
    {
     "name": "stdout",
     "output_type": "stream",
     "text": [
      "/kaggle/input/house-prices-advanced-regression-techniques/sample_submission.csv\n",
      "/kaggle/input/house-prices-advanced-regression-techniques/data_description.txt\n",
      "/kaggle/input/house-prices-advanced-regression-techniques/train.csv\n",
      "/kaggle/input/house-prices-advanced-regression-techniques/test.csv\n"
     ]
    }
   ],
   "source": [
    "# This Python 3 environment comes with many helpful analytics libraries installed\n",
    "# It is defined by the kaggle/python Docker image: https://github.com/kaggle/docker-python\n",
    "# For example, here's several helpful packages to load\n",
    "\n",
    "import numpy as np # linear algebra\n",
    "import pandas as pd # data processing, CSV file I/O (e.g. pd.read_csv)\n",
    "\n",
    "# Input data files are available in the read-only \"../input/\" directory\n",
    "# For example, running this (by clicking run or pressing Shift+Enter) will list all files under the input directory\n",
    "\n",
    "import os\n",
    "for dirname, _, filenames in os.walk('/kaggle/input'):\n",
    "    for filename in filenames:\n",
    "        print(os.path.join(dirname, filename))\n",
    "\n",
    "# You can write up to 20GB to the current directory (/kaggle/working/) that gets preserved as output when you create a version using \"Save & Run All\" \n",
    "# You can also write temporary files to /kaggle/temp/, but they won't be saved outside of the current session"
   ]
  },
  {
   "cell_type": "markdown",
   "id": "30f36b34",
   "metadata": {
    "papermill": {
     "duration": 0.017485,
     "end_time": "2025-10-12T17:15:26.208577",
     "exception": false,
     "start_time": "2025-10-12T17:15:26.191092",
     "status": "completed"
    },
    "tags": []
   },
   "source": [
    "# **Data Classification**"
   ]
  },
  {
   "cell_type": "markdown",
   "id": "a87d8bf0",
   "metadata": {
    "papermill": {
     "duration": 0.015929,
     "end_time": "2025-10-12T17:15:26.240534",
     "exception": false,
     "start_time": "2025-10-12T17:15:26.224605",
     "status": "completed"
    },
    "tags": []
   },
   "source": [
    "## **Importing Libraries**"
   ]
  },
  {
   "cell_type": "code",
   "execution_count": 2,
   "id": "37c18b30",
   "metadata": {
    "execution": {
     "iopub.execute_input": "2025-10-12T17:15:26.280594Z",
     "iopub.status.busy": "2025-10-12T17:15:26.279506Z",
     "iopub.status.idle": "2025-10-12T17:15:30.408786Z",
     "shell.execute_reply": "2025-10-12T17:15:30.407303Z"
    },
    "papermill": {
     "duration": 4.151766,
     "end_time": "2025-10-12T17:15:30.412372",
     "exception": false,
     "start_time": "2025-10-12T17:15:26.260606",
     "status": "completed"
    },
    "tags": []
   },
   "outputs": [],
   "source": [
    "import pandas as pd\n",
    "import seaborn as sns\n",
    "import numpy as np\n",
    "from xgboost import XGBRegressor\n",
    "import matplotlib.pyplot as plt\n",
    "from sklearn.preprocessing import LabelEncoder\n",
    "from sklearn.model_selection import learning_curve\n",
    "from sklearn.model_selection import train_test_split\n",
    "from sklearn.ensemble import GradientBoostingRegressor\n",
    "from sklearn.metrics import mean_squared_error, r2_score\n",
    "\n",
    "import warnings\n",
    "warnings.filterwarnings('ignore')"
   ]
  },
  {
   "cell_type": "markdown",
   "id": "64760568",
   "metadata": {
    "papermill": {
     "duration": 0.033871,
     "end_time": "2025-10-12T17:15:30.468806",
     "exception": false,
     "start_time": "2025-10-12T17:15:30.434935",
     "status": "completed"
    },
    "tags": []
   },
   "source": [
    "## **Data Loading & Inspection**"
   ]
  },
  {
   "cell_type": "markdown",
   "id": "52e3999a",
   "metadata": {
    "papermill": {
     "duration": 0.033626,
     "end_time": "2025-10-12T17:15:30.526981",
     "exception": false,
     "start_time": "2025-10-12T17:15:30.493355",
     "status": "completed"
    },
    "tags": []
   },
   "source": [
    "### **Reading Train Data**"
   ]
  },
  {
   "cell_type": "code",
   "execution_count": 3,
   "id": "1ff3a313",
   "metadata": {
    "execution": {
     "iopub.execute_input": "2025-10-12T17:15:30.590000Z",
     "iopub.status.busy": "2025-10-12T17:15:30.589457Z",
     "iopub.status.idle": "2025-10-12T17:15:30.703278Z",
     "shell.execute_reply": "2025-10-12T17:15:30.701370Z"
    },
    "papermill": {
     "duration": 0.153068,
     "end_time": "2025-10-12T17:15:30.709287",
     "exception": false,
     "start_time": "2025-10-12T17:15:30.556219",
     "status": "completed"
    },
    "tags": []
   },
   "outputs": [],
   "source": [
    "House_train = pd.read_csv('/kaggle/input/house-prices-advanced-regression-techniques/train.csv')"
   ]
  },
  {
   "cell_type": "code",
   "execution_count": 4,
   "id": "02f4b954",
   "metadata": {
    "execution": {
     "iopub.execute_input": "2025-10-12T17:15:30.769123Z",
     "iopub.status.busy": "2025-10-12T17:15:30.768698Z",
     "iopub.status.idle": "2025-10-12T17:15:30.828423Z",
     "shell.execute_reply": "2025-10-12T17:15:30.826695Z"
    },
    "papermill": {
     "duration": 0.085517,
     "end_time": "2025-10-12T17:15:30.830653",
     "exception": false,
     "start_time": "2025-10-12T17:15:30.745136",
     "status": "completed"
    },
    "tags": []
   },
   "outputs": [
    {
     "data": {
      "text/html": [
       "<div>\n",
       "<style scoped>\n",
       "    .dataframe tbody tr th:only-of-type {\n",
       "        vertical-align: middle;\n",
       "    }\n",
       "\n",
       "    .dataframe tbody tr th {\n",
       "        vertical-align: top;\n",
       "    }\n",
       "\n",
       "    .dataframe thead th {\n",
       "        text-align: right;\n",
       "    }\n",
       "</style>\n",
       "<table border=\"1\" class=\"dataframe\">\n",
       "  <thead>\n",
       "    <tr style=\"text-align: right;\">\n",
       "      <th></th>\n",
       "      <th>Id</th>\n",
       "      <th>MSSubClass</th>\n",
       "      <th>MSZoning</th>\n",
       "      <th>LotFrontage</th>\n",
       "      <th>LotArea</th>\n",
       "      <th>Street</th>\n",
       "      <th>Alley</th>\n",
       "      <th>LotShape</th>\n",
       "      <th>LandContour</th>\n",
       "      <th>Utilities</th>\n",
       "      <th>...</th>\n",
       "      <th>PoolArea</th>\n",
       "      <th>PoolQC</th>\n",
       "      <th>Fence</th>\n",
       "      <th>MiscFeature</th>\n",
       "      <th>MiscVal</th>\n",
       "      <th>MoSold</th>\n",
       "      <th>YrSold</th>\n",
       "      <th>SaleType</th>\n",
       "      <th>SaleCondition</th>\n",
       "      <th>SalePrice</th>\n",
       "    </tr>\n",
       "  </thead>\n",
       "  <tbody>\n",
       "    <tr>\n",
       "      <th>0</th>\n",
       "      <td>1</td>\n",
       "      <td>60</td>\n",
       "      <td>RL</td>\n",
       "      <td>65.0</td>\n",
       "      <td>8450</td>\n",
       "      <td>Pave</td>\n",
       "      <td>NaN</td>\n",
       "      <td>Reg</td>\n",
       "      <td>Lvl</td>\n",
       "      <td>AllPub</td>\n",
       "      <td>...</td>\n",
       "      <td>0</td>\n",
       "      <td>NaN</td>\n",
       "      <td>NaN</td>\n",
       "      <td>NaN</td>\n",
       "      <td>0</td>\n",
       "      <td>2</td>\n",
       "      <td>2008</td>\n",
       "      <td>WD</td>\n",
       "      <td>Normal</td>\n",
       "      <td>208500</td>\n",
       "    </tr>\n",
       "    <tr>\n",
       "      <th>1</th>\n",
       "      <td>2</td>\n",
       "      <td>20</td>\n",
       "      <td>RL</td>\n",
       "      <td>80.0</td>\n",
       "      <td>9600</td>\n",
       "      <td>Pave</td>\n",
       "      <td>NaN</td>\n",
       "      <td>Reg</td>\n",
       "      <td>Lvl</td>\n",
       "      <td>AllPub</td>\n",
       "      <td>...</td>\n",
       "      <td>0</td>\n",
       "      <td>NaN</td>\n",
       "      <td>NaN</td>\n",
       "      <td>NaN</td>\n",
       "      <td>0</td>\n",
       "      <td>5</td>\n",
       "      <td>2007</td>\n",
       "      <td>WD</td>\n",
       "      <td>Normal</td>\n",
       "      <td>181500</td>\n",
       "    </tr>\n",
       "    <tr>\n",
       "      <th>2</th>\n",
       "      <td>3</td>\n",
       "      <td>60</td>\n",
       "      <td>RL</td>\n",
       "      <td>68.0</td>\n",
       "      <td>11250</td>\n",
       "      <td>Pave</td>\n",
       "      <td>NaN</td>\n",
       "      <td>IR1</td>\n",
       "      <td>Lvl</td>\n",
       "      <td>AllPub</td>\n",
       "      <td>...</td>\n",
       "      <td>0</td>\n",
       "      <td>NaN</td>\n",
       "      <td>NaN</td>\n",
       "      <td>NaN</td>\n",
       "      <td>0</td>\n",
       "      <td>9</td>\n",
       "      <td>2008</td>\n",
       "      <td>WD</td>\n",
       "      <td>Normal</td>\n",
       "      <td>223500</td>\n",
       "    </tr>\n",
       "    <tr>\n",
       "      <th>3</th>\n",
       "      <td>4</td>\n",
       "      <td>70</td>\n",
       "      <td>RL</td>\n",
       "      <td>60.0</td>\n",
       "      <td>9550</td>\n",
       "      <td>Pave</td>\n",
       "      <td>NaN</td>\n",
       "      <td>IR1</td>\n",
       "      <td>Lvl</td>\n",
       "      <td>AllPub</td>\n",
       "      <td>...</td>\n",
       "      <td>0</td>\n",
       "      <td>NaN</td>\n",
       "      <td>NaN</td>\n",
       "      <td>NaN</td>\n",
       "      <td>0</td>\n",
       "      <td>2</td>\n",
       "      <td>2006</td>\n",
       "      <td>WD</td>\n",
       "      <td>Abnorml</td>\n",
       "      <td>140000</td>\n",
       "    </tr>\n",
       "    <tr>\n",
       "      <th>4</th>\n",
       "      <td>5</td>\n",
       "      <td>60</td>\n",
       "      <td>RL</td>\n",
       "      <td>84.0</td>\n",
       "      <td>14260</td>\n",
       "      <td>Pave</td>\n",
       "      <td>NaN</td>\n",
       "      <td>IR1</td>\n",
       "      <td>Lvl</td>\n",
       "      <td>AllPub</td>\n",
       "      <td>...</td>\n",
       "      <td>0</td>\n",
       "      <td>NaN</td>\n",
       "      <td>NaN</td>\n",
       "      <td>NaN</td>\n",
       "      <td>0</td>\n",
       "      <td>12</td>\n",
       "      <td>2008</td>\n",
       "      <td>WD</td>\n",
       "      <td>Normal</td>\n",
       "      <td>250000</td>\n",
       "    </tr>\n",
       "  </tbody>\n",
       "</table>\n",
       "<p>5 rows × 81 columns</p>\n",
       "</div>"
      ],
      "text/plain": [
       "   Id  MSSubClass MSZoning  LotFrontage  LotArea Street Alley LotShape  \\\n",
       "0   1          60       RL         65.0     8450   Pave   NaN      Reg   \n",
       "1   2          20       RL         80.0     9600   Pave   NaN      Reg   \n",
       "2   3          60       RL         68.0    11250   Pave   NaN      IR1   \n",
       "3   4          70       RL         60.0     9550   Pave   NaN      IR1   \n",
       "4   5          60       RL         84.0    14260   Pave   NaN      IR1   \n",
       "\n",
       "  LandContour Utilities  ... PoolArea PoolQC Fence MiscFeature MiscVal MoSold  \\\n",
       "0         Lvl    AllPub  ...        0    NaN   NaN         NaN       0      2   \n",
       "1         Lvl    AllPub  ...        0    NaN   NaN         NaN       0      5   \n",
       "2         Lvl    AllPub  ...        0    NaN   NaN         NaN       0      9   \n",
       "3         Lvl    AllPub  ...        0    NaN   NaN         NaN       0      2   \n",
       "4         Lvl    AllPub  ...        0    NaN   NaN         NaN       0     12   \n",
       "\n",
       "  YrSold  SaleType  SaleCondition  SalePrice  \n",
       "0   2008        WD         Normal     208500  \n",
       "1   2007        WD         Normal     181500  \n",
       "2   2008        WD         Normal     223500  \n",
       "3   2006        WD        Abnorml     140000  \n",
       "4   2008        WD         Normal     250000  \n",
       "\n",
       "[5 rows x 81 columns]"
      ]
     },
     "execution_count": 4,
     "metadata": {},
     "output_type": "execute_result"
    }
   ],
   "source": [
    "House_train.head()"
   ]
  },
  {
   "cell_type": "code",
   "execution_count": 5,
   "id": "a9b2c9ef",
   "metadata": {
    "execution": {
     "iopub.execute_input": "2025-10-12T17:15:30.870783Z",
     "iopub.status.busy": "2025-10-12T17:15:30.870462Z",
     "iopub.status.idle": "2025-10-12T17:15:30.916551Z",
     "shell.execute_reply": "2025-10-12T17:15:30.914193Z"
    },
    "papermill": {
     "duration": 0.06969,
     "end_time": "2025-10-12T17:15:30.919594",
     "exception": false,
     "start_time": "2025-10-12T17:15:30.849904",
     "status": "completed"
    },
    "tags": []
   },
   "outputs": [
    {
     "name": "stdout",
     "output_type": "stream",
     "text": [
      "<class 'pandas.core.frame.DataFrame'>\n",
      "RangeIndex: 1460 entries, 0 to 1459\n",
      "Data columns (total 81 columns):\n",
      " #   Column         Non-Null Count  Dtype  \n",
      "---  ------         --------------  -----  \n",
      " 0   Id             1460 non-null   int64  \n",
      " 1   MSSubClass     1460 non-null   int64  \n",
      " 2   MSZoning       1460 non-null   object \n",
      " 3   LotFrontage    1201 non-null   float64\n",
      " 4   LotArea        1460 non-null   int64  \n",
      " 5   Street         1460 non-null   object \n",
      " 6   Alley          91 non-null     object \n",
      " 7   LotShape       1460 non-null   object \n",
      " 8   LandContour    1460 non-null   object \n",
      " 9   Utilities      1460 non-null   object \n",
      " 10  LotConfig      1460 non-null   object \n",
      " 11  LandSlope      1460 non-null   object \n",
      " 12  Neighborhood   1460 non-null   object \n",
      " 13  Condition1     1460 non-null   object \n",
      " 14  Condition2     1460 non-null   object \n",
      " 15  BldgType       1460 non-null   object \n",
      " 16  HouseStyle     1460 non-null   object \n",
      " 17  OverallQual    1460 non-null   int64  \n",
      " 18  OverallCond    1460 non-null   int64  \n",
      " 19  YearBuilt      1460 non-null   int64  \n",
      " 20  YearRemodAdd   1460 non-null   int64  \n",
      " 21  RoofStyle      1460 non-null   object \n",
      " 22  RoofMatl       1460 non-null   object \n",
      " 23  Exterior1st    1460 non-null   object \n",
      " 24  Exterior2nd    1460 non-null   object \n",
      " 25  MasVnrType     588 non-null    object \n",
      " 26  MasVnrArea     1452 non-null   float64\n",
      " 27  ExterQual      1460 non-null   object \n",
      " 28  ExterCond      1460 non-null   object \n",
      " 29  Foundation     1460 non-null   object \n",
      " 30  BsmtQual       1423 non-null   object \n",
      " 31  BsmtCond       1423 non-null   object \n",
      " 32  BsmtExposure   1422 non-null   object \n",
      " 33  BsmtFinType1   1423 non-null   object \n",
      " 34  BsmtFinSF1     1460 non-null   int64  \n",
      " 35  BsmtFinType2   1422 non-null   object \n",
      " 36  BsmtFinSF2     1460 non-null   int64  \n",
      " 37  BsmtUnfSF      1460 non-null   int64  \n",
      " 38  TotalBsmtSF    1460 non-null   int64  \n",
      " 39  Heating        1460 non-null   object \n",
      " 40  HeatingQC      1460 non-null   object \n",
      " 41  CentralAir     1460 non-null   object \n",
      " 42  Electrical     1459 non-null   object \n",
      " 43  1stFlrSF       1460 non-null   int64  \n",
      " 44  2ndFlrSF       1460 non-null   int64  \n",
      " 45  LowQualFinSF   1460 non-null   int64  \n",
      " 46  GrLivArea      1460 non-null   int64  \n",
      " 47  BsmtFullBath   1460 non-null   int64  \n",
      " 48  BsmtHalfBath   1460 non-null   int64  \n",
      " 49  FullBath       1460 non-null   int64  \n",
      " 50  HalfBath       1460 non-null   int64  \n",
      " 51  BedroomAbvGr   1460 non-null   int64  \n",
      " 52  KitchenAbvGr   1460 non-null   int64  \n",
      " 53  KitchenQual    1460 non-null   object \n",
      " 54  TotRmsAbvGrd   1460 non-null   int64  \n",
      " 55  Functional     1460 non-null   object \n",
      " 56  Fireplaces     1460 non-null   int64  \n",
      " 57  FireplaceQu    770 non-null    object \n",
      " 58  GarageType     1379 non-null   object \n",
      " 59  GarageYrBlt    1379 non-null   float64\n",
      " 60  GarageFinish   1379 non-null   object \n",
      " 61  GarageCars     1460 non-null   int64  \n",
      " 62  GarageArea     1460 non-null   int64  \n",
      " 63  GarageQual     1379 non-null   object \n",
      " 64  GarageCond     1379 non-null   object \n",
      " 65  PavedDrive     1460 non-null   object \n",
      " 66  WoodDeckSF     1460 non-null   int64  \n",
      " 67  OpenPorchSF    1460 non-null   int64  \n",
      " 68  EnclosedPorch  1460 non-null   int64  \n",
      " 69  3SsnPorch      1460 non-null   int64  \n",
      " 70  ScreenPorch    1460 non-null   int64  \n",
      " 71  PoolArea       1460 non-null   int64  \n",
      " 72  PoolQC         7 non-null      object \n",
      " 73  Fence          281 non-null    object \n",
      " 74  MiscFeature    54 non-null     object \n",
      " 75  MiscVal        1460 non-null   int64  \n",
      " 76  MoSold         1460 non-null   int64  \n",
      " 77  YrSold         1460 non-null   int64  \n",
      " 78  SaleType       1460 non-null   object \n",
      " 79  SaleCondition  1460 non-null   object \n",
      " 80  SalePrice      1460 non-null   int64  \n",
      "dtypes: float64(3), int64(35), object(43)\n",
      "memory usage: 924.0+ KB\n"
     ]
    }
   ],
   "source": [
    "House_train.info()"
   ]
  },
  {
   "cell_type": "code",
   "execution_count": 6,
   "id": "eac94ed5",
   "metadata": {
    "execution": {
     "iopub.execute_input": "2025-10-12T17:15:30.957942Z",
     "iopub.status.busy": "2025-10-12T17:15:30.957542Z",
     "iopub.status.idle": "2025-10-12T17:15:30.970798Z",
     "shell.execute_reply": "2025-10-12T17:15:30.969354Z"
    },
    "papermill": {
     "duration": 0.036357,
     "end_time": "2025-10-12T17:15:30.973613",
     "exception": false,
     "start_time": "2025-10-12T17:15:30.937256",
     "status": "completed"
    },
    "tags": []
   },
   "outputs": [
    {
     "data": {
      "text/plain": [
       "(1460, 81)"
      ]
     },
     "execution_count": 6,
     "metadata": {},
     "output_type": "execute_result"
    }
   ],
   "source": [
    "House_train.shape"
   ]
  },
  {
   "cell_type": "code",
   "execution_count": 7,
   "id": "f4c90ed0",
   "metadata": {
    "execution": {
     "iopub.execute_input": "2025-10-12T17:15:31.014609Z",
     "iopub.status.busy": "2025-10-12T17:15:31.014263Z",
     "iopub.status.idle": "2025-10-12T17:15:31.151058Z",
     "shell.execute_reply": "2025-10-12T17:15:31.149357Z"
    },
    "papermill": {
     "duration": 0.161926,
     "end_time": "2025-10-12T17:15:31.153395",
     "exception": false,
     "start_time": "2025-10-12T17:15:30.991469",
     "status": "completed"
    },
    "tags": []
   },
   "outputs": [
    {
     "data": {
      "text/html": [
       "<div>\n",
       "<style scoped>\n",
       "    .dataframe tbody tr th:only-of-type {\n",
       "        vertical-align: middle;\n",
       "    }\n",
       "\n",
       "    .dataframe tbody tr th {\n",
       "        vertical-align: top;\n",
       "    }\n",
       "\n",
       "    .dataframe thead th {\n",
       "        text-align: right;\n",
       "    }\n",
       "</style>\n",
       "<table border=\"1\" class=\"dataframe\">\n",
       "  <thead>\n",
       "    <tr style=\"text-align: right;\">\n",
       "      <th></th>\n",
       "      <th>Id</th>\n",
       "      <th>MSSubClass</th>\n",
       "      <th>LotFrontage</th>\n",
       "      <th>LotArea</th>\n",
       "      <th>OverallQual</th>\n",
       "      <th>OverallCond</th>\n",
       "      <th>YearBuilt</th>\n",
       "      <th>YearRemodAdd</th>\n",
       "      <th>MasVnrArea</th>\n",
       "      <th>BsmtFinSF1</th>\n",
       "      <th>...</th>\n",
       "      <th>WoodDeckSF</th>\n",
       "      <th>OpenPorchSF</th>\n",
       "      <th>EnclosedPorch</th>\n",
       "      <th>3SsnPorch</th>\n",
       "      <th>ScreenPorch</th>\n",
       "      <th>PoolArea</th>\n",
       "      <th>MiscVal</th>\n",
       "      <th>MoSold</th>\n",
       "      <th>YrSold</th>\n",
       "      <th>SalePrice</th>\n",
       "    </tr>\n",
       "  </thead>\n",
       "  <tbody>\n",
       "    <tr>\n",
       "      <th>count</th>\n",
       "      <td>1460.000000</td>\n",
       "      <td>1460.000000</td>\n",
       "      <td>1201.000000</td>\n",
       "      <td>1460.000000</td>\n",
       "      <td>1460.000000</td>\n",
       "      <td>1460.000000</td>\n",
       "      <td>1460.000000</td>\n",
       "      <td>1460.000000</td>\n",
       "      <td>1452.000000</td>\n",
       "      <td>1460.000000</td>\n",
       "      <td>...</td>\n",
       "      <td>1460.000000</td>\n",
       "      <td>1460.000000</td>\n",
       "      <td>1460.000000</td>\n",
       "      <td>1460.000000</td>\n",
       "      <td>1460.000000</td>\n",
       "      <td>1460.000000</td>\n",
       "      <td>1460.000000</td>\n",
       "      <td>1460.000000</td>\n",
       "      <td>1460.000000</td>\n",
       "      <td>1460.000000</td>\n",
       "    </tr>\n",
       "    <tr>\n",
       "      <th>mean</th>\n",
       "      <td>730.500000</td>\n",
       "      <td>56.897260</td>\n",
       "      <td>70.049958</td>\n",
       "      <td>10516.828082</td>\n",
       "      <td>6.099315</td>\n",
       "      <td>5.575342</td>\n",
       "      <td>1971.267808</td>\n",
       "      <td>1984.865753</td>\n",
       "      <td>103.685262</td>\n",
       "      <td>443.639726</td>\n",
       "      <td>...</td>\n",
       "      <td>94.244521</td>\n",
       "      <td>46.660274</td>\n",
       "      <td>21.954110</td>\n",
       "      <td>3.409589</td>\n",
       "      <td>15.060959</td>\n",
       "      <td>2.758904</td>\n",
       "      <td>43.489041</td>\n",
       "      <td>6.321918</td>\n",
       "      <td>2007.815753</td>\n",
       "      <td>180921.195890</td>\n",
       "    </tr>\n",
       "    <tr>\n",
       "      <th>std</th>\n",
       "      <td>421.610009</td>\n",
       "      <td>42.300571</td>\n",
       "      <td>24.284752</td>\n",
       "      <td>9981.264932</td>\n",
       "      <td>1.382997</td>\n",
       "      <td>1.112799</td>\n",
       "      <td>30.202904</td>\n",
       "      <td>20.645407</td>\n",
       "      <td>181.066207</td>\n",
       "      <td>456.098091</td>\n",
       "      <td>...</td>\n",
       "      <td>125.338794</td>\n",
       "      <td>66.256028</td>\n",
       "      <td>61.119149</td>\n",
       "      <td>29.317331</td>\n",
       "      <td>55.757415</td>\n",
       "      <td>40.177307</td>\n",
       "      <td>496.123024</td>\n",
       "      <td>2.703626</td>\n",
       "      <td>1.328095</td>\n",
       "      <td>79442.502883</td>\n",
       "    </tr>\n",
       "    <tr>\n",
       "      <th>min</th>\n",
       "      <td>1.000000</td>\n",
       "      <td>20.000000</td>\n",
       "      <td>21.000000</td>\n",
       "      <td>1300.000000</td>\n",
       "      <td>1.000000</td>\n",
       "      <td>1.000000</td>\n",
       "      <td>1872.000000</td>\n",
       "      <td>1950.000000</td>\n",
       "      <td>0.000000</td>\n",
       "      <td>0.000000</td>\n",
       "      <td>...</td>\n",
       "      <td>0.000000</td>\n",
       "      <td>0.000000</td>\n",
       "      <td>0.000000</td>\n",
       "      <td>0.000000</td>\n",
       "      <td>0.000000</td>\n",
       "      <td>0.000000</td>\n",
       "      <td>0.000000</td>\n",
       "      <td>1.000000</td>\n",
       "      <td>2006.000000</td>\n",
       "      <td>34900.000000</td>\n",
       "    </tr>\n",
       "    <tr>\n",
       "      <th>25%</th>\n",
       "      <td>365.750000</td>\n",
       "      <td>20.000000</td>\n",
       "      <td>59.000000</td>\n",
       "      <td>7553.500000</td>\n",
       "      <td>5.000000</td>\n",
       "      <td>5.000000</td>\n",
       "      <td>1954.000000</td>\n",
       "      <td>1967.000000</td>\n",
       "      <td>0.000000</td>\n",
       "      <td>0.000000</td>\n",
       "      <td>...</td>\n",
       "      <td>0.000000</td>\n",
       "      <td>0.000000</td>\n",
       "      <td>0.000000</td>\n",
       "      <td>0.000000</td>\n",
       "      <td>0.000000</td>\n",
       "      <td>0.000000</td>\n",
       "      <td>0.000000</td>\n",
       "      <td>5.000000</td>\n",
       "      <td>2007.000000</td>\n",
       "      <td>129975.000000</td>\n",
       "    </tr>\n",
       "    <tr>\n",
       "      <th>50%</th>\n",
       "      <td>730.500000</td>\n",
       "      <td>50.000000</td>\n",
       "      <td>69.000000</td>\n",
       "      <td>9478.500000</td>\n",
       "      <td>6.000000</td>\n",
       "      <td>5.000000</td>\n",
       "      <td>1973.000000</td>\n",
       "      <td>1994.000000</td>\n",
       "      <td>0.000000</td>\n",
       "      <td>383.500000</td>\n",
       "      <td>...</td>\n",
       "      <td>0.000000</td>\n",
       "      <td>25.000000</td>\n",
       "      <td>0.000000</td>\n",
       "      <td>0.000000</td>\n",
       "      <td>0.000000</td>\n",
       "      <td>0.000000</td>\n",
       "      <td>0.000000</td>\n",
       "      <td>6.000000</td>\n",
       "      <td>2008.000000</td>\n",
       "      <td>163000.000000</td>\n",
       "    </tr>\n",
       "    <tr>\n",
       "      <th>75%</th>\n",
       "      <td>1095.250000</td>\n",
       "      <td>70.000000</td>\n",
       "      <td>80.000000</td>\n",
       "      <td>11601.500000</td>\n",
       "      <td>7.000000</td>\n",
       "      <td>6.000000</td>\n",
       "      <td>2000.000000</td>\n",
       "      <td>2004.000000</td>\n",
       "      <td>166.000000</td>\n",
       "      <td>712.250000</td>\n",
       "      <td>...</td>\n",
       "      <td>168.000000</td>\n",
       "      <td>68.000000</td>\n",
       "      <td>0.000000</td>\n",
       "      <td>0.000000</td>\n",
       "      <td>0.000000</td>\n",
       "      <td>0.000000</td>\n",
       "      <td>0.000000</td>\n",
       "      <td>8.000000</td>\n",
       "      <td>2009.000000</td>\n",
       "      <td>214000.000000</td>\n",
       "    </tr>\n",
       "    <tr>\n",
       "      <th>max</th>\n",
       "      <td>1460.000000</td>\n",
       "      <td>190.000000</td>\n",
       "      <td>313.000000</td>\n",
       "      <td>215245.000000</td>\n",
       "      <td>10.000000</td>\n",
       "      <td>9.000000</td>\n",
       "      <td>2010.000000</td>\n",
       "      <td>2010.000000</td>\n",
       "      <td>1600.000000</td>\n",
       "      <td>5644.000000</td>\n",
       "      <td>...</td>\n",
       "      <td>857.000000</td>\n",
       "      <td>547.000000</td>\n",
       "      <td>552.000000</td>\n",
       "      <td>508.000000</td>\n",
       "      <td>480.000000</td>\n",
       "      <td>738.000000</td>\n",
       "      <td>15500.000000</td>\n",
       "      <td>12.000000</td>\n",
       "      <td>2010.000000</td>\n",
       "      <td>755000.000000</td>\n",
       "    </tr>\n",
       "  </tbody>\n",
       "</table>\n",
       "<p>8 rows × 38 columns</p>\n",
       "</div>"
      ],
      "text/plain": [
       "                Id   MSSubClass  LotFrontage        LotArea  OverallQual  \\\n",
       "count  1460.000000  1460.000000  1201.000000    1460.000000  1460.000000   \n",
       "mean    730.500000    56.897260    70.049958   10516.828082     6.099315   \n",
       "std     421.610009    42.300571    24.284752    9981.264932     1.382997   \n",
       "min       1.000000    20.000000    21.000000    1300.000000     1.000000   \n",
       "25%     365.750000    20.000000    59.000000    7553.500000     5.000000   \n",
       "50%     730.500000    50.000000    69.000000    9478.500000     6.000000   \n",
       "75%    1095.250000    70.000000    80.000000   11601.500000     7.000000   \n",
       "max    1460.000000   190.000000   313.000000  215245.000000    10.000000   \n",
       "\n",
       "       OverallCond    YearBuilt  YearRemodAdd   MasVnrArea   BsmtFinSF1  ...  \\\n",
       "count  1460.000000  1460.000000   1460.000000  1452.000000  1460.000000  ...   \n",
       "mean      5.575342  1971.267808   1984.865753   103.685262   443.639726  ...   \n",
       "std       1.112799    30.202904     20.645407   181.066207   456.098091  ...   \n",
       "min       1.000000  1872.000000   1950.000000     0.000000     0.000000  ...   \n",
       "25%       5.000000  1954.000000   1967.000000     0.000000     0.000000  ...   \n",
       "50%       5.000000  1973.000000   1994.000000     0.000000   383.500000  ...   \n",
       "75%       6.000000  2000.000000   2004.000000   166.000000   712.250000  ...   \n",
       "max       9.000000  2010.000000   2010.000000  1600.000000  5644.000000  ...   \n",
       "\n",
       "        WoodDeckSF  OpenPorchSF  EnclosedPorch    3SsnPorch  ScreenPorch  \\\n",
       "count  1460.000000  1460.000000    1460.000000  1460.000000  1460.000000   \n",
       "mean     94.244521    46.660274      21.954110     3.409589    15.060959   \n",
       "std     125.338794    66.256028      61.119149    29.317331    55.757415   \n",
       "min       0.000000     0.000000       0.000000     0.000000     0.000000   \n",
       "25%       0.000000     0.000000       0.000000     0.000000     0.000000   \n",
       "50%       0.000000    25.000000       0.000000     0.000000     0.000000   \n",
       "75%     168.000000    68.000000       0.000000     0.000000     0.000000   \n",
       "max     857.000000   547.000000     552.000000   508.000000   480.000000   \n",
       "\n",
       "          PoolArea       MiscVal       MoSold       YrSold      SalePrice  \n",
       "count  1460.000000   1460.000000  1460.000000  1460.000000    1460.000000  \n",
       "mean      2.758904     43.489041     6.321918  2007.815753  180921.195890  \n",
       "std      40.177307    496.123024     2.703626     1.328095   79442.502883  \n",
       "min       0.000000      0.000000     1.000000  2006.000000   34900.000000  \n",
       "25%       0.000000      0.000000     5.000000  2007.000000  129975.000000  \n",
       "50%       0.000000      0.000000     6.000000  2008.000000  163000.000000  \n",
       "75%       0.000000      0.000000     8.000000  2009.000000  214000.000000  \n",
       "max     738.000000  15500.000000    12.000000  2010.000000  755000.000000  \n",
       "\n",
       "[8 rows x 38 columns]"
      ]
     },
     "execution_count": 7,
     "metadata": {},
     "output_type": "execute_result"
    }
   ],
   "source": [
    "House_train.describe()"
   ]
  },
  {
   "cell_type": "code",
   "execution_count": 8,
   "id": "f2e857fe",
   "metadata": {
    "execution": {
     "iopub.execute_input": "2025-10-12T17:15:31.199679Z",
     "iopub.status.busy": "2025-10-12T17:15:31.198685Z",
     "iopub.status.idle": "2025-10-12T17:15:31.208508Z",
     "shell.execute_reply": "2025-10-12T17:15:31.206484Z"
    },
    "papermill": {
     "duration": 0.034244,
     "end_time": "2025-10-12T17:15:31.210948",
     "exception": false,
     "start_time": "2025-10-12T17:15:31.176704",
     "status": "completed"
    },
    "tags": []
   },
   "outputs": [
    {
     "data": {
      "text/plain": [
       "Index(['Id', 'MSSubClass', 'MSZoning', 'LotFrontage', 'LotArea', 'Street',\n",
       "       'Alley', 'LotShape', 'LandContour', 'Utilities', 'LotConfig',\n",
       "       'LandSlope', 'Neighborhood', 'Condition1', 'Condition2', 'BldgType',\n",
       "       'HouseStyle', 'OverallQual', 'OverallCond', 'YearBuilt', 'YearRemodAdd',\n",
       "       'RoofStyle', 'RoofMatl', 'Exterior1st', 'Exterior2nd', 'MasVnrType',\n",
       "       'MasVnrArea', 'ExterQual', 'ExterCond', 'Foundation', 'BsmtQual',\n",
       "       'BsmtCond', 'BsmtExposure', 'BsmtFinType1', 'BsmtFinSF1',\n",
       "       'BsmtFinType2', 'BsmtFinSF2', 'BsmtUnfSF', 'TotalBsmtSF', 'Heating',\n",
       "       'HeatingQC', 'CentralAir', 'Electrical', '1stFlrSF', '2ndFlrSF',\n",
       "       'LowQualFinSF', 'GrLivArea', 'BsmtFullBath', 'BsmtHalfBath', 'FullBath',\n",
       "       'HalfBath', 'BedroomAbvGr', 'KitchenAbvGr', 'KitchenQual',\n",
       "       'TotRmsAbvGrd', 'Functional', 'Fireplaces', 'FireplaceQu', 'GarageType',\n",
       "       'GarageYrBlt', 'GarageFinish', 'GarageCars', 'GarageArea', 'GarageQual',\n",
       "       'GarageCond', 'PavedDrive', 'WoodDeckSF', 'OpenPorchSF',\n",
       "       'EnclosedPorch', '3SsnPorch', 'ScreenPorch', 'PoolArea', 'PoolQC',\n",
       "       'Fence', 'MiscFeature', 'MiscVal', 'MoSold', 'YrSold', 'SaleType',\n",
       "       'SaleCondition', 'SalePrice'],\n",
       "      dtype='object')"
      ]
     },
     "execution_count": 8,
     "metadata": {},
     "output_type": "execute_result"
    }
   ],
   "source": [
    "House_train.columns"
   ]
  },
  {
   "cell_type": "markdown",
   "id": "517693ec",
   "metadata": {
    "papermill": {
     "duration": 0.0212,
     "end_time": "2025-10-12T17:15:31.254899",
     "exception": false,
     "start_time": "2025-10-12T17:15:31.233699",
     "status": "completed"
    },
    "tags": []
   },
   "source": [
    "### **Nulls for Train data**"
   ]
  },
  {
   "cell_type": "code",
   "execution_count": 9,
   "id": "4596a7a6",
   "metadata": {
    "execution": {
     "iopub.execute_input": "2025-10-12T17:15:31.305351Z",
     "iopub.status.busy": "2025-10-12T17:15:31.304992Z",
     "iopub.status.idle": "2025-10-12T17:15:31.322250Z",
     "shell.execute_reply": "2025-10-12T17:15:31.319746Z"
    },
    "papermill": {
     "duration": 0.04905,
     "end_time": "2025-10-12T17:15:31.326448",
     "exception": false,
     "start_time": "2025-10-12T17:15:31.277398",
     "status": "completed"
    },
    "tags": []
   },
   "outputs": [
    {
     "data": {
      "text/plain": [
       "Id                 0\n",
       "MSSubClass         0\n",
       "MSZoning           0\n",
       "LotFrontage      259\n",
       "LotArea            0\n",
       "                ... \n",
       "MoSold             0\n",
       "YrSold             0\n",
       "SaleType           0\n",
       "SaleCondition      0\n",
       "SalePrice          0\n",
       "Length: 81, dtype: int64"
      ]
     },
     "execution_count": 9,
     "metadata": {},
     "output_type": "execute_result"
    }
   ],
   "source": [
    "House_train.isnull().sum()"
   ]
  },
  {
   "cell_type": "markdown",
   "id": "3172110c",
   "metadata": {
    "papermill": {
     "duration": 0.025893,
     "end_time": "2025-10-12T17:15:31.385056",
     "exception": false,
     "start_time": "2025-10-12T17:15:31.359163",
     "status": "completed"
    },
    "tags": []
   },
   "source": [
    "To extract all columns which have Nulls :"
   ]
  },
  {
   "cell_type": "code",
   "execution_count": 10,
   "id": "96b54208",
   "metadata": {
    "execution": {
     "iopub.execute_input": "2025-10-12T17:15:31.430906Z",
     "iopub.status.busy": "2025-10-12T17:15:31.430233Z",
     "iopub.status.idle": "2025-10-12T17:15:31.455294Z",
     "shell.execute_reply": "2025-10-12T17:15:31.453985Z"
    },
    "papermill": {
     "duration": 0.05151,
     "end_time": "2025-10-12T17:15:31.457207",
     "exception": false,
     "start_time": "2025-10-12T17:15:31.405697",
     "status": "completed"
    },
    "tags": []
   },
   "outputs": [
    {
     "name": "stdout",
     "output_type": "stream",
     "text": [
      "LotFrontage contain : (259) Null\n",
      "Alley contain : (1369) Null\n",
      "MasVnrType contain : (872) Null\n",
      "MasVnrArea contain : (8) Null\n",
      "BsmtQual contain : (37) Null\n",
      "BsmtCond contain : (37) Null\n",
      "BsmtExposure contain : (38) Null\n",
      "BsmtFinType1 contain : (37) Null\n",
      "BsmtFinType2 contain : (38) Null\n",
      "Electrical contain : (1) Null\n",
      "FireplaceQu contain : (690) Null\n",
      "GarageType contain : (81) Null\n",
      "GarageYrBlt contain : (81) Null\n",
      "GarageFinish contain : (81) Null\n",
      "GarageQual contain : (81) Null\n",
      "GarageCond contain : (81) Null\n",
      "PoolQC contain : (1453) Null\n",
      "Fence contain : (1179) Null\n",
      "MiscFeature contain : (1406) Null\n"
     ]
    }
   ],
   "source": [
    "for col in House_train.columns:\n",
    "    if House_train[col].isnull().sum() != 0:\n",
    "        print(f'{col} contain : ({House_train[col].isnull().sum()}) Null')"
   ]
  },
  {
   "cell_type": "markdown",
   "id": "5b6d0d50",
   "metadata": {
    "papermill": {
     "duration": 0.019961,
     "end_time": "2025-10-12T17:15:31.498716",
     "exception": false,
     "start_time": "2025-10-12T17:15:31.478755",
     "status": "completed"
    },
    "tags": []
   },
   "source": [
    "To keep Id columns found becaue we need it for submission file:"
   ]
  },
  {
   "cell_type": "code",
   "execution_count": 11,
   "id": "f62c0d5f",
   "metadata": {
    "execution": {
     "iopub.execute_input": "2025-10-12T17:15:31.537496Z",
     "iopub.status.busy": "2025-10-12T17:15:31.537108Z",
     "iopub.status.idle": "2025-10-12T17:15:31.542995Z",
     "shell.execute_reply": "2025-10-12T17:15:31.541736Z"
    },
    "papermill": {
     "duration": 0.028859,
     "end_time": "2025-10-12T17:15:31.545979",
     "exception": false,
     "start_time": "2025-10-12T17:15:31.517120",
     "status": "completed"
    },
    "tags": []
   },
   "outputs": [],
   "source": [
    "Train_Id = House_train['Id'].copy()"
   ]
  },
  {
   "cell_type": "markdown",
   "id": "950bd6bf",
   "metadata": {
    "papermill": {
     "duration": 0.019921,
     "end_time": "2025-10-12T17:15:31.584435",
     "exception": false,
     "start_time": "2025-10-12T17:15:31.564514",
     "status": "completed"
    },
    "tags": []
   },
   "source": [
    "To remove non important columns and columns which have more than 85% Nulls:"
   ]
  },
  {
   "cell_type": "code",
   "execution_count": 12,
   "id": "d22ab07a",
   "metadata": {
    "execution": {
     "iopub.execute_input": "2025-10-12T17:15:31.625496Z",
     "iopub.status.busy": "2025-10-12T17:15:31.625173Z",
     "iopub.status.idle": "2025-10-12T17:15:31.631518Z",
     "shell.execute_reply": "2025-10-12T17:15:31.630532Z"
    },
    "papermill": {
     "duration": 0.029886,
     "end_time": "2025-10-12T17:15:31.633279",
     "exception": false,
     "start_time": "2025-10-12T17:15:31.603393",
     "status": "completed"
    },
    "tags": []
   },
   "outputs": [],
   "source": [
    "House_train = House_train.drop(['MiscFeature','Fence','PoolQC','Alley','Id'],axis=1)"
   ]
  },
  {
   "cell_type": "code",
   "execution_count": 13,
   "id": "0bc9a424",
   "metadata": {
    "execution": {
     "iopub.execute_input": "2025-10-12T17:15:31.674418Z",
     "iopub.status.busy": "2025-10-12T17:15:31.673657Z",
     "iopub.status.idle": "2025-10-12T17:15:31.711766Z",
     "shell.execute_reply": "2025-10-12T17:15:31.709710Z"
    },
    "papermill": {
     "duration": 0.061205,
     "end_time": "2025-10-12T17:15:31.714974",
     "exception": false,
     "start_time": "2025-10-12T17:15:31.653769",
     "status": "completed"
    },
    "tags": []
   },
   "outputs": [
    {
     "name": "stdout",
     "output_type": "stream",
     "text": [
      "LotFrontage contain : (259) Null\n",
      "MasVnrType contain : (872) Null\n",
      "MasVnrArea contain : (8) Null\n",
      "BsmtQual contain : (37) Null\n",
      "BsmtCond contain : (37) Null\n",
      "BsmtExposure contain : (38) Null\n",
      "BsmtFinType1 contain : (37) Null\n",
      "BsmtFinType2 contain : (38) Null\n",
      "Electrical contain : (1) Null\n",
      "FireplaceQu contain : (690) Null\n",
      "GarageType contain : (81) Null\n",
      "GarageYrBlt contain : (81) Null\n",
      "GarageFinish contain : (81) Null\n",
      "GarageQual contain : (81) Null\n",
      "GarageCond contain : (81) Null\n"
     ]
    }
   ],
   "source": [
    "for col in House_train.columns:\n",
    "    if House_train[col].isnull().sum() != 0:\n",
    "        print(f'{col} contain : ({House_train[col].isnull().sum()}) Null')"
   ]
  },
  {
   "cell_type": "markdown",
   "id": "9524a7ee",
   "metadata": {
    "papermill": {
     "duration": 0.017146,
     "end_time": "2025-10-12T17:15:31.750502",
     "exception": false,
     "start_time": "2025-10-12T17:15:31.733356",
     "status": "completed"
    },
    "tags": []
   },
   "source": [
    "To remove Nulls at Numerical columns we use this code:"
   ]
  },
  {
   "cell_type": "code",
   "execution_count": 14,
   "id": "81aaf9b7",
   "metadata": {
    "execution": {
     "iopub.execute_input": "2025-10-12T17:15:31.790004Z",
     "iopub.status.busy": "2025-10-12T17:15:31.789658Z",
     "iopub.status.idle": "2025-10-12T17:15:31.806575Z",
     "shell.execute_reply": "2025-10-12T17:15:31.805284Z"
    },
    "papermill": {
     "duration": 0.038537,
     "end_time": "2025-10-12T17:15:31.808461",
     "exception": false,
     "start_time": "2025-10-12T17:15:31.769924",
     "status": "completed"
    },
    "tags": []
   },
   "outputs": [],
   "source": [
    "numeric_cols = House_train.select_dtypes(include=['int64','float64']).columns.tolist()\n",
    "\n",
    "for col in numeric_cols:\n",
    "    if col in House_train.columns:\n",
    "        House_train[col].fillna(House_train[col].median(), inplace=True)"
   ]
  },
  {
   "cell_type": "markdown",
   "id": "6365685b",
   "metadata": {
    "papermill": {
     "duration": 0.01994,
     "end_time": "2025-10-12T17:15:31.846537",
     "exception": false,
     "start_time": "2025-10-12T17:15:31.826597",
     "status": "completed"
    },
    "tags": []
   },
   "source": [
    "To remove Nulls at Categorical columns we use this code:"
   ]
  },
  {
   "cell_type": "code",
   "execution_count": 15,
   "id": "4755ac1c",
   "metadata": {
    "execution": {
     "iopub.execute_input": "2025-10-12T17:15:31.885987Z",
     "iopub.status.busy": "2025-10-12T17:15:31.885625Z",
     "iopub.status.idle": "2025-10-12T17:15:31.906172Z",
     "shell.execute_reply": "2025-10-12T17:15:31.904423Z"
    },
    "papermill": {
     "duration": 0.042341,
     "end_time": "2025-10-12T17:15:31.908313",
     "exception": false,
     "start_time": "2025-10-12T17:15:31.865972",
     "status": "completed"
    },
    "tags": []
   },
   "outputs": [],
   "source": [
    "categorical_cols = ['MasVnrType','BsmtQual','BsmtCond','BsmtExposure','BsmtFinType1',\n",
    "                    'BsmtFinType2','Electrical','FireplaceQu','GarageType','GarageFinish',\n",
    "                    'GarageQual']\n",
    "\n",
    "for col in categorical_cols:\n",
    "    if col in House_train.columns:\n",
    "        # fill Nulls by mode\n",
    "        most_frequent = House_train[col].mode()[0]\n",
    "        House_train[col].fillna(most_frequent, inplace=True)"
   ]
  },
  {
   "cell_type": "code",
   "execution_count": 16,
   "id": "6a91905e",
   "metadata": {
    "execution": {
     "iopub.execute_input": "2025-10-12T17:15:31.946023Z",
     "iopub.status.busy": "2025-10-12T17:15:31.945521Z",
     "iopub.status.idle": "2025-10-12T17:15:31.952890Z",
     "shell.execute_reply": "2025-10-12T17:15:31.951652Z"
    },
    "papermill": {
     "duration": 0.028258,
     "end_time": "2025-10-12T17:15:31.954694",
     "exception": false,
     "start_time": "2025-10-12T17:15:31.926436",
     "status": "completed"
    },
    "tags": []
   },
   "outputs": [],
   "source": [
    "House_train['GarageCond'] = House_train['GarageCond'].astype(str).str.strip()"
   ]
  },
  {
   "cell_type": "code",
   "execution_count": 17,
   "id": "379850b0",
   "metadata": {
    "execution": {
     "iopub.execute_input": "2025-10-12T17:15:31.995067Z",
     "iopub.status.busy": "2025-10-12T17:15:31.994700Z",
     "iopub.status.idle": "2025-10-12T17:15:32.003130Z",
     "shell.execute_reply": "2025-10-12T17:15:32.002000Z"
    },
    "papermill": {
     "duration": 0.032788,
     "end_time": "2025-10-12T17:15:32.005519",
     "exception": false,
     "start_time": "2025-10-12T17:15:31.972731",
     "status": "completed"
    },
    "tags": []
   },
   "outputs": [],
   "source": [
    "# replace nan by None\n",
    "House_train['GarageCond'].replace('nan', 'None', inplace=True)"
   ]
  },
  {
   "cell_type": "markdown",
   "id": "891eff44",
   "metadata": {
    "papermill": {
     "duration": 0.017218,
     "end_time": "2025-10-12T17:15:32.042216",
     "exception": false,
     "start_time": "2025-10-12T17:15:32.024998",
     "status": "completed"
    },
    "tags": []
   },
   "source": [
    "To check if there is found any Nulls at data:"
   ]
  },
  {
   "cell_type": "code",
   "execution_count": 18,
   "id": "947f0734",
   "metadata": {
    "execution": {
     "iopub.execute_input": "2025-10-12T17:15:32.080660Z",
     "iopub.status.busy": "2025-10-12T17:15:32.080311Z",
     "iopub.status.idle": "2025-10-12T17:15:32.093552Z",
     "shell.execute_reply": "2025-10-12T17:15:32.090722Z"
    },
    "papermill": {
     "duration": 0.037133,
     "end_time": "2025-10-12T17:15:32.096893",
     "exception": false,
     "start_time": "2025-10-12T17:15:32.059760",
     "status": "completed"
    },
    "tags": []
   },
   "outputs": [
    {
     "name": "stdout",
     "output_type": "stream",
     "text": [
      "No Nulls Found\n"
     ]
    }
   ],
   "source": [
    "Nulls_col = House_train.isnull().sum()\n",
    "if Nulls_col.any():\n",
    "    print(Nulls_col[Nulls_col != 0])\n",
    "else:\n",
    "    print('No Nulls Found')"
   ]
  },
  {
   "cell_type": "markdown",
   "id": "2fb7c753",
   "metadata": {
    "papermill": {
     "duration": 0.02414,
     "end_time": "2025-10-12T17:15:32.146741",
     "exception": false,
     "start_time": "2025-10-12T17:15:32.122601",
     "status": "completed"
    },
    "tags": []
   },
   "source": [
    "### **Outliers for Train data**"
   ]
  },
  {
   "cell_type": "markdown",
   "id": "ea600d8b",
   "metadata": {
    "papermill": {
     "duration": 0.019376,
     "end_time": "2025-10-12T17:15:32.188627",
     "exception": false,
     "start_time": "2025-10-12T17:15:32.169251",
     "status": "completed"
    },
    "tags": []
   },
   "source": [
    "Visualization by Boxplot to all Numerical Columns:"
   ]
  },
  {
   "cell_type": "code",
   "execution_count": 19,
   "id": "d920b8ed",
   "metadata": {
    "execution": {
     "iopub.execute_input": "2025-10-12T17:15:32.232098Z",
     "iopub.status.busy": "2025-10-12T17:15:32.231727Z",
     "iopub.status.idle": "2025-10-12T17:15:33.152760Z",
     "shell.execute_reply": "2025-10-12T17:15:33.151233Z"
    },
    "papermill": {
     "duration": 0.94589,
     "end_time": "2025-10-12T17:15:33.156619",
     "exception": false,
     "start_time": "2025-10-12T17:15:32.210729",
     "status": "completed"
    },
    "tags": []
   },
   "outputs": [
    {
     "data": {
      "image/png": "[encoded data removed]",
      "text/plain": [
       "<Figure size 1500x800 with 1 Axes>"
      ]
     },
     "metadata": {},
     "output_type": "display_data"
    }
   ],
   "source": [
    "Numerical_columns = House_train.select_dtypes(include=['int64', 'float64']).columns.tolist()\n",
    "\n",
    "House_train[Numerical_columns].boxplot(figsize=(15,8), rot=45)\n",
    "plt.title(\"Boxplot of Numerical Columns\")\n",
    "plt.show()"
   ]
  },
  {
   "cell_type": "markdown",
   "id": "55d88d56",
   "metadata": {
    "papermill": {
     "duration": 0.022767,
     "end_time": "2025-10-12T17:15:33.210733",
     "exception": false,
     "start_time": "2025-10-12T17:15:33.187966",
     "status": "completed"
    },
    "tags": []
   },
   "source": [
    "To show outliers by using Boxplot of **LotFrontage**:"
   ]
  },
  {
   "cell_type": "code",
   "execution_count": 20,
   "id": "bb82cc01",
   "metadata": {
    "execution": {
     "iopub.execute_input": "2025-10-12T17:15:33.266056Z",
     "iopub.status.busy": "2025-10-12T17:15:33.265663Z",
     "iopub.status.idle": "2025-10-12T17:15:33.415636Z",
     "shell.execute_reply": "2025-10-12T17:15:33.414401Z"
    },
    "papermill": {
     "duration": 0.179744,
     "end_time": "2025-10-12T17:15:33.417615",
     "exception": false,
     "start_time": "2025-10-12T17:15:33.237871",
     "status": "completed"
    },
    "tags": []
   },
   "outputs": [
    {
     "data": {
      "image/png": "[encoded data removed]",
      "text/plain": [
       "<Figure size 640x480 with 1 Axes>"
      ]
     },
     "metadata": {},
     "output_type": "display_data"
    }
   ],
   "source": [
    "plt.boxplot(House_train['LotFrontage'])\n",
    "plt.axis = ['equal']"
   ]
  },
  {
   "cell_type": "markdown",
   "id": "1748f475",
   "metadata": {
    "papermill": {
     "duration": 0.019861,
     "end_time": "2025-10-12T17:15:33.458339",
     "exception": false,
     "start_time": "2025-10-12T17:15:33.438478",
     "status": "completed"
    },
    "tags": []
   },
   "source": [
    "To remove Outliers by using **IQR**:"
   ]
  },
  {
   "cell_type": "code",
   "execution_count": 21,
   "id": "ee7bff49",
   "metadata": {
    "execution": {
     "iopub.execute_input": "2025-10-12T17:15:33.500752Z",
     "iopub.status.busy": "2025-10-12T17:15:33.500455Z",
     "iopub.status.idle": "2025-10-12T17:15:33.511143Z",
     "shell.execute_reply": "2025-10-12T17:15:33.509859Z"
    },
    "papermill": {
     "duration": 0.033301,
     "end_time": "2025-10-12T17:15:33.513163",
     "exception": false,
     "start_time": "2025-10-12T17:15:33.479862",
     "status": "completed"
    },
    "tags": []
   },
   "outputs": [],
   "source": [
    "x = 'LotFrontage'\n",
    "q75,q25 = np.percentile(House_train.loc[:,x],[75,25])\n",
    "IQR = q75 - q25\n",
    "Upper = q75 + (1.4  * IQR)\n",
    "Lower = q25 - (1.5 *  IQR)\n",
    "House_train.loc[House_train[x] < Lower,x ]= np.nan\n",
    "House_train.loc[House_train[x] > Upper,x ]= np.nan"
   ]
  },
  {
   "cell_type": "markdown",
   "id": "7e88ed01",
   "metadata": {
    "papermill": {
     "duration": 0.019246,
     "end_time": "2025-10-12T17:15:33.553128",
     "exception": false,
     "start_time": "2025-10-12T17:15:33.533882",
     "status": "completed"
    },
    "tags": []
   },
   "source": [
    "To rerplace Nan Outliers to median:"
   ]
  },
  {
   "cell_type": "code",
   "execution_count": 22,
   "id": "ac850eaf",
   "metadata": {
    "execution": {
     "iopub.execute_input": "2025-10-12T17:15:33.594048Z",
     "iopub.status.busy": "2025-10-12T17:15:33.593540Z",
     "iopub.status.idle": "2025-10-12T17:15:33.600367Z",
     "shell.execute_reply": "2025-10-12T17:15:33.599271Z"
    },
    "papermill": {
     "duration": 0.029764,
     "end_time": "2025-10-12T17:15:33.602399",
     "exception": false,
     "start_time": "2025-10-12T17:15:33.572635",
     "status": "completed"
    },
    "tags": []
   },
   "outputs": [],
   "source": [
    "House_train['LotFrontage'].fillna(House_train['LotFrontage'].median(), inplace=True)"
   ]
  },
  {
   "cell_type": "markdown",
   "id": "406dda4e",
   "metadata": {
    "papermill": {
     "duration": 0.019133,
     "end_time": "2025-10-12T17:15:33.640895",
     "exception": false,
     "start_time": "2025-10-12T17:15:33.621762",
     "status": "completed"
    },
    "tags": []
   },
   "source": [
    "To show Boxplot to **LotFrontage** after removing Outliers:"
   ]
  },
  {
   "cell_type": "code",
   "execution_count": 23,
   "id": "288d0363",
   "metadata": {
    "execution": {
     "iopub.execute_input": "2025-10-12T17:15:33.683131Z",
     "iopub.status.busy": "2025-10-12T17:15:33.682764Z",
     "iopub.status.idle": "2025-10-12T17:15:33.826927Z",
     "shell.execute_reply": "2025-10-12T17:15:33.825703Z"
    },
    "papermill": {
     "duration": 0.167864,
     "end_time": "2025-10-12T17:15:33.828818",
     "exception": false,
     "start_time": "2025-10-12T17:15:33.660954",
     "status": "completed"
    },
    "tags": []
   },
   "outputs": [
    {
     "data": {
      "image/png": "[encoded data removed]",
      "text/plain": [
       "<Figure size 640x480 with 1 Axes>"
      ]
     },
     "metadata": {},
     "output_type": "display_data"
    }
   ],
   "source": [
    "plt.boxplot(House_train['LotFrontage'])\n",
    "plt.axis = ['equal']"
   ]
  },
  {
   "cell_type": "markdown",
   "id": "51d2d1bb",
   "metadata": {
    "papermill": {
     "duration": 0.020036,
     "end_time": "2025-10-12T17:15:33.871253",
     "exception": false,
     "start_time": "2025-10-12T17:15:33.851217",
     "status": "completed"
    },
    "tags": []
   },
   "source": [
    "To show outliers by using Boxplot of **SalePrice**:"
   ]
  },
  {
   "cell_type": "code",
   "execution_count": 24,
   "id": "e04a1782",
   "metadata": {
    "execution": {
     "iopub.execute_input": "2025-10-12T17:15:33.914737Z",
     "iopub.status.busy": "2025-10-12T17:15:33.913700Z",
     "iopub.status.idle": "2025-10-12T17:15:34.052209Z",
     "shell.execute_reply": "2025-10-12T17:15:34.051160Z"
    },
    "papermill": {
     "duration": 0.161284,
     "end_time": "2025-10-12T17:15:34.053783",
     "exception": false,
     "start_time": "2025-10-12T17:15:33.892499",
     "status": "completed"
    },
    "tags": []
   },
   "outputs": [
    {
     "data": {
      "image/png": "[encoded data removed]",
      "text/plain": [
       "<Figure size 640x480 with 1 Axes>"
      ]
     },
     "metadata": {},
     "output_type": "display_data"
    }
   ],
   "source": [
    "plt.boxplot(House_train['SalePrice'])\n",
    "plt.axis = ['equal']"
   ]
  },
  {
   "cell_type": "markdown",
   "id": "71a191f4",
   "metadata": {
    "papermill": {
     "duration": 0.020342,
     "end_time": "2025-10-12T17:15:34.094439",
     "exception": false,
     "start_time": "2025-10-12T17:15:34.074097",
     "status": "completed"
    },
    "tags": []
   },
   "source": [
    "To remove Outliers by using **IQR:**"
   ]
  },
  {
   "cell_type": "code",
   "execution_count": 25,
   "id": "03b7376f",
   "metadata": {
    "execution": {
     "iopub.execute_input": "2025-10-12T17:15:34.139506Z",
     "iopub.status.busy": "2025-10-12T17:15:34.139136Z",
     "iopub.status.idle": "2025-10-12T17:15:34.150970Z",
     "shell.execute_reply": "2025-10-12T17:15:34.149903Z"
    },
    "papermill": {
     "duration": 0.035177,
     "end_time": "2025-10-12T17:15:34.152757",
     "exception": false,
     "start_time": "2025-10-12T17:15:34.117580",
     "status": "completed"
    },
    "tags": []
   },
   "outputs": [],
   "source": [
    "x = 'SalePrice'\n",
    "q75,q25 = np.percentile(House_train.loc[:,x],[75,25])\n",
    "IQR = q75 - q25\n",
    "Upper = q75 + (3.5  * IQR)\n",
    "Lower = q25 - (1.5 *  IQR)\n",
    "House_train.loc[House_train[x] < Lower,x ]= np.nan\n",
    "House_train.loc[House_train[x] > Upper,x ]= np.nan"
   ]
  },
  {
   "cell_type": "markdown",
   "id": "5a1a515a",
   "metadata": {
    "papermill": {
     "duration": 0.023474,
     "end_time": "2025-10-12T17:15:34.196980",
     "exception": false,
     "start_time": "2025-10-12T17:15:34.173506",
     "status": "completed"
    },
    "tags": []
   },
   "source": [
    "To rerplace Nan Outliers to median:"
   ]
  },
  {
   "cell_type": "code",
   "execution_count": 26,
   "id": "3b0d5207",
   "metadata": {
    "execution": {
     "iopub.execute_input": "2025-10-12T17:15:34.244732Z",
     "iopub.status.busy": "2025-10-12T17:15:34.243863Z",
     "iopub.status.idle": "2025-10-12T17:15:34.249727Z",
     "shell.execute_reply": "2025-10-12T17:15:34.248641Z"
    },
    "papermill": {
     "duration": 0.029737,
     "end_time": "2025-10-12T17:15:34.251745",
     "exception": false,
     "start_time": "2025-10-12T17:15:34.222008",
     "status": "completed"
    },
    "tags": []
   },
   "outputs": [],
   "source": [
    "House_train['SalePrice'].fillna(House_train['SalePrice'].median(), inplace=True)"
   ]
  },
  {
   "cell_type": "markdown",
   "id": "8b9db2cb",
   "metadata": {
    "papermill": {
     "duration": 0.021125,
     "end_time": "2025-10-12T17:15:34.295269",
     "exception": false,
     "start_time": "2025-10-12T17:15:34.274144",
     "status": "completed"
    },
    "tags": []
   },
   "source": [
    "\n",
    "To show Boxplot to **SalePrice** after removing Outliers:"
   ]
  },
  {
   "cell_type": "code",
   "execution_count": 27,
   "id": "f26987e4",
   "metadata": {
    "execution": {
     "iopub.execute_input": "2025-10-12T17:15:34.339537Z",
     "iopub.status.busy": "2025-10-12T17:15:34.339160Z",
     "iopub.status.idle": "2025-10-12T17:15:34.471111Z",
     "shell.execute_reply": "2025-10-12T17:15:34.470027Z"
    },
    "papermill": {
     "duration": 0.156708,
     "end_time": "2025-10-12T17:15:34.472806",
     "exception": false,
     "start_time": "2025-10-12T17:15:34.316098",
     "status": "completed"
    },
    "tags": []
   },
   "outputs": [
    {
     "data": {
      "image/png": "[encoded data removed]",
      "text/plain": [
       "<Figure size 640x480 with 1 Axes>"
      ]
     },
     "metadata": {},
     "output_type": "display_data"
    }
   ],
   "source": [
    "plt.boxplot(House_train['SalePrice'])\n",
    "plt.axis = ['equal']"
   ]
  },
  {
   "cell_type": "markdown",
   "id": "bfbdb7e1",
   "metadata": {
    "papermill": {
     "duration": 0.0215,
     "end_time": "2025-10-12T17:15:34.517695",
     "exception": false,
     "start_time": "2025-10-12T17:15:34.496195",
     "status": "completed"
    },
    "tags": []
   },
   "source": [
    "## **FeatureExtraction for Train data**"
   ]
  },
  {
   "cell_type": "markdown",
   "id": "35389d00",
   "metadata": {
    "papermill": {
     "duration": 0.026504,
     "end_time": "2025-10-12T17:15:34.567124",
     "exception": false,
     "start_time": "2025-10-12T17:15:34.540620",
     "status": "completed"
    },
    "tags": []
   },
   "source": [
    "F**or Numerical values:**"
   ]
  },
  {
   "cell_type": "code",
   "execution_count": 28,
   "id": "46daa0d4",
   "metadata": {
    "execution": {
     "iopub.execute_input": "2025-10-12T17:15:34.641397Z",
     "iopub.status.busy": "2025-10-12T17:15:34.640822Z",
     "iopub.status.idle": "2025-10-12T17:15:34.649003Z",
     "shell.execute_reply": "2025-10-12T17:15:34.647320Z"
    },
    "papermill": {
     "duration": 0.047046,
     "end_time": "2025-10-12T17:15:34.652030",
     "exception": false,
     "start_time": "2025-10-12T17:15:34.604984",
     "status": "completed"
    },
    "tags": []
   },
   "outputs": [],
   "source": [
    "Numerical_columns = House_train.select_dtypes(include=['int64', 'float64']).columns.tolist()"
   ]
  },
  {
   "cell_type": "code",
   "execution_count": 29,
   "id": "ef79b55c",
   "metadata": {
    "execution": {
     "iopub.execute_input": "2025-10-12T17:15:34.698993Z",
     "iopub.status.busy": "2025-10-12T17:15:34.698634Z",
     "iopub.status.idle": "2025-10-12T17:15:34.704394Z",
     "shell.execute_reply": "2025-10-12T17:15:34.703194Z"
    },
    "papermill": {
     "duration": 0.029693,
     "end_time": "2025-10-12T17:15:34.706291",
     "exception": false,
     "start_time": "2025-10-12T17:15:34.676598",
     "status": "completed"
    },
    "tags": []
   },
   "outputs": [
    {
     "name": "stdout",
     "output_type": "stream",
     "text": [
      "['MSSubClass', 'LotFrontage', 'LotArea', 'OverallQual', 'OverallCond', 'YearBuilt', 'YearRemodAdd', 'MasVnrArea', 'BsmtFinSF1', 'BsmtFinSF2', 'BsmtUnfSF', 'TotalBsmtSF', '1stFlrSF', '2ndFlrSF', 'LowQualFinSF', 'GrLivArea', 'BsmtFullBath', 'BsmtHalfBath', 'FullBath', 'HalfBath', 'BedroomAbvGr', 'KitchenAbvGr', 'TotRmsAbvGrd', 'Fireplaces', 'GarageYrBlt', 'GarageCars', 'GarageArea', 'WoodDeckSF', 'OpenPorchSF', 'EnclosedPorch', '3SsnPorch', 'ScreenPorch', 'PoolArea', 'MiscVal', 'MoSold', 'YrSold', 'SalePrice']\n"
     ]
    }
   ],
   "source": [
    "print(Numerical_columns)"
   ]
  },
  {
   "cell_type": "markdown",
   "id": "0d8fdc95",
   "metadata": {
    "papermill": {
     "duration": 0.023488,
     "end_time": "2025-10-12T17:15:34.753422",
     "exception": false,
     "start_time": "2025-10-12T17:15:34.729934",
     "status": "completed"
    },
    "tags": []
   },
   "source": [
    "For Extraxt **Categorical columns:**"
   ]
  },
  {
   "cell_type": "code",
   "execution_count": 30,
   "id": "123c23ee",
   "metadata": {
    "execution": {
     "iopub.execute_input": "2025-10-12T17:15:34.805764Z",
     "iopub.status.busy": "2025-10-12T17:15:34.805369Z",
     "iopub.status.idle": "2025-10-12T17:15:34.813518Z",
     "shell.execute_reply": "2025-10-12T17:15:34.812381Z"
    },
    "papermill": {
     "duration": 0.035892,
     "end_time": "2025-10-12T17:15:34.815062",
     "exception": false,
     "start_time": "2025-10-12T17:15:34.779170",
     "status": "completed"
    },
    "tags": []
   },
   "outputs": [],
   "source": [
    "Categorical_columns = House_train.select_dtypes(include=['object']).columns.tolist()"
   ]
  },
  {
   "cell_type": "code",
   "execution_count": 31,
   "id": "9476c64c",
   "metadata": {
    "execution": {
     "iopub.execute_input": "2025-10-12T17:15:34.860487Z",
     "iopub.status.busy": "2025-10-12T17:15:34.860156Z",
     "iopub.status.idle": "2025-10-12T17:15:34.866383Z",
     "shell.execute_reply": "2025-10-12T17:15:34.865373Z"
    },
    "papermill": {
     "duration": 0.031653,
     "end_time": "2025-10-12T17:15:34.868159",
     "exception": false,
     "start_time": "2025-10-12T17:15:34.836506",
     "status": "completed"
    },
    "tags": []
   },
   "outputs": [
    {
     "name": "stdout",
     "output_type": "stream",
     "text": [
      "['MSZoning', 'Street', 'LotShape', 'LandContour', 'Utilities', 'LotConfig', 'LandSlope', 'Neighborhood', 'Condition1', 'Condition2', 'BldgType', 'HouseStyle', 'RoofStyle', 'RoofMatl', 'Exterior1st', 'Exterior2nd', 'MasVnrType', 'ExterQual', 'ExterCond', 'Foundation', 'BsmtQual', 'BsmtCond', 'BsmtExposure', 'BsmtFinType1', 'BsmtFinType2', 'Heating', 'HeatingQC', 'CentralAir', 'Electrical', 'KitchenQual', 'Functional', 'FireplaceQu', 'GarageType', 'GarageFinish', 'GarageQual', 'GarageCond', 'PavedDrive', 'SaleType', 'SaleCondition']\n"
     ]
    }
   ],
   "source": [
    "print(Categorical_columns)"
   ]
  },
  {
   "cell_type": "markdown",
   "id": "c463d1c9",
   "metadata": {
    "papermill": {
     "duration": 0.022539,
     "end_time": "2025-10-12T17:15:34.912952",
     "exception": false,
     "start_time": "2025-10-12T17:15:34.890413",
     "status": "completed"
    },
    "tags": []
   },
   "source": [
    "For extract unique values at evry feature:"
   ]
  },
  {
   "cell_type": "code",
   "execution_count": 32,
   "id": "d84f4866",
   "metadata": {
    "execution": {
     "iopub.execute_input": "2025-10-12T17:15:34.962554Z",
     "iopub.status.busy": "2025-10-12T17:15:34.961195Z",
     "iopub.status.idle": "2025-10-12T17:15:34.978153Z",
     "shell.execute_reply": "2025-10-12T17:15:34.977011Z"
    },
    "papermill": {
     "duration": 0.043086,
     "end_time": "2025-10-12T17:15:34.980714",
     "exception": false,
     "start_time": "2025-10-12T17:15:34.937628",
     "status": "completed"
    },
    "tags": []
   },
   "outputs": [
    {
     "name": "stdout",
     "output_type": "stream",
     "text": [
      "MSZoning (5 values): ['RL' 'RM' 'C (all)' 'FV' 'RH']\n",
      "--------------------------------------------------\n",
      "Street (2 values): ['Pave' 'Grvl']\n",
      "--------------------------------------------------\n",
      "LotShape (4 values): ['Reg' 'IR1' 'IR2' 'IR3']\n",
      "--------------------------------------------------\n",
      "LandContour (4 values): ['Lvl' 'Bnk' 'Low' 'HLS']\n",
      "--------------------------------------------------\n",
      "Utilities (2 values): ['AllPub' 'NoSeWa']\n",
      "--------------------------------------------------\n",
      "LotConfig (5 values): ['Inside' 'FR2' 'Corner' 'CulDSac' 'FR3']\n",
      "--------------------------------------------------\n",
      "LandSlope (3 values): ['Gtl' 'Mod' 'Sev']\n",
      "--------------------------------------------------\n",
      "Neighborhood (25 values): ['CollgCr' 'Veenker' 'Crawfor' 'NoRidge' 'Mitchel' 'Somerst' 'NWAmes'\n",
      " 'OldTown' 'BrkSide' 'Sawyer' 'NridgHt' 'NAmes' 'SawyerW' 'IDOTRR'\n",
      " 'MeadowV' 'Edwards' 'Timber' 'Gilbert' 'StoneBr' 'ClearCr' 'NPkVill'\n",
      " 'Blmngtn' 'BrDale' 'SWISU' 'Blueste']\n",
      "--------------------------------------------------\n",
      "Condition1 (9 values): ['Norm' 'Feedr' 'PosN' 'Artery' 'RRAe' 'RRNn' 'RRAn' 'PosA' 'RRNe']\n",
      "--------------------------------------------------\n",
      "Condition2 (8 values): ['Norm' 'Artery' 'RRNn' 'Feedr' 'PosN' 'PosA' 'RRAn' 'RRAe']\n",
      "--------------------------------------------------\n",
      "BldgType (5 values): ['1Fam' '2fmCon' 'Duplex' 'TwnhsE' 'Twnhs']\n",
      "--------------------------------------------------\n",
      "HouseStyle (8 values): ['2Story' '1Story' '1.5Fin' '1.5Unf' 'SFoyer' 'SLvl' '2.5Unf' '2.5Fin']\n",
      "--------------------------------------------------\n",
      "RoofStyle (6 values): ['Gable' 'Hip' 'Gambrel' 'Mansard' 'Flat' 'Shed']\n",
      "--------------------------------------------------\n",
      "RoofMatl (8 values): ['CompShg' 'WdShngl' 'Metal' 'WdShake' 'Membran' 'Tar&Grv' 'Roll'\n",
      " 'ClyTile']\n",
      "--------------------------------------------------\n",
      "Exterior1st (15 values): ['VinylSd' 'MetalSd' 'Wd Sdng' 'HdBoard' 'BrkFace' 'WdShing' 'CemntBd'\n",
      " 'Plywood' 'AsbShng' 'Stucco' 'BrkComm' 'AsphShn' 'Stone' 'ImStucc'\n",
      " 'CBlock']\n",
      "--------------------------------------------------\n",
      "Exterior2nd (16 values): ['VinylSd' 'MetalSd' 'Wd Shng' 'HdBoard' 'Plywood' 'Wd Sdng' 'CmentBd'\n",
      " 'BrkFace' 'Stucco' 'AsbShng' 'Brk Cmn' 'ImStucc' 'AsphShn' 'Stone'\n",
      " 'Other' 'CBlock']\n",
      "--------------------------------------------------\n",
      "MasVnrType (3 values): ['BrkFace' 'Stone' 'BrkCmn']\n",
      "--------------------------------------------------\n",
      "ExterQual (4 values): ['Gd' 'TA' 'Ex' 'Fa']\n",
      "--------------------------------------------------\n",
      "ExterCond (5 values): ['TA' 'Gd' 'Fa' 'Po' 'Ex']\n",
      "--------------------------------------------------\n",
      "Foundation (6 values): ['PConc' 'CBlock' 'BrkTil' 'Wood' 'Slab' 'Stone']\n",
      "--------------------------------------------------\n",
      "BsmtQual (4 values): ['Gd' 'TA' 'Ex' 'Fa']\n",
      "--------------------------------------------------\n",
      "BsmtCond (4 values): ['TA' 'Gd' 'Fa' 'Po']\n",
      "--------------------------------------------------\n",
      "BsmtExposure (4 values): ['No' 'Gd' 'Mn' 'Av']\n",
      "--------------------------------------------------\n",
      "BsmtFinType1 (6 values): ['GLQ' 'ALQ' 'Unf' 'Rec' 'BLQ' 'LwQ']\n",
      "--------------------------------------------------\n",
      "BsmtFinType2 (6 values): ['Unf' 'BLQ' 'ALQ' 'Rec' 'LwQ' 'GLQ']\n",
      "--------------------------------------------------\n",
      "Heating (6 values): ['GasA' 'GasW' 'Grav' 'Wall' 'OthW' 'Floor']\n",
      "--------------------------------------------------\n",
      "HeatingQC (5 values): ['Ex' 'Gd' 'TA' 'Fa' 'Po']\n",
      "--------------------------------------------------\n",
      "CentralAir (2 values): ['Y' 'N']\n",
      "--------------------------------------------------\n",
      "Electrical (5 values): ['SBrkr' 'FuseF' 'FuseA' 'FuseP' 'Mix']\n",
      "--------------------------------------------------\n",
      "KitchenQual (4 values): ['Gd' 'TA' 'Ex' 'Fa']\n",
      "--------------------------------------------------\n",
      "Functional (7 values): ['Typ' 'Min1' 'Maj1' 'Min2' 'Mod' 'Maj2' 'Sev']\n",
      "--------------------------------------------------\n",
      "FireplaceQu (5 values): ['Gd' 'TA' 'Fa' 'Ex' 'Po']\n",
      "--------------------------------------------------\n",
      "GarageType (6 values): ['Attchd' 'Detchd' 'BuiltIn' 'CarPort' 'Basment' '2Types']\n",
      "--------------------------------------------------\n",
      "GarageFinish (3 values): ['RFn' 'Unf' 'Fin']\n",
      "--------------------------------------------------\n",
      "GarageQual (5 values): ['TA' 'Fa' 'Gd' 'Ex' 'Po']\n",
      "--------------------------------------------------\n",
      "GarageCond (6 values): ['TA' 'Fa' 'None' 'Gd' 'Po' 'Ex']\n",
      "--------------------------------------------------\n",
      "PavedDrive (3 values): ['Y' 'N' 'P']\n",
      "--------------------------------------------------\n",
      "SaleType (9 values): ['WD' 'New' 'COD' 'ConLD' 'ConLI' 'CWD' 'ConLw' 'Con' 'Oth']\n",
      "--------------------------------------------------\n",
      "SaleCondition (6 values): ['Normal' 'Abnorml' 'Partial' 'AdjLand' 'Alloca' 'Family']\n",
      "--------------------------------------------------\n"
     ]
    }
   ],
   "source": [
    "for col in Categorical_columns:\n",
    "    unique_values = House_train[col].unique()\n",
    "    print(f'{col} ({len(unique_values)} values): {unique_values}')\n",
    "    print('-'*50)"
   ]
  },
  {
   "cell_type": "markdown",
   "id": "68201658",
   "metadata": {
    "papermill": {
     "duration": 0.020738,
     "end_time": "2025-10-12T17:15:35.022994",
     "exception": false,
     "start_time": "2025-10-12T17:15:35.002256",
     "status": "completed"
    },
    "tags": []
   },
   "source": [
    "We use **LabelEncoder** for these features which have two unique values:"
   ]
  },
  {
   "cell_type": "code",
   "execution_count": 33,
   "id": "67cb1eea",
   "metadata": {
    "execution": {
     "iopub.execute_input": "2025-10-12T17:15:35.069061Z",
     "iopub.status.busy": "2025-10-12T17:15:35.068088Z",
     "iopub.status.idle": "2025-10-12T17:15:35.076797Z",
     "shell.execute_reply": "2025-10-12T17:15:35.075579Z"
    },
    "papermill": {
     "duration": 0.034202,
     "end_time": "2025-10-12T17:15:35.079974",
     "exception": false,
     "start_time": "2025-10-12T17:15:35.045772",
     "status": "completed"
    },
    "tags": []
   },
   "outputs": [],
   "source": [
    "Lable_encoder = LabelEncoder()\n",
    "Binary_cols = ['Street', 'CentralAir']\n",
    "# Apply labelencoder\n",
    "for col in Binary_cols:\n",
    "    House_train[col] = Lable_encoder.fit_transform(House_train[col])"
   ]
  },
  {
   "cell_type": "markdown",
   "id": "95eaffcb",
   "metadata": {
    "papermill": {
     "duration": 0.022605,
     "end_time": "2025-10-12T17:15:35.128236",
     "exception": false,
     "start_time": "2025-10-12T17:15:35.105631",
     "status": "completed"
    },
    "tags": []
   },
   "source": [
    "We use **OneHotEncoder** for this Features which have Low Cardinality:"
   ]
  },
  {
   "cell_type": "code",
   "execution_count": 34,
   "id": "358eb4ed",
   "metadata": {
    "execution": {
     "iopub.execute_input": "2025-10-12T17:15:35.175379Z",
     "iopub.status.busy": "2025-10-12T17:15:35.174198Z",
     "iopub.status.idle": "2025-10-12T17:15:35.205550Z",
     "shell.execute_reply": "2025-10-12T17:15:35.202978Z"
    },
    "papermill": {
     "duration": 0.057391,
     "end_time": "2025-10-12T17:15:35.207667",
     "exception": false,
     "start_time": "2025-10-12T17:15:35.150276",
     "status": "completed"
    },
    "tags": []
   },
   "outputs": [],
   "source": [
    "onehot_cols = [\n",
    "    'MSZoning','LotShape','LandContour','Utilities','LotConfig','LandSlope',\n",
    "    'BldgType','HouseStyle','RoofStyle','RoofMatl','MasVnrType','Foundation',\n",
    "    'Heating','Electrical','Functional','GarageFinish','PavedDrive','SaleType','SaleCondition']\n",
    "\n",
    "existing_onehot_cols = [col for col in onehot_cols if col in House_train.columns]\n",
    "House_train = pd.get_dummies(House_train, columns=existing_onehot_cols, drop_first=True)"
   ]
  },
  {
   "cell_type": "markdown",
   "id": "782c3cea",
   "metadata": {
    "papermill": {
     "duration": 0.02305,
     "end_time": "2025-10-12T17:15:35.255025",
     "exception": false,
     "start_time": "2025-10-12T17:15:35.231975",
     "status": "completed"
    },
    "tags": []
   },
   "source": [
    "We use **Ordinal Encoding** for these features which have arranged values:"
   ]
  },
  {
   "cell_type": "code",
   "execution_count": 35,
   "id": "2e9712b2",
   "metadata": {
    "execution": {
     "iopub.execute_input": "2025-10-12T17:15:35.300892Z",
     "iopub.status.busy": "2025-10-12T17:15:35.300528Z",
     "iopub.status.idle": "2025-10-12T17:15:35.326712Z",
     "shell.execute_reply": "2025-10-12T17:15:35.324522Z"
    },
    "papermill": {
     "duration": 0.051651,
     "end_time": "2025-10-12T17:15:35.329335",
     "exception": false,
     "start_time": "2025-10-12T17:15:35.277684",
     "status": "completed"
    },
    "tags": []
   },
   "outputs": [],
   "source": [
    "ordinal_cols = {\n",
    "    'ExterQual': {'Fa':1,'TA':2,'Gd':3,'Ex':4},\n",
    "    'ExterCond': {'Po':1,'Fa':2,'TA':3,'Gd':4,'Ex':5},\n",
    "    'BsmtQual': {'None':0,'Fa':1,'TA':2,'Gd':3,'Ex':4},\n",
    "    'BsmtCond': {'None':0,'Po':1,'Fa':2,'TA':3,'Gd':4},\n",
    "    'BsmtExposure': {'None':0,'No':1,'Mn':2,'Av':3,'Gd':4},\n",
    "    'BsmtFinType1': {'None':0,'Unf':1,'LwQ':2,'Rec':3,'BLQ':4,'ALQ':5,'GLQ':6},\n",
    "    'BsmtFinType2': {'None':0,'Unf':1,'LwQ':2,'Rec':3,'BLQ':4,'ALQ':5,'GLQ':6},\n",
    "    'FireplaceQu': {'None':0,'Po':1,'Fa':2,'TA':3,'Gd':4,'Ex':5},\n",
    "    'GarageQual': {'None':0,'Po':1,'Fa':2,'TA':3,'Gd':4,'Ex':5},\n",
    "    'GarageCond': {'None':0,'Po':1,'Fa':2,'TA':3,'Gd':4},\n",
    "    'HeatingQC': {'Po':1,'Fa':2,'TA':3,'Gd':4,'Ex':5},\n",
    "    'KitchenQual': {'Fa':1,'TA':2,'Gd':3,'Ex':4},\n",
    "    'GarageType': {'None':0, 'Basment':1 ,'2Types':2,'Detchd':3,'Attchd':4,'BuiltIn':5,'CarPort':6}\n",
    "}\n",
    "\n",
    "for col, mapping in ordinal_cols.items():\n",
    "    if col in House_train.columns:\n",
    "        House_train[col] = House_train[col].map(mapping)"
   ]
  },
  {
   "cell_type": "markdown",
   "id": "753cd4bc",
   "metadata": {
    "papermill": {
     "duration": 0.028093,
     "end_time": "2025-10-12T17:15:35.382465",
     "exception": false,
     "start_time": "2025-10-12T17:15:35.354372",
     "status": "completed"
    },
    "tags": []
   },
   "source": [
    "Replace nan by mode:"
   ]
  },
  {
   "cell_type": "code",
   "execution_count": 36,
   "id": "436e0599",
   "metadata": {
    "execution": {
     "iopub.execute_input": "2025-10-12T17:15:35.432703Z",
     "iopub.status.busy": "2025-10-12T17:15:35.432337Z",
     "iopub.status.idle": "2025-10-12T17:15:35.441610Z",
     "shell.execute_reply": "2025-10-12T17:15:35.440197Z"
    },
    "papermill": {
     "duration": 0.036441,
     "end_time": "2025-10-12T17:15:35.444028",
     "exception": false,
     "start_time": "2025-10-12T17:15:35.407587",
     "status": "completed"
    },
    "tags": []
   },
   "outputs": [],
   "source": [
    "House_train['GarageCond'].fillna(House_train['GarageCond'].mode()[0], inplace=True)"
   ]
  },
  {
   "cell_type": "markdown",
   "id": "638d4bec",
   "metadata": {
    "papermill": {
     "duration": 0.025212,
     "end_time": "2025-10-12T17:15:35.493281",
     "exception": false,
     "start_time": "2025-10-12T17:15:35.468069",
     "status": "completed"
    },
    "tags": []
   },
   "source": [
    "We use **Frequency Encoding** at these features which have large unique values:"
   ]
  },
  {
   "cell_type": "code",
   "execution_count": 37,
   "id": "bc519a85",
   "metadata": {
    "execution": {
     "iopub.execute_input": "2025-10-12T17:15:35.538901Z",
     "iopub.status.busy": "2025-10-12T17:15:35.538495Z",
     "iopub.status.idle": "2025-10-12T17:15:35.553393Z",
     "shell.execute_reply": "2025-10-12T17:15:35.552283Z"
    },
    "papermill": {
     "duration": 0.040437,
     "end_time": "2025-10-12T17:15:35.555363",
     "exception": false,
     "start_time": "2025-10-12T17:15:35.514926",
     "status": "completed"
    },
    "tags": []
   },
   "outputs": [],
   "source": [
    "high_card_cols = ['Neighborhood','Condition1','Condition2','Exterior1st','Exterior2nd']\n",
    "\n",
    "for col in high_card_cols:\n",
    "    if col in House_train.columns:\n",
    "        freq = House_train[col].value_counts() / len(House_train)\n",
    "        House_train[col] = House_train[col].map(freq)"
   ]
  },
  {
   "cell_type": "code",
   "execution_count": 38,
   "id": "095df5d1",
   "metadata": {
    "execution": {
     "iopub.execute_input": "2025-10-12T17:15:35.599346Z",
     "iopub.status.busy": "2025-10-12T17:15:35.598999Z",
     "iopub.status.idle": "2025-10-12T17:15:35.606320Z",
     "shell.execute_reply": "2025-10-12T17:15:35.605055Z"
    },
    "papermill": {
     "duration": 0.031337,
     "end_time": "2025-10-12T17:15:35.608252",
     "exception": false,
     "start_time": "2025-10-12T17:15:35.576915",
     "status": "completed"
    },
    "tags": []
   },
   "outputs": [
    {
     "data": {
      "text/plain": [
       "(1460, 136)"
      ]
     },
     "execution_count": 38,
     "metadata": {},
     "output_type": "execute_result"
    }
   ],
   "source": [
    "House_train.shape"
   ]
  },
  {
   "cell_type": "markdown",
   "id": "46983d47",
   "metadata": {
    "papermill": {
     "duration": 0.020916,
     "end_time": "2025-10-12T17:15:35.650722",
     "exception": false,
     "start_time": "2025-10-12T17:15:35.629806",
     "status": "completed"
    },
    "tags": []
   },
   "source": [
    "## **Splitting Data**"
   ]
  },
  {
   "cell_type": "code",
   "execution_count": 39,
   "id": "4eb57161",
   "metadata": {
    "execution": {
     "iopub.execute_input": "2025-10-12T17:15:35.698899Z",
     "iopub.status.busy": "2025-10-12T17:15:35.698547Z",
     "iopub.status.idle": "2025-10-12T17:15:35.709775Z",
     "shell.execute_reply": "2025-10-12T17:15:35.708317Z"
    },
    "papermill": {
     "duration": 0.037715,
     "end_time": "2025-10-12T17:15:35.711785",
     "exception": false,
     "start_time": "2025-10-12T17:15:35.674070",
     "status": "completed"
    },
    "tags": []
   },
   "outputs": [],
   "source": [
    "X = House_train.drop(['SalePrice'],axis=1)\n",
    "y = House_train['SalePrice']"
   ]
  },
  {
   "cell_type": "code",
   "execution_count": 40,
   "id": "033bd275",
   "metadata": {
    "execution": {
     "iopub.execute_input": "2025-10-12T17:15:35.758872Z",
     "iopub.status.busy": "2025-10-12T17:15:35.758495Z",
     "iopub.status.idle": "2025-10-12T17:15:35.773341Z",
     "shell.execute_reply": "2025-10-12T17:15:35.771403Z"
    },
    "papermill": {
     "duration": 0.039632,
     "end_time": "2025-10-12T17:15:35.775182",
     "exception": false,
     "start_time": "2025-10-12T17:15:35.735550",
     "status": "completed"
    },
    "tags": []
   },
   "outputs": [
    {
     "name": "stdout",
     "output_type": "stream",
     "text": [
      "X_train shape is  (1095, 135)\n",
      "X_test shape is  (365, 135)\n",
      "y_train shape is  (1095,)\n",
      "y_test shape is  (365,)\n"
     ]
    }
   ],
   "source": [
    "#Splitting data\n",
    "\n",
    "X_train, X_test, y_train, y_test = train_test_split(X, y, test_size=0.25, random_state=44, shuffle =True)\n",
    "\n",
    "#Splitted Data\n",
    "print('X_train shape is ' , X_train.shape)\n",
    "print('X_test shape is ' , X_test.shape)\n",
    "print('y_train shape is ' , y_train.shape)\n",
    "print('y_test shape is ' , y_test.shape)"
   ]
  },
  {
   "cell_type": "markdown",
   "id": "cb018bc6",
   "metadata": {
    "papermill": {
     "duration": 0.020712,
     "end_time": "2025-10-12T17:15:35.818150",
     "exception": false,
     "start_time": "2025-10-12T17:15:35.797438",
     "status": "completed"
    },
    "tags": []
   },
   "source": [
    "## **Modeling**"
   ]
  },
  {
   "cell_type": "code",
   "execution_count": 41,
   "id": "72979d67",
   "metadata": {
    "execution": {
     "iopub.execute_input": "2025-10-12T17:15:35.861517Z",
     "iopub.status.busy": "2025-10-12T17:15:35.861200Z",
     "iopub.status.idle": "2025-10-12T17:15:37.328503Z",
     "shell.execute_reply": "2025-10-12T17:15:37.327705Z"
    },
    "papermill": {
     "duration": 1.491129,
     "end_time": "2025-10-12T17:15:37.330297",
     "exception": false,
     "start_time": "2025-10-12T17:15:35.839168",
     "status": "completed"
    },
    "tags": []
   },
   "outputs": [],
   "source": [
    "xgb_model = XGBRegressor(\n",
    "    n_estimators=500,\n",
    "    learning_rate=0.05,\n",
    "    max_depth=5,\n",
    "    random_state=42)\n",
    "xgb_model.fit(X, y)\n",
    "y_pred = xgb_model.predict(X_test)"
   ]
  },
  {
   "cell_type": "code",
   "execution_count": 42,
   "id": "fb818933",
   "metadata": {
    "execution": {
     "iopub.execute_input": "2025-10-12T17:15:37.381618Z",
     "iopub.status.busy": "2025-10-12T17:15:37.381297Z",
     "iopub.status.idle": "2025-10-12T17:15:37.436145Z",
     "shell.execute_reply": "2025-10-12T17:15:37.435372Z"
    },
    "papermill": {
     "duration": 0.083695,
     "end_time": "2025-10-12T17:15:37.438290",
     "exception": false,
     "start_time": "2025-10-12T17:15:37.354595",
     "status": "completed"
    },
    "tags": []
   },
   "outputs": [],
   "source": [
    "# Predictions\n",
    "y_train_pred = xgb_model.predict(X_train)\n",
    "y_test_pred = xgb_model.predict(X_test)"
   ]
  },
  {
   "cell_type": "code",
   "execution_count": 43,
   "id": "82d0d46c",
   "metadata": {
    "execution": {
     "iopub.execute_input": "2025-10-12T17:15:37.486341Z",
     "iopub.status.busy": "2025-10-12T17:15:37.486008Z",
     "iopub.status.idle": "2025-10-12T17:15:37.493670Z",
     "shell.execute_reply": "2025-10-12T17:15:37.492860Z"
    },
    "papermill": {
     "duration": 0.031266,
     "end_time": "2025-10-12T17:15:37.495331",
     "exception": false,
     "start_time": "2025-10-12T17:15:37.464065",
     "status": "completed"
    },
    "tags": []
   },
   "outputs": [
    {
     "data": {
      "text/plain": [
       "1140    139000.0\n",
       "132     150750.0\n",
       "642     345000.0\n",
       "952     133900.0\n",
       "1297    140000.0\n",
       "1399    137450.0\n",
       "360     156000.0\n",
       "849     187000.0\n",
       "1073    159500.0\n",
       "1057    248000.0\n",
       "Name: SalePrice, dtype: float64"
      ]
     },
     "execution_count": 43,
     "metadata": {},
     "output_type": "execute_result"
    }
   ],
   "source": [
    "y_test[:10]"
   ]
  },
  {
   "cell_type": "code",
   "execution_count": 44,
   "id": "ed220b3b",
   "metadata": {
    "execution": {
     "iopub.execute_input": "2025-10-12T17:15:37.542316Z",
     "iopub.status.busy": "2025-10-12T17:15:37.541969Z",
     "iopub.status.idle": "2025-10-12T17:15:37.549043Z",
     "shell.execute_reply": "2025-10-12T17:15:37.547674Z"
    },
    "papermill": {
     "duration": 0.03429,
     "end_time": "2025-10-12T17:15:37.550920",
     "exception": false,
     "start_time": "2025-10-12T17:15:37.516630",
     "status": "completed"
    },
    "tags": []
   },
   "outputs": [
    {
     "data": {
      "text/plain": [
       "array([136732.22, 148571.11, 343349.2 , 133689.22, 142936.4 , 141139.05,\n",
       "       152562.02, 182526.05, 162233.22, 240654.38], dtype=float32)"
      ]
     },
     "execution_count": 44,
     "metadata": {},
     "output_type": "execute_result"
    }
   ],
   "source": [
    "y_pred[:10]"
   ]
  },
  {
   "cell_type": "markdown",
   "id": "beb305d7",
   "metadata": {
    "papermill": {
     "duration": 0.020936,
     "end_time": "2025-10-12T17:15:37.594585",
     "exception": false,
     "start_time": "2025-10-12T17:15:37.573649",
     "status": "completed"
    },
    "tags": []
   },
   "source": [
    "## **Evaluation**"
   ]
  },
  {
   "cell_type": "code",
   "execution_count": 45,
   "id": "55d081de",
   "metadata": {
    "execution": {
     "iopub.execute_input": "2025-10-12T17:15:37.642049Z",
     "iopub.status.busy": "2025-10-12T17:15:37.641632Z",
     "iopub.status.idle": "2025-10-12T17:15:37.655340Z",
     "shell.execute_reply": "2025-10-12T17:15:37.653997Z"
    },
    "papermill": {
     "duration": 0.038967,
     "end_time": "2025-10-12T17:15:37.657309",
     "exception": false,
     "start_time": "2025-10-12T17:15:37.618342",
     "status": "completed"
    },
    "tags": []
   },
   "outputs": [
    {
     "name": "stdout",
     "output_type": "stream",
     "text": [
      "Train RMSE: 4356.5786717852525\n",
      "Test RMSE: 4843.395313935839\n",
      "Train R2: 0.9963080731373575\n",
      "Test R2: 0.9956538610621822\n",
      "Train Adjusted R2: 0.9958\n",
      "Test Adjusted R2: 0.9931\n"
     ]
    }
   ],
   "source": [
    "# RMSE\n",
    "rmse_train = np.sqrt(mean_squared_error(y_train, y_train_pred))\n",
    "rmse_test = np.sqrt(mean_squared_error(y_test, y_test_pred))\n",
    "\n",
    "# R2 Score\n",
    "r2_train = r2_score(y_train, y_train_pred)\n",
    "r2_test = r2_score(y_test, y_test_pred)\n",
    "\n",
    "# Adjusted R2\n",
    "n_train = len(y_train)\n",
    "n_test = len(y_test)\n",
    "p = X_train.shape[1]\n",
    "\n",
    "adj_r2_train = 1 - (1 - r2_train) * (n_train - 1) / (n_train - p - 1)\n",
    "adj_r2_test = 1 - (1 - r2_test) * (n_test - 1) / (n_test - p - 1)\n",
    "\n",
    "print(f\"Train RMSE: {rmse_train}\")\n",
    "print(f\"Test RMSE: {rmse_test}\")\n",
    "print(f\"Train R2: {r2_train}\")\n",
    "print(f\"Test R2: {r2_test}\")\n",
    "print(f\"Train Adjusted R2: {adj_r2_train:.4f}\")\n",
    "print(f\"Test Adjusted R2: {adj_r2_test:.4f}\")"
   ]
  },
  {
   "cell_type": "markdown",
   "id": "d7eb8258",
   "metadata": {
    "papermill": {
     "duration": 0.145028,
     "end_time": "2025-10-12T17:15:37.823788",
     "exception": false,
     "start_time": "2025-10-12T17:15:37.678760",
     "status": "completed"
    },
    "tags": []
   },
   "source": [
    "### **Visualization**"
   ]
  },
  {
   "cell_type": "markdown",
   "id": "022d332b",
   "metadata": {
    "papermill": {
     "duration": 0.022414,
     "end_time": "2025-10-12T17:15:37.867776",
     "exception": false,
     "start_time": "2025-10-12T17:15:37.845362",
     "status": "completed"
    },
    "tags": []
   },
   "source": [
    "Visualizing Learning Curve for XGBoost Regressor to detect overfitting/underfitting:"
   ]
  },
  {
   "cell_type": "code",
   "execution_count": 46,
   "id": "8a9acda3",
   "metadata": {
    "execution": {
     "iopub.execute_input": "2025-10-12T17:15:37.912755Z",
     "iopub.status.busy": "2025-10-12T17:15:37.912406Z",
     "iopub.status.idle": "2025-10-12T17:16:11.032288Z",
     "shell.execute_reply": "2025-10-12T17:16:11.031197Z"
    },
    "papermill": {
     "duration": 33.166259,
     "end_time": "2025-10-12T17:16:11.055885",
     "exception": false,
     "start_time": "2025-10-12T17:15:37.889626",
     "status": "completed"
    },
    "tags": []
   },
   "outputs": [
    {
     "data": {
      "image/png": "[encoded data removed]",
      "text/plain": [
       "<Figure size 1000x600 with 1 Axes>"
      ]
     },
     "metadata": {},
     "output_type": "display_data"
    }
   ],
   "source": [
    "# Generate learning curve data\n",
    "train_sizes, train_scores, test_scores = learning_curve(\n",
    "    xgb_model, X, y, cv=5, scoring='r2', train_sizes=np.linspace(0.1, 1.0, 10), n_jobs=-1)\n",
    "\n",
    "# mean and standard deviation to scores\n",
    "train_mean = np.mean(train_scores, axis=1)\n",
    "train_std = np.std(train_scores, axis=1)\n",
    "test_mean = np.mean(test_scores, axis=1)\n",
    "test_std = np.std(test_scores, axis=1)\n",
    "\n",
    "# Plotting\n",
    "plt.figure(figsize=(10,6))\n",
    "plt.plot(train_sizes, train_mean, 'o-', color='blue', label='Train R²')\n",
    "plt.plot(train_sizes, test_mean, 'o-', color='red', label='CV R²')\n",
    "\n",
    "plt.fill_between(train_sizes, train_mean - train_std, train_mean + train_std, color='blue', alpha=0.1)\n",
    "plt.fill_between(train_sizes, test_mean - test_std, test_mean + test_std, color='red', alpha=0.1)\n",
    "\n",
    "plt.title('Learning Curve for XGBoost Regressor')\n",
    "plt.xlabel('Training Samples')\n",
    "plt.ylabel('R² Score')\n",
    "plt.legend(loc='best')\n",
    "plt.grid(True)\n",
    "plt.show()"
   ]
  },
  {
   "cell_type": "markdown",
   "id": "754baaa8",
   "metadata": {
    "papermill": {
     "duration": 0.021669,
     "end_time": "2025-10-12T17:16:11.099808",
     "exception": false,
     "start_time": "2025-10-12T17:16:11.078139",
     "status": "completed"
    },
    "tags": []
   },
   "source": [
    "Scatter plot: Actual vs Predicted:"
   ]
  },
  {
   "cell_type": "code",
   "execution_count": 47,
   "id": "aa2daef5",
   "metadata": {
    "execution": {
     "iopub.execute_input": "2025-10-12T17:16:11.145346Z",
     "iopub.status.busy": "2025-10-12T17:16:11.145016Z",
     "iopub.status.idle": "2025-10-12T17:16:11.379151Z",
     "shell.execute_reply": "2025-10-12T17:16:11.378170Z"
    },
    "papermill": {
     "duration": 0.259163,
     "end_time": "2025-10-12T17:16:11.380967",
     "exception": false,
     "start_time": "2025-10-12T17:16:11.121804",
     "status": "completed"
    },
    "tags": []
   },
   "outputs": [
    {
     "data": {
      "image/png": "[encoded data removed]",
      "text/plain": [
       "<Figure size 600x600 with 1 Axes>"
      ]
     },
     "metadata": {},
     "output_type": "display_data"
    }
   ],
   "source": [
    "plt.figure(figsize=(6,6))\n",
    "plt.scatter(y_test, y_pred, alpha=0.5)\n",
    "plt.plot([y_test.min(), y_test.max()], [y_test.min(), y_test.max()], 'r--')\n",
    "plt.xlabel('Actual SalePrice')\n",
    "plt.ylabel('Predicted SalePrice')\n",
    "plt.title('Actual vs Predicted SalePrice')\n",
    "plt.show()"
   ]
  },
  {
   "cell_type": "markdown",
   "id": "aad0ed8d",
   "metadata": {
    "papermill": {
     "duration": 0.024052,
     "end_time": "2025-10-12T17:16:11.428051",
     "exception": false,
     "start_time": "2025-10-12T17:16:11.403999",
     "status": "completed"
    },
    "tags": []
   },
   "source": [
    "### **Reading Test Data**"
   ]
  },
  {
   "cell_type": "code",
   "execution_count": 48,
   "id": "3f23be93",
   "metadata": {
    "execution": {
     "iopub.execute_input": "2025-10-12T17:16:11.475733Z",
     "iopub.status.busy": "2025-10-12T17:16:11.475397Z",
     "iopub.status.idle": "2025-10-12T17:16:11.506944Z",
     "shell.execute_reply": "2025-10-12T17:16:11.505820Z"
    },
    "papermill": {
     "duration": 0.057577,
     "end_time": "2025-10-12T17:16:11.508769",
     "exception": false,
     "start_time": "2025-10-12T17:16:11.451192",
     "status": "completed"
    },
    "tags": []
   },
   "outputs": [],
   "source": [
    "House_test = pd.read_csv('/kaggle/input/house-prices-advanced-regression-techniques/test.csv')"
   ]
  },
  {
   "cell_type": "code",
   "execution_count": 49,
   "id": "9d332985",
   "metadata": {
    "execution": {
     "iopub.execute_input": "2025-10-12T17:16:11.559719Z",
     "iopub.status.busy": "2025-10-12T17:16:11.558915Z",
     "iopub.status.idle": "2025-10-12T17:16:11.579820Z",
     "shell.execute_reply": "2025-10-12T17:16:11.578761Z"
    },
    "papermill": {
     "duration": 0.047322,
     "end_time": "2025-10-12T17:16:11.581688",
     "exception": false,
     "start_time": "2025-10-12T17:16:11.534366",
     "status": "completed"
    },
    "tags": []
   },
   "outputs": [
    {
     "data": {
      "text/html": [
       "<div>\n",
       "<style scoped>\n",
       "    .dataframe tbody tr th:only-of-type {\n",
       "        vertical-align: middle;\n",
       "    }\n",
       "\n",
       "    .dataframe tbody tr th {\n",
       "        vertical-align: top;\n",
       "    }\n",
       "\n",
       "    .dataframe thead th {\n",
       "        text-align: right;\n",
       "    }\n",
       "</style>\n",
       "<table border=\"1\" class=\"dataframe\">\n",
       "  <thead>\n",
       "    <tr style=\"text-align: right;\">\n",
       "      <th></th>\n",
       "      <th>Id</th>\n",
       "      <th>MSSubClass</th>\n",
       "      <th>MSZoning</th>\n",
       "      <th>LotFrontage</th>\n",
       "      <th>LotArea</th>\n",
       "      <th>Street</th>\n",
       "      <th>Alley</th>\n",
       "      <th>LotShape</th>\n",
       "      <th>LandContour</th>\n",
       "      <th>Utilities</th>\n",
       "      <th>...</th>\n",
       "      <th>ScreenPorch</th>\n",
       "      <th>PoolArea</th>\n",
       "      <th>PoolQC</th>\n",
       "      <th>Fence</th>\n",
       "      <th>MiscFeature</th>\n",
       "      <th>MiscVal</th>\n",
       "      <th>MoSold</th>\n",
       "      <th>YrSold</th>\n",
       "      <th>SaleType</th>\n",
       "      <th>SaleCondition</th>\n",
       "    </tr>\n",
       "  </thead>\n",
       "  <tbody>\n",
       "    <tr>\n",
       "      <th>0</th>\n",
       "      <td>1461</td>\n",
       "      <td>20</td>\n",
       "      <td>RH</td>\n",
       "      <td>80.0</td>\n",
       "      <td>11622</td>\n",
       "      <td>Pave</td>\n",
       "      <td>NaN</td>\n",
       "      <td>Reg</td>\n",
       "      <td>Lvl</td>\n",
       "      <td>AllPub</td>\n",
       "      <td>...</td>\n",
       "      <td>120</td>\n",
       "      <td>0</td>\n",
       "      <td>NaN</td>\n",
       "      <td>MnPrv</td>\n",
       "      <td>NaN</td>\n",
       "      <td>0</td>\n",
       "      <td>6</td>\n",
       "      <td>2010</td>\n",
       "      <td>WD</td>\n",
       "      <td>Normal</td>\n",
       "    </tr>\n",
       "    <tr>\n",
       "      <th>1</th>\n",
       "      <td>1462</td>\n",
       "      <td>20</td>\n",
       "      <td>RL</td>\n",
       "      <td>81.0</td>\n",
       "      <td>14267</td>\n",
       "      <td>Pave</td>\n",
       "      <td>NaN</td>\n",
       "      <td>IR1</td>\n",
       "      <td>Lvl</td>\n",
       "      <td>AllPub</td>\n",
       "      <td>...</td>\n",
       "      <td>0</td>\n",
       "      <td>0</td>\n",
       "      <td>NaN</td>\n",
       "      <td>NaN</td>\n",
       "      <td>Gar2</td>\n",
       "      <td>12500</td>\n",
       "      <td>6</td>\n",
       "      <td>2010</td>\n",
       "      <td>WD</td>\n",
       "      <td>Normal</td>\n",
       "    </tr>\n",
       "    <tr>\n",
       "      <th>2</th>\n",
       "      <td>1463</td>\n",
       "      <td>60</td>\n",
       "      <td>RL</td>\n",
       "      <td>74.0</td>\n",
       "      <td>13830</td>\n",
       "      <td>Pave</td>\n",
       "      <td>NaN</td>\n",
       "      <td>IR1</td>\n",
       "      <td>Lvl</td>\n",
       "      <td>AllPub</td>\n",
       "      <td>...</td>\n",
       "      <td>0</td>\n",
       "      <td>0</td>\n",
       "      <td>NaN</td>\n",
       "      <td>MnPrv</td>\n",
       "      <td>NaN</td>\n",
       "      <td>0</td>\n",
       "      <td>3</td>\n",
       "      <td>2010</td>\n",
       "      <td>WD</td>\n",
       "      <td>Normal</td>\n",
       "    </tr>\n",
       "    <tr>\n",
       "      <th>3</th>\n",
       "      <td>1464</td>\n",
       "      <td>60</td>\n",
       "      <td>RL</td>\n",
       "      <td>78.0</td>\n",
       "      <td>9978</td>\n",
       "      <td>Pave</td>\n",
       "      <td>NaN</td>\n",
       "      <td>IR1</td>\n",
       "      <td>Lvl</td>\n",
       "      <td>AllPub</td>\n",
       "      <td>...</td>\n",
       "      <td>0</td>\n",
       "      <td>0</td>\n",
       "      <td>NaN</td>\n",
       "      <td>NaN</td>\n",
       "      <td>NaN</td>\n",
       "      <td>0</td>\n",
       "      <td>6</td>\n",
       "      <td>2010</td>\n",
       "      <td>WD</td>\n",
       "      <td>Normal</td>\n",
       "    </tr>\n",
       "    <tr>\n",
       "      <th>4</th>\n",
       "      <td>1465</td>\n",
       "      <td>120</td>\n",
       "      <td>RL</td>\n",
       "      <td>43.0</td>\n",
       "      <td>5005</td>\n",
       "      <td>Pave</td>\n",
       "      <td>NaN</td>\n",
       "      <td>IR1</td>\n",
       "      <td>HLS</td>\n",
       "      <td>AllPub</td>\n",
       "      <td>...</td>\n",
       "      <td>144</td>\n",
       "      <td>0</td>\n",
       "      <td>NaN</td>\n",
       "      <td>NaN</td>\n",
       "      <td>NaN</td>\n",
       "      <td>0</td>\n",
       "      <td>1</td>\n",
       "      <td>2010</td>\n",
       "      <td>WD</td>\n",
       "      <td>Normal</td>\n",
       "    </tr>\n",
       "  </tbody>\n",
       "</table>\n",
       "<p>5 rows × 80 columns</p>\n",
       "</div>"
      ],
      "text/plain": [
       "     Id  MSSubClass MSZoning  LotFrontage  LotArea Street Alley LotShape  \\\n",
       "0  1461          20       RH         80.0    11622   Pave   NaN      Reg   \n",
       "1  1462          20       RL         81.0    14267   Pave   NaN      IR1   \n",
       "2  1463          60       RL         74.0    13830   Pave   NaN      IR1   \n",
       "3  1464          60       RL         78.0     9978   Pave   NaN      IR1   \n",
       "4  1465         120       RL         43.0     5005   Pave   NaN      IR1   \n",
       "\n",
       "  LandContour Utilities  ... ScreenPorch PoolArea PoolQC  Fence MiscFeature  \\\n",
       "0         Lvl    AllPub  ...         120        0    NaN  MnPrv         NaN   \n",
       "1         Lvl    AllPub  ...           0        0    NaN    NaN        Gar2   \n",
       "2         Lvl    AllPub  ...           0        0    NaN  MnPrv         NaN   \n",
       "3         Lvl    AllPub  ...           0        0    NaN    NaN         NaN   \n",
       "4         HLS    AllPub  ...         144        0    NaN    NaN         NaN   \n",
       "\n",
       "  MiscVal MoSold  YrSold  SaleType  SaleCondition  \n",
       "0       0      6    2010        WD         Normal  \n",
       "1   12500      6    2010        WD         Normal  \n",
       "2       0      3    2010        WD         Normal  \n",
       "3       0      6    2010        WD         Normal  \n",
       "4       0      1    2010        WD         Normal  \n",
       "\n",
       "[5 rows x 80 columns]"
      ]
     },
     "execution_count": 49,
     "metadata": {},
     "output_type": "execute_result"
    }
   ],
   "source": [
    "House_test.head()"
   ]
  },
  {
   "cell_type": "code",
   "execution_count": 50,
   "id": "4a46e602",
   "metadata": {
    "execution": {
     "iopub.execute_input": "2025-10-12T17:16:11.633470Z",
     "iopub.status.busy": "2025-10-12T17:16:11.633144Z",
     "iopub.status.idle": "2025-10-12T17:16:11.652462Z",
     "shell.execute_reply": "2025-10-12T17:16:11.651195Z"
    },
    "papermill": {
     "duration": 0.046461,
     "end_time": "2025-10-12T17:16:11.654408",
     "exception": false,
     "start_time": "2025-10-12T17:16:11.607947",
     "status": "completed"
    },
    "tags": []
   },
   "outputs": [
    {
     "name": "stdout",
     "output_type": "stream",
     "text": [
      "<class 'pandas.core.frame.DataFrame'>\n",
      "RangeIndex: 1459 entries, 0 to 1458\n",
      "Data columns (total 80 columns):\n",
      " #   Column         Non-Null Count  Dtype  \n",
      "---  ------         --------------  -----  \n",
      " 0   Id             1459 non-null   int64  \n",
      " 1   MSSubClass     1459 non-null   int64  \n",
      " 2   MSZoning       1455 non-null   object \n",
      " 3   LotFrontage    1232 non-null   float64\n",
      " 4   LotArea        1459 non-null   int64  \n",
      " 5   Street         1459 non-null   object \n",
      " 6   Alley          107 non-null    object \n",
      " 7   LotShape       1459 non-null   object \n",
      " 8   LandContour    1459 non-null   object \n",
      " 9   Utilities      1457 non-null   object \n",
      " 10  LotConfig      1459 non-null   object \n",
      " 11  LandSlope      1459 non-null   object \n",
      " 12  Neighborhood   1459 non-null   object \n",
      " 13  Condition1     1459 non-null   object \n",
      " 14  Condition2     1459 non-null   object \n",
      " 15  BldgType       1459 non-null   object \n",
      " 16  HouseStyle     1459 non-null   object \n",
      " 17  OverallQual    1459 non-null   int64  \n",
      " 18  OverallCond    1459 non-null   int64  \n",
      " 19  YearBuilt      1459 non-null   int64  \n",
      " 20  YearRemodAdd   1459 non-null   int64  \n",
      " 21  RoofStyle      1459 non-null   object \n",
      " 22  RoofMatl       1459 non-null   object \n",
      " 23  Exterior1st    1458 non-null   object \n",
      " 24  Exterior2nd    1458 non-null   object \n",
      " 25  MasVnrType     565 non-null    object \n",
      " 26  MasVnrArea     1444 non-null   float64\n",
      " 27  ExterQual      1459 non-null   object \n",
      " 28  ExterCond      1459 non-null   object \n",
      " 29  Foundation     1459 non-null   object \n",
      " 30  BsmtQual       1415 non-null   object \n",
      " 31  BsmtCond       1414 non-null   object \n",
      " 32  BsmtExposure   1415 non-null   object \n",
      " 33  BsmtFinType1   1417 non-null   object \n",
      " 34  BsmtFinSF1     1458 non-null   float64\n",
      " 35  BsmtFinType2   1417 non-null   object \n",
      " 36  BsmtFinSF2     1458 non-null   float64\n",
      " 37  BsmtUnfSF      1458 non-null   float64\n",
      " 38  TotalBsmtSF    1458 non-null   float64\n",
      " 39  Heating        1459 non-null   object \n",
      " 40  HeatingQC      1459 non-null   object \n",
      " 41  CentralAir     1459 non-null   object \n",
      " 42  Electrical     1459 non-null   object \n",
      " 43  1stFlrSF       1459 non-null   int64  \n",
      " 44  2ndFlrSF       1459 non-null   int64  \n",
      " 45  LowQualFinSF   1459 non-null   int64  \n",
      " 46  GrLivArea      1459 non-null   int64  \n",
      " 47  BsmtFullBath   1457 non-null   float64\n",
      " 48  BsmtHalfBath   1457 non-null   float64\n",
      " 49  FullBath       1459 non-null   int64  \n",
      " 50  HalfBath       1459 non-null   int64  \n",
      " 51  BedroomAbvGr   1459 non-null   int64  \n",
      " 52  KitchenAbvGr   1459 non-null   int64  \n",
      " 53  KitchenQual    1458 non-null   object \n",
      " 54  TotRmsAbvGrd   1459 non-null   int64  \n",
      " 55  Functional     1457 non-null   object \n",
      " 56  Fireplaces     1459 non-null   int64  \n",
      " 57  FireplaceQu    729 non-null    object \n",
      " 58  GarageType     1383 non-null   object \n",
      " 59  GarageYrBlt    1381 non-null   float64\n",
      " 60  GarageFinish   1381 non-null   object \n",
      " 61  GarageCars     1458 non-null   float64\n",
      " 62  GarageArea     1458 non-null   float64\n",
      " 63  GarageQual     1381 non-null   object \n",
      " 64  GarageCond     1381 non-null   object \n",
      " 65  PavedDrive     1459 non-null   object \n",
      " 66  WoodDeckSF     1459 non-null   int64  \n",
      " 67  OpenPorchSF    1459 non-null   int64  \n",
      " 68  EnclosedPorch  1459 non-null   int64  \n",
      " 69  3SsnPorch      1459 non-null   int64  \n",
      " 70  ScreenPorch    1459 non-null   int64  \n",
      " 71  PoolArea       1459 non-null   int64  \n",
      " 72  PoolQC         3 non-null      object \n",
      " 73  Fence          290 non-null    object \n",
      " 74  MiscFeature    51 non-null     object \n",
      " 75  MiscVal        1459 non-null   int64  \n",
      " 76  MoSold         1459 non-null   int64  \n",
      " 77  YrSold         1459 non-null   int64  \n",
      " 78  SaleType       1458 non-null   object \n",
      " 79  SaleCondition  1459 non-null   object \n",
      "dtypes: float64(11), int64(26), object(43)\n",
      "memory usage: 912.0+ KB\n"
     ]
    }
   ],
   "source": [
    "House_test.info()"
   ]
  },
  {
   "cell_type": "code",
   "execution_count": 51,
   "id": "52ad74fd",
   "metadata": {
    "execution": {
     "iopub.execute_input": "2025-10-12T17:16:11.708361Z",
     "iopub.status.busy": "2025-10-12T17:16:11.707974Z",
     "iopub.status.idle": "2025-10-12T17:16:11.715049Z",
     "shell.execute_reply": "2025-10-12T17:16:11.713713Z"
    },
    "papermill": {
     "duration": 0.035589,
     "end_time": "2025-10-12T17:16:11.716767",
     "exception": false,
     "start_time": "2025-10-12T17:16:11.681178",
     "status": "completed"
    },
    "tags": []
   },
   "outputs": [
    {
     "data": {
      "text/plain": [
       "(1459, 80)"
      ]
     },
     "execution_count": 51,
     "metadata": {},
     "output_type": "execute_result"
    }
   ],
   "source": [
    "House_test.shape"
   ]
  },
  {
   "cell_type": "code",
   "execution_count": 52,
   "id": "0d316a17",
   "metadata": {
    "execution": {
     "iopub.execute_input": "2025-10-12T17:16:11.766869Z",
     "iopub.status.busy": "2025-10-12T17:16:11.766507Z",
     "iopub.status.idle": "2025-10-12T17:16:11.842371Z",
     "shell.execute_reply": "2025-10-12T17:16:11.841289Z"
    },
    "papermill": {
     "duration": 0.102802,
     "end_time": "2025-10-12T17:16:11.844177",
     "exception": false,
     "start_time": "2025-10-12T17:16:11.741375",
     "status": "completed"
    },
    "tags": []
   },
   "outputs": [
    {
     "data": {
      "text/html": [
       "<div>\n",
       "<style scoped>\n",
       "    .dataframe tbody tr th:only-of-type {\n",
       "        vertical-align: middle;\n",
       "    }\n",
       "\n",
       "    .dataframe tbody tr th {\n",
       "        vertical-align: top;\n",
       "    }\n",
       "\n",
       "    .dataframe thead th {\n",
       "        text-align: right;\n",
       "    }\n",
       "</style>\n",
       "<table border=\"1\" class=\"dataframe\">\n",
       "  <thead>\n",
       "    <tr style=\"text-align: right;\">\n",
       "      <th></th>\n",
       "      <th>Id</th>\n",
       "      <th>MSSubClass</th>\n",
       "      <th>LotFrontage</th>\n",
       "      <th>LotArea</th>\n",
       "      <th>OverallQual</th>\n",
       "      <th>OverallCond</th>\n",
       "      <th>YearBuilt</th>\n",
       "      <th>YearRemodAdd</th>\n",
       "      <th>MasVnrArea</th>\n",
       "      <th>BsmtFinSF1</th>\n",
       "      <th>...</th>\n",
       "      <th>GarageArea</th>\n",
       "      <th>WoodDeckSF</th>\n",
       "      <th>OpenPorchSF</th>\n",
       "      <th>EnclosedPorch</th>\n",
       "      <th>3SsnPorch</th>\n",
       "      <th>ScreenPorch</th>\n",
       "      <th>PoolArea</th>\n",
       "      <th>MiscVal</th>\n",
       "      <th>MoSold</th>\n",
       "      <th>YrSold</th>\n",
       "    </tr>\n",
       "  </thead>\n",
       "  <tbody>\n",
       "    <tr>\n",
       "      <th>count</th>\n",
       "      <td>1459.000000</td>\n",
       "      <td>1459.000000</td>\n",
       "      <td>1232.000000</td>\n",
       "      <td>1459.000000</td>\n",
       "      <td>1459.000000</td>\n",
       "      <td>1459.000000</td>\n",
       "      <td>1459.000000</td>\n",
       "      <td>1459.000000</td>\n",
       "      <td>1444.000000</td>\n",
       "      <td>1458.000000</td>\n",
       "      <td>...</td>\n",
       "      <td>1458.000000</td>\n",
       "      <td>1459.000000</td>\n",
       "      <td>1459.000000</td>\n",
       "      <td>1459.000000</td>\n",
       "      <td>1459.000000</td>\n",
       "      <td>1459.000000</td>\n",
       "      <td>1459.000000</td>\n",
       "      <td>1459.000000</td>\n",
       "      <td>1459.000000</td>\n",
       "      <td>1459.000000</td>\n",
       "    </tr>\n",
       "    <tr>\n",
       "      <th>mean</th>\n",
       "      <td>2190.000000</td>\n",
       "      <td>57.378341</td>\n",
       "      <td>68.580357</td>\n",
       "      <td>9819.161069</td>\n",
       "      <td>6.078821</td>\n",
       "      <td>5.553804</td>\n",
       "      <td>1971.357779</td>\n",
       "      <td>1983.662783</td>\n",
       "      <td>100.709141</td>\n",
       "      <td>439.203704</td>\n",
       "      <td>...</td>\n",
       "      <td>472.768861</td>\n",
       "      <td>93.174777</td>\n",
       "      <td>48.313914</td>\n",
       "      <td>24.243317</td>\n",
       "      <td>1.794380</td>\n",
       "      <td>17.064428</td>\n",
       "      <td>1.744345</td>\n",
       "      <td>58.167923</td>\n",
       "      <td>6.104181</td>\n",
       "      <td>2007.769705</td>\n",
       "    </tr>\n",
       "    <tr>\n",
       "      <th>std</th>\n",
       "      <td>421.321334</td>\n",
       "      <td>42.746880</td>\n",
       "      <td>22.376841</td>\n",
       "      <td>4955.517327</td>\n",
       "      <td>1.436812</td>\n",
       "      <td>1.113740</td>\n",
       "      <td>30.390071</td>\n",
       "      <td>21.130467</td>\n",
       "      <td>177.625900</td>\n",
       "      <td>455.268042</td>\n",
       "      <td>...</td>\n",
       "      <td>217.048611</td>\n",
       "      <td>127.744882</td>\n",
       "      <td>68.883364</td>\n",
       "      <td>67.227765</td>\n",
       "      <td>20.207842</td>\n",
       "      <td>56.609763</td>\n",
       "      <td>30.491646</td>\n",
       "      <td>630.806978</td>\n",
       "      <td>2.722432</td>\n",
       "      <td>1.301740</td>\n",
       "    </tr>\n",
       "    <tr>\n",
       "      <th>min</th>\n",
       "      <td>1461.000000</td>\n",
       "      <td>20.000000</td>\n",
       "      <td>21.000000</td>\n",
       "      <td>1470.000000</td>\n",
       "      <td>1.000000</td>\n",
       "      <td>1.000000</td>\n",
       "      <td>1879.000000</td>\n",
       "      <td>1950.000000</td>\n",
       "      <td>0.000000</td>\n",
       "      <td>0.000000</td>\n",
       "      <td>...</td>\n",
       "      <td>0.000000</td>\n",
       "      <td>0.000000</td>\n",
       "      <td>0.000000</td>\n",
       "      <td>0.000000</td>\n",
       "      <td>0.000000</td>\n",
       "      <td>0.000000</td>\n",
       "      <td>0.000000</td>\n",
       "      <td>0.000000</td>\n",
       "      <td>1.000000</td>\n",
       "      <td>2006.000000</td>\n",
       "    </tr>\n",
       "    <tr>\n",
       "      <th>25%</th>\n",
       "      <td>1825.500000</td>\n",
       "      <td>20.000000</td>\n",
       "      <td>58.000000</td>\n",
       "      <td>7391.000000</td>\n",
       "      <td>5.000000</td>\n",
       "      <td>5.000000</td>\n",
       "      <td>1953.000000</td>\n",
       "      <td>1963.000000</td>\n",
       "      <td>0.000000</td>\n",
       "      <td>0.000000</td>\n",
       "      <td>...</td>\n",
       "      <td>318.000000</td>\n",
       "      <td>0.000000</td>\n",
       "      <td>0.000000</td>\n",
       "      <td>0.000000</td>\n",
       "      <td>0.000000</td>\n",
       "      <td>0.000000</td>\n",
       "      <td>0.000000</td>\n",
       "      <td>0.000000</td>\n",
       "      <td>4.000000</td>\n",
       "      <td>2007.000000</td>\n",
       "    </tr>\n",
       "    <tr>\n",
       "      <th>50%</th>\n",
       "      <td>2190.000000</td>\n",
       "      <td>50.000000</td>\n",
       "      <td>67.000000</td>\n",
       "      <td>9399.000000</td>\n",
       "      <td>6.000000</td>\n",
       "      <td>5.000000</td>\n",
       "      <td>1973.000000</td>\n",
       "      <td>1992.000000</td>\n",
       "      <td>0.000000</td>\n",
       "      <td>350.500000</td>\n",
       "      <td>...</td>\n",
       "      <td>480.000000</td>\n",
       "      <td>0.000000</td>\n",
       "      <td>28.000000</td>\n",
       "      <td>0.000000</td>\n",
       "      <td>0.000000</td>\n",
       "      <td>0.000000</td>\n",
       "      <td>0.000000</td>\n",
       "      <td>0.000000</td>\n",
       "      <td>6.000000</td>\n",
       "      <td>2008.000000</td>\n",
       "    </tr>\n",
       "    <tr>\n",
       "      <th>75%</th>\n",
       "      <td>2554.500000</td>\n",
       "      <td>70.000000</td>\n",
       "      <td>80.000000</td>\n",
       "      <td>11517.500000</td>\n",
       "      <td>7.000000</td>\n",
       "      <td>6.000000</td>\n",
       "      <td>2001.000000</td>\n",
       "      <td>2004.000000</td>\n",
       "      <td>164.000000</td>\n",
       "      <td>753.500000</td>\n",
       "      <td>...</td>\n",
       "      <td>576.000000</td>\n",
       "      <td>168.000000</td>\n",
       "      <td>72.000000</td>\n",
       "      <td>0.000000</td>\n",
       "      <td>0.000000</td>\n",
       "      <td>0.000000</td>\n",
       "      <td>0.000000</td>\n",
       "      <td>0.000000</td>\n",
       "      <td>8.000000</td>\n",
       "      <td>2009.000000</td>\n",
       "    </tr>\n",
       "    <tr>\n",
       "      <th>max</th>\n",
       "      <td>2919.000000</td>\n",
       "      <td>190.000000</td>\n",
       "      <td>200.000000</td>\n",
       "      <td>56600.000000</td>\n",
       "      <td>10.000000</td>\n",
       "      <td>9.000000</td>\n",
       "      <td>2010.000000</td>\n",
       "      <td>2010.000000</td>\n",
       "      <td>1290.000000</td>\n",
       "      <td>4010.000000</td>\n",
       "      <td>...</td>\n",
       "      <td>1488.000000</td>\n",
       "      <td>1424.000000</td>\n",
       "      <td>742.000000</td>\n",
       "      <td>1012.000000</td>\n",
       "      <td>360.000000</td>\n",
       "      <td>576.000000</td>\n",
       "      <td>800.000000</td>\n",
       "      <td>17000.000000</td>\n",
       "      <td>12.000000</td>\n",
       "      <td>2010.000000</td>\n",
       "    </tr>\n",
       "  </tbody>\n",
       "</table>\n",
       "<p>8 rows × 37 columns</p>\n",
       "</div>"
      ],
      "text/plain": [
       "                Id   MSSubClass  LotFrontage       LotArea  OverallQual  \\\n",
       "count  1459.000000  1459.000000  1232.000000   1459.000000  1459.000000   \n",
       "mean   2190.000000    57.378341    68.580357   9819.161069     6.078821   \n",
       "std     421.321334    42.746880    22.376841   4955.517327     1.436812   \n",
       "min    1461.000000    20.000000    21.000000   1470.000000     1.000000   \n",
       "25%    1825.500000    20.000000    58.000000   7391.000000     5.000000   \n",
       "50%    2190.000000    50.000000    67.000000   9399.000000     6.000000   \n",
       "75%    2554.500000    70.000000    80.000000  11517.500000     7.000000   \n",
       "max    2919.000000   190.000000   200.000000  56600.000000    10.000000   \n",
       "\n",
       "       OverallCond    YearBuilt  YearRemodAdd   MasVnrArea   BsmtFinSF1  ...  \\\n",
       "count  1459.000000  1459.000000   1459.000000  1444.000000  1458.000000  ...   \n",
       "mean      5.553804  1971.357779   1983.662783   100.709141   439.203704  ...   \n",
       "std       1.113740    30.390071     21.130467   177.625900   455.268042  ...   \n",
       "min       1.000000  1879.000000   1950.000000     0.000000     0.000000  ...   \n",
       "25%       5.000000  1953.000000   1963.000000     0.000000     0.000000  ...   \n",
       "50%       5.000000  1973.000000   1992.000000     0.000000   350.500000  ...   \n",
       "75%       6.000000  2001.000000   2004.000000   164.000000   753.500000  ...   \n",
       "max       9.000000  2010.000000   2010.000000  1290.000000  4010.000000  ...   \n",
       "\n",
       "        GarageArea   WoodDeckSF  OpenPorchSF  EnclosedPorch    3SsnPorch  \\\n",
       "count  1458.000000  1459.000000  1459.000000    1459.000000  1459.000000   \n",
       "mean    472.768861    93.174777    48.313914      24.243317     1.794380   \n",
       "std     217.048611   127.744882    68.883364      67.227765    20.207842   \n",
       "min       0.000000     0.000000     0.000000       0.000000     0.000000   \n",
       "25%     318.000000     0.000000     0.000000       0.000000     0.000000   \n",
       "50%     480.000000     0.000000    28.000000       0.000000     0.000000   \n",
       "75%     576.000000   168.000000    72.000000       0.000000     0.000000   \n",
       "max    1488.000000  1424.000000   742.000000    1012.000000   360.000000   \n",
       "\n",
       "       ScreenPorch     PoolArea       MiscVal       MoSold       YrSold  \n",
       "count  1459.000000  1459.000000   1459.000000  1459.000000  1459.000000  \n",
       "mean     17.064428     1.744345     58.167923     6.104181  2007.769705  \n",
       "std      56.609763    30.491646    630.806978     2.722432     1.301740  \n",
       "min       0.000000     0.000000      0.000000     1.000000  2006.000000  \n",
       "25%       0.000000     0.000000      0.000000     4.000000  2007.000000  \n",
       "50%       0.000000     0.000000      0.000000     6.000000  2008.000000  \n",
       "75%       0.000000     0.000000      0.000000     8.000000  2009.000000  \n",
       "max     576.000000   800.000000  17000.000000    12.000000  2010.000000  \n",
       "\n",
       "[8 rows x 37 columns]"
      ]
     },
     "execution_count": 52,
     "metadata": {},
     "output_type": "execute_result"
    }
   ],
   "source": [
    "House_test.describe()"
   ]
  },
  {
   "cell_type": "code",
   "execution_count": 53,
   "id": "6475bdd7",
   "metadata": {
    "execution": {
     "iopub.execute_input": "2025-10-12T17:16:11.894525Z",
     "iopub.status.busy": "2025-10-12T17:16:11.893689Z",
     "iopub.status.idle": "2025-10-12T17:16:11.900730Z",
     "shell.execute_reply": "2025-10-12T17:16:11.899729Z"
    },
    "papermill": {
     "duration": 0.033502,
     "end_time": "2025-10-12T17:16:11.902354",
     "exception": false,
     "start_time": "2025-10-12T17:16:11.868852",
     "status": "completed"
    },
    "tags": []
   },
   "outputs": [
    {
     "data": {
      "text/plain": [
       "Index(['Id', 'MSSubClass', 'MSZoning', 'LotFrontage', 'LotArea', 'Street',\n",
       "       'Alley', 'LotShape', 'LandContour', 'Utilities', 'LotConfig',\n",
       "       'LandSlope', 'Neighborhood', 'Condition1', 'Condition2', 'BldgType',\n",
       "       'HouseStyle', 'OverallQual', 'OverallCond', 'YearBuilt', 'YearRemodAdd',\n",
       "       'RoofStyle', 'RoofMatl', 'Exterior1st', 'Exterior2nd', 'MasVnrType',\n",
       "       'MasVnrArea', 'ExterQual', 'ExterCond', 'Foundation', 'BsmtQual',\n",
       "       'BsmtCond', 'BsmtExposure', 'BsmtFinType1', 'BsmtFinSF1',\n",
       "       'BsmtFinType2', 'BsmtFinSF2', 'BsmtUnfSF', 'TotalBsmtSF', 'Heating',\n",
       "       'HeatingQC', 'CentralAir', 'Electrical', '1stFlrSF', '2ndFlrSF',\n",
       "       'LowQualFinSF', 'GrLivArea', 'BsmtFullBath', 'BsmtHalfBath', 'FullBath',\n",
       "       'HalfBath', 'BedroomAbvGr', 'KitchenAbvGr', 'KitchenQual',\n",
       "       'TotRmsAbvGrd', 'Functional', 'Fireplaces', 'FireplaceQu', 'GarageType',\n",
       "       'GarageYrBlt', 'GarageFinish', 'GarageCars', 'GarageArea', 'GarageQual',\n",
       "       'GarageCond', 'PavedDrive', 'WoodDeckSF', 'OpenPorchSF',\n",
       "       'EnclosedPorch', '3SsnPorch', 'ScreenPorch', 'PoolArea', 'PoolQC',\n",
       "       'Fence', 'MiscFeature', 'MiscVal', 'MoSold', 'YrSold', 'SaleType',\n",
       "       'SaleCondition'],\n",
       "      dtype='object')"
      ]
     },
     "execution_count": 53,
     "metadata": {},
     "output_type": "execute_result"
    }
   ],
   "source": [
    "House_test.columns"
   ]
  },
  {
   "cell_type": "markdown",
   "id": "8433f905",
   "metadata": {
    "papermill": {
     "duration": 0.025733,
     "end_time": "2025-10-12T17:16:11.953678",
     "exception": false,
     "start_time": "2025-10-12T17:16:11.927945",
     "status": "completed"
    },
    "tags": []
   },
   "source": [
    "### **Nulls Test data**"
   ]
  },
  {
   "cell_type": "code",
   "execution_count": 54,
   "id": "b73bd7df",
   "metadata": {
    "execution": {
     "iopub.execute_input": "2025-10-12T17:16:12.007417Z",
     "iopub.status.busy": "2025-10-12T17:16:12.007043Z",
     "iopub.status.idle": "2025-10-12T17:16:12.019591Z",
     "shell.execute_reply": "2025-10-12T17:16:12.018643Z"
    },
    "papermill": {
     "duration": 0.042577,
     "end_time": "2025-10-12T17:16:12.021367",
     "exception": false,
     "start_time": "2025-10-12T17:16:11.978790",
     "status": "completed"
    },
    "tags": []
   },
   "outputs": [
    {
     "data": {
      "text/plain": [
       "Id                 0\n",
       "MSSubClass         0\n",
       "MSZoning           4\n",
       "LotFrontage      227\n",
       "LotArea            0\n",
       "                ... \n",
       "MiscVal            0\n",
       "MoSold             0\n",
       "YrSold             0\n",
       "SaleType           1\n",
       "SaleCondition      0\n",
       "Length: 80, dtype: int64"
      ]
     },
     "execution_count": 54,
     "metadata": {},
     "output_type": "execute_result"
    }
   ],
   "source": [
    "House_test.isnull().sum()"
   ]
  },
  {
   "cell_type": "markdown",
   "id": "e3094e26",
   "metadata": {
    "papermill": {
     "duration": 0.025093,
     "end_time": "2025-10-12T17:16:12.072606",
     "exception": false,
     "start_time": "2025-10-12T17:16:12.047513",
     "status": "completed"
    },
    "tags": []
   },
   "source": [
    "To extract all columns which have Nulls :"
   ]
  },
  {
   "cell_type": "code",
   "execution_count": 55,
   "id": "0c623141",
   "metadata": {
    "execution": {
     "iopub.execute_input": "2025-10-12T17:16:12.126173Z",
     "iopub.status.busy": "2025-10-12T17:16:12.125717Z",
     "iopub.status.idle": "2025-10-12T17:16:12.153019Z",
     "shell.execute_reply": "2025-10-12T17:16:12.151531Z"
    },
    "papermill": {
     "duration": 0.056204,
     "end_time": "2025-10-12T17:16:12.154793",
     "exception": false,
     "start_time": "2025-10-12T17:16:12.098589",
     "status": "completed"
    },
    "tags": []
   },
   "outputs": [
    {
     "name": "stdout",
     "output_type": "stream",
     "text": [
      "MSZoning contain : (4) Null\n",
      "LotFrontage contain : (227) Null\n",
      "Alley contain : (1352) Null\n",
      "Utilities contain : (2) Null\n",
      "Exterior1st contain : (1) Null\n",
      "Exterior2nd contain : (1) Null\n",
      "MasVnrType contain : (894) Null\n",
      "MasVnrArea contain : (15) Null\n",
      "BsmtQual contain : (44) Null\n",
      "BsmtCond contain : (45) Null\n",
      "BsmtExposure contain : (44) Null\n",
      "BsmtFinType1 contain : (42) Null\n",
      "BsmtFinSF1 contain : (1) Null\n",
      "BsmtFinType2 contain : (42) Null\n",
      "BsmtFinSF2 contain : (1) Null\n",
      "BsmtUnfSF contain : (1) Null\n",
      "TotalBsmtSF contain : (1) Null\n",
      "BsmtFullBath contain : (2) Null\n",
      "BsmtHalfBath contain : (2) Null\n",
      "KitchenQual contain : (1) Null\n",
      "Functional contain : (2) Null\n",
      "FireplaceQu contain : (730) Null\n",
      "GarageType contain : (76) Null\n",
      "GarageYrBlt contain : (78) Null\n",
      "GarageFinish contain : (78) Null\n",
      "GarageCars contain : (1) Null\n",
      "GarageArea contain : (1) Null\n",
      "GarageQual contain : (78) Null\n",
      "GarageCond contain : (78) Null\n",
      "PoolQC contain : (1456) Null\n",
      "Fence contain : (1169) Null\n",
      "MiscFeature contain : (1408) Null\n",
      "SaleType contain : (1) Null\n"
     ]
    }
   ],
   "source": [
    "for col in House_test.columns:\n",
    "    if House_test[col].isnull().sum() != 0:\n",
    "        print(f'{col} contain : ({House_test[col].isnull().sum()}) Null')"
   ]
  },
  {
   "cell_type": "markdown",
   "id": "cb0b9ffb",
   "metadata": {
    "papermill": {
     "duration": 0.027536,
     "end_time": "2025-10-12T17:16:12.208055",
     "exception": false,
     "start_time": "2025-10-12T17:16:12.180519",
     "status": "completed"
    },
    "tags": []
   },
   "source": [
    "To keep Id columns found becaue we need it for submission file:"
   ]
  },
  {
   "cell_type": "code",
   "execution_count": 56,
   "id": "22f002d0",
   "metadata": {
    "execution": {
     "iopub.execute_input": "2025-10-12T17:16:12.262035Z",
     "iopub.status.busy": "2025-10-12T17:16:12.261646Z",
     "iopub.status.idle": "2025-10-12T17:16:12.266355Z",
     "shell.execute_reply": "2025-10-12T17:16:12.265391Z"
    },
    "papermill": {
     "duration": 0.034332,
     "end_time": "2025-10-12T17:16:12.268261",
     "exception": false,
     "start_time": "2025-10-12T17:16:12.233929",
     "status": "completed"
    },
    "tags": []
   },
   "outputs": [],
   "source": [
    "Test_Id = House_test['Id'].copy()"
   ]
  },
  {
   "cell_type": "markdown",
   "id": "d20fa858",
   "metadata": {
    "papermill": {
     "duration": 0.025694,
     "end_time": "2025-10-12T17:16:12.322619",
     "exception": false,
     "start_time": "2025-10-12T17:16:12.296925",
     "status": "completed"
    },
    "tags": []
   },
   "source": [
    "To remove non important columns and columns which have more than 85% Nulls:"
   ]
  },
  {
   "cell_type": "code",
   "execution_count": 57,
   "id": "e3e96a50",
   "metadata": {
    "execution": {
     "iopub.execute_input": "2025-10-12T17:16:12.376208Z",
     "iopub.status.busy": "2025-10-12T17:16:12.374799Z",
     "iopub.status.idle": "2025-10-12T17:16:12.382891Z",
     "shell.execute_reply": "2025-10-12T17:16:12.381811Z"
    },
    "papermill": {
     "duration": 0.036084,
     "end_time": "2025-10-12T17:16:12.384603",
     "exception": false,
     "start_time": "2025-10-12T17:16:12.348519",
     "status": "completed"
    },
    "tags": []
   },
   "outputs": [],
   "source": [
    "House_test = House_test.drop(['MiscFeature','Fence','PoolQC','Alley','Id'],axis=1)"
   ]
  },
  {
   "cell_type": "code",
   "execution_count": 58,
   "id": "d8515dfa",
   "metadata": {
    "execution": {
     "iopub.execute_input": "2025-10-12T17:16:12.440091Z",
     "iopub.status.busy": "2025-10-12T17:16:12.439377Z",
     "iopub.status.idle": "2025-10-12T17:16:12.470936Z",
     "shell.execute_reply": "2025-10-12T17:16:12.469903Z"
    },
    "papermill": {
     "duration": 0.060475,
     "end_time": "2025-10-12T17:16:12.472607",
     "exception": false,
     "start_time": "2025-10-12T17:16:12.412132",
     "status": "completed"
    },
    "tags": []
   },
   "outputs": [
    {
     "name": "stdout",
     "output_type": "stream",
     "text": [
      "MSZoning contain : (4) Null\n",
      "LotFrontage contain : (227) Null\n",
      "Utilities contain : (2) Null\n",
      "Exterior1st contain : (1) Null\n",
      "Exterior2nd contain : (1) Null\n",
      "MasVnrType contain : (894) Null\n",
      "MasVnrArea contain : (15) Null\n",
      "BsmtQual contain : (44) Null\n",
      "BsmtCond contain : (45) Null\n",
      "BsmtExposure contain : (44) Null\n",
      "BsmtFinType1 contain : (42) Null\n",
      "BsmtFinSF1 contain : (1) Null\n",
      "BsmtFinType2 contain : (42) Null\n",
      "BsmtFinSF2 contain : (1) Null\n",
      "BsmtUnfSF contain : (1) Null\n",
      "TotalBsmtSF contain : (1) Null\n",
      "BsmtFullBath contain : (2) Null\n",
      "BsmtHalfBath contain : (2) Null\n",
      "KitchenQual contain : (1) Null\n",
      "Functional contain : (2) Null\n",
      "FireplaceQu contain : (730) Null\n",
      "GarageType contain : (76) Null\n",
      "GarageYrBlt contain : (78) Null\n",
      "GarageFinish contain : (78) Null\n",
      "GarageCars contain : (1) Null\n",
      "GarageArea contain : (1) Null\n",
      "GarageQual contain : (78) Null\n",
      "GarageCond contain : (78) Null\n",
      "SaleType contain : (1) Null\n"
     ]
    }
   ],
   "source": [
    "for col in House_test.columns:\n",
    "    if House_test[col].isnull().sum() != 0:\n",
    "        print(f'{col} contain : ({House_test[col].isnull().sum()}) Null')"
   ]
  },
  {
   "cell_type": "markdown",
   "id": "d265f774",
   "metadata": {
    "papermill": {
     "duration": 0.028114,
     "end_time": "2025-10-12T17:16:12.529038",
     "exception": false,
     "start_time": "2025-10-12T17:16:12.500924",
     "status": "completed"
    },
    "tags": []
   },
   "source": [
    "For **Numerical values**:"
   ]
  },
  {
   "cell_type": "code",
   "execution_count": 59,
   "id": "e5803dc2",
   "metadata": {
    "execution": {
     "iopub.execute_input": "2025-10-12T17:16:12.584902Z",
     "iopub.status.busy": "2025-10-12T17:16:12.584464Z",
     "iopub.status.idle": "2025-10-12T17:16:12.591633Z",
     "shell.execute_reply": "2025-10-12T17:16:12.590294Z"
    },
    "papermill": {
     "duration": 0.036136,
     "end_time": "2025-10-12T17:16:12.593470",
     "exception": false,
     "start_time": "2025-10-12T17:16:12.557334",
     "status": "completed"
    },
    "tags": []
   },
   "outputs": [
    {
     "name": "stdout",
     "output_type": "stream",
     "text": [
      "['MSSubClass', 'LotFrontage', 'LotArea', 'OverallQual', 'OverallCond', 'YearBuilt', 'YearRemodAdd', 'MasVnrArea', 'BsmtFinSF1', 'BsmtFinSF2', 'BsmtUnfSF', 'TotalBsmtSF', '1stFlrSF', '2ndFlrSF', 'LowQualFinSF', 'GrLivArea', 'BsmtFullBath', 'BsmtHalfBath', 'FullBath', 'HalfBath', 'BedroomAbvGr', 'KitchenAbvGr', 'TotRmsAbvGrd', 'Fireplaces', 'GarageYrBlt', 'GarageCars', 'GarageArea', 'WoodDeckSF', 'OpenPorchSF', 'EnclosedPorch', '3SsnPorch', 'ScreenPorch', 'PoolArea', 'MiscVal', 'MoSold', 'YrSold']\n"
     ]
    }
   ],
   "source": [
    "Numerical_columns = House_test.select_dtypes(include=['int64', 'float64']).columns.tolist()\n",
    "print(Numerical_columns)"
   ]
  },
  {
   "cell_type": "markdown",
   "id": "c500ba36",
   "metadata": {
    "papermill": {
     "duration": 0.027223,
     "end_time": "2025-10-12T17:16:12.646023",
     "exception": false,
     "start_time": "2025-10-12T17:16:12.618800",
     "status": "completed"
    },
    "tags": []
   },
   "source": [
    "For **Categorical values:**"
   ]
  },
  {
   "cell_type": "code",
   "execution_count": 60,
   "id": "f8eba26c",
   "metadata": {
    "execution": {
     "iopub.execute_input": "2025-10-12T17:16:12.701359Z",
     "iopub.status.busy": "2025-10-12T17:16:12.701065Z",
     "iopub.status.idle": "2025-10-12T17:16:12.708551Z",
     "shell.execute_reply": "2025-10-12T17:16:12.706810Z"
    },
    "papermill": {
     "duration": 0.038377,
     "end_time": "2025-10-12T17:16:12.710901",
     "exception": false,
     "start_time": "2025-10-12T17:16:12.672524",
     "status": "completed"
    },
    "tags": []
   },
   "outputs": [
    {
     "name": "stdout",
     "output_type": "stream",
     "text": [
      "['MSZoning', 'Street', 'LotShape', 'LandContour', 'Utilities', 'LotConfig', 'LandSlope', 'Neighborhood', 'Condition1', 'Condition2', 'BldgType', 'HouseStyle', 'RoofStyle', 'RoofMatl', 'Exterior1st', 'Exterior2nd', 'MasVnrType', 'ExterQual', 'ExterCond', 'Foundation', 'BsmtQual', 'BsmtCond', 'BsmtExposure', 'BsmtFinType1', 'BsmtFinType2', 'Heating', 'HeatingQC', 'CentralAir', 'Electrical', 'KitchenQual', 'Functional', 'FireplaceQu', 'GarageType', 'GarageFinish', 'GarageQual', 'GarageCond', 'PavedDrive', 'SaleType', 'SaleCondition']\n"
     ]
    }
   ],
   "source": [
    "Categorical_columns = House_test.select_dtypes(include=['object']).columns.tolist()\n",
    "print(Categorical_columns)"
   ]
  },
  {
   "cell_type": "markdown",
   "id": "bea24246",
   "metadata": {
    "papermill": {
     "duration": 0.026466,
     "end_time": "2025-10-12T17:16:12.762620",
     "exception": false,
     "start_time": "2025-10-12T17:16:12.736154",
     "status": "completed"
    },
    "tags": []
   },
   "source": [
    "To remove Nulls at Numerical columns we use this code:"
   ]
  },
  {
   "cell_type": "code",
   "execution_count": 61,
   "id": "1220d0ba",
   "metadata": {
    "execution": {
     "iopub.execute_input": "2025-10-12T17:16:12.818775Z",
     "iopub.status.busy": "2025-10-12T17:16:12.818437Z",
     "iopub.status.idle": "2025-10-12T17:16:12.832937Z",
     "shell.execute_reply": "2025-10-12T17:16:12.831750Z"
    },
    "papermill": {
     "duration": 0.044851,
     "end_time": "2025-10-12T17:16:12.834751",
     "exception": false,
     "start_time": "2025-10-12T17:16:12.789900",
     "status": "completed"
    },
    "tags": []
   },
   "outputs": [],
   "source": [
    "numeric_cols = House_test.select_dtypes(include=['int64','float64']).columns.tolist()\n",
    "\n",
    "for col in numeric_cols:\n",
    "    if col in House_test.columns:\n",
    "        House_test[col].fillna(House_test[col].median(), inplace=True)"
   ]
  },
  {
   "cell_type": "markdown",
   "id": "82ed57f4",
   "metadata": {
    "papermill": {
     "duration": 0.027635,
     "end_time": "2025-10-12T17:16:12.889168",
     "exception": false,
     "start_time": "2025-10-12T17:16:12.861533",
     "status": "completed"
    },
    "tags": []
   },
   "source": [
    "To remove Nulls at Categorical columns we use this code:"
   ]
  },
  {
   "cell_type": "code",
   "execution_count": 62,
   "id": "cc06e1a1",
   "metadata": {
    "execution": {
     "iopub.execute_input": "2025-10-12T17:16:12.943448Z",
     "iopub.status.busy": "2025-10-12T17:16:12.943054Z",
     "iopub.status.idle": "2025-10-12T17:16:12.967468Z",
     "shell.execute_reply": "2025-10-12T17:16:12.966189Z"
    },
    "papermill": {
     "duration": 0.05395,
     "end_time": "2025-10-12T17:16:12.969321",
     "exception": false,
     "start_time": "2025-10-12T17:16:12.915371",
     "status": "completed"
    },
    "tags": []
   },
   "outputs": [],
   "source": [
    "categorical_cols = ['MasVnrType','BsmtQual','BsmtCond','BsmtExposure','BsmtFinType1','MSZoning',\n",
    "                    'BsmtFinType2','Electrical','FireplaceQu','GarageType','GarageFinish','Utilities',\n",
    "                    'GarageQual','Exterior1st','Exterior2nd','KitchenQual','Functional','SaleType']\n",
    "\n",
    "for col in categorical_cols:\n",
    "    if col in House_test.columns:\n",
    "        # fill Nulls by mode\n",
    "        most_frequent = House_test[col].mode()[0]\n",
    "        House_test[col].fillna(most_frequent, inplace=True)"
   ]
  },
  {
   "cell_type": "code",
   "execution_count": 63,
   "id": "4234b6da",
   "metadata": {
    "execution": {
     "iopub.execute_input": "2025-10-12T17:16:13.023606Z",
     "iopub.status.busy": "2025-10-12T17:16:13.023308Z",
     "iopub.status.idle": "2025-10-12T17:16:13.030201Z",
     "shell.execute_reply": "2025-10-12T17:16:13.029053Z"
    },
    "papermill": {
     "duration": 0.03569,
     "end_time": "2025-10-12T17:16:13.032054",
     "exception": false,
     "start_time": "2025-10-12T17:16:12.996364",
     "status": "completed"
    },
    "tags": []
   },
   "outputs": [],
   "source": [
    "House_test['GarageCond'] = House_test['GarageCond'].astype(str).str.strip()"
   ]
  },
  {
   "cell_type": "code",
   "execution_count": 64,
   "id": "50f2331f",
   "metadata": {
    "execution": {
     "iopub.execute_input": "2025-10-12T17:16:13.087038Z",
     "iopub.status.busy": "2025-10-12T17:16:13.086686Z",
     "iopub.status.idle": "2025-10-12T17:16:13.093548Z",
     "shell.execute_reply": "2025-10-12T17:16:13.092124Z"
    },
    "papermill": {
     "duration": 0.036248,
     "end_time": "2025-10-12T17:16:13.095415",
     "exception": false,
     "start_time": "2025-10-12T17:16:13.059167",
     "status": "completed"
    },
    "tags": []
   },
   "outputs": [],
   "source": [
    "# replace nan by None\n",
    "House_test['GarageCond'].replace('nan', 'None', inplace=True)"
   ]
  },
  {
   "cell_type": "markdown",
   "id": "2bedf210",
   "metadata": {
    "papermill": {
     "duration": 0.026033,
     "end_time": "2025-10-12T17:16:13.148919",
     "exception": false,
     "start_time": "2025-10-12T17:16:13.122886",
     "status": "completed"
    },
    "tags": []
   },
   "source": [
    "To check if there is found any Nulls at data:"
   ]
  },
  {
   "cell_type": "code",
   "execution_count": 65,
   "id": "2eb2ffa2",
   "metadata": {
    "execution": {
     "iopub.execute_input": "2025-10-12T17:16:13.203708Z",
     "iopub.status.busy": "2025-10-12T17:16:13.203358Z",
     "iopub.status.idle": "2025-10-12T17:16:13.214130Z",
     "shell.execute_reply": "2025-10-12T17:16:13.212935Z"
    },
    "papermill": {
     "duration": 0.039876,
     "end_time": "2025-10-12T17:16:13.215671",
     "exception": false,
     "start_time": "2025-10-12T17:16:13.175795",
     "status": "completed"
    },
    "tags": []
   },
   "outputs": [
    {
     "name": "stdout",
     "output_type": "stream",
     "text": [
      "No Nulls Found\n"
     ]
    }
   ],
   "source": [
    "Nulls_col = House_test.isnull().sum()\n",
    "if Nulls_col.any():\n",
    "    print(Nulls_col[Nulls_col != 0])\n",
    "else:\n",
    "    print('No Nulls Found')"
   ]
  },
  {
   "cell_type": "markdown",
   "id": "0b6821cb",
   "metadata": {
    "papermill": {
     "duration": 0.025951,
     "end_time": "2025-10-12T17:16:13.267745",
     "exception": false,
     "start_time": "2025-10-12T17:16:13.241794",
     "status": "completed"
    },
    "tags": []
   },
   "source": [
    "## **FeatuerExtraction for Test data**"
   ]
  },
  {
   "cell_type": "code",
   "execution_count": 66,
   "id": "a74a97c5",
   "metadata": {
    "execution": {
     "iopub.execute_input": "2025-10-12T17:16:13.320700Z",
     "iopub.status.busy": "2025-10-12T17:16:13.320363Z",
     "iopub.status.idle": "2025-10-12T17:16:13.334953Z",
     "shell.execute_reply": "2025-10-12T17:16:13.333927Z"
    },
    "papermill": {
     "duration": 0.042631,
     "end_time": "2025-10-12T17:16:13.336593",
     "exception": false,
     "start_time": "2025-10-12T17:16:13.293962",
     "status": "completed"
    },
    "tags": []
   },
   "outputs": [
    {
     "name": "stdout",
     "output_type": "stream",
     "text": [
      "MSZoning (5 values): ['RH' 'RL' 'RM' 'FV' 'C (all)']\n",
      "--------------------------------------------------\n",
      "Street (2 values): ['Pave' 'Grvl']\n",
      "--------------------------------------------------\n",
      "LotShape (4 values): ['Reg' 'IR1' 'IR2' 'IR3']\n",
      "--------------------------------------------------\n",
      "LandContour (4 values): ['Lvl' 'HLS' 'Bnk' 'Low']\n",
      "--------------------------------------------------\n",
      "Utilities (1 values): ['AllPub']\n",
      "--------------------------------------------------\n",
      "LotConfig (5 values): ['Inside' 'Corner' 'FR2' 'CulDSac' 'FR3']\n",
      "--------------------------------------------------\n",
      "LandSlope (3 values): ['Gtl' 'Mod' 'Sev']\n",
      "--------------------------------------------------\n",
      "Neighborhood (25 values): ['NAmes' 'Gilbert' 'StoneBr' 'BrDale' 'NPkVill' 'NridgHt' 'Blmngtn'\n",
      " 'NoRidge' 'Somerst' 'SawyerW' 'Sawyer' 'NWAmes' 'OldTown' 'BrkSide'\n",
      " 'ClearCr' 'SWISU' 'Edwards' 'CollgCr' 'Crawfor' 'Blueste' 'IDOTRR'\n",
      " 'Mitchel' 'Timber' 'MeadowV' 'Veenker']\n",
      "--------------------------------------------------\n",
      "Condition1 (9 values): ['Feedr' 'Norm' 'PosN' 'RRNe' 'Artery' 'RRNn' 'PosA' 'RRAn' 'RRAe']\n",
      "--------------------------------------------------\n",
      "Condition2 (5 values): ['Norm' 'Feedr' 'PosA' 'PosN' 'Artery']\n",
      "--------------------------------------------------\n",
      "BldgType (5 values): ['1Fam' 'TwnhsE' 'Twnhs' 'Duplex' '2fmCon']\n",
      "--------------------------------------------------\n",
      "HouseStyle (7 values): ['1Story' '2Story' 'SLvl' '1.5Fin' 'SFoyer' '2.5Unf' '1.5Unf']\n",
      "--------------------------------------------------\n",
      "RoofStyle (6 values): ['Gable' 'Hip' 'Gambrel' 'Flat' 'Mansard' 'Shed']\n",
      "--------------------------------------------------\n",
      "RoofMatl (4 values): ['CompShg' 'Tar&Grv' 'WdShake' 'WdShngl']\n",
      "--------------------------------------------------\n",
      "Exterior1st (13 values): ['VinylSd' 'Wd Sdng' 'HdBoard' 'Plywood' 'MetalSd' 'CemntBd' 'WdShing'\n",
      " 'BrkFace' 'AsbShng' 'BrkComm' 'Stucco' 'AsphShn' 'CBlock']\n",
      "--------------------------------------------------\n",
      "Exterior2nd (15 values): ['VinylSd' 'Wd Sdng' 'HdBoard' 'Plywood' 'MetalSd' 'Brk Cmn' 'CmentBd'\n",
      " 'ImStucc' 'Wd Shng' 'AsbShng' 'Stucco' 'CBlock' 'BrkFace' 'AsphShn'\n",
      " 'Stone']\n",
      "--------------------------------------------------\n",
      "MasVnrType (3 values): ['BrkFace' 'Stone' 'BrkCmn']\n",
      "--------------------------------------------------\n",
      "ExterQual (4 values): ['TA' 'Gd' 'Ex' 'Fa']\n",
      "--------------------------------------------------\n",
      "ExterCond (5 values): ['TA' 'Gd' 'Fa' 'Po' 'Ex']\n",
      "--------------------------------------------------\n",
      "Foundation (6 values): ['CBlock' 'PConc' 'BrkTil' 'Stone' 'Slab' 'Wood']\n",
      "--------------------------------------------------\n",
      "BsmtQual (4 values): ['TA' 'Gd' 'Ex' 'Fa']\n",
      "--------------------------------------------------\n",
      "BsmtCond (4 values): ['TA' 'Po' 'Fa' 'Gd']\n",
      "--------------------------------------------------\n",
      "BsmtExposure (4 values): ['No' 'Gd' 'Mn' 'Av']\n",
      "--------------------------------------------------\n",
      "BsmtFinType1 (6 values): ['Rec' 'ALQ' 'GLQ' 'Unf' 'BLQ' 'LwQ']\n",
      "--------------------------------------------------\n",
      "BsmtFinType2 (6 values): ['LwQ' 'Unf' 'Rec' 'BLQ' 'GLQ' 'ALQ']\n",
      "--------------------------------------------------\n",
      "Heating (4 values): ['GasA' 'GasW' 'Grav' 'Wall']\n",
      "--------------------------------------------------\n",
      "HeatingQC (5 values): ['TA' 'Gd' 'Ex' 'Fa' 'Po']\n",
      "--------------------------------------------------\n",
      "CentralAir (2 values): ['Y' 'N']\n",
      "--------------------------------------------------\n",
      "Electrical (4 values): ['SBrkr' 'FuseA' 'FuseF' 'FuseP']\n",
      "--------------------------------------------------\n",
      "KitchenQual (4 values): ['TA' 'Gd' 'Ex' 'Fa']\n",
      "--------------------------------------------------\n",
      "Functional (7 values): ['Typ' 'Min2' 'Min1' 'Mod' 'Maj1' 'Sev' 'Maj2']\n",
      "--------------------------------------------------\n",
      "FireplaceQu (5 values): ['Gd' 'TA' 'Po' 'Fa' 'Ex']\n",
      "--------------------------------------------------\n",
      "GarageType (6 values): ['Attchd' 'Detchd' 'BuiltIn' 'Basment' '2Types' 'CarPort']\n",
      "--------------------------------------------------\n",
      "GarageFinish (3 values): ['Unf' 'Fin' 'RFn']\n",
      "--------------------------------------------------\n",
      "GarageQual (4 values): ['TA' 'Fa' 'Gd' 'Po']\n",
      "--------------------------------------------------\n",
      "GarageCond (6 values): ['TA' 'None' 'Fa' 'Gd' 'Po' 'Ex']\n",
      "--------------------------------------------------\n",
      "PavedDrive (3 values): ['Y' 'N' 'P']\n",
      "--------------------------------------------------\n",
      "SaleType (9 values): ['WD' 'COD' 'New' 'ConLD' 'Oth' 'Con' 'ConLw' 'ConLI' 'CWD']\n",
      "--------------------------------------------------\n",
      "SaleCondition (6 values): ['Normal' 'Partial' 'Abnorml' 'Family' 'Alloca' 'AdjLand']\n",
      "--------------------------------------------------\n"
     ]
    }
   ],
   "source": [
    "for col in Categorical_columns:\n",
    "    unique_values = House_test[col].unique()\n",
    "    print(f'{col} ({len(unique_values)} values): {unique_values}')\n",
    "    print('-'*50)"
   ]
  },
  {
   "cell_type": "markdown",
   "id": "0aa0bcd3",
   "metadata": {
    "papermill": {
     "duration": 0.02636,
     "end_time": "2025-10-12T17:16:13.389441",
     "exception": false,
     "start_time": "2025-10-12T17:16:13.363081",
     "status": "completed"
    },
    "tags": []
   },
   "source": [
    "We use **LabelEncoding (binary columns)** for these features which have two unique values:"
   ]
  },
  {
   "cell_type": "code",
   "execution_count": 67,
   "id": "e8e0abac",
   "metadata": {
    "execution": {
     "iopub.execute_input": "2025-10-12T17:16:13.443208Z",
     "iopub.status.busy": "2025-10-12T17:16:13.442340Z",
     "iopub.status.idle": "2025-10-12T17:16:13.452081Z",
     "shell.execute_reply": "2025-10-12T17:16:13.450994Z"
    },
    "papermill": {
     "duration": 0.038577,
     "end_time": "2025-10-12T17:16:13.453740",
     "exception": false,
     "start_time": "2025-10-12T17:16:13.415163",
     "status": "completed"
    },
    "tags": []
   },
   "outputs": [],
   "source": [
    "binary_map = {\n",
    "    'Street': {'Pave': 1, 'Grvl': 0},\n",
    "    'CentralAir': {'Y': 1, 'N': 0},\n",
    "    'PavedDrive': {'Y': 2, 'P': 1, 'N': 0}}\n",
    "\n",
    "for col, mapping in binary_map.items():\n",
    "    if col in House_test.columns:\n",
    "        House_test[col] = House_test[col].map(mapping)"
   ]
  },
  {
   "cell_type": "markdown",
   "id": "faad0712",
   "metadata": {
    "papermill": {
     "duration": 0.025942,
     "end_time": "2025-10-12T17:16:13.507058",
     "exception": false,
     "start_time": "2025-10-12T17:16:13.481116",
     "status": "completed"
    },
    "tags": []
   },
   "source": [
    "We use **One-Hot Encoding (nominal categorical columns)** for this Features which have Low Cardinality:"
   ]
  },
  {
   "cell_type": "code",
   "execution_count": 68,
   "id": "b100407c",
   "metadata": {
    "execution": {
     "iopub.execute_input": "2025-10-12T17:16:13.561711Z",
     "iopub.status.busy": "2025-10-12T17:16:13.561429Z",
     "iopub.status.idle": "2025-10-12T17:16:13.585577Z",
     "shell.execute_reply": "2025-10-12T17:16:13.584616Z"
    },
    "papermill": {
     "duration": 0.054416,
     "end_time": "2025-10-12T17:16:13.587495",
     "exception": false,
     "start_time": "2025-10-12T17:16:13.533079",
     "status": "completed"
    },
    "tags": []
   },
   "outputs": [],
   "source": [
    "onehot_cols = [\n",
    "    'MSZoning','LotShape','LandContour','Utilities','LotConfig','LandSlope',\n",
    "    'BldgType','HouseStyle','RoofStyle','RoofMatl','MasVnrType','Foundation',\n",
    "    'Heating','Electrical','Functional','GarageFinish','PavedDrive','SaleType','SaleCondition']\n",
    "\n",
    "existing_onehot_cols = [col for col in onehot_cols if col in House_test.columns]\n",
    "House_test = pd.get_dummies(House_test, columns=existing_onehot_cols, drop_first=[False])"
   ]
  },
  {
   "cell_type": "markdown",
   "id": "ba1c27e9",
   "metadata": {
    "papermill": {
     "duration": 0.025592,
     "end_time": "2025-10-12T17:16:13.639379",
     "exception": false,
     "start_time": "2025-10-12T17:16:13.613787",
     "status": "completed"
    },
    "tags": []
   },
   "source": [
    "We use **Ordinal Encoding (ordered quality columns)** for these features which have arranged values:"
   ]
  },
  {
   "cell_type": "code",
   "execution_count": 69,
   "id": "5d317d18",
   "metadata": {
    "execution": {
     "iopub.execute_input": "2025-10-12T17:16:13.694421Z",
     "iopub.status.busy": "2025-10-12T17:16:13.694024Z",
     "iopub.status.idle": "2025-10-12T17:16:13.716969Z",
     "shell.execute_reply": "2025-10-12T17:16:13.715939Z"
    },
    "papermill": {
     "duration": 0.053538,
     "end_time": "2025-10-12T17:16:13.718894",
     "exception": false,
     "start_time": "2025-10-12T17:16:13.665356",
     "status": "completed"
    },
    "tags": []
   },
   "outputs": [],
   "source": [
    "ordinal_cols = {\n",
    "    'ExterQual': {'Fa':1,'TA':2,'Gd':3,'Ex':4},\n",
    "    'ExterCond': {'Po':1,'Fa':2,'TA':3,'Gd':4,'Ex':5},\n",
    "    'BsmtQual': {'None':0,'Fa':1,'TA':2,'Gd':3,'Ex':4},\n",
    "    'BsmtCond': {'None':0,'Po':1,'Fa':2,'TA':3,'Gd':4},\n",
    "    'BsmtExposure': {'None':0,'No':1,'Mn':2,'Av':3,'Gd':4},\n",
    "    'BsmtFinType1': {'None':0,'Unf':1,'LwQ':2,'Rec':3,'BLQ':4,'ALQ':5,'GLQ':6},\n",
    "    'BsmtFinType2': {'None':0,'Unf':1,'LwQ':2,'Rec':3,'BLQ':4,'ALQ':5,'GLQ':6},\n",
    "    'FireplaceQu': {'None':0,'Po':1,'Fa':2,'TA':3,'Gd':4,'Ex':5},\n",
    "    'GarageCond': {'None':0,'Po':1,'Fa':2,'TA':3,'Gd':4,'Ex':5},\n",
    "    'GarageQual': {'None':0,'Po':1,'Fa':2,'TA':3,'Gd':4},\n",
    "    'HeatingQC': {'Po':1,'Fa':2,'TA':3,'Gd':4,'Ex':5},\n",
    "    'KitchenQual': {'Fa':1,'TA':2,'Gd':3,'Ex':4},\n",
    "    'GarageType': {'None':0, 'Basment':1 ,'2Types':2,'Detchd':3,'Attchd':4,'BuiltIn':5,'CarPort':6}\n",
    "}\n",
    "\n",
    "for col, mapping in ordinal_cols.items():\n",
    "    if col in House_test.columns:\n",
    "        House_test[col] = House_test[col].map(mapping)"
   ]
  },
  {
   "cell_type": "code",
   "execution_count": 70,
   "id": "07dc456a",
   "metadata": {
    "execution": {
     "iopub.execute_input": "2025-10-12T17:16:13.774880Z",
     "iopub.status.busy": "2025-10-12T17:16:13.774516Z",
     "iopub.status.idle": "2025-10-12T17:16:13.781921Z",
     "shell.execute_reply": "2025-10-12T17:16:13.781008Z"
    },
    "papermill": {
     "duration": 0.037499,
     "end_time": "2025-10-12T17:16:13.783614",
     "exception": false,
     "start_time": "2025-10-12T17:16:13.746115",
     "status": "completed"
    },
    "tags": []
   },
   "outputs": [],
   "source": [
    "House_test['GarageCond'].fillna(House_test['GarageCond'].mode()[0], inplace=True)"
   ]
  },
  {
   "cell_type": "markdown",
   "id": "e08421c3",
   "metadata": {
    "papermill": {
     "duration": 0.025743,
     "end_time": "2025-10-12T17:16:13.835768",
     "exception": false,
     "start_time": "2025-10-12T17:16:13.810025",
     "status": "completed"
    },
    "tags": []
   },
   "source": [
    "We use **Frequency Encoding** at these features which have large unique values:"
   ]
  },
  {
   "cell_type": "code",
   "execution_count": 71,
   "id": "2019cce9",
   "metadata": {
    "execution": {
     "iopub.execute_input": "2025-10-12T17:16:13.891516Z",
     "iopub.status.busy": "2025-10-12T17:16:13.891192Z",
     "iopub.status.idle": "2025-10-12T17:16:13.905901Z",
     "shell.execute_reply": "2025-10-12T17:16:13.904755Z"
    },
    "papermill": {
     "duration": 0.044774,
     "end_time": "2025-10-12T17:16:13.907600",
     "exception": false,
     "start_time": "2025-10-12T17:16:13.862826",
     "status": "completed"
    },
    "tags": []
   },
   "outputs": [],
   "source": [
    "high_card_cols = ['Neighborhood','Condition1','Condition2','Exterior1st','Exterior2nd']\n",
    "\n",
    "for col in high_card_cols:\n",
    "    if col in House_test.columns:\n",
    "        freq = House_test[col].value_counts() / len(House_train)\n",
    "        House_test[col] = House_test[col].map(freq)"
   ]
  },
  {
   "cell_type": "code",
   "execution_count": 72,
   "id": "adcfd2f7",
   "metadata": {
    "execution": {
     "iopub.execute_input": "2025-10-12T17:16:13.961319Z",
     "iopub.status.busy": "2025-10-12T17:16:13.960989Z",
     "iopub.status.idle": "2025-10-12T17:16:13.967003Z",
     "shell.execute_reply": "2025-10-12T17:16:13.966060Z"
    },
    "papermill": {
     "duration": 0.034853,
     "end_time": "2025-10-12T17:16:13.968989",
     "exception": false,
     "start_time": "2025-10-12T17:16:13.934136",
     "status": "completed"
    },
    "tags": []
   },
   "outputs": [
    {
     "data": {
      "text/plain": [
       "(1459, 126)"
      ]
     },
     "execution_count": 72,
     "metadata": {},
     "output_type": "execute_result"
    }
   ],
   "source": [
    "House_test.shape"
   ]
  },
  {
   "cell_type": "markdown",
   "id": "0e2db686",
   "metadata": {
    "papermill": {
     "duration": 0.025903,
     "end_time": "2025-10-12T17:16:14.022459",
     "exception": false,
     "start_time": "2025-10-12T17:16:13.996556",
     "status": "completed"
    },
    "tags": []
   },
   "source": [
    "## **Prediction**"
   ]
  },
  {
   "cell_type": "code",
   "execution_count": 73,
   "id": "8fbb54e8",
   "metadata": {
    "execution": {
     "iopub.execute_input": "2025-10-12T17:16:14.075537Z",
     "iopub.status.busy": "2025-10-12T17:16:14.074638Z",
     "iopub.status.idle": "2025-10-12T17:16:14.081390Z",
     "shell.execute_reply": "2025-10-12T17:16:14.080516Z"
    },
    "papermill": {
     "duration": 0.034722,
     "end_time": "2025-10-12T17:16:14.082959",
     "exception": false,
     "start_time": "2025-10-12T17:16:14.048237",
     "status": "completed"
    },
    "tags": []
   },
   "outputs": [],
   "source": [
    "House_test = House_test.reindex(columns = X.columns ,fill_value=0)"
   ]
  },
  {
   "cell_type": "code",
   "execution_count": 74,
   "id": "a8745730",
   "metadata": {
    "execution": {
     "iopub.execute_input": "2025-10-12T17:16:14.138389Z",
     "iopub.status.busy": "2025-10-12T17:16:14.138061Z",
     "iopub.status.idle": "2025-10-12T17:16:14.177277Z",
     "shell.execute_reply": "2025-10-12T17:16:14.176314Z"
    },
    "papermill": {
     "duration": 0.068768,
     "end_time": "2025-10-12T17:16:14.179355",
     "exception": false,
     "start_time": "2025-10-12T17:16:14.110587",
     "status": "completed"
    },
    "tags": []
   },
   "outputs": [],
   "source": [
    "Predictions = xgb_model.predict(House_test)"
   ]
  },
  {
   "cell_type": "markdown",
   "id": "e9fb65ce",
   "metadata": {
    "papermill": {
     "duration": 0.02735,
     "end_time": "2025-10-12T17:16:14.238404",
     "exception": false,
     "start_time": "2025-10-12T17:16:14.211054",
     "status": "completed"
    },
    "tags": []
   },
   "source": [
    "## **Submission**"
   ]
  },
  {
   "cell_type": "code",
   "execution_count": 75,
   "id": "07e68442",
   "metadata": {
    "execution": {
     "iopub.execute_input": "2025-10-12T17:16:14.293467Z",
     "iopub.status.busy": "2025-10-12T17:16:14.293146Z",
     "iopub.status.idle": "2025-10-12T17:16:14.298583Z",
     "shell.execute_reply": "2025-10-12T17:16:14.297419Z"
    },
    "papermill": {
     "duration": 0.03457,
     "end_time": "2025-10-12T17:16:14.300491",
     "exception": false,
     "start_time": "2025-10-12T17:16:14.265921",
     "status": "completed"
    },
    "tags": []
   },
   "outputs": [],
   "source": [
    "#submission = pd.DataFrame({\n",
    "submission = pd.DataFrame({\n",
    "    'Id': Test_Id,\n",
    "    'SalePrice': Predictions})"
   ]
  },
  {
   "cell_type": "code",
   "execution_count": 76,
   "id": "cbe4bbec",
   "metadata": {
    "execution": {
     "iopub.execute_input": "2025-10-12T17:16:14.354928Z",
     "iopub.status.busy": "2025-10-12T17:16:14.353793Z",
     "iopub.status.idle": "2025-10-12T17:16:14.359524Z",
     "shell.execute_reply": "2025-10-12T17:16:14.358413Z"
    },
    "papermill": {
     "duration": 0.034647,
     "end_time": "2025-10-12T17:16:14.361208",
     "exception": false,
     "start_time": "2025-10-12T17:16:14.326561",
     "status": "completed"
    },
    "tags": []
   },
   "outputs": [
    {
     "name": "stdout",
     "output_type": "stream",
     "text": [
      "[128649.12 156602.11 181899.31 184651.75 184625.75]\n"
     ]
    }
   ],
   "source": [
    "print(Predictions[:5])"
   ]
  },
  {
   "cell_type": "code",
   "execution_count": 77,
   "id": "cb30c7f1",
   "metadata": {
    "execution": {
     "iopub.execute_input": "2025-10-12T17:16:14.417685Z",
     "iopub.status.busy": "2025-10-12T17:16:14.417349Z",
     "iopub.status.idle": "2025-10-12T17:16:14.430631Z",
     "shell.execute_reply": "2025-10-12T17:16:14.429324Z"
    },
    "papermill": {
     "duration": 0.044299,
     "end_time": "2025-10-12T17:16:14.432516",
     "exception": false,
     "start_time": "2025-10-12T17:16:14.388217",
     "status": "completed"
    },
    "tags": []
   },
   "outputs": [],
   "source": [
    "submission.to_csv('submission.csv', index = False)"
   ]
  }
 ],
 "metadata": {
  "kaggle": {
   "accelerator": "none",
   "dataSources": [
    {
     "databundleVersionId": 868283,
     "sourceId": 5407,
     "sourceType": "competition"
    }
   ],
   "dockerImageVersionId": 31153,
   "isGpuEnabled": false,
   "isInternetEnabled": true,
   "language": "python",
   "sourceType": "notebook"
  },
  "kernelspec": {
   "display_name": "Python 3",
   "language": "python",
   "name": "python3"
  },
  "language_info": {
   "codemirror_mode": {
    "name": "ipython",
    "version": 3
   },
   "file_extension": ".py",
   "mimetype": "text/x-python",
   "name": "python",
   "nbconvert_exporter": "python",
   "pygments_lexer": "ipython3",
   "version": "3.11.13"
  },
  "papermill": {
   "default_parameters": {},
   "duration": 59.422225,
   "end_time": "2025-10-12T17:16:17.081310",
   "environment_variables": {},
   "exception": null,
   "input_path": "__notebook__.ipynb",
   "output_path": "__notebook__.ipynb",
   "parameters": {},
   "start_time": "2025-10-12T17:15:17.659085",
   "version": "2.6.0"
  }
 },
 "nbformat": 4,
 "nbformat_minor": 5
}
