{
 "cells": [
  {
   "cell_type": "code",
   "execution_count": 1,
   "id": "59f4bb5c",
   "metadata": {
    "_cell_guid": "b1076dfc-b9ad-4769-8c92-a6c4dae69d19",
    "_uuid": "8f2839f25d086af736a60e9eeb907d3b93b6e0e5",
    "execution": {
     "iopub.execute_input": "2025-10-22T20:48:10.848440Z",
     "iopub.status.busy": "2025-10-22T20:48:10.848065Z",
     "iopub.status.idle": "2025-10-22T20:48:12.913649Z",
     "shell.execute_reply": "2025-10-22T20:48:12.912459Z"
    },
    "papermill": {
     "duration": 2.083748,
     "end_time": "2025-10-22T20:48:12.915225",
     "exception": false,
     "start_time": "2025-10-22T20:48:10.831477",
     "status": "completed"
    },
    "tags": []
   },
   "outputs": [
    {
     "name": "stdout",
     "output_type": "stream",
     "text": [
      "/kaggle/input/spaceship-titanic/sample_submission.csv\n",
      "/kaggle/input/spaceship-titanic/train.csv\n",
      "/kaggle/input/spaceship-titanic/test.csv\n"
     ]
    }
   ],
   "source": [
    "# This Python 3 environment comes with many helpful analytics libraries installed\n",
    "# It is defined by the kaggle/python Docker image: https://github.com/kaggle/docker-python\n",
    "# For example, here's several helpful packages to load\n",
    "\n",
    "import numpy as np # linear algebra\n",
    "import pandas as pd # data processing, CSV file I/O (e.g. pd.read_csv)\n",
    "\n",
    "# Input data files are available in the read-only \"../input/\" directory\n",
    "# For example, running this (by clicking run or pressing Shift+Enter) will list all files under the input directory\n",
    "\n",
    "import os\n",
    "for dirname, _, filenames in os.walk('/kaggle/input'):\n",
    "    for filename in filenames:\n",
    "        print(os.path.join(dirname, filename))\n",
    "\n",
    "# You can write up to 20GB to the current directory (/kaggle/working/) that gets preserved as output when you create a version using \"Save & Run All\" \n",
    "# You can also write temporary files to /kaggle/temp/, but they won't be saved outside of the current session"
   ]
  },
  {
   "cell_type": "markdown",
   "id": "521cede5",
   "metadata": {
    "papermill": {
     "duration": 0.012138,
     "end_time": "2025-10-22T20:48:12.939958",
     "exception": false,
     "start_time": "2025-10-22T20:48:12.927820",
     "status": "completed"
    },
    "tags": []
   },
   "source": [
    "# **Data Classification**"
   ]
  },
  {
   "cell_type": "markdown",
   "id": "342aed8c",
   "metadata": {
    "papermill": {
     "duration": 0.012385,
     "end_time": "2025-10-22T20:48:12.964403",
     "exception": false,
     "start_time": "2025-10-22T20:48:12.952018",
     "status": "completed"
    },
    "tags": []
   },
   "source": [
    "## **Importing Libraries**"
   ]
  },
  {
   "cell_type": "code",
   "execution_count": 2,
   "id": "a6467b3e",
   "metadata": {
    "execution": {
     "iopub.execute_input": "2025-10-22T20:48:12.990158Z",
     "iopub.status.busy": "2025-10-22T20:48:12.989674Z",
     "iopub.status.idle": "2025-10-22T20:48:15.719357Z",
     "shell.execute_reply": "2025-10-22T20:48:15.718157Z"
    },
    "papermill": {
     "duration": 2.744761,
     "end_time": "2025-10-22T20:48:15.721158",
     "exception": false,
     "start_time": "2025-10-22T20:48:12.976397",
     "status": "completed"
    },
    "tags": []
   },
   "outputs": [],
   "source": [
    "import numpy as np\n",
    "import pandas as pd\n",
    "import seaborn as sns\n",
    "import matplotlib.pyplot as plt\n",
    "from xgboost import XGBClassifier\n",
    "from sklearn.pipeline import Pipeline\n",
    "from sklearn.compose import ColumnTransformer\n",
    "from sklearn.linear_model import LogisticRegression\n",
    "from sklearn.preprocessing import OneHotEncoder, StandardScaler\n",
    "from sklearn.model_selection import train_test_split ,StratifiedKFold, cross_val_score\n",
    "from sklearn.metrics import (accuracy_score,confusion_matrix,classification_report,roc_auc_score,\n",
    "roc_curve)\n",
    "\n",
    "import warnings\n",
    "warnings.filterwarnings('ignore')"
   ]
  },
  {
   "cell_type": "markdown",
   "id": "d3d12a4d",
   "metadata": {
    "papermill": {
     "duration": 0.011957,
     "end_time": "2025-10-22T20:48:15.745452",
     "exception": false,
     "start_time": "2025-10-22T20:48:15.733495",
     "status": "completed"
    },
    "tags": []
   },
   "source": [
    "## **Reading Train data**"
   ]
  },
  {
   "cell_type": "code",
   "execution_count": 3,
   "id": "834fa8fc",
   "metadata": {
    "execution": {
     "iopub.execute_input": "2025-10-22T20:48:15.772307Z",
     "iopub.status.busy": "2025-10-22T20:48:15.771706Z",
     "iopub.status.idle": "2025-10-22T20:48:15.836563Z",
     "shell.execute_reply": "2025-10-22T20:48:15.835390Z"
    },
    "papermill": {
     "duration": 0.080087,
     "end_time": "2025-10-22T20:48:15.838442",
     "exception": false,
     "start_time": "2025-10-22T20:48:15.758355",
     "status": "completed"
    },
    "tags": []
   },
   "outputs": [],
   "source": [
    "Space_ship_train = pd.read_csv(\"/kaggle/input/spaceship-titanic/train.csv\")"
   ]
  },
  {
   "cell_type": "code",
   "execution_count": 4,
   "id": "4250d7d6",
   "metadata": {
    "execution": {
     "iopub.execute_input": "2025-10-22T20:48:15.865588Z",
     "iopub.status.busy": "2025-10-22T20:48:15.865247Z",
     "iopub.status.idle": "2025-10-22T20:48:15.900084Z",
     "shell.execute_reply": "2025-10-22T20:48:15.899098Z"
    },
    "papermill": {
     "duration": 0.05087,
     "end_time": "2025-10-22T20:48:15.901663",
     "exception": false,
     "start_time": "2025-10-22T20:48:15.850793",
     "status": "completed"
    },
    "tags": []
   },
   "outputs": [
    {
     "data": {
      "text/html": [
       "<div>\n",
       "<style scoped>\n",
       "    .dataframe tbody tr th:only-of-type {\n",
       "        vertical-align: middle;\n",
       "    }\n",
       "\n",
       "    .dataframe tbody tr th {\n",
       "        vertical-align: top;\n",
       "    }\n",
       "\n",
       "    .dataframe thead th {\n",
       "        text-align: right;\n",
       "    }\n",
       "</style>\n",
       "<table border=\"1\" class=\"dataframe\">\n",
       "  <thead>\n",
       "    <tr style=\"text-align: right;\">\n",
       "      <th></th>\n",
       "      <th>PassengerId</th>\n",
       "      <th>HomePlanet</th>\n",
       "      <th>CryoSleep</th>\n",
       "      <th>Cabin</th>\n",
       "      <th>Destination</th>\n",
       "      <th>Age</th>\n",
       "      <th>VIP</th>\n",
       "      <th>RoomService</th>\n",
       "      <th>FoodCourt</th>\n",
       "      <th>ShoppingMall</th>\n",
       "      <th>Spa</th>\n",
       "      <th>VRDeck</th>\n",
       "      <th>Name</th>\n",
       "      <th>Transported</th>\n",
       "    </tr>\n",
       "  </thead>\n",
       "  <tbody>\n",
       "    <tr>\n",
       "      <th>0</th>\n",
       "      <td>0001_01</td>\n",
       "      <td>Europa</td>\n",
       "      <td>False</td>\n",
       "      <td>B/0/P</td>\n",
       "      <td>TRAPPIST-1e</td>\n",
       "      <td>39.0</td>\n",
       "      <td>False</td>\n",
       "      <td>0.0</td>\n",
       "      <td>0.0</td>\n",
       "      <td>0.0</td>\n",
       "      <td>0.0</td>\n",
       "      <td>0.0</td>\n",
       "      <td>Maham Ofracculy</td>\n",
       "      <td>False</td>\n",
       "    </tr>\n",
       "    <tr>\n",
       "      <th>1</th>\n",
       "      <td>0002_01</td>\n",
       "      <td>Earth</td>\n",
       "      <td>False</td>\n",
       "      <td>F/0/S</td>\n",
       "      <td>TRAPPIST-1e</td>\n",
       "      <td>24.0</td>\n",
       "      <td>False</td>\n",
       "      <td>109.0</td>\n",
       "      <td>9.0</td>\n",
       "      <td>25.0</td>\n",
       "      <td>549.0</td>\n",
       "      <td>44.0</td>\n",
       "      <td>Juanna Vines</td>\n",
       "      <td>True</td>\n",
       "    </tr>\n",
       "    <tr>\n",
       "      <th>2</th>\n",
       "      <td>0003_01</td>\n",
       "      <td>Europa</td>\n",
       "      <td>False</td>\n",
       "      <td>A/0/S</td>\n",
       "      <td>TRAPPIST-1e</td>\n",
       "      <td>58.0</td>\n",
       "      <td>True</td>\n",
       "      <td>43.0</td>\n",
       "      <td>3576.0</td>\n",
       "      <td>0.0</td>\n",
       "      <td>6715.0</td>\n",
       "      <td>49.0</td>\n",
       "      <td>Altark Susent</td>\n",
       "      <td>False</td>\n",
       "    </tr>\n",
       "    <tr>\n",
       "      <th>3</th>\n",
       "      <td>0003_02</td>\n",
       "      <td>Europa</td>\n",
       "      <td>False</td>\n",
       "      <td>A/0/S</td>\n",
       "      <td>TRAPPIST-1e</td>\n",
       "      <td>33.0</td>\n",
       "      <td>False</td>\n",
       "      <td>0.0</td>\n",
       "      <td>1283.0</td>\n",
       "      <td>371.0</td>\n",
       "      <td>3329.0</td>\n",
       "      <td>193.0</td>\n",
       "      <td>Solam Susent</td>\n",
       "      <td>False</td>\n",
       "    </tr>\n",
       "    <tr>\n",
       "      <th>4</th>\n",
       "      <td>0004_01</td>\n",
       "      <td>Earth</td>\n",
       "      <td>False</td>\n",
       "      <td>F/1/S</td>\n",
       "      <td>TRAPPIST-1e</td>\n",
       "      <td>16.0</td>\n",
       "      <td>False</td>\n",
       "      <td>303.0</td>\n",
       "      <td>70.0</td>\n",
       "      <td>151.0</td>\n",
       "      <td>565.0</td>\n",
       "      <td>2.0</td>\n",
       "      <td>Willy Santantines</td>\n",
       "      <td>True</td>\n",
       "    </tr>\n",
       "    <tr>\n",
       "      <th>5</th>\n",
       "      <td>0005_01</td>\n",
       "      <td>Earth</td>\n",
       "      <td>False</td>\n",
       "      <td>F/0/P</td>\n",
       "      <td>PSO J318.5-22</td>\n",
       "      <td>44.0</td>\n",
       "      <td>False</td>\n",
       "      <td>0.0</td>\n",
       "      <td>483.0</td>\n",
       "      <td>0.0</td>\n",
       "      <td>291.0</td>\n",
       "      <td>0.0</td>\n",
       "      <td>Sandie Hinetthews</td>\n",
       "      <td>True</td>\n",
       "    </tr>\n",
       "    <tr>\n",
       "      <th>6</th>\n",
       "      <td>0006_01</td>\n",
       "      <td>Earth</td>\n",
       "      <td>False</td>\n",
       "      <td>F/2/S</td>\n",
       "      <td>TRAPPIST-1e</td>\n",
       "      <td>26.0</td>\n",
       "      <td>False</td>\n",
       "      <td>42.0</td>\n",
       "      <td>1539.0</td>\n",
       "      <td>3.0</td>\n",
       "      <td>0.0</td>\n",
       "      <td>0.0</td>\n",
       "      <td>Billex Jacostaffey</td>\n",
       "      <td>True</td>\n",
       "    </tr>\n",
       "    <tr>\n",
       "      <th>7</th>\n",
       "      <td>0006_02</td>\n",
       "      <td>Earth</td>\n",
       "      <td>True</td>\n",
       "      <td>G/0/S</td>\n",
       "      <td>TRAPPIST-1e</td>\n",
       "      <td>28.0</td>\n",
       "      <td>False</td>\n",
       "      <td>0.0</td>\n",
       "      <td>0.0</td>\n",
       "      <td>0.0</td>\n",
       "      <td>0.0</td>\n",
       "      <td>NaN</td>\n",
       "      <td>Candra Jacostaffey</td>\n",
       "      <td>True</td>\n",
       "    </tr>\n",
       "    <tr>\n",
       "      <th>8</th>\n",
       "      <td>0007_01</td>\n",
       "      <td>Earth</td>\n",
       "      <td>False</td>\n",
       "      <td>F/3/S</td>\n",
       "      <td>TRAPPIST-1e</td>\n",
       "      <td>35.0</td>\n",
       "      <td>False</td>\n",
       "      <td>0.0</td>\n",
       "      <td>785.0</td>\n",
       "      <td>17.0</td>\n",
       "      <td>216.0</td>\n",
       "      <td>0.0</td>\n",
       "      <td>Andona Beston</td>\n",
       "      <td>True</td>\n",
       "    </tr>\n",
       "    <tr>\n",
       "      <th>9</th>\n",
       "      <td>0008_01</td>\n",
       "      <td>Europa</td>\n",
       "      <td>True</td>\n",
       "      <td>B/1/P</td>\n",
       "      <td>55 Cancri e</td>\n",
       "      <td>14.0</td>\n",
       "      <td>False</td>\n",
       "      <td>0.0</td>\n",
       "      <td>0.0</td>\n",
       "      <td>0.0</td>\n",
       "      <td>0.0</td>\n",
       "      <td>0.0</td>\n",
       "      <td>Erraiam Flatic</td>\n",
       "      <td>True</td>\n",
       "    </tr>\n",
       "  </tbody>\n",
       "</table>\n",
       "</div>"
      ],
      "text/plain": [
       "  PassengerId HomePlanet CryoSleep  Cabin    Destination   Age    VIP  \\\n",
       "0     0001_01     Europa     False  B/0/P    TRAPPIST-1e  39.0  False   \n",
       "1     0002_01      Earth     False  F/0/S    TRAPPIST-1e  24.0  False   \n",
       "2     0003_01     Europa     False  A/0/S    TRAPPIST-1e  58.0   True   \n",
       "3     0003_02     Europa     False  A/0/S    TRAPPIST-1e  33.0  False   \n",
       "4     0004_01      Earth     False  F/1/S    TRAPPIST-1e  16.0  False   \n",
       "5     0005_01      Earth     False  F/0/P  PSO J318.5-22  44.0  False   \n",
       "6     0006_01      Earth     False  F/2/S    TRAPPIST-1e  26.0  False   \n",
       "7     0006_02      Earth      True  G/0/S    TRAPPIST-1e  28.0  False   \n",
       "8     0007_01      Earth     False  F/3/S    TRAPPIST-1e  35.0  False   \n",
       "9     0008_01     Europa      True  B/1/P    55 Cancri e  14.0  False   \n",
       "\n",
       "   RoomService  FoodCourt  ShoppingMall     Spa  VRDeck                Name  \\\n",
       "0          0.0        0.0           0.0     0.0     0.0     Maham Ofracculy   \n",
       "1        109.0        9.0          25.0   549.0    44.0        Juanna Vines   \n",
       "2         43.0     3576.0           0.0  6715.0    49.0       Altark Susent   \n",
       "3          0.0     1283.0         371.0  3329.0   193.0        Solam Susent   \n",
       "4        303.0       70.0         151.0   565.0     2.0   Willy Santantines   \n",
       "5          0.0      483.0           0.0   291.0     0.0   Sandie Hinetthews   \n",
       "6         42.0     1539.0           3.0     0.0     0.0  Billex Jacostaffey   \n",
       "7          0.0        0.0           0.0     0.0     NaN  Candra Jacostaffey   \n",
       "8          0.0      785.0          17.0   216.0     0.0       Andona Beston   \n",
       "9          0.0        0.0           0.0     0.0     0.0      Erraiam Flatic   \n",
       "\n",
       "   Transported  \n",
       "0        False  \n",
       "1         True  \n",
       "2        False  \n",
       "3        False  \n",
       "4         True  \n",
       "5         True  \n",
       "6         True  \n",
       "7         True  \n",
       "8         True  \n",
       "9         True  "
      ]
     },
     "execution_count": 4,
     "metadata": {},
     "output_type": "execute_result"
    }
   ],
   "source": [
    "Space_ship_train.head(10)"
   ]
  },
  {
   "cell_type": "code",
   "execution_count": 5,
   "id": "ad24a1ab",
   "metadata": {
    "execution": {
     "iopub.execute_input": "2025-10-22T20:48:15.928305Z",
     "iopub.status.busy": "2025-10-22T20:48:15.927903Z",
     "iopub.status.idle": "2025-10-22T20:48:15.963270Z",
     "shell.execute_reply": "2025-10-22T20:48:15.961317Z"
    },
    "papermill": {
     "duration": 0.050814,
     "end_time": "2025-10-22T20:48:15.965228",
     "exception": false,
     "start_time": "2025-10-22T20:48:15.914414",
     "status": "completed"
    },
    "tags": []
   },
   "outputs": [
    {
     "name": "stdout",
     "output_type": "stream",
     "text": [
      "<class 'pandas.core.frame.DataFrame'>\n",
      "RangeIndex: 8693 entries, 0 to 8692\n",
      "Data columns (total 14 columns):\n",
      " #   Column        Non-Null Count  Dtype  \n",
      "---  ------        --------------  -----  \n",
      " 0   PassengerId   8693 non-null   object \n",
      " 1   HomePlanet    8492 non-null   object \n",
      " 2   CryoSleep     8476 non-null   object \n",
      " 3   Cabin         8494 non-null   object \n",
      " 4   Destination   8511 non-null   object \n",
      " 5   Age           8514 non-null   float64\n",
      " 6   VIP           8490 non-null   object \n",
      " 7   RoomService   8512 non-null   float64\n",
      " 8   FoodCourt     8510 non-null   float64\n",
      " 9   ShoppingMall  8485 non-null   float64\n",
      " 10  Spa           8510 non-null   float64\n",
      " 11  VRDeck        8505 non-null   float64\n",
      " 12  Name          8493 non-null   object \n",
      " 13  Transported   8693 non-null   bool   \n",
      "dtypes: bool(1), float64(6), object(7)\n",
      "memory usage: 891.5+ KB\n"
     ]
    }
   ],
   "source": [
    "Space_ship_train.info()"
   ]
  },
  {
   "cell_type": "code",
   "execution_count": 6,
   "id": "434922ec",
   "metadata": {
    "execution": {
     "iopub.execute_input": "2025-10-22T20:48:15.992606Z",
     "iopub.status.busy": "2025-10-22T20:48:15.992300Z",
     "iopub.status.idle": "2025-10-22T20:48:16.022741Z",
     "shell.execute_reply": "2025-10-22T20:48:16.021339Z"
    },
    "papermill": {
     "duration": 0.046055,
     "end_time": "2025-10-22T20:48:16.024665",
     "exception": false,
     "start_time": "2025-10-22T20:48:15.978610",
     "status": "completed"
    },
    "tags": []
   },
   "outputs": [
    {
     "data": {
      "text/html": [
       "<div>\n",
       "<style scoped>\n",
       "    .dataframe tbody tr th:only-of-type {\n",
       "        vertical-align: middle;\n",
       "    }\n",
       "\n",
       "    .dataframe tbody tr th {\n",
       "        vertical-align: top;\n",
       "    }\n",
       "\n",
       "    .dataframe thead th {\n",
       "        text-align: right;\n",
       "    }\n",
       "</style>\n",
       "<table border=\"1\" class=\"dataframe\">\n",
       "  <thead>\n",
       "    <tr style=\"text-align: right;\">\n",
       "      <th></th>\n",
       "      <th>Age</th>\n",
       "      <th>RoomService</th>\n",
       "      <th>FoodCourt</th>\n",
       "      <th>ShoppingMall</th>\n",
       "      <th>Spa</th>\n",
       "      <th>VRDeck</th>\n",
       "    </tr>\n",
       "  </thead>\n",
       "  <tbody>\n",
       "    <tr>\n",
       "      <th>count</th>\n",
       "      <td>8514.000000</td>\n",
       "      <td>8512.000000</td>\n",
       "      <td>8510.000000</td>\n",
       "      <td>8485.000000</td>\n",
       "      <td>8510.000000</td>\n",
       "      <td>8505.000000</td>\n",
       "    </tr>\n",
       "    <tr>\n",
       "      <th>mean</th>\n",
       "      <td>28.827930</td>\n",
       "      <td>224.687617</td>\n",
       "      <td>458.077203</td>\n",
       "      <td>173.729169</td>\n",
       "      <td>311.138778</td>\n",
       "      <td>304.854791</td>\n",
       "    </tr>\n",
       "    <tr>\n",
       "      <th>std</th>\n",
       "      <td>14.489021</td>\n",
       "      <td>666.717663</td>\n",
       "      <td>1611.489240</td>\n",
       "      <td>604.696458</td>\n",
       "      <td>1136.705535</td>\n",
       "      <td>1145.717189</td>\n",
       "    </tr>\n",
       "    <tr>\n",
       "      <th>min</th>\n",
       "      <td>0.000000</td>\n",
       "      <td>0.000000</td>\n",
       "      <td>0.000000</td>\n",
       "      <td>0.000000</td>\n",
       "      <td>0.000000</td>\n",
       "      <td>0.000000</td>\n",
       "    </tr>\n",
       "    <tr>\n",
       "      <th>25%</th>\n",
       "      <td>19.000000</td>\n",
       "      <td>0.000000</td>\n",
       "      <td>0.000000</td>\n",
       "      <td>0.000000</td>\n",
       "      <td>0.000000</td>\n",
       "      <td>0.000000</td>\n",
       "    </tr>\n",
       "    <tr>\n",
       "      <th>50%</th>\n",
       "      <td>27.000000</td>\n",
       "      <td>0.000000</td>\n",
       "      <td>0.000000</td>\n",
       "      <td>0.000000</td>\n",
       "      <td>0.000000</td>\n",
       "      <td>0.000000</td>\n",
       "    </tr>\n",
       "    <tr>\n",
       "      <th>75%</th>\n",
       "      <td>38.000000</td>\n",
       "      <td>47.000000</td>\n",
       "      <td>76.000000</td>\n",
       "      <td>27.000000</td>\n",
       "      <td>59.000000</td>\n",
       "      <td>46.000000</td>\n",
       "    </tr>\n",
       "    <tr>\n",
       "      <th>max</th>\n",
       "      <td>79.000000</td>\n",
       "      <td>14327.000000</td>\n",
       "      <td>29813.000000</td>\n",
       "      <td>23492.000000</td>\n",
       "      <td>22408.000000</td>\n",
       "      <td>24133.000000</td>\n",
       "    </tr>\n",
       "  </tbody>\n",
       "</table>\n",
       "</div>"
      ],
      "text/plain": [
       "               Age   RoomService     FoodCourt  ShoppingMall           Spa  \\\n",
       "count  8514.000000   8512.000000   8510.000000   8485.000000   8510.000000   \n",
       "mean     28.827930    224.687617    458.077203    173.729169    311.138778   \n",
       "std      14.489021    666.717663   1611.489240    604.696458   1136.705535   \n",
       "min       0.000000      0.000000      0.000000      0.000000      0.000000   \n",
       "25%      19.000000      0.000000      0.000000      0.000000      0.000000   \n",
       "50%      27.000000      0.000000      0.000000      0.000000      0.000000   \n",
       "75%      38.000000     47.000000     76.000000     27.000000     59.000000   \n",
       "max      79.000000  14327.000000  29813.000000  23492.000000  22408.000000   \n",
       "\n",
       "             VRDeck  \n",
       "count   8505.000000  \n",
       "mean     304.854791  \n",
       "std     1145.717189  \n",
       "min        0.000000  \n",
       "25%        0.000000  \n",
       "50%        0.000000  \n",
       "75%       46.000000  \n",
       "max    24133.000000  "
      ]
     },
     "execution_count": 6,
     "metadata": {},
     "output_type": "execute_result"
    }
   ],
   "source": [
    "Space_ship_train.describe()"
   ]
  },
  {
   "cell_type": "code",
   "execution_count": 7,
   "id": "196136c4",
   "metadata": {
    "execution": {
     "iopub.execute_input": "2025-10-22T20:48:16.051919Z",
     "iopub.status.busy": "2025-10-22T20:48:16.051579Z",
     "iopub.status.idle": "2025-10-22T20:48:16.058443Z",
     "shell.execute_reply": "2025-10-22T20:48:16.057218Z"
    },
    "papermill": {
     "duration": 0.022389,
     "end_time": "2025-10-22T20:48:16.060041",
     "exception": false,
     "start_time": "2025-10-22T20:48:16.037652",
     "status": "completed"
    },
    "tags": []
   },
   "outputs": [
    {
     "data": {
      "text/plain": [
       "(8693, 14)"
      ]
     },
     "execution_count": 7,
     "metadata": {},
     "output_type": "execute_result"
    }
   ],
   "source": [
    "Space_ship_train.shape"
   ]
  },
  {
   "cell_type": "markdown",
   "id": "fb3df128",
   "metadata": {
    "papermill": {
     "duration": 0.01255,
     "end_time": "2025-10-22T20:48:16.085663",
     "exception": false,
     "start_time": "2025-10-22T20:48:16.073113",
     "status": "completed"
    },
    "tags": []
   },
   "source": [
    "## **Cleaning train data**"
   ]
  },
  {
   "cell_type": "markdown",
   "id": "2ee8bc84",
   "metadata": {
    "papermill": {
     "duration": 0.01309,
     "end_time": "2025-10-22T20:48:16.111486",
     "exception": false,
     "start_time": "2025-10-22T20:48:16.098396",
     "status": "completed"
    },
    "tags": []
   },
   "source": [
    "### Nulls"
   ]
  },
  {
   "cell_type": "markdown",
   "id": "b8144c64",
   "metadata": {
    "papermill": {
     "duration": 0.013103,
     "end_time": "2025-10-22T20:48:16.137466",
     "exception": false,
     "start_time": "2025-10-22T20:48:16.124363",
     "status": "completed"
    },
    "tags": []
   },
   "source": [
    "To extract if data hase any nulls:"
   ]
  },
  {
   "cell_type": "code",
   "execution_count": 8,
   "id": "fcca9c09",
   "metadata": {
    "execution": {
     "iopub.execute_input": "2025-10-22T20:48:16.164247Z",
     "iopub.status.busy": "2025-10-22T20:48:16.163826Z",
     "iopub.status.idle": "2025-10-22T20:48:16.175708Z",
     "shell.execute_reply": "2025-10-22T20:48:16.174783Z"
    },
    "papermill": {
     "duration": 0.027251,
     "end_time": "2025-10-22T20:48:16.177407",
     "exception": false,
     "start_time": "2025-10-22T20:48:16.150156",
     "status": "completed"
    },
    "tags": []
   },
   "outputs": [
    {
     "data": {
      "text/plain": [
       "PassengerId       0\n",
       "HomePlanet      201\n",
       "CryoSleep       217\n",
       "Cabin           199\n",
       "Destination     182\n",
       "Age             179\n",
       "VIP             203\n",
       "RoomService     181\n",
       "FoodCourt       183\n",
       "ShoppingMall    208\n",
       "Spa             183\n",
       "VRDeck          188\n",
       "Name            200\n",
       "Transported       0\n",
       "dtype: int64"
      ]
     },
     "execution_count": 8,
     "metadata": {},
     "output_type": "execute_result"
    }
   ],
   "source": [
    "Space_ship_train.isnull().sum()"
   ]
  },
  {
   "cell_type": "markdown",
   "id": "4f25dc74",
   "metadata": {
    "papermill": {
     "duration": 0.013206,
     "end_time": "2025-10-22T20:48:16.203829",
     "exception": false,
     "start_time": "2025-10-22T20:48:16.190623",
     "status": "completed"
    },
    "tags": []
   },
   "source": [
    "For removing **Nulls** at Categorical columns by **Mode**:"
   ]
  },
  {
   "cell_type": "code",
   "execution_count": 9,
   "id": "95a36527",
   "metadata": {
    "execution": {
     "iopub.execute_input": "2025-10-22T20:48:16.231553Z",
     "iopub.status.busy": "2025-10-22T20:48:16.231230Z",
     "iopub.status.idle": "2025-10-22T20:48:16.250803Z",
     "shell.execute_reply": "2025-10-22T20:48:16.249676Z"
    },
    "papermill": {
     "duration": 0.035065,
     "end_time": "2025-10-22T20:48:16.252684",
     "exception": false,
     "start_time": "2025-10-22T20:48:16.217619",
     "status": "completed"
    },
    "tags": []
   },
   "outputs": [],
   "source": [
    "# at categorical\n",
    "categorical_cols = ['HomePlanet', 'CryoSleep', 'Cabin', 'Destination', 'VIP']\n",
    "\n",
    "for col in categorical_cols:\n",
    "    Space_ship_train[col].fillna(Space_ship_train[col].mode()[0], inplace=True)"
   ]
  },
  {
   "cell_type": "markdown",
   "id": "3e77a88f",
   "metadata": {
    "papermill": {
     "duration": 0.012621,
     "end_time": "2025-10-22T20:48:16.278615",
     "exception": false,
     "start_time": "2025-10-22T20:48:16.265994",
     "status": "completed"
    },
    "tags": []
   },
   "source": [
    "For removing **Nulls** at Numerical columns by **Median**:"
   ]
  },
  {
   "cell_type": "code",
   "execution_count": 10,
   "id": "0c737a6a",
   "metadata": {
    "execution": {
     "iopub.execute_input": "2025-10-22T20:48:16.306421Z",
     "iopub.status.busy": "2025-10-22T20:48:16.306009Z",
     "iopub.status.idle": "2025-10-22T20:48:16.315506Z",
     "shell.execute_reply": "2025-10-22T20:48:16.314619Z"
    },
    "papermill": {
     "duration": 0.025654,
     "end_time": "2025-10-22T20:48:16.317414",
     "exception": false,
     "start_time": "2025-10-22T20:48:16.291760",
     "status": "completed"
    },
    "tags": []
   },
   "outputs": [],
   "source": [
    "#  For numerical columns\n",
    "numeric_cols = ['Age', 'RoomService', 'FoodCourt', 'ShoppingMall', 'Spa', 'VRDeck']\n",
    "\n",
    "for col in numeric_cols:\n",
    "    Space_ship_train[col].fillna(Space_ship_train[col].median(), inplace=True)"
   ]
  },
  {
   "cell_type": "markdown",
   "id": "eeb41d1a",
   "metadata": {
    "papermill": {
     "duration": 0.012543,
     "end_time": "2025-10-22T20:48:16.343000",
     "exception": false,
     "start_time": "2025-10-22T20:48:16.330457",
     "status": "completed"
    },
    "tags": []
   },
   "source": [
    "We delete **Nulls** from Name column:"
   ]
  },
  {
   "cell_type": "code",
   "execution_count": 11,
   "id": "068cf9bd",
   "metadata": {
    "execution": {
     "iopub.execute_input": "2025-10-22T20:48:16.370903Z",
     "iopub.status.busy": "2025-10-22T20:48:16.369984Z",
     "iopub.status.idle": "2025-10-22T20:48:16.380279Z",
     "shell.execute_reply": "2025-10-22T20:48:16.379105Z"
    },
    "papermill": {
     "duration": 0.02567,
     "end_time": "2025-10-22T20:48:16.381846",
     "exception": false,
     "start_time": "2025-10-22T20:48:16.356176",
     "status": "completed"
    },
    "tags": []
   },
   "outputs": [],
   "source": [
    "# at Name column\n",
    "Space_ship_train.drop(columns=['Name'], inplace=True)"
   ]
  },
  {
   "cell_type": "markdown",
   "id": "dc333263",
   "metadata": {
    "papermill": {
     "duration": 0.013035,
     "end_time": "2025-10-22T20:48:16.407985",
     "exception": false,
     "start_time": "2025-10-22T20:48:16.394950",
     "status": "completed"
    },
    "tags": []
   },
   "source": [
    "To ensure ther is **Nulls** stll found at our data:"
   ]
  },
  {
   "cell_type": "code",
   "execution_count": 12,
   "id": "ff7a7f14",
   "metadata": {
    "execution": {
     "iopub.execute_input": "2025-10-22T20:48:16.435911Z",
     "iopub.status.busy": "2025-10-22T20:48:16.434983Z",
     "iopub.status.idle": "2025-10-22T20:48:16.446309Z",
     "shell.execute_reply": "2025-10-22T20:48:16.445117Z"
    },
    "papermill": {
     "duration": 0.026677,
     "end_time": "2025-10-22T20:48:16.447902",
     "exception": false,
     "start_time": "2025-10-22T20:48:16.421225",
     "status": "completed"
    },
    "tags": []
   },
   "outputs": [
    {
     "data": {
      "text/plain": [
       "PassengerId     0\n",
       "HomePlanet      0\n",
       "CryoSleep       0\n",
       "Cabin           0\n",
       "Destination     0\n",
       "Age             0\n",
       "VIP             0\n",
       "RoomService     0\n",
       "FoodCourt       0\n",
       "ShoppingMall    0\n",
       "Spa             0\n",
       "VRDeck          0\n",
       "Transported     0\n",
       "dtype: int64"
      ]
     },
     "execution_count": 12,
     "metadata": {},
     "output_type": "execute_result"
    }
   ],
   "source": [
    "Space_ship_train.isnull().sum()"
   ]
  },
  {
   "cell_type": "markdown",
   "id": "42fbc943",
   "metadata": {
    "papermill": {
     "duration": 0.013964,
     "end_time": "2025-10-22T20:48:16.475224",
     "exception": false,
     "start_time": "2025-10-22T20:48:16.461260",
     "status": "completed"
    },
    "tags": []
   },
   "source": [
    "## **FeatureExtraction**"
   ]
  },
  {
   "cell_type": "markdown",
   "id": "09b7acf8",
   "metadata": {
    "papermill": {
     "duration": 0.012543,
     "end_time": "2025-10-22T20:48:16.502583",
     "exception": false,
     "start_time": "2025-10-22T20:48:16.490040",
     "status": "completed"
    },
    "tags": []
   },
   "source": [
    "For extraction **Unique Values** at evry feature:"
   ]
  },
  {
   "cell_type": "code",
   "execution_count": 13,
   "id": "fb583053",
   "metadata": {
    "execution": {
     "iopub.execute_input": "2025-10-22T20:48:16.529574Z",
     "iopub.status.busy": "2025-10-22T20:48:16.529276Z",
     "iopub.status.idle": "2025-10-22T20:48:16.545354Z",
     "shell.execute_reply": "2025-10-22T20:48:16.544498Z"
    },
    "papermill": {
     "duration": 0.031851,
     "end_time": "2025-10-22T20:48:16.547371",
     "exception": false,
     "start_time": "2025-10-22T20:48:16.515520",
     "status": "completed"
    },
    "tags": []
   },
   "outputs": [
    {
     "name": "stdout",
     "output_type": "stream",
     "text": [
      "--->>PassengerId unique values :\n",
      " ['0001_01' '0002_01' '0003_01' ... '9279_01' '9280_01' '9280_02']\n",
      "######################################################################\n",
      "--->>HomePlanet unique values :\n",
      " ['Europa' 'Earth' 'Mars']\n",
      "######################################################################\n",
      "--->>CryoSleep unique values :\n",
      " [False  True]\n",
      "######################################################################\n",
      "--->>Cabin unique values :\n",
      " ['B/0/P' 'F/0/S' 'A/0/S' ... 'G/1499/S' 'G/1500/S' 'E/608/S']\n",
      "######################################################################\n",
      "--->>Destination unique values :\n",
      " ['TRAPPIST-1e' 'PSO J318.5-22' '55 Cancri e']\n",
      "######################################################################\n",
      "--->>Age unique values :\n",
      " [39. 24. 58. 33. 16. 44. 26. 28. 35. 14. 34. 45. 32. 48. 31. 27.  0.  1.\n",
      " 49. 29. 10.  7. 21. 62. 15. 43. 47.  2. 20. 23. 30. 17. 55.  4. 19. 56.\n",
      " 25. 38. 36. 22. 18. 42. 37. 13.  8. 40.  3. 54.  9.  6. 64. 67. 61. 50.\n",
      " 41. 57. 11. 52. 51. 46. 60. 63. 59.  5. 79. 68. 74. 12. 53. 65. 71. 75.\n",
      " 70. 76. 78. 73. 66. 69. 72. 77.]\n",
      "######################################################################\n",
      "--->>VIP unique values :\n",
      " [False  True]\n",
      "######################################################################\n",
      "--->>RoomService unique values :\n",
      " [   0.  109.   43. ... 1569. 8586.  745.]\n",
      "######################################################################\n",
      "--->>FoodCourt unique values :\n",
      " [   0.    9. 3576. ... 3208. 6819. 4688.]\n",
      "######################################################################\n",
      "--->>ShoppingMall unique values :\n",
      " [   0.   25.  371. ... 1085.  510. 1872.]\n",
      "######################################################################\n",
      "--->>Spa unique values :\n",
      " [   0.  549. 6715. ... 2868. 1107. 1643.]\n",
      "######################################################################\n",
      "--->>VRDeck unique values :\n",
      " [   0.   44.   49. ... 1164.  971. 3235.]\n",
      "######################################################################\n",
      "--->>Transported unique values :\n",
      " [False  True]\n",
      "######################################################################\n"
     ]
    }
   ],
   "source": [
    "for i in Space_ship_train.columns:\n",
    "    print(f'--->>{i} unique values :\\n {Space_ship_train[i].unique()}')\n",
    "    print('#' *70)"
   ]
  },
  {
   "cell_type": "markdown",
   "id": "9dc2d2f2",
   "metadata": {
    "papermill": {
     "duration": 0.013823,
     "end_time": "2025-10-22T20:48:16.575032",
     "exception": false,
     "start_time": "2025-10-22T20:48:16.561209",
     "status": "completed"
    },
    "tags": []
   },
   "source": [
    "We make **OneHot Encoding** For **HomePlanet** column by using this code:"
   ]
  },
  {
   "cell_type": "code",
   "execution_count": 14,
   "id": "6d0b4b0a",
   "metadata": {
    "execution": {
     "iopub.execute_input": "2025-10-22T20:48:16.602956Z",
     "iopub.status.busy": "2025-10-22T20:48:16.602658Z",
     "iopub.status.idle": "2025-10-22T20:48:16.615329Z",
     "shell.execute_reply": "2025-10-22T20:48:16.614184Z"
    },
    "papermill": {
     "duration": 0.028884,
     "end_time": "2025-10-22T20:48:16.617001",
     "exception": false,
     "start_time": "2025-10-22T20:48:16.588117",
     "status": "completed"
    },
    "tags": []
   },
   "outputs": [],
   "source": [
    "# Apply One-Hot Encoding \n",
    "Space_ship_train = pd.get_dummies(Space_ship_train, columns=['HomePlanet'], prefix='HomePlanet')"
   ]
  },
  {
   "cell_type": "markdown",
   "id": "301325eb",
   "metadata": {
    "papermill": {
     "duration": 0.013138,
     "end_time": "2025-10-22T20:48:16.643843",
     "exception": false,
     "start_time": "2025-10-22T20:48:16.630705",
     "status": "completed"
    },
    "tags": []
   },
   "source": [
    "To extract important features from **Cabin** column we use this code:"
   ]
  },
  {
   "cell_type": "code",
   "execution_count": 15,
   "id": "7259e931",
   "metadata": {
    "execution": {
     "iopub.execute_input": "2025-10-22T20:48:16.671833Z",
     "iopub.status.busy": "2025-10-22T20:48:16.671536Z",
     "iopub.status.idle": "2025-10-22T20:48:16.694308Z",
     "shell.execute_reply": "2025-10-22T20:48:16.693357Z"
    },
    "papermill": {
     "duration": 0.039503,
     "end_time": "2025-10-22T20:48:16.696445",
     "exception": false,
     "start_time": "2025-10-22T20:48:16.656942",
     "status": "completed"
    },
    "tags": []
   },
   "outputs": [],
   "source": [
    "Space_ship_train[['Deck', 'CabinNum', 'Side']] = Space_ship_train['Cabin'].str.split('/', expand=True)\n",
    "\n",
    "#Drop Main column\n",
    "Space_ship_train = Space_ship_train.drop(['Cabin'],axis=1)"
   ]
  },
  {
   "cell_type": "markdown",
   "id": "8a33154f",
   "metadata": {
    "papermill": {
     "duration": 0.013029,
     "end_time": "2025-10-22T20:48:16.722684",
     "exception": false,
     "start_time": "2025-10-22T20:48:16.709655",
     "status": "completed"
    },
    "tags": []
   },
   "source": [
    "To Categorial **Age** column to Catigorical ages we use this code:"
   ]
  },
  {
   "cell_type": "code",
   "execution_count": 16,
   "id": "779c7623",
   "metadata": {
    "execution": {
     "iopub.execute_input": "2025-10-22T20:48:16.750264Z",
     "iopub.status.busy": "2025-10-22T20:48:16.749824Z",
     "iopub.status.idle": "2025-10-22T20:48:16.763303Z",
     "shell.execute_reply": "2025-10-22T20:48:16.762015Z"
    },
    "papermill": {
     "duration": 0.029437,
     "end_time": "2025-10-22T20:48:16.765200",
     "exception": false,
     "start_time": "2025-10-22T20:48:16.735763",
     "status": "completed"
    },
    "tags": []
   },
   "outputs": [],
   "source": [
    "Space_ship_train['AgeGroup'] = pd.cut(\n",
    "    Space_ship_train['Age'],\n",
    "    bins=[-1, 12, 18, 30, 50, 70, 100],\n",
    "    labels=['Child', 'Teen', 'YoungAdult', 'Adult', 'Senior', 'Elder'])"
   ]
  },
  {
   "cell_type": "markdown",
   "id": "7c3b90dd",
   "metadata": {
    "papermill": {
     "duration": 0.013297,
     "end_time": "2025-10-22T20:48:16.791843",
     "exception": false,
     "start_time": "2025-10-22T20:48:16.778546",
     "status": "completed"
    },
    "tags": []
   },
   "source": [
    "To turn Features Which are Non Numerical to Numerical values by using this code:"
   ]
  },
  {
   "cell_type": "code",
   "execution_count": 17,
   "id": "c14814be",
   "metadata": {
    "execution": {
     "iopub.execute_input": "2025-10-22T20:48:16.819555Z",
     "iopub.status.busy": "2025-10-22T20:48:16.819229Z",
     "iopub.status.idle": "2025-10-22T20:48:16.831568Z",
     "shell.execute_reply": "2025-10-22T20:48:16.830579Z"
    },
    "papermill": {
     "duration": 0.028119,
     "end_time": "2025-10-22T20:48:16.833381",
     "exception": false,
     "start_time": "2025-10-22T20:48:16.805262",
     "status": "completed"
    },
    "tags": []
   },
   "outputs": [],
   "source": [
    "# To turn VIP to Numerical column\n",
    "Space_ship_train['VIP'] = Space_ship_train['VIP'].astype(int)\n",
    "\n",
    "# To turn CrypoSleep to Numerical column\n",
    "Space_ship_train['CryoSleep'] = Space_ship_train['CryoSleep'].astype(int)\n",
    "\n",
    "# To turn Transported to Numerical column\n",
    "Space_ship_train['Transported'] = Space_ship_train['Transported'].astype(int)\n",
    "\n",
    "# To turn CabinNum to Numerical column\n",
    "Space_ship_train['CabinNum'] = pd.to_numeric(Space_ship_train['CabinNum'], errors='coerce')"
   ]
  },
  {
   "cell_type": "markdown",
   "id": "825ee755",
   "metadata": {
    "papermill": {
     "duration": 0.012933,
     "end_time": "2025-10-22T20:48:16.859687",
     "exception": false,
     "start_time": "2025-10-22T20:48:16.846754",
     "status": "completed"
    },
    "tags": []
   },
   "source": [
    "To extract **TotalSpend** for evry one we use this code:"
   ]
  },
  {
   "cell_type": "code",
   "execution_count": 18,
   "id": "2469ff21",
   "metadata": {
    "execution": {
     "iopub.execute_input": "2025-10-22T20:48:16.888724Z",
     "iopub.status.busy": "2025-10-22T20:48:16.888440Z",
     "iopub.status.idle": "2025-10-22T20:48:16.894772Z",
     "shell.execute_reply": "2025-10-22T20:48:16.893826Z"
    },
    "papermill": {
     "duration": 0.022375,
     "end_time": "2025-10-22T20:48:16.896532",
     "exception": false,
     "start_time": "2025-10-22T20:48:16.874157",
     "status": "completed"
    },
    "tags": []
   },
   "outputs": [],
   "source": [
    "Space_ship_train['TotalSpend'] = (Space_ship_train['RoomService'] +\n",
    "Space_ship_train['FoodCourt'] +Space_ship_train['ShoppingMall'] +Space_ship_train['Spa'] +\n",
    "                                  Space_ship_train['VRDeck'])"
   ]
  },
  {
   "cell_type": "markdown",
   "id": "52564b6f",
   "metadata": {
    "papermill": {
     "duration": 0.012842,
     "end_time": "2025-10-22T20:48:16.922507",
     "exception": false,
     "start_time": "2025-10-22T20:48:16.909665",
     "status": "completed"
    },
    "tags": []
   },
   "source": [
    "Derived Spending and Behavior Features by using this code:"
   ]
  },
  {
   "cell_type": "code",
   "execution_count": 19,
   "id": "805c1a30",
   "metadata": {
    "execution": {
     "iopub.execute_input": "2025-10-22T20:48:16.951214Z",
     "iopub.status.busy": "2025-10-22T20:48:16.950874Z",
     "iopub.status.idle": "2025-10-22T20:48:16.968238Z",
     "shell.execute_reply": "2025-10-22T20:48:16.967354Z"
    },
    "papermill": {
     "duration": 0.033482,
     "end_time": "2025-10-22T20:48:16.970006",
     "exception": false,
     "start_time": "2025-10-22T20:48:16.936524",
     "status": "completed"
    },
    "tags": []
   },
   "outputs": [],
   "source": [
    "# Spending ratio per age\n",
    "Space_ship_train['Spend_per_Age'] = Space_ship_train['TotalSpend'] / (Space_ship_train['Age'] + 1)\n",
    "\n",
    "# Whether the passenger spent any money\n",
    "Space_ship_train['SpentAnything'] = (Space_ship_train['TotalSpend'] > 0).astype(int)\n",
    "\n",
    "# Total luxury spending (Spa + VRDeck)\n",
    "Space_ship_train['LuxurySpend'] = Space_ship_train['Spa'] + Space_ship_train['VRDeck']\n",
    "\n",
    "# Ratio of RoomService cost to total spending\n",
    "Space_ship_train['RoomServiceRatio'] = Space_ship_train['RoomService'] / (Space_ship_train['TotalSpend'] + 1)\n",
    "\n",
    "# Whether the passenger is awake (not in CryoSleep)\n",
    "Space_ship_train['Awake'] = 1 - Space_ship_train['CryoSleep']"
   ]
  },
  {
   "cell_type": "markdown",
   "id": "8900f7b1",
   "metadata": {
    "papermill": {
     "duration": 0.012668,
     "end_time": "2025-10-22T20:48:16.997073",
     "exception": false,
     "start_time": "2025-10-22T20:48:16.984405",
     "status": "completed"
    },
    "tags": []
   },
   "source": [
    "To examin data if there is any **Non Numerical** Columns:"
   ]
  },
  {
   "cell_type": "code",
   "execution_count": 20,
   "id": "bd64c754",
   "metadata": {
    "execution": {
     "iopub.execute_input": "2025-10-22T20:48:17.024809Z",
     "iopub.status.busy": "2025-10-22T20:48:17.024516Z",
     "iopub.status.idle": "2025-10-22T20:48:17.043364Z",
     "shell.execute_reply": "2025-10-22T20:48:17.042123Z"
    },
    "papermill": {
     "duration": 0.034444,
     "end_time": "2025-10-22T20:48:17.044939",
     "exception": false,
     "start_time": "2025-10-22T20:48:17.010495",
     "status": "completed"
    },
    "tags": []
   },
   "outputs": [
    {
     "name": "stdout",
     "output_type": "stream",
     "text": [
      "<class 'pandas.core.frame.DataFrame'>\n",
      "RangeIndex: 8693 entries, 0 to 8692\n",
      "Data columns (total 24 columns):\n",
      " #   Column             Non-Null Count  Dtype   \n",
      "---  ------             --------------  -----   \n",
      " 0   PassengerId        8693 non-null   object  \n",
      " 1   CryoSleep          8693 non-null   int64   \n",
      " 2   Destination        8693 non-null   object  \n",
      " 3   Age                8693 non-null   float64 \n",
      " 4   VIP                8693 non-null   int64   \n",
      " 5   RoomService        8693 non-null   float64 \n",
      " 6   FoodCourt          8693 non-null   float64 \n",
      " 7   ShoppingMall       8693 non-null   float64 \n",
      " 8   Spa                8693 non-null   float64 \n",
      " 9   VRDeck             8693 non-null   float64 \n",
      " 10  Transported        8693 non-null   int64   \n",
      " 11  HomePlanet_Earth   8693 non-null   bool    \n",
      " 12  HomePlanet_Europa  8693 non-null   bool    \n",
      " 13  HomePlanet_Mars    8693 non-null   bool    \n",
      " 14  Deck               8693 non-null   object  \n",
      " 15  CabinNum           8693 non-null   int64   \n",
      " 16  Side               8693 non-null   object  \n",
      " 17  AgeGroup           8693 non-null   category\n",
      " 18  TotalSpend         8693 non-null   float64 \n",
      " 19  Spend_per_Age      8693 non-null   float64 \n",
      " 20  SpentAnything      8693 non-null   int64   \n",
      " 21  LuxurySpend        8693 non-null   float64 \n",
      " 22  RoomServiceRatio   8693 non-null   float64 \n",
      " 23  Awake              8693 non-null   int64   \n",
      "dtypes: bool(3), category(1), float64(10), int64(6), object(4)\n",
      "memory usage: 1.4+ MB\n"
     ]
    }
   ],
   "source": [
    "Space_ship_train.info()"
   ]
  },
  {
   "cell_type": "markdown",
   "id": "727816dd",
   "metadata": {
    "papermill": {
     "duration": 0.013458,
     "end_time": "2025-10-22T20:48:17.071888",
     "exception": false,
     "start_time": "2025-10-22T20:48:17.058430",
     "status": "completed"
    },
    "tags": []
   },
   "source": [
    "So we applying **One-Hot Encoding** to Destination, Side, Deck, and AgeGroup columns :"
   ]
  },
  {
   "cell_type": "code",
   "execution_count": 21,
   "id": "0e17b4c9",
   "metadata": {
    "execution": {
     "iopub.execute_input": "2025-10-22T20:48:17.099718Z",
     "iopub.status.busy": "2025-10-22T20:48:17.099445Z",
     "iopub.status.idle": "2025-10-22T20:48:17.117771Z",
     "shell.execute_reply": "2025-10-22T20:48:17.116961Z"
    },
    "papermill": {
     "duration": 0.034552,
     "end_time": "2025-10-22T20:48:17.119536",
     "exception": false,
     "start_time": "2025-10-22T20:48:17.084984",
     "status": "completed"
    },
    "tags": []
   },
   "outputs": [],
   "source": [
    "Space_ship_train = pd.get_dummies(Space_ship_train,\n",
    "    columns=['Destination', 'Side', 'Deck', 'AgeGroup'],\n",
    "    prefix=['Dest', 'Side', 'Deck', 'AgeGroup'])"
   ]
  },
  {
   "cell_type": "code",
   "execution_count": 22,
   "id": "3d41e90c",
   "metadata": {
    "execution": {
     "iopub.execute_input": "2025-10-22T20:48:17.148179Z",
     "iopub.status.busy": "2025-10-22T20:48:17.147333Z",
     "iopub.status.idle": "2025-10-22T20:48:17.172737Z",
     "shell.execute_reply": "2025-10-22T20:48:17.171718Z"
    },
    "papermill": {
     "duration": 0.041451,
     "end_time": "2025-10-22T20:48:17.174357",
     "exception": false,
     "start_time": "2025-10-22T20:48:17.132906",
     "status": "completed"
    },
    "tags": []
   },
   "outputs": [
    {
     "data": {
      "text/html": [
       "<div>\n",
       "<style scoped>\n",
       "    .dataframe tbody tr th:only-of-type {\n",
       "        vertical-align: middle;\n",
       "    }\n",
       "\n",
       "    .dataframe tbody tr th {\n",
       "        vertical-align: top;\n",
       "    }\n",
       "\n",
       "    .dataframe thead th {\n",
       "        text-align: right;\n",
       "    }\n",
       "</style>\n",
       "<table border=\"1\" class=\"dataframe\">\n",
       "  <thead>\n",
       "    <tr style=\"text-align: right;\">\n",
       "      <th></th>\n",
       "      <th>PassengerId</th>\n",
       "      <th>CryoSleep</th>\n",
       "      <th>Age</th>\n",
       "      <th>VIP</th>\n",
       "      <th>RoomService</th>\n",
       "      <th>FoodCourt</th>\n",
       "      <th>ShoppingMall</th>\n",
       "      <th>Spa</th>\n",
       "      <th>VRDeck</th>\n",
       "      <th>Transported</th>\n",
       "      <th>...</th>\n",
       "      <th>Deck_E</th>\n",
       "      <th>Deck_F</th>\n",
       "      <th>Deck_G</th>\n",
       "      <th>Deck_T</th>\n",
       "      <th>AgeGroup_Child</th>\n",
       "      <th>AgeGroup_Teen</th>\n",
       "      <th>AgeGroup_YoungAdult</th>\n",
       "      <th>AgeGroup_Adult</th>\n",
       "      <th>AgeGroup_Senior</th>\n",
       "      <th>AgeGroup_Elder</th>\n",
       "    </tr>\n",
       "  </thead>\n",
       "  <tbody>\n",
       "    <tr>\n",
       "      <th>0</th>\n",
       "      <td>0001_01</td>\n",
       "      <td>0</td>\n",
       "      <td>39.0</td>\n",
       "      <td>0</td>\n",
       "      <td>0.0</td>\n",
       "      <td>0.0</td>\n",
       "      <td>0.0</td>\n",
       "      <td>0.0</td>\n",
       "      <td>0.0</td>\n",
       "      <td>0</td>\n",
       "      <td>...</td>\n",
       "      <td>False</td>\n",
       "      <td>False</td>\n",
       "      <td>False</td>\n",
       "      <td>False</td>\n",
       "      <td>False</td>\n",
       "      <td>False</td>\n",
       "      <td>False</td>\n",
       "      <td>True</td>\n",
       "      <td>False</td>\n",
       "      <td>False</td>\n",
       "    </tr>\n",
       "    <tr>\n",
       "      <th>1</th>\n",
       "      <td>0002_01</td>\n",
       "      <td>0</td>\n",
       "      <td>24.0</td>\n",
       "      <td>0</td>\n",
       "      <td>109.0</td>\n",
       "      <td>9.0</td>\n",
       "      <td>25.0</td>\n",
       "      <td>549.0</td>\n",
       "      <td>44.0</td>\n",
       "      <td>1</td>\n",
       "      <td>...</td>\n",
       "      <td>False</td>\n",
       "      <td>True</td>\n",
       "      <td>False</td>\n",
       "      <td>False</td>\n",
       "      <td>False</td>\n",
       "      <td>False</td>\n",
       "      <td>True</td>\n",
       "      <td>False</td>\n",
       "      <td>False</td>\n",
       "      <td>False</td>\n",
       "    </tr>\n",
       "    <tr>\n",
       "      <th>2</th>\n",
       "      <td>0003_01</td>\n",
       "      <td>0</td>\n",
       "      <td>58.0</td>\n",
       "      <td>1</td>\n",
       "      <td>43.0</td>\n",
       "      <td>3576.0</td>\n",
       "      <td>0.0</td>\n",
       "      <td>6715.0</td>\n",
       "      <td>49.0</td>\n",
       "      <td>0</td>\n",
       "      <td>...</td>\n",
       "      <td>False</td>\n",
       "      <td>False</td>\n",
       "      <td>False</td>\n",
       "      <td>False</td>\n",
       "      <td>False</td>\n",
       "      <td>False</td>\n",
       "      <td>False</td>\n",
       "      <td>False</td>\n",
       "      <td>True</td>\n",
       "      <td>False</td>\n",
       "    </tr>\n",
       "    <tr>\n",
       "      <th>3</th>\n",
       "      <td>0003_02</td>\n",
       "      <td>0</td>\n",
       "      <td>33.0</td>\n",
       "      <td>0</td>\n",
       "      <td>0.0</td>\n",
       "      <td>1283.0</td>\n",
       "      <td>371.0</td>\n",
       "      <td>3329.0</td>\n",
       "      <td>193.0</td>\n",
       "      <td>0</td>\n",
       "      <td>...</td>\n",
       "      <td>False</td>\n",
       "      <td>False</td>\n",
       "      <td>False</td>\n",
       "      <td>False</td>\n",
       "      <td>False</td>\n",
       "      <td>False</td>\n",
       "      <td>False</td>\n",
       "      <td>True</td>\n",
       "      <td>False</td>\n",
       "      <td>False</td>\n",
       "    </tr>\n",
       "    <tr>\n",
       "      <th>4</th>\n",
       "      <td>0004_01</td>\n",
       "      <td>0</td>\n",
       "      <td>16.0</td>\n",
       "      <td>0</td>\n",
       "      <td>303.0</td>\n",
       "      <td>70.0</td>\n",
       "      <td>151.0</td>\n",
       "      <td>565.0</td>\n",
       "      <td>2.0</td>\n",
       "      <td>1</td>\n",
       "      <td>...</td>\n",
       "      <td>False</td>\n",
       "      <td>True</td>\n",
       "      <td>False</td>\n",
       "      <td>False</td>\n",
       "      <td>False</td>\n",
       "      <td>True</td>\n",
       "      <td>False</td>\n",
       "      <td>False</td>\n",
       "      <td>False</td>\n",
       "      <td>False</td>\n",
       "    </tr>\n",
       "    <tr>\n",
       "      <th>...</th>\n",
       "      <td>...</td>\n",
       "      <td>...</td>\n",
       "      <td>...</td>\n",
       "      <td>...</td>\n",
       "      <td>...</td>\n",
       "      <td>...</td>\n",
       "      <td>...</td>\n",
       "      <td>...</td>\n",
       "      <td>...</td>\n",
       "      <td>...</td>\n",
       "      <td>...</td>\n",
       "      <td>...</td>\n",
       "      <td>...</td>\n",
       "      <td>...</td>\n",
       "      <td>...</td>\n",
       "      <td>...</td>\n",
       "      <td>...</td>\n",
       "      <td>...</td>\n",
       "      <td>...</td>\n",
       "      <td>...</td>\n",
       "      <td>...</td>\n",
       "    </tr>\n",
       "    <tr>\n",
       "      <th>8688</th>\n",
       "      <td>9276_01</td>\n",
       "      <td>0</td>\n",
       "      <td>41.0</td>\n",
       "      <td>1</td>\n",
       "      <td>0.0</td>\n",
       "      <td>6819.0</td>\n",
       "      <td>0.0</td>\n",
       "      <td>1643.0</td>\n",
       "      <td>74.0</td>\n",
       "      <td>0</td>\n",
       "      <td>...</td>\n",
       "      <td>False</td>\n",
       "      <td>False</td>\n",
       "      <td>False</td>\n",
       "      <td>False</td>\n",
       "      <td>False</td>\n",
       "      <td>False</td>\n",
       "      <td>False</td>\n",
       "      <td>True</td>\n",
       "      <td>False</td>\n",
       "      <td>False</td>\n",
       "    </tr>\n",
       "    <tr>\n",
       "      <th>8689</th>\n",
       "      <td>9278_01</td>\n",
       "      <td>1</td>\n",
       "      <td>18.0</td>\n",
       "      <td>0</td>\n",
       "      <td>0.0</td>\n",
       "      <td>0.0</td>\n",
       "      <td>0.0</td>\n",
       "      <td>0.0</td>\n",
       "      <td>0.0</td>\n",
       "      <td>0</td>\n",
       "      <td>...</td>\n",
       "      <td>False</td>\n",
       "      <td>False</td>\n",
       "      <td>True</td>\n",
       "      <td>False</td>\n",
       "      <td>False</td>\n",
       "      <td>True</td>\n",
       "      <td>False</td>\n",
       "      <td>False</td>\n",
       "      <td>False</td>\n",
       "      <td>False</td>\n",
       "    </tr>\n",
       "    <tr>\n",
       "      <th>8690</th>\n",
       "      <td>9279_01</td>\n",
       "      <td>0</td>\n",
       "      <td>26.0</td>\n",
       "      <td>0</td>\n",
       "      <td>0.0</td>\n",
       "      <td>0.0</td>\n",
       "      <td>1872.0</td>\n",
       "      <td>1.0</td>\n",
       "      <td>0.0</td>\n",
       "      <td>1</td>\n",
       "      <td>...</td>\n",
       "      <td>False</td>\n",
       "      <td>False</td>\n",
       "      <td>True</td>\n",
       "      <td>False</td>\n",
       "      <td>False</td>\n",
       "      <td>False</td>\n",
       "      <td>True</td>\n",
       "      <td>False</td>\n",
       "      <td>False</td>\n",
       "      <td>False</td>\n",
       "    </tr>\n",
       "    <tr>\n",
       "      <th>8691</th>\n",
       "      <td>9280_01</td>\n",
       "      <td>0</td>\n",
       "      <td>32.0</td>\n",
       "      <td>0</td>\n",
       "      <td>0.0</td>\n",
       "      <td>1049.0</td>\n",
       "      <td>0.0</td>\n",
       "      <td>353.0</td>\n",
       "      <td>3235.0</td>\n",
       "      <td>0</td>\n",
       "      <td>...</td>\n",
       "      <td>True</td>\n",
       "      <td>False</td>\n",
       "      <td>False</td>\n",
       "      <td>False</td>\n",
       "      <td>False</td>\n",
       "      <td>False</td>\n",
       "      <td>False</td>\n",
       "      <td>True</td>\n",
       "      <td>False</td>\n",
       "      <td>False</td>\n",
       "    </tr>\n",
       "    <tr>\n",
       "      <th>8692</th>\n",
       "      <td>9280_02</td>\n",
       "      <td>0</td>\n",
       "      <td>44.0</td>\n",
       "      <td>0</td>\n",
       "      <td>126.0</td>\n",
       "      <td>4688.0</td>\n",
       "      <td>0.0</td>\n",
       "      <td>0.0</td>\n",
       "      <td>12.0</td>\n",
       "      <td>1</td>\n",
       "      <td>...</td>\n",
       "      <td>True</td>\n",
       "      <td>False</td>\n",
       "      <td>False</td>\n",
       "      <td>False</td>\n",
       "      <td>False</td>\n",
       "      <td>False</td>\n",
       "      <td>False</td>\n",
       "      <td>True</td>\n",
       "      <td>False</td>\n",
       "      <td>False</td>\n",
       "    </tr>\n",
       "  </tbody>\n",
       "</table>\n",
       "<p>8693 rows × 39 columns</p>\n",
       "</div>"
      ],
      "text/plain": [
       "     PassengerId  CryoSleep   Age  VIP  RoomService  FoodCourt  ShoppingMall  \\\n",
       "0        0001_01          0  39.0    0          0.0        0.0           0.0   \n",
       "1        0002_01          0  24.0    0        109.0        9.0          25.0   \n",
       "2        0003_01          0  58.0    1         43.0     3576.0           0.0   \n",
       "3        0003_02          0  33.0    0          0.0     1283.0         371.0   \n",
       "4        0004_01          0  16.0    0        303.0       70.0         151.0   \n",
       "...          ...        ...   ...  ...          ...        ...           ...   \n",
       "8688     9276_01          0  41.0    1          0.0     6819.0           0.0   \n",
       "8689     9278_01          1  18.0    0          0.0        0.0           0.0   \n",
       "8690     9279_01          0  26.0    0          0.0        0.0        1872.0   \n",
       "8691     9280_01          0  32.0    0          0.0     1049.0           0.0   \n",
       "8692     9280_02          0  44.0    0        126.0     4688.0           0.0   \n",
       "\n",
       "         Spa  VRDeck  Transported  ...  Deck_E  Deck_F  Deck_G  Deck_T  \\\n",
       "0        0.0     0.0            0  ...   False   False   False   False   \n",
       "1      549.0    44.0            1  ...   False    True   False   False   \n",
       "2     6715.0    49.0            0  ...   False   False   False   False   \n",
       "3     3329.0   193.0            0  ...   False   False   False   False   \n",
       "4      565.0     2.0            1  ...   False    True   False   False   \n",
       "...      ...     ...          ...  ...     ...     ...     ...     ...   \n",
       "8688  1643.0    74.0            0  ...   False   False   False   False   \n",
       "8689     0.0     0.0            0  ...   False   False    True   False   \n",
       "8690     1.0     0.0            1  ...   False   False    True   False   \n",
       "8691   353.0  3235.0            0  ...    True   False   False   False   \n",
       "8692     0.0    12.0            1  ...    True   False   False   False   \n",
       "\n",
       "      AgeGroup_Child  AgeGroup_Teen  AgeGroup_YoungAdult  AgeGroup_Adult  \\\n",
       "0              False          False                False            True   \n",
       "1              False          False                 True           False   \n",
       "2              False          False                False           False   \n",
       "3              False          False                False            True   \n",
       "4              False           True                False           False   \n",
       "...              ...            ...                  ...             ...   \n",
       "8688           False          False                False            True   \n",
       "8689           False           True                False           False   \n",
       "8690           False          False                 True           False   \n",
       "8691           False          False                False            True   \n",
       "8692           False          False                False            True   \n",
       "\n",
       "      AgeGroup_Senior  AgeGroup_Elder  \n",
       "0               False           False  \n",
       "1               False           False  \n",
       "2                True           False  \n",
       "3               False           False  \n",
       "4               False           False  \n",
       "...               ...             ...  \n",
       "8688            False           False  \n",
       "8689            False           False  \n",
       "8690            False           False  \n",
       "8691            False           False  \n",
       "8692            False           False  \n",
       "\n",
       "[8693 rows x 39 columns]"
      ]
     },
     "execution_count": 22,
     "metadata": {},
     "output_type": "execute_result"
    }
   ],
   "source": [
    "Space_ship_train"
   ]
  },
  {
   "cell_type": "code",
   "execution_count": 23,
   "id": "3e4e1580",
   "metadata": {
    "execution": {
     "iopub.execute_input": "2025-10-22T20:48:17.204043Z",
     "iopub.status.busy": "2025-10-22T20:48:17.202988Z",
     "iopub.status.idle": "2025-10-22T20:48:17.209031Z",
     "shell.execute_reply": "2025-10-22T20:48:17.208204Z"
    },
    "papermill": {
     "duration": 0.022358,
     "end_time": "2025-10-22T20:48:17.210688",
     "exception": false,
     "start_time": "2025-10-22T20:48:17.188330",
     "status": "completed"
    },
    "tags": []
   },
   "outputs": [
    {
     "data": {
      "text/plain": [
       "(8693, 39)"
      ]
     },
     "execution_count": 23,
     "metadata": {},
     "output_type": "execute_result"
    }
   ],
   "source": [
    "Space_ship_train.shape"
   ]
  },
  {
   "cell_type": "markdown",
   "id": "d3a90deb",
   "metadata": {
    "papermill": {
     "duration": 0.013813,
     "end_time": "2025-10-22T20:48:17.239121",
     "exception": false,
     "start_time": "2025-10-22T20:48:17.225308",
     "status": "completed"
    },
    "tags": []
   },
   "source": [
    "## **Splitting data**"
   ]
  },
  {
   "cell_type": "code",
   "execution_count": 24,
   "id": "ed9a9561",
   "metadata": {
    "execution": {
     "iopub.execute_input": "2025-10-22T20:48:17.269832Z",
     "iopub.status.busy": "2025-10-22T20:48:17.269070Z",
     "iopub.status.idle": "2025-10-22T20:48:17.275460Z",
     "shell.execute_reply": "2025-10-22T20:48:17.274502Z"
    },
    "papermill": {
     "duration": 0.023111,
     "end_time": "2025-10-22T20:48:17.277019",
     "exception": false,
     "start_time": "2025-10-22T20:48:17.253908",
     "status": "completed"
    },
    "tags": []
   },
   "outputs": [],
   "source": [
    "# Separate features and target\n",
    "X = Space_ship_train.drop(['Transported','PassengerId'], axis=1)\n",
    "y = Space_ship_train['Transported']"
   ]
  },
  {
   "cell_type": "code",
   "execution_count": 25,
   "id": "9877e317",
   "metadata": {
    "execution": {
     "iopub.execute_input": "2025-10-22T20:48:17.307648Z",
     "iopub.status.busy": "2025-10-22T20:48:17.307339Z",
     "iopub.status.idle": "2025-10-22T20:48:17.320661Z",
     "shell.execute_reply": "2025-10-22T20:48:17.319683Z"
    },
    "papermill": {
     "duration": 0.031768,
     "end_time": "2025-10-22T20:48:17.322589",
     "exception": false,
     "start_time": "2025-10-22T20:48:17.290821",
     "status": "completed"
    },
    "tags": []
   },
   "outputs": [],
   "source": [
    "# Split the data into train and test sets\n",
    "X_train, X_test, y_train, y_test = train_test_split(X, y, test_size=0.2, random_state=42, stratify=y)"
   ]
  },
  {
   "cell_type": "markdown",
   "id": "afb502dc",
   "metadata": {
    "papermill": {
     "duration": 0.01391,
     "end_time": "2025-10-22T20:48:17.350414",
     "exception": false,
     "start_time": "2025-10-22T20:48:17.336504",
     "status": "completed"
    },
    "tags": []
   },
   "source": [
    "## **Modeling**"
   ]
  },
  {
   "cell_type": "markdown",
   "id": "5841a179",
   "metadata": {
    "papermill": {
     "duration": 0.013488,
     "end_time": "2025-10-22T20:48:17.378102",
     "exception": false,
     "start_time": "2025-10-22T20:48:17.364614",
     "status": "completed"
    },
    "tags": []
   },
   "source": [
    "We use **XGBClassifier Model** "
   ]
  },
  {
   "cell_type": "code",
   "execution_count": 26,
   "id": "b78d15a1",
   "metadata": {
    "execution": {
     "iopub.execute_input": "2025-10-22T20:48:17.407518Z",
     "iopub.status.busy": "2025-10-22T20:48:17.406790Z",
     "iopub.status.idle": "2025-10-22T20:48:20.645688Z",
     "shell.execute_reply": "2025-10-22T20:48:20.644995Z"
    },
    "papermill": {
     "duration": 3.255649,
     "end_time": "2025-10-22T20:48:20.647660",
     "exception": false,
     "start_time": "2025-10-22T20:48:17.392011",
     "status": "completed"
    },
    "tags": []
   },
   "outputs": [
    {
     "name": "stdout",
     "output_type": "stream",
     "text": [
      "XGBoost Accuracy: 0.81943645773433\n"
     ]
    }
   ],
   "source": [
    "xgb = XGBClassifier(\n",
    "    n_estimators=1200,\n",
    "    learning_rate=0.02,\n",
    "    max_depth=7,\n",
    "    subsample=0.9,\n",
    "    colsample_bytree=0.9,\n",
    "    gamma=0.1,\n",
    "    reg_lambda=4,\n",
    "    reg_alpha=0.7,\n",
    "    min_child_weight=2,\n",
    "    random_state=42,\n",
    "    use_label_encoder=False,\n",
    "    eval_metric='logloss'\n",
    ")\n",
    "\n",
    "\n",
    "\n",
    "xgb.fit(X_train, y_train)\n",
    "y_pred_xgb = xgb.predict(X_test)\n",
    "print(\"XGBoost Accuracy:\", accuracy_score(y_test, y_pred_xgb))"
   ]
  },
  {
   "cell_type": "code",
   "execution_count": 27,
   "id": "03f45e8d",
   "metadata": {
    "execution": {
     "iopub.execute_input": "2025-10-22T20:48:20.676674Z",
     "iopub.status.busy": "2025-10-22T20:48:20.676373Z",
     "iopub.status.idle": "2025-10-22T20:48:35.997091Z",
     "shell.execute_reply": "2025-10-22T20:48:35.995958Z"
    },
    "papermill": {
     "duration": 15.337269,
     "end_time": "2025-10-22T20:48:35.998988",
     "exception": false,
     "start_time": "2025-10-22T20:48:20.661719",
     "status": "completed"
    },
    "tags": []
   },
   "outputs": [
    {
     "name": "stdout",
     "output_type": "stream",
     "text": [
      "Stratified CV Accuracy: [0.8200115  0.8119609  0.8079356  0.81070196 0.80149597]\n",
      "Mean Stratified CV Accuracy: 0.8104211843506214\n"
     ]
    }
   ],
   "source": [
    "# Stratified Cross-Validation\n",
    "skf = StratifiedKFold(n_splits=5, shuffle=True, random_state=42)\n",
    "scores = cross_val_score(xgb, X, y, cv=skf, scoring='accuracy')\n",
    "\n",
    "print(\"Stratified CV Accuracy:\", scores)\n",
    "print(\"Mean Stratified CV Accuracy:\", scores.mean())\n"
   ]
  },
  {
   "cell_type": "markdown",
   "id": "24aee63d",
   "metadata": {
    "papermill": {
     "duration": 0.013969,
     "end_time": "2025-10-22T20:48:36.027612",
     "exception": false,
     "start_time": "2025-10-22T20:48:36.013643",
     "status": "completed"
    },
    "tags": []
   },
   "source": [
    "### **Model Evaluation for XGBClassifier Model**"
   ]
  },
  {
   "cell_type": "code",
   "execution_count": 28,
   "id": "f4807a91",
   "metadata": {
    "execution": {
     "iopub.execute_input": "2025-10-22T20:48:36.056622Z",
     "iopub.status.busy": "2025-10-22T20:48:36.056316Z",
     "iopub.status.idle": "2025-10-22T20:48:36.070775Z",
     "shell.execute_reply": "2025-10-22T20:48:36.069774Z"
    },
    "papermill": {
     "duration": 0.030688,
     "end_time": "2025-10-22T20:48:36.072448",
     "exception": false,
     "start_time": "2025-10-22T20:48:36.041760",
     "status": "completed"
    },
    "tags": []
   },
   "outputs": [
    {
     "name": "stdout",
     "output_type": "stream",
     "text": [
      "\n",
      " Classification Report:\n",
      "\n",
      "              precision    recall  f1-score   support\n",
      "\n",
      "           0       0.81      0.83      0.82       863\n",
      "           1       0.83      0.81      0.82       876\n",
      "\n",
      "    accuracy                           0.82      1739\n",
      "   macro avg       0.82      0.82      0.82      1739\n",
      "weighted avg       0.82      0.82      0.82      1739\n",
      "\n"
     ]
    }
   ],
   "source": [
    "# Classification Report\n",
    "print(\"\\n Classification Report:\\n\")\n",
    "print(classification_report(y_test, y_pred_xgb))"
   ]
  },
  {
   "cell_type": "code",
   "execution_count": 29,
   "id": "2f796876",
   "metadata": {
    "execution": {
     "iopub.execute_input": "2025-10-22T20:48:36.102659Z",
     "iopub.status.busy": "2025-10-22T20:48:36.101679Z",
     "iopub.status.idle": "2025-10-22T20:48:36.370627Z",
     "shell.execute_reply": "2025-10-22T20:48:36.369649Z"
    },
    "papermill": {
     "duration": 0.286001,
     "end_time": "2025-10-22T20:48:36.372287",
     "exception": false,
     "start_time": "2025-10-22T20:48:36.086286",
     "status": "completed"
    },
    "tags": []
   },
   "outputs": [
    {
     "data": {
      "image/png": "[encoded data removed]",
      "text/plain": [
       "<Figure size 500x400 with 2 Axes>"
      ]
     },
     "metadata": {},
     "output_type": "display_data"
    }
   ],
   "source": [
    "# Confusion Matrix\n",
    "plt.figure(figsize=(5, 4))\n",
    "sns.heatmap(confusion_matrix(y_test, y_pred_xgb), annot=True, fmt='d', cmap='Greens')\n",
    "plt.title(\"Confusion Matrix\")\n",
    "plt.xlabel(\"Predicted Label\")\n",
    "plt.ylabel(\"True Label\")\n",
    "plt.show()"
   ]
  },
  {
   "cell_type": "markdown",
   "id": "7b53293a",
   "metadata": {
    "papermill": {
     "duration": 0.014262,
     "end_time": "2025-10-22T20:48:36.401100",
     "exception": false,
     "start_time": "2025-10-22T20:48:36.386838",
     "status": "completed"
    },
    "tags": []
   },
   "source": [
    "#### **Visualization by ROC Curve**"
   ]
  },
  {
   "cell_type": "code",
   "execution_count": 30,
   "id": "0d0cdd03",
   "metadata": {
    "execution": {
     "iopub.execute_input": "2025-10-22T20:48:36.430950Z",
     "iopub.status.busy": "2025-10-22T20:48:36.430629Z",
     "iopub.status.idle": "2025-10-22T20:48:36.614735Z",
     "shell.execute_reply": "2025-10-22T20:48:36.613654Z"
    },
    "papermill": {
     "duration": 0.201017,
     "end_time": "2025-10-22T20:48:36.616448",
     "exception": false,
     "start_time": "2025-10-22T20:48:36.415431",
     "status": "completed"
    },
    "tags": []
   },
   "outputs": [
    {
     "data": {
      "image/png": "[encoded data removed]",
      "text/plain": [
       "<Figure size 600x500 with 1 Axes>"
      ]
     },
     "metadata": {},
     "output_type": "display_data"
    }
   ],
   "source": [
    "# ROC Curve\n",
    "fpr, tpr, _ = roc_curve(y_test, y_pred_xgb)\n",
    "plt.figure(figsize=(6, 5))\n",
    "plt.plot(fpr, tpr, label=f'ROC Curve (AUC = {roc_auc_score(y_test, y_pred_xgb):.3f})')\n",
    "plt.plot([0, 1], [0, 1], linestyle='--', color='gray')\n",
    "plt.xlabel(\"False Positive Rate\")\n",
    "plt.ylabel(\"True Positive Rate\")\n",
    "plt.title(\"ROC-AUC Curve for Logistic Regression\")\n",
    "plt.legend()\n",
    "plt.show()"
   ]
  },
  {
   "cell_type": "markdown",
   "id": "9243bb9c",
   "metadata": {
    "papermill": {
     "duration": 0.015063,
     "end_time": "2025-10-22T20:48:36.646781",
     "exception": false,
     "start_time": "2025-10-22T20:48:36.631718",
     "status": "completed"
    },
    "tags": []
   },
   "source": [
    "Visualization Important Feature at data:"
   ]
  },
  {
   "cell_type": "code",
   "execution_count": 31,
   "id": "a23bedf8",
   "metadata": {
    "execution": {
     "iopub.execute_input": "2025-10-22T20:48:36.678177Z",
     "iopub.status.busy": "2025-10-22T20:48:36.677715Z",
     "iopub.status.idle": "2025-10-22T20:48:36.983905Z",
     "shell.execute_reply": "2025-10-22T20:48:36.983032Z"
    },
    "papermill": {
     "duration": 0.323842,
     "end_time": "2025-10-22T20:48:36.985543",
     "exception": false,
     "start_time": "2025-10-22T20:48:36.661701",
     "status": "completed"
    },
    "tags": []
   },
   "outputs": [
    {
     "data": {
      "image/png": "[encoded data removed]",
      "text/plain": [
       "<Figure size 1000x600 with 1 Axes>"
      ]
     },
     "metadata": {},
     "output_type": "display_data"
    }
   ],
   "source": [
    "# extract important feature and oreder \n",
    "importances = pd.Series(xgb.feature_importances_, index=X_train.columns)\n",
    "importances = importances.sort_values(ascending=False)\n",
    "\n",
    "# best 20 feature\n",
    "plt.figure(figsize=(10, 6))\n",
    "sns.barplot(\n",
    "    x=importances.head(15),\n",
    "    y=importances.head(15).index,\n",
    "    palette=\"viridis\")\n",
    "\n",
    "plt.title(\"Top 15 Most Important Features - XGBoost\", fontsize=14, weight='bold')\n",
    "plt.xlabel(\"Importance Score\", fontsize=12)\n",
    "plt.ylabel(\"Feature\", fontsize=12)\n",
    "plt.grid(axis='x', linestyle='--', alpha=0.6)\n",
    "plt.tight_layout()\n",
    "plt.show()"
   ]
  },
  {
   "cell_type": "markdown",
   "id": "d68f6709",
   "metadata": {
    "papermill": {
     "duration": 0.016842,
     "end_time": "2025-10-22T20:48:37.020063",
     "exception": false,
     "start_time": "2025-10-22T20:48:37.003221",
     "status": "completed"
    },
    "tags": []
   },
   "source": [
    "### **Reading Test data**"
   ]
  },
  {
   "cell_type": "code",
   "execution_count": 32,
   "id": "2fa6b434",
   "metadata": {
    "execution": {
     "iopub.execute_input": "2025-10-22T20:48:37.053075Z",
     "iopub.status.busy": "2025-10-22T20:48:37.052795Z",
     "iopub.status.idle": "2025-10-22T20:48:37.081930Z",
     "shell.execute_reply": "2025-10-22T20:48:37.080817Z"
    },
    "papermill": {
     "duration": 0.047803,
     "end_time": "2025-10-22T20:48:37.083765",
     "exception": false,
     "start_time": "2025-10-22T20:48:37.035962",
     "status": "completed"
    },
    "tags": []
   },
   "outputs": [],
   "source": [
    "Space_ship_test = pd.read_csv('/kaggle/input/spaceship-titanic/test.csv')"
   ]
  },
  {
   "cell_type": "code",
   "execution_count": 33,
   "id": "86539c37",
   "metadata": {
    "execution": {
     "iopub.execute_input": "2025-10-22T20:48:37.117305Z",
     "iopub.status.busy": "2025-10-22T20:48:37.116922Z",
     "iopub.status.idle": "2025-10-22T20:48:37.133717Z",
     "shell.execute_reply": "2025-10-22T20:48:37.132783Z"
    },
    "papermill": {
     "duration": 0.035433,
     "end_time": "2025-10-22T20:48:37.135278",
     "exception": false,
     "start_time": "2025-10-22T20:48:37.099845",
     "status": "completed"
    },
    "tags": []
   },
   "outputs": [
    {
     "data": {
      "text/html": [
       "<div>\n",
       "<style scoped>\n",
       "    .dataframe tbody tr th:only-of-type {\n",
       "        vertical-align: middle;\n",
       "    }\n",
       "\n",
       "    .dataframe tbody tr th {\n",
       "        vertical-align: top;\n",
       "    }\n",
       "\n",
       "    .dataframe thead th {\n",
       "        text-align: right;\n",
       "    }\n",
       "</style>\n",
       "<table border=\"1\" class=\"dataframe\">\n",
       "  <thead>\n",
       "    <tr style=\"text-align: right;\">\n",
       "      <th></th>\n",
       "      <th>PassengerId</th>\n",
       "      <th>HomePlanet</th>\n",
       "      <th>CryoSleep</th>\n",
       "      <th>Cabin</th>\n",
       "      <th>Destination</th>\n",
       "      <th>Age</th>\n",
       "      <th>VIP</th>\n",
       "      <th>RoomService</th>\n",
       "      <th>FoodCourt</th>\n",
       "      <th>ShoppingMall</th>\n",
       "      <th>Spa</th>\n",
       "      <th>VRDeck</th>\n",
       "      <th>Name</th>\n",
       "    </tr>\n",
       "  </thead>\n",
       "  <tbody>\n",
       "    <tr>\n",
       "      <th>0</th>\n",
       "      <td>0013_01</td>\n",
       "      <td>Earth</td>\n",
       "      <td>True</td>\n",
       "      <td>G/3/S</td>\n",
       "      <td>TRAPPIST-1e</td>\n",
       "      <td>27.0</td>\n",
       "      <td>False</td>\n",
       "      <td>0.0</td>\n",
       "      <td>0.0</td>\n",
       "      <td>0.0</td>\n",
       "      <td>0.0</td>\n",
       "      <td>0.0</td>\n",
       "      <td>Nelly Carsoning</td>\n",
       "    </tr>\n",
       "    <tr>\n",
       "      <th>1</th>\n",
       "      <td>0018_01</td>\n",
       "      <td>Earth</td>\n",
       "      <td>False</td>\n",
       "      <td>F/4/S</td>\n",
       "      <td>TRAPPIST-1e</td>\n",
       "      <td>19.0</td>\n",
       "      <td>False</td>\n",
       "      <td>0.0</td>\n",
       "      <td>9.0</td>\n",
       "      <td>0.0</td>\n",
       "      <td>2823.0</td>\n",
       "      <td>0.0</td>\n",
       "      <td>Lerome Peckers</td>\n",
       "    </tr>\n",
       "    <tr>\n",
       "      <th>2</th>\n",
       "      <td>0019_01</td>\n",
       "      <td>Europa</td>\n",
       "      <td>True</td>\n",
       "      <td>C/0/S</td>\n",
       "      <td>55 Cancri e</td>\n",
       "      <td>31.0</td>\n",
       "      <td>False</td>\n",
       "      <td>0.0</td>\n",
       "      <td>0.0</td>\n",
       "      <td>0.0</td>\n",
       "      <td>0.0</td>\n",
       "      <td>0.0</td>\n",
       "      <td>Sabih Unhearfus</td>\n",
       "    </tr>\n",
       "    <tr>\n",
       "      <th>3</th>\n",
       "      <td>0021_01</td>\n",
       "      <td>Europa</td>\n",
       "      <td>False</td>\n",
       "      <td>C/1/S</td>\n",
       "      <td>TRAPPIST-1e</td>\n",
       "      <td>38.0</td>\n",
       "      <td>False</td>\n",
       "      <td>0.0</td>\n",
       "      <td>6652.0</td>\n",
       "      <td>0.0</td>\n",
       "      <td>181.0</td>\n",
       "      <td>585.0</td>\n",
       "      <td>Meratz Caltilter</td>\n",
       "    </tr>\n",
       "    <tr>\n",
       "      <th>4</th>\n",
       "      <td>0023_01</td>\n",
       "      <td>Earth</td>\n",
       "      <td>False</td>\n",
       "      <td>F/5/S</td>\n",
       "      <td>TRAPPIST-1e</td>\n",
       "      <td>20.0</td>\n",
       "      <td>False</td>\n",
       "      <td>10.0</td>\n",
       "      <td>0.0</td>\n",
       "      <td>635.0</td>\n",
       "      <td>0.0</td>\n",
       "      <td>0.0</td>\n",
       "      <td>Brence Harperez</td>\n",
       "    </tr>\n",
       "  </tbody>\n",
       "</table>\n",
       "</div>"
      ],
      "text/plain": [
       "  PassengerId HomePlanet CryoSleep  Cabin  Destination   Age    VIP  \\\n",
       "0     0013_01      Earth      True  G/3/S  TRAPPIST-1e  27.0  False   \n",
       "1     0018_01      Earth     False  F/4/S  TRAPPIST-1e  19.0  False   \n",
       "2     0019_01     Europa      True  C/0/S  55 Cancri e  31.0  False   \n",
       "3     0021_01     Europa     False  C/1/S  TRAPPIST-1e  38.0  False   \n",
       "4     0023_01      Earth     False  F/5/S  TRAPPIST-1e  20.0  False   \n",
       "\n",
       "   RoomService  FoodCourt  ShoppingMall     Spa  VRDeck              Name  \n",
       "0          0.0        0.0           0.0     0.0     0.0   Nelly Carsoning  \n",
       "1          0.0        9.0           0.0  2823.0     0.0    Lerome Peckers  \n",
       "2          0.0        0.0           0.0     0.0     0.0   Sabih Unhearfus  \n",
       "3          0.0     6652.0           0.0   181.0   585.0  Meratz Caltilter  \n",
       "4         10.0        0.0         635.0     0.0     0.0   Brence Harperez  "
      ]
     },
     "execution_count": 33,
     "metadata": {},
     "output_type": "execute_result"
    }
   ],
   "source": [
    "Space_ship_test.head(5)"
   ]
  },
  {
   "cell_type": "code",
   "execution_count": 34,
   "id": "440bfd46",
   "metadata": {
    "execution": {
     "iopub.execute_input": "2025-10-22T20:48:37.170239Z",
     "iopub.status.busy": "2025-10-22T20:48:37.169893Z",
     "iopub.status.idle": "2025-10-22T20:48:37.183340Z",
     "shell.execute_reply": "2025-10-22T20:48:37.181973Z"
    },
    "papermill": {
     "duration": 0.032962,
     "end_time": "2025-10-22T20:48:37.184804",
     "exception": false,
     "start_time": "2025-10-22T20:48:37.151842",
     "status": "completed"
    },
    "tags": []
   },
   "outputs": [
    {
     "name": "stdout",
     "output_type": "stream",
     "text": [
      "<class 'pandas.core.frame.DataFrame'>\n",
      "RangeIndex: 4277 entries, 0 to 4276\n",
      "Data columns (total 13 columns):\n",
      " #   Column        Non-Null Count  Dtype  \n",
      "---  ------        --------------  -----  \n",
      " 0   PassengerId   4277 non-null   object \n",
      " 1   HomePlanet    4190 non-null   object \n",
      " 2   CryoSleep     4184 non-null   object \n",
      " 3   Cabin         4177 non-null   object \n",
      " 4   Destination   4185 non-null   object \n",
      " 5   Age           4186 non-null   float64\n",
      " 6   VIP           4184 non-null   object \n",
      " 7   RoomService   4195 non-null   float64\n",
      " 8   FoodCourt     4171 non-null   float64\n",
      " 9   ShoppingMall  4179 non-null   float64\n",
      " 10  Spa           4176 non-null   float64\n",
      " 11  VRDeck        4197 non-null   float64\n",
      " 12  Name          4183 non-null   object \n",
      "dtypes: float64(6), object(7)\n",
      "memory usage: 434.5+ KB\n"
     ]
    }
   ],
   "source": [
    "Space_ship_test.info()"
   ]
  },
  {
   "cell_type": "code",
   "execution_count": 35,
   "id": "056137c7",
   "metadata": {
    "execution": {
     "iopub.execute_input": "2025-10-22T20:48:37.218959Z",
     "iopub.status.busy": "2025-10-22T20:48:37.218631Z",
     "iopub.status.idle": "2025-10-22T20:48:37.241939Z",
     "shell.execute_reply": "2025-10-22T20:48:37.240992Z"
    },
    "papermill": {
     "duration": 0.042366,
     "end_time": "2025-10-22T20:48:37.243557",
     "exception": false,
     "start_time": "2025-10-22T20:48:37.201191",
     "status": "completed"
    },
    "tags": []
   },
   "outputs": [
    {
     "data": {
      "text/html": [
       "<div>\n",
       "<style scoped>\n",
       "    .dataframe tbody tr th:only-of-type {\n",
       "        vertical-align: middle;\n",
       "    }\n",
       "\n",
       "    .dataframe tbody tr th {\n",
       "        vertical-align: top;\n",
       "    }\n",
       "\n",
       "    .dataframe thead th {\n",
       "        text-align: right;\n",
       "    }\n",
       "</style>\n",
       "<table border=\"1\" class=\"dataframe\">\n",
       "  <thead>\n",
       "    <tr style=\"text-align: right;\">\n",
       "      <th></th>\n",
       "      <th>Age</th>\n",
       "      <th>RoomService</th>\n",
       "      <th>FoodCourt</th>\n",
       "      <th>ShoppingMall</th>\n",
       "      <th>Spa</th>\n",
       "      <th>VRDeck</th>\n",
       "    </tr>\n",
       "  </thead>\n",
       "  <tbody>\n",
       "    <tr>\n",
       "      <th>count</th>\n",
       "      <td>4186.000000</td>\n",
       "      <td>4195.000000</td>\n",
       "      <td>4171.000000</td>\n",
       "      <td>4179.000000</td>\n",
       "      <td>4176.000000</td>\n",
       "      <td>4197.000000</td>\n",
       "    </tr>\n",
       "    <tr>\n",
       "      <th>mean</th>\n",
       "      <td>28.658146</td>\n",
       "      <td>219.266269</td>\n",
       "      <td>439.484296</td>\n",
       "      <td>177.295525</td>\n",
       "      <td>303.052443</td>\n",
       "      <td>310.710031</td>\n",
       "    </tr>\n",
       "    <tr>\n",
       "      <th>std</th>\n",
       "      <td>14.179072</td>\n",
       "      <td>607.011289</td>\n",
       "      <td>1527.663045</td>\n",
       "      <td>560.821123</td>\n",
       "      <td>1117.186015</td>\n",
       "      <td>1246.994742</td>\n",
       "    </tr>\n",
       "    <tr>\n",
       "      <th>min</th>\n",
       "      <td>0.000000</td>\n",
       "      <td>0.000000</td>\n",
       "      <td>0.000000</td>\n",
       "      <td>0.000000</td>\n",
       "      <td>0.000000</td>\n",
       "      <td>0.000000</td>\n",
       "    </tr>\n",
       "    <tr>\n",
       "      <th>25%</th>\n",
       "      <td>19.000000</td>\n",
       "      <td>0.000000</td>\n",
       "      <td>0.000000</td>\n",
       "      <td>0.000000</td>\n",
       "      <td>0.000000</td>\n",
       "      <td>0.000000</td>\n",
       "    </tr>\n",
       "    <tr>\n",
       "      <th>50%</th>\n",
       "      <td>26.000000</td>\n",
       "      <td>0.000000</td>\n",
       "      <td>0.000000</td>\n",
       "      <td>0.000000</td>\n",
       "      <td>0.000000</td>\n",
       "      <td>0.000000</td>\n",
       "    </tr>\n",
       "    <tr>\n",
       "      <th>75%</th>\n",
       "      <td>37.000000</td>\n",
       "      <td>53.000000</td>\n",
       "      <td>78.000000</td>\n",
       "      <td>33.000000</td>\n",
       "      <td>50.000000</td>\n",
       "      <td>36.000000</td>\n",
       "    </tr>\n",
       "    <tr>\n",
       "      <th>max</th>\n",
       "      <td>79.000000</td>\n",
       "      <td>11567.000000</td>\n",
       "      <td>25273.000000</td>\n",
       "      <td>8292.000000</td>\n",
       "      <td>19844.000000</td>\n",
       "      <td>22272.000000</td>\n",
       "    </tr>\n",
       "  </tbody>\n",
       "</table>\n",
       "</div>"
      ],
      "text/plain": [
       "               Age   RoomService     FoodCourt  ShoppingMall           Spa  \\\n",
       "count  4186.000000   4195.000000   4171.000000   4179.000000   4176.000000   \n",
       "mean     28.658146    219.266269    439.484296    177.295525    303.052443   \n",
       "std      14.179072    607.011289   1527.663045    560.821123   1117.186015   \n",
       "min       0.000000      0.000000      0.000000      0.000000      0.000000   \n",
       "25%      19.000000      0.000000      0.000000      0.000000      0.000000   \n",
       "50%      26.000000      0.000000      0.000000      0.000000      0.000000   \n",
       "75%      37.000000     53.000000     78.000000     33.000000     50.000000   \n",
       "max      79.000000  11567.000000  25273.000000   8292.000000  19844.000000   \n",
       "\n",
       "             VRDeck  \n",
       "count   4197.000000  \n",
       "mean     310.710031  \n",
       "std     1246.994742  \n",
       "min        0.000000  \n",
       "25%        0.000000  \n",
       "50%        0.000000  \n",
       "75%       36.000000  \n",
       "max    22272.000000  "
      ]
     },
     "execution_count": 35,
     "metadata": {},
     "output_type": "execute_result"
    }
   ],
   "source": [
    "Space_ship_test.describe()"
   ]
  },
  {
   "cell_type": "code",
   "execution_count": 36,
   "id": "a750739d",
   "metadata": {
    "execution": {
     "iopub.execute_input": "2025-10-22T20:48:37.279674Z",
     "iopub.status.busy": "2025-10-22T20:48:37.279372Z",
     "iopub.status.idle": "2025-10-22T20:48:37.285799Z",
     "shell.execute_reply": "2025-10-22T20:48:37.284789Z"
    },
    "papermill": {
     "duration": 0.026608,
     "end_time": "2025-10-22T20:48:37.287323",
     "exception": false,
     "start_time": "2025-10-22T20:48:37.260715",
     "status": "completed"
    },
    "tags": []
   },
   "outputs": [
    {
     "data": {
      "text/plain": [
       "(4277, 13)"
      ]
     },
     "execution_count": 36,
     "metadata": {},
     "output_type": "execute_result"
    }
   ],
   "source": [
    "Space_ship_test.shape"
   ]
  },
  {
   "cell_type": "markdown",
   "id": "8a33c408",
   "metadata": {
    "papermill": {
     "duration": 0.017091,
     "end_time": "2025-10-22T20:48:37.320741",
     "exception": false,
     "start_time": "2025-10-22T20:48:37.303650",
     "status": "completed"
    },
    "tags": []
   },
   "source": [
    "### **Nulls at Test data**"
   ]
  },
  {
   "cell_type": "markdown",
   "id": "11db54fa",
   "metadata": {
    "papermill": {
     "duration": 0.016248,
     "end_time": "2025-10-22T20:48:37.353552",
     "exception": false,
     "start_time": "2025-10-22T20:48:37.337304",
     "status": "completed"
    },
    "tags": []
   },
   "source": [
    "To examin if found any Nulls at Test data:"
   ]
  },
  {
   "cell_type": "code",
   "execution_count": 37,
   "id": "e9555451",
   "metadata": {
    "execution": {
     "iopub.execute_input": "2025-10-22T20:48:37.387636Z",
     "iopub.status.busy": "2025-10-22T20:48:37.387307Z",
     "iopub.status.idle": "2025-10-22T20:48:37.396828Z",
     "shell.execute_reply": "2025-10-22T20:48:37.396015Z"
    },
    "papermill": {
     "duration": 0.028415,
     "end_time": "2025-10-22T20:48:37.398436",
     "exception": false,
     "start_time": "2025-10-22T20:48:37.370021",
     "status": "completed"
    },
    "tags": []
   },
   "outputs": [
    {
     "data": {
      "text/plain": [
       "PassengerId       0\n",
       "HomePlanet       87\n",
       "CryoSleep        93\n",
       "Cabin           100\n",
       "Destination      92\n",
       "Age              91\n",
       "VIP              93\n",
       "RoomService      82\n",
       "FoodCourt       106\n",
       "ShoppingMall     98\n",
       "Spa             101\n",
       "VRDeck           80\n",
       "Name             94\n",
       "dtype: int64"
      ]
     },
     "execution_count": 37,
     "metadata": {},
     "output_type": "execute_result"
    }
   ],
   "source": [
    "Space_ship_test.isnull().sum()"
   ]
  },
  {
   "cell_type": "markdown",
   "id": "32ac66a1",
   "metadata": {
    "papermill": {
     "duration": 0.016396,
     "end_time": "2025-10-22T20:48:37.431848",
     "exception": false,
     "start_time": "2025-10-22T20:48:37.415452",
     "status": "completed"
    },
    "tags": []
   },
   "source": [
    "For removing **Nulls** at Categorical columns by **Mode**:"
   ]
  },
  {
   "cell_type": "code",
   "execution_count": 38,
   "id": "d966a616",
   "metadata": {
    "execution": {
     "iopub.execute_input": "2025-10-22T20:48:37.466836Z",
     "iopub.status.busy": "2025-10-22T20:48:37.466178Z",
     "iopub.status.idle": "2025-10-22T20:48:37.478903Z",
     "shell.execute_reply": "2025-10-22T20:48:37.478024Z"
    },
    "papermill": {
     "duration": 0.032171,
     "end_time": "2025-10-22T20:48:37.480590",
     "exception": false,
     "start_time": "2025-10-22T20:48:37.448419",
     "status": "completed"
    },
    "tags": []
   },
   "outputs": [],
   "source": [
    "# at categorical\n",
    "categorical_cols = ['HomePlanet', 'CryoSleep', 'Cabin', 'Destination', 'VIP']\n",
    "\n",
    "for col in categorical_cols:\n",
    "    Space_ship_test[col].fillna(Space_ship_test[col].mode()[0], inplace=True)"
   ]
  },
  {
   "cell_type": "markdown",
   "id": "6a428ed7",
   "metadata": {
    "papermill": {
     "duration": 0.016238,
     "end_time": "2025-10-22T20:48:37.513428",
     "exception": false,
     "start_time": "2025-10-22T20:48:37.497190",
     "status": "completed"
    },
    "tags": []
   },
   "source": [
    "For removing **Nulls** at Numerical columns by **Median**:"
   ]
  },
  {
   "cell_type": "code",
   "execution_count": 39,
   "id": "a2c60d8f",
   "metadata": {
    "execution": {
     "iopub.execute_input": "2025-10-22T20:48:37.548240Z",
     "iopub.status.busy": "2025-10-22T20:48:37.547880Z",
     "iopub.status.idle": "2025-10-22T20:48:37.556194Z",
     "shell.execute_reply": "2025-10-22T20:48:37.555203Z"
    },
    "papermill": {
     "duration": 0.027998,
     "end_time": "2025-10-22T20:48:37.557813",
     "exception": false,
     "start_time": "2025-10-22T20:48:37.529815",
     "status": "completed"
    },
    "tags": []
   },
   "outputs": [],
   "source": [
    "#  For numerical columns\n",
    "numeric_cols = ['Age', 'RoomService', 'FoodCourt', 'ShoppingMall', 'Spa', 'VRDeck']\n",
    "\n",
    "for col in numeric_cols:\n",
    "    Space_ship_test[col].fillna(Space_ship_test[col].median(), inplace=True)"
   ]
  },
  {
   "cell_type": "markdown",
   "id": "5898078f",
   "metadata": {
    "papermill": {
     "duration": 0.015755,
     "end_time": "2025-10-22T20:48:37.589753",
     "exception": false,
     "start_time": "2025-10-22T20:48:37.573998",
     "status": "completed"
    },
    "tags": []
   },
   "source": [
    "We delete **Nulls** from Name column:"
   ]
  },
  {
   "cell_type": "code",
   "execution_count": 40,
   "id": "cd98c63f",
   "metadata": {
    "execution": {
     "iopub.execute_input": "2025-10-22T20:48:37.623499Z",
     "iopub.status.busy": "2025-10-22T20:48:37.622830Z",
     "iopub.status.idle": "2025-10-22T20:48:37.628582Z",
     "shell.execute_reply": "2025-10-22T20:48:37.627569Z"
    },
    "papermill": {
     "duration": 0.024086,
     "end_time": "2025-10-22T20:48:37.629942",
     "exception": false,
     "start_time": "2025-10-22T20:48:37.605856",
     "status": "completed"
    },
    "tags": []
   },
   "outputs": [],
   "source": [
    "# at Name column\n",
    "Space_ship_test.drop(columns=['Name'], inplace=True)"
   ]
  },
  {
   "cell_type": "markdown",
   "id": "5e38b67c",
   "metadata": {
    "papermill": {
     "duration": 0.016552,
     "end_time": "2025-10-22T20:48:37.663306",
     "exception": false,
     "start_time": "2025-10-22T20:48:37.646754",
     "status": "completed"
    },
    "tags": []
   },
   "source": [
    "To ensure if still found any **Nulls** at Test data:"
   ]
  },
  {
   "cell_type": "code",
   "execution_count": 41,
   "id": "a76764e7",
   "metadata": {
    "execution": {
     "iopub.execute_input": "2025-10-22T20:48:37.698151Z",
     "iopub.status.busy": "2025-10-22T20:48:37.697718Z",
     "iopub.status.idle": "2025-10-22T20:48:37.706658Z",
     "shell.execute_reply": "2025-10-22T20:48:37.705844Z"
    },
    "papermill": {
     "duration": 0.028314,
     "end_time": "2025-10-22T20:48:37.708204",
     "exception": false,
     "start_time": "2025-10-22T20:48:37.679890",
     "status": "completed"
    },
    "tags": []
   },
   "outputs": [
    {
     "data": {
      "text/plain": [
       "PassengerId     0\n",
       "HomePlanet      0\n",
       "CryoSleep       0\n",
       "Cabin           0\n",
       "Destination     0\n",
       "Age             0\n",
       "VIP             0\n",
       "RoomService     0\n",
       "FoodCourt       0\n",
       "ShoppingMall    0\n",
       "Spa             0\n",
       "VRDeck          0\n",
       "dtype: int64"
      ]
     },
     "execution_count": 41,
     "metadata": {},
     "output_type": "execute_result"
    }
   ],
   "source": [
    "Space_ship_test.isnull().sum()"
   ]
  },
  {
   "cell_type": "markdown",
   "id": "e1b4de1b",
   "metadata": {
    "papermill": {
     "duration": 0.016613,
     "end_time": "2025-10-22T20:48:37.742267",
     "exception": false,
     "start_time": "2025-10-22T20:48:37.725654",
     "status": "completed"
    },
    "tags": []
   },
   "source": [
    "### **FeatureExtraction at Test data**"
   ]
  },
  {
   "cell_type": "markdown",
   "id": "ca6e4c96",
   "metadata": {
    "papermill": {
     "duration": 0.016115,
     "end_time": "2025-10-22T20:48:37.775113",
     "exception": false,
     "start_time": "2025-10-22T20:48:37.758998",
     "status": "completed"
    },
    "tags": []
   },
   "source": [
    "For extraction **Unique Values** at evry feature:"
   ]
  },
  {
   "cell_type": "code",
   "execution_count": 42,
   "id": "cc0dacf5",
   "metadata": {
    "execution": {
     "iopub.execute_input": "2025-10-22T20:48:37.816537Z",
     "iopub.status.busy": "2025-10-22T20:48:37.816025Z",
     "iopub.status.idle": "2025-10-22T20:48:37.847624Z",
     "shell.execute_reply": "2025-10-22T20:48:37.846608Z"
    },
    "papermill": {
     "duration": 0.058011,
     "end_time": "2025-10-22T20:48:37.850208",
     "exception": false,
     "start_time": "2025-10-22T20:48:37.792197",
     "status": "completed"
    },
    "tags": []
   },
   "outputs": [
    {
     "name": "stdout",
     "output_type": "stream",
     "text": [
      "--->>PassengerId unique values :\n",
      " ['0013_01' '0018_01' '0019_01' ... '9271_01' '9273_01' '9277_01']\n",
      "######################################################################\n",
      "--->>HomePlanet unique values :\n",
      " ['Earth' 'Europa' 'Mars']\n",
      "######################################################################\n",
      "--->>CryoSleep unique values :\n",
      " [ True False]\n",
      "######################################################################\n",
      "--->>Cabin unique values :\n",
      " ['G/3/S' 'F/4/S' 'C/0/S' ... 'D/296/P' 'D/297/P' 'G/1498/S']\n",
      "######################################################################\n",
      "--->>Destination unique values :\n",
      " ['TRAPPIST-1e' '55 Cancri e' 'PSO J318.5-22']\n",
      "######################################################################\n",
      "--->>Age unique values :\n",
      " [27. 19. 31. 38. 20. 21. 23. 24. 45. 44. 46. 29. 40. 30. 14. 66. 36. 18.\n",
      " 26. 48.  6. 33.  1. 17. 34.  5. 22. 16.  7.  2.  0. 56. 39. 35.  8.  3.\n",
      "  9. 25. 42. 50. 41. 32. 49. 55. 60. 47. 58. 28. 12. 52. 15. 43. 54. 70.\n",
      " 37. 59. 61. 63. 53.  4. 10. 65. 13. 51. 79. 74. 67. 69. 57. 72. 75. 11.\n",
      " 73. 71. 64. 62. 78. 77. 68.]\n",
      "######################################################################\n",
      "--->>VIP unique values :\n",
      " [False  True]\n",
      "######################################################################\n",
      "--->>RoomService unique values :\n",
      " [0.0000e+00 1.0000e+01 3.3900e+02 9.3200e+02 2.0000e+00 2.6000e+01\n",
      " 3.9000e+01 1.7840e+03 2.9300e+02 5.9800e+02 1.4000e+01 4.8300e+02\n",
      " 6.6000e+01 1.0000e+00 1.0370e+03 3.9660e+03 4.6000e+01 4.1300e+02\n",
      " 3.7800e+02 3.2000e+01 8.3200e+02 3.6200e+02 7.5600e+02 1.9700e+02\n",
      " 6.0000e+00 2.6100e+02 1.6690e+03 4.4000e+01 3.3000e+01 7.1700e+02\n",
      " 4.7620e+03 7.4100e+02 3.0000e+00 7.8600e+02 2.5560e+03 1.8600e+02\n",
      " 1.3400e+03 6.9600e+02 1.5420e+03 1.0800e+02 3.1860e+03 4.1000e+01\n",
      " 1.0540e+03 6.0000e+01 3.0100e+02 1.2300e+02 9.8000e+01 2.1200e+02\n",
      " 7.3000e+01 3.7600e+02 5.0000e+00 1.0310e+03 3.5600e+02 6.3800e+02\n",
      " 1.3950e+03 2.3000e+01 8.0000e+00 1.3000e+02 2.7300e+02 2.8800e+02\n",
      " 7.3100e+02 1.6780e+03 4.9080e+03 8.7000e+01 4.0000e+00 7.0800e+02\n",
      " 6.4200e+02 6.5800e+02 2.3900e+02 1.8900e+02 1.2900e+02 1.2800e+02\n",
      " 1.0300e+03 5.3000e+01 2.4600e+02 6.4800e+02 1.7290e+03 1.5000e+01\n",
      " 4.1050e+03 4.4100e+02 7.6000e+02 3.4240e+03 4.9220e+03 1.0630e+03\n",
      " 2.2210e+03 2.8600e+02 2.5430e+03 1.6440e+03 7.5500e+02 4.9900e+02\n",
      " 3.0000e+01 7.2000e+01 7.4800e+02 1.0450e+03 6.3200e+02 5.9600e+02\n",
      " 7.1000e+02 1.2790e+03 1.3000e+01 9.0000e+00 1.3440e+03 4.6600e+02\n",
      " 1.6610e+03 1.7000e+01 5.5900e+02 7.2000e+02 2.6600e+02 5.3000e+02\n",
      " 1.7050e+03 4.7200e+02 1.7800e+02 1.4900e+02 3.6820e+03 8.3000e+02\n",
      " 2.2270e+03 1.8200e+02 2.5770e+03 6.9800e+02 8.6900e+02 2.0240e+03\n",
      " 3.1600e+03 7.8000e+02 2.9900e+02 1.3990e+03 6.1000e+01 5.8900e+02\n",
      " 1.2460e+03 1.7600e+02 1.7930e+03 4.1100e+02 2.2000e+01 9.0100e+02\n",
      " 5.9000e+02 1.4100e+02 6.4000e+02 6.6600e+02 2.1640e+03 8.2600e+02\n",
      " 2.4000e+02 5.5300e+02 5.4000e+01 2.8900e+02 1.5000e+02 6.9900e+02\n",
      " 1.5400e+02 2.2330e+03 1.2160e+03 1.1990e+03 1.3200e+02 8.4700e+02\n",
      " 1.4770e+03 4.3000e+01 5.5500e+02 1.3710e+03 7.7500e+02 2.2000e+02\n",
      " 5.2700e+02 1.8000e+01 6.7800e+02 1.7100e+03 1.7890e+03 7.7000e+02\n",
      " 1.4590e+03 4.8000e+01 5.3900e+02 5.0100e+02 1.3630e+03 6.7300e+02\n",
      " 9.8700e+02 1.5300e+02 1.2400e+02 9.7000e+01 9.9000e+01 2.2460e+03\n",
      " 1.0060e+03 2.2010e+03 3.4000e+01 1.2420e+03 8.9000e+01 8.0700e+02\n",
      " 9.3600e+02 6.3000e+01 1.0180e+03 9.0000e+01 1.3300e+02 2.0120e+03\n",
      " 4.5000e+01 5.8000e+01 3.0000e+02 4.7300e+02 2.5650e+03 2.0000e+01\n",
      " 1.0420e+03 1.8300e+02 7.9900e+02 6.7900e+02 5.1500e+02 5.8300e+02\n",
      " 3.1600e+02 1.6000e+01 6.2800e+02 6.7400e+02 1.5560e+03 3.3030e+03\n",
      " 1.6920e+03 1.1060e+03 8.6000e+01 1.0930e+03 2.2400e+02 6.3300e+02\n",
      " 1.7200e+02 2.0100e+02 1.5070e+03 1.0220e+03 1.1000e+02 9.8000e+02\n",
      " 3.6700e+02 6.8400e+02 2.4700e+02 6.9000e+02 5.3200e+02 4.7700e+02\n",
      " 1.2960e+03 1.1500e+02 1.5700e+02 1.0100e+02 2.3400e+02 3.7900e+02\n",
      " 1.2820e+03 1.4020e+03 6.4300e+02 6.2300e+02 1.1820e+03 6.0300e+02\n",
      " 5.8200e+02 1.1560e+03 5.5700e+02 1.2860e+03 9.0800e+02 1.9000e+01\n",
      " 3.5290e+03 3.1100e+02 8.0900e+02 1.6510e+03 4.0700e+02 5.9900e+02\n",
      " 1.2850e+03 2.1000e+01 2.7000e+01 1.6240e+03 1.8440e+03 1.4300e+02\n",
      " 1.0200e+02 8.5000e+01 4.0000e+01 2.6200e+02 8.7800e+02 6.6400e+02\n",
      " 2.0800e+02 6.3700e+02 9.0400e+02 3.0800e+02 1.2260e+03 7.6700e+02\n",
      " 2.5800e+02 4.2500e+02 5.1000e+01 3.9900e+02 3.4400e+02 2.1000e+02\n",
      " 1.7750e+03 1.5200e+02 1.1000e+01 6.9300e+02 1.4230e+03 1.6700e+02\n",
      " 1.4200e+02 1.2000e+01 7.6000e+01 5.6700e+02 1.2590e+03 2.0400e+02\n",
      " 8.3900e+02 3.4000e+02 8.7700e+02 8.1700e+02 8.5300e+02 1.8720e+03\n",
      " 9.9500e+02 1.0300e+02 9.4000e+02 6.5100e+02 1.1050e+03 1.4480e+03\n",
      " 8.8400e+02 3.4300e+02 1.6900e+02 8.7400e+02 8.5800e+02 5.7400e+02\n",
      " 6.2000e+01 6.1100e+02 4.7000e+02 7.8500e+02 2.5000e+01 5.4900e+02\n",
      " 2.1380e+03 6.6700e+02 2.7800e+02 4.6000e+02 5.7200e+02 6.1700e+02\n",
      " 1.9380e+03 6.5000e+01 5.9500e+02 1.2700e+02 5.9000e+01 3.8100e+02\n",
      " 2.8300e+02 8.2400e+02 8.1000e+01 2.4690e+03 6.4400e+02 9.3800e+02\n",
      " 1.1567e+04 4.1900e+02 7.3300e+02 1.2360e+03 1.0000e+02 2.7300e+03\n",
      " 8.5500e+02 6.7100e+02 1.4160e+03 2.1940e+03 7.9800e+02 4.5400e+02\n",
      " 5.4500e+02 9.1500e+02 8.4200e+02 2.0300e+02 1.4400e+02 1.2080e+03\n",
      " 2.3660e+03 9.1000e+01 2.4360e+03 8.9000e+02 2.5210e+03 7.4300e+02\n",
      " 1.7220e+03 6.4600e+02 3.6800e+02 7.5000e+01 5.4600e+02 7.8300e+02\n",
      " 1.2140e+03 1.2280e+03 7.6800e+02 1.7400e+02 1.7260e+03 5.6000e+01\n",
      " 8.8500e+02 1.0700e+02 1.8580e+03 9.5100e+02 3.3370e+03 2.4000e+01\n",
      " 2.9800e+02 1.2600e+02 8.5400e+02 9.6600e+02 1.7680e+03 1.9300e+02\n",
      " 1.6800e+02 3.2000e+02 2.5450e+03 1.4540e+03 1.6200e+02 6.4380e+03\n",
      " 2.6470e+03 1.3380e+03 1.6410e+03 6.4000e+01 1.1660e+03 1.6390e+03\n",
      " 1.5450e+03 4.9300e+02 1.6930e+03 1.1100e+02 3.8590e+03 1.2600e+03\n",
      " 3.3000e+02 4.4600e+02 1.1270e+03 1.4810e+03 1.6960e+03 1.9540e+03\n",
      " 4.7000e+01 9.3000e+02 2.0900e+02 1.2530e+03 3.7000e+01 3.3700e+02\n",
      " 1.3600e+02 1.0230e+03 2.8000e+01 6.7000e+01 5.5000e+01 4.2000e+01\n",
      " 4.9600e+02 1.1940e+03 8.2000e+01 9.7700e+02 3.6350e+03 9.1400e+02\n",
      " 7.9300e+02 1.0430e+03 2.7000e+02 2.4400e+02 1.8530e+03 1.1140e+03\n",
      " 5.0400e+02 1.6040e+03 7.0000e+00 1.0140e+03 8.8300e+02 1.8400e+02\n",
      " 4.3300e+02 8.4000e+01 1.1100e+03 1.7570e+03 2.4390e+03 2.7510e+03\n",
      " 2.8100e+02 5.2900e+02 3.8800e+02 3.5500e+02 8.0100e+02 5.9000e+03\n",
      " 4.3800e+02 4.0690e+03 4.4300e+02 1.4790e+03 6.2000e+02 2.4660e+03\n",
      " 1.3800e+03 3.2100e+02 1.3400e+02 5.7800e+02 5.8620e+03 1.0390e+03\n",
      " 7.1500e+02 6.1400e+02 6.1000e+02 2.9200e+02 2.6800e+02 1.8000e+02\n",
      " 2.9000e+01 1.2470e+03 6.3400e+02 3.1000e+02 1.0740e+03 3.2400e+02\n",
      " 1.0410e+03 3.5100e+02 1.3700e+02 1.2510e+03 1.4750e+03 1.0860e+03\n",
      " 1.5600e+02 1.7640e+03 6.8800e+02 4.9800e+02 4.3000e+02 5.2500e+02\n",
      " 5.1700e+02 7.3600e+02 1.1280e+03 8.4600e+02 9.7500e+02 6.2700e+02\n",
      " 6.9000e+01 5.6600e+02 3.4900e+02 4.3200e+02 1.0900e+02 1.3200e+03\n",
      " 1.4000e+02 3.9500e+02 8.0800e+02 9.5300e+02 5.1800e+02 1.2200e+02\n",
      " 5.7000e+01 1.2940e+03 1.3940e+03 1.0400e+02 9.8100e+02 5.3700e+02\n",
      " 1.2180e+03 3.6750e+03 2.1950e+03 5.3330e+03 4.1600e+02 8.2700e+02\n",
      " 7.0400e+02 1.7340e+03 1.0710e+03 3.9000e+02 7.9400e+02 5.6800e+02\n",
      " 1.6500e+02 7.1000e+01 1.3650e+03 2.0700e+02 3.3410e+03 7.0000e+01\n",
      " 1.5380e+03 8.0000e+01 1.2990e+03 1.5960e+03 3.4500e+02 1.1170e+03\n",
      " 1.1040e+03 7.8000e+01 2.1300e+02 4.6500e+02 1.3370e+03 6.6300e+02\n",
      " 3.8000e+01 1.6270e+03 1.1710e+03 2.0190e+03 1.1080e+03 5.4200e+02\n",
      " 1.3300e+03 1.4490e+03 4.5800e+02 7.4200e+02 1.3470e+03 2.3100e+02\n",
      " 1.7100e+02 4.1950e+03 6.8000e+01 1.6730e+03 1.4310e+03 8.9300e+02\n",
      " 9.0500e+02 1.0820e+03 4.7810e+03 6.4100e+02 1.1810e+03 2.3350e+03\n",
      " 7.6600e+02 7.4400e+02 9.4000e+01 3.7200e+02 4.4400e+02 4.9000e+01\n",
      " 1.3010e+03 1.4000e+03 4.7800e+02 8.6700e+02 1.6010e+03 5.8800e+02\n",
      " 1.6600e+02 2.2100e+02 2.2870e+03 1.6300e+02 1.0040e+03 1.2370e+03\n",
      " 2.9600e+02 2.0830e+03 3.9400e+02 7.3000e+02 2.1090e+03 7.9000e+01\n",
      " 1.2210e+03 8.3800e+02 7.8700e+02 9.2100e+02 1.1300e+02 1.8640e+03\n",
      " 5.8400e+02 1.1630e+03 3.5130e+03 1.7000e+02 6.8600e+02 4.6700e+02\n",
      " 1.7230e+03 6.0500e+02 3.6900e+02 8.8900e+02 6.7600e+02 1.6640e+03\n",
      " 6.4500e+02 2.7800e+03 9.3400e+02 2.4900e+02 7.4070e+03 1.1020e+03\n",
      " 1.1390e+03 1.5170e+03 3.8200e+02 2.9100e+02 3.1000e+01 1.0600e+02\n",
      " 7.7000e+01 3.6000e+01 1.0490e+03 1.3430e+03 7.1100e+02 8.7000e+02\n",
      " 5.0000e+02 5.6000e+02 9.1100e+02 1.4620e+03 3.5040e+03 1.0090e+03\n",
      " 2.0710e+03 1.2430e+03 2.5700e+02 1.8390e+03 1.2490e+03 7.1800e+02\n",
      " 2.2800e+02 2.6420e+03 1.4550e+03 1.1900e+02 7.0500e+02 1.4630e+03\n",
      " 1.0960e+03 9.4600e+02 1.1780e+03 9.2800e+02 2.5200e+02 7.0100e+02\n",
      " 1.1620e+03 2.4550e+03 8.8100e+02 8.6400e+02 1.2100e+02 1.8500e+02\n",
      " 4.8400e+02 1.7300e+02 1.5480e+03 4.8700e+02 1.4780e+03 5.0700e+02\n",
      " 1.1770e+03 2.3790e+03 4.5100e+02 9.4900e+02 1.1550e+03 1.2730e+03\n",
      " 4.5500e+02 8.8000e+01 9.8800e+02 5.1200e+02 3.6500e+02 6.9500e+02\n",
      " 6.3100e+02 2.6760e+03 8.0400e+02 4.2070e+03 3.3300e+02 5.1000e+03\n",
      " 4.4900e+02 7.0300e+02 2.5960e+03 1.2650e+03 2.5000e+02 2.5380e+03\n",
      " 7.5700e+02 1.7520e+03 1.8940e+03 8.8800e+02 2.4380e+03 1.7180e+03\n",
      " 1.3100e+02 5.0000e+01 4.0900e+02 8.4400e+02 8.7900e+02 1.2980e+03\n",
      " 1.2190e+03 4.1000e+02 1.3500e+03 5.0900e+02 1.1400e+02 1.4150e+03\n",
      " 1.3500e+02 1.2300e+03 9.7600e+02 7.5800e+02 2.4500e+02 9.3300e+02\n",
      " 2.2900e+02 5.1400e+02 9.6000e+01 1.0950e+03 1.0610e+03 6.1200e+02\n",
      " 3.5000e+02 1.1890e+03 1.1970e+03 8.4800e+02 3.3400e+02 8.3700e+02\n",
      " 3.6600e+02 7.9100e+02 1.5510e+03 1.0870e+03 1.2890e+03 1.9000e+02\n",
      " 6.0600e+02 3.3100e+02 4.8200e+02 1.4870e+03 1.1180e+03 1.1410e+03\n",
      " 1.3820e+03 2.0440e+03 1.6600e+03 1.1700e+02 1.6260e+03 2.7580e+03\n",
      " 4.1400e+02 1.9500e+02 8.2100e+02 4.8900e+02 1.1730e+03 2.9400e+02\n",
      " 5.0200e+02 1.3140e+03 6.9400e+02 1.8570e+03 3.6570e+03 1.9050e+03\n",
      " 1.6100e+02 6.7200e+02 9.1800e+02 1.3240e+03 2.2500e+02 7.9600e+02\n",
      " 8.8600e+02 4.1500e+02 1.0500e+03 2.3330e+03 7.7700e+02 2.8000e+02\n",
      " 6.5900e+02 2.1100e+02 6.8100e+02 1.0440e+03 2.4340e+03 3.8600e+02\n",
      " 1.9490e+03 2.4590e+03 1.0250e+03 9.0600e+02 1.2540e+03 9.9800e+02\n",
      " 2.3640e+03 8.4500e+02 3.4710e+03 4.7100e+02 7.4000e+01 9.5600e+02\n",
      " 5.2000e+01 1.0010e+03 2.2300e+02 6.0100e+02 1.5240e+03 3.9560e+03\n",
      " 3.5000e+01 2.1460e+03 2.5720e+03 2.2490e+03 1.4850e+03 8.2800e+02\n",
      " 8.8000e+02 3.5900e+02 2.2760e+03 2.5850e+03 4.2100e+02 2.5600e+02\n",
      " 4.7600e+02 1.2560e+03 2.3600e+02 3.3200e+02 1.0080e+03 4.5300e+02\n",
      " 2.7890e+03 6.0400e+02 1.5390e+03 2.5900e+02 3.5950e+03 8.1600e+02\n",
      " 1.9530e+03 9.4500e+02 2.0540e+03 1.6940e+03 2.7900e+02 2.3040e+03\n",
      " 4.9100e+02 5.4100e+02 1.2330e+03 1.4500e+02 1.5810e+03 1.1500e+03\n",
      " 9.9300e+02 1.6460e+03 2.6900e+02 1.1760e+03 3.2200e+02 6.3900e+02\n",
      " 7.7300e+02 5.4540e+03 2.3510e+03 6.6900e+02 2.4160e+03 2.8550e+03\n",
      " 6.8500e+02 3.8700e+02 1.0160e+03 9.3000e+01 7.8400e+02 1.5760e+03\n",
      " 3.2300e+02 1.7700e+02 1.2780e+03 3.8300e+02 9.9400e+02 1.7900e+02\n",
      " 1.0330e+03 5.4700e+02 2.8350e+03 5.2300e+02 6.5200e+02 8.8200e+02\n",
      " 1.2720e+03 1.4700e+02]\n",
      "######################################################################\n",
      "--->>FoodCourt unique values :\n",
      " [0.0000e+00 9.0000e+00 6.6520e+03 1.6150e+03 6.3900e+02 3.0000e+00\n",
      " 7.4000e+01 1.5610e+03 1.2000e+01 7.7080e+03 1.9250e+03 8.7800e+02\n",
      " 6.9770e+03 6.4520e+03 8.0000e+00 3.4950e+03 6.1900e+02 8.7000e+02\n",
      " 2.0000e+01 1.7360e+03 1.7000e+01 2.2000e+01 8.6900e+02 1.0000e+00\n",
      " 2.8720e+03 3.1500e+02 5.1400e+02 4.0200e+02 8.8530e+03 4.4000e+01\n",
      " 2.6000e+01 4.6300e+02 1.1000e+01 7.7200e+02 1.5000e+01 1.1600e+02\n",
      " 2.7500e+02 2.0000e+00 5.1600e+02 3.8330e+03 2.5273e+04 1.4420e+03\n",
      " 3.3400e+02 8.6000e+01 1.0000e+01 6.7800e+02 6.2700e+02 1.1549e+04\n",
      " 3.4000e+01 7.5500e+02 1.2520e+03 6.9000e+01 1.0300e+03 1.4680e+03\n",
      " 6.7000e+01 1.7040e+03 7.2200e+02 5.3800e+02 2.5100e+02 1.1920e+03\n",
      " 1.8300e+02 7.5000e+01 2.1160e+03 6.0000e+00 1.3470e+03 2.5220e+03\n",
      " 1.4700e+02 1.3780e+03 3.4500e+02 2.0810e+03 6.4420e+03 7.5200e+02\n",
      " 5.4700e+02 1.3300e+02 9.3520e+03 8.0400e+02 3.7900e+02 1.0320e+03\n",
      " 4.9200e+02 2.4000e+01 4.2800e+02 4.3000e+02 4.6000e+01 1.5280e+03\n",
      " 1.0480e+03 5.7180e+03 7.7000e+01 4.0000e+00 9.0000e+01 8.7500e+02\n",
      " 1.4150e+03 6.5000e+01 1.5020e+03 4.3700e+02 2.3520e+03 4.3000e+01\n",
      " 7.2500e+02 4.8000e+02 9.8000e+01 8.8500e+02 1.6300e+02 1.5300e+02\n",
      " 1.0290e+03 2.4900e+03 4.7330e+03 1.4000e+01 3.4100e+03 1.2880e+03\n",
      " 1.8570e+03 3.3260e+03 1.6410e+03 3.7200e+02 3.6360e+03 3.2400e+02\n",
      " 2.6730e+03 1.4800e+02 6.9900e+02 1.7100e+02 2.9350e+03 4.9580e+03\n",
      " 5.4000e+01 1.1240e+03 1.2770e+03 8.1790e+03 6.9150e+03 4.0500e+02\n",
      " 6.9500e+02 1.5400e+02 6.0000e+01 1.5500e+02 7.1000e+01 1.7500e+02\n",
      " 3.8200e+02 3.6300e+02 9.0800e+02 5.0000e+00 1.6100e+02 2.9830e+03\n",
      " 4.5800e+02 1.2860e+03 1.1100e+02 4.7000e+01 9.2000e+01 7.8400e+02\n",
      " 4.9000e+01 1.8800e+02 1.9200e+02 7.6000e+03 7.0800e+02 2.7000e+01\n",
      " 5.7500e+02 2.8300e+02 2.0360e+03 3.1400e+02 2.2500e+02 1.6000e+01\n",
      " 1.4470e+03 3.6060e+03 1.0390e+03 7.3120e+03 1.5370e+03 1.0900e+02\n",
      " 6.5230e+03 1.7200e+02 2.2350e+03 1.5600e+02 5.5000e+01 4.0990e+03\n",
      " 3.5330e+03 2.6500e+03 4.9800e+02 5.8300e+02 1.0100e+02 6.1000e+02\n",
      " 2.9700e+02 2.8700e+02 2.5900e+02 6.8600e+03 5.3000e+01 3.2800e+02\n",
      " 1.8820e+03 6.5300e+02 8.0600e+02 1.3900e+02 3.8000e+01 3.0600e+02\n",
      " 4.7400e+02 9.7700e+02 4.1920e+03 4.6100e+02 1.6800e+02 5.5600e+02\n",
      " 6.8100e+02 9.0000e+02 1.8220e+03 1.4500e+02 2.7990e+03 8.3200e+02\n",
      " 1.5890e+03 5.5000e+02 1.0500e+02 2.6000e+02 1.7400e+02 5.7100e+02\n",
      " 3.6000e+01 6.2800e+02 3.5000e+01 3.6910e+03 1.5980e+03 3.0000e+01\n",
      " 1.7000e+02 3.6370e+03 4.0000e+01 2.1200e+02 6.3000e+01 3.5770e+03\n",
      " 4.2200e+02 5.1130e+03 2.2090e+03 1.0711e+04 6.9100e+02 8.6400e+02\n",
      " 6.1580e+03 1.2760e+03 1.1050e+03 2.9020e+03 2.1600e+02 3.0850e+03\n",
      " 6.2850e+03 6.7300e+02 1.1410e+03 6.7100e+02 8.1200e+02 6.1300e+02\n",
      " 5.9200e+02 1.3700e+02 8.7000e+01 2.2000e+02 1.9800e+03 4.6700e+02\n",
      " 3.1900e+02 2.0700e+02 1.0800e+03 1.6960e+03 4.2050e+03 8.9100e+02\n",
      " 1.0600e+02 6.0700e+02 2.5880e+03 1.9100e+02 1.6560e+03 5.2000e+01\n",
      " 1.4270e+03 2.1300e+02 9.0100e+02 1.1700e+02 8.2400e+02 1.2600e+02\n",
      " 2.0520e+03 3.0500e+02 1.2170e+03 7.8000e+01 6.8800e+02 4.1100e+02\n",
      " 3.6700e+02 1.9400e+02 4.8290e+03 2.8520e+03 5.9500e+03 5.9310e+03\n",
      " 1.9740e+03 5.7000e+01 9.3900e+02 5.7220e+03 1.3110e+03 5.3000e+02\n",
      " 6.1800e+02 4.6180e+03 4.4500e+02 7.7000e+02 3.9900e+02 3.1000e+01\n",
      " 5.2200e+02 6.7400e+02 5.4500e+02 2.5760e+03 4.6500e+02 5.5500e+02\n",
      " 5.6720e+03 1.8000e+01 1.6060e+03 2.3330e+03 3.2000e+01 2.1000e+02\n",
      " 2.5000e+01 2.3220e+03 1.4600e+02 1.4200e+02 1.8900e+02 5.6190e+03\n",
      " 3.5700e+02 2.1000e+01 3.3600e+02 3.5610e+03 1.3000e+01 1.7300e+02\n",
      " 2.6340e+03 7.9900e+02 1.3070e+03 1.3800e+02 1.8200e+02 2.4770e+03\n",
      " 3.0300e+03 4.7500e+02 1.1984e+04 1.6120e+03 6.2900e+02 5.9000e+01\n",
      " 1.2220e+03 9.5600e+02 1.0100e+03 1.1850e+03 6.3600e+02 5.2400e+02\n",
      " 2.4600e+02 1.3400e+02 1.9600e+02 7.7400e+02 3.7300e+02 3.8210e+03\n",
      " 2.6300e+02 3.9700e+02 1.0754e+04 2.0740e+03 2.4500e+02 1.2960e+03\n",
      " 1.0340e+03 2.9500e+02 7.6500e+02 1.3000e+02 1.0200e+02 4.4200e+02\n",
      " 1.0400e+02 9.6620e+03 6.9700e+02 9.7240e+03 4.3130e+03 1.3520e+03\n",
      " 2.9000e+02 5.6200e+02 7.2000e+01 3.6730e+03 9.0600e+02 2.0200e+02\n",
      " 8.2200e+02 7.0000e+00 8.8000e+01 3.8000e+02 6.3000e+02 9.3400e+02\n",
      " 6.8000e+02 3.9500e+02 2.0370e+03 8.4400e+02 2.0610e+03 4.7380e+03\n",
      " 2.2030e+03 3.5100e+02 4.7600e+02 5.7300e+02 9.9800e+02 2.9950e+03\n",
      " 4.8800e+02 3.3000e+01 4.8270e+03 7.6800e+02 8.0700e+02 9.3000e+01\n",
      " 5.9400e+02 9.0200e+02 4.7010e+03 8.4000e+01 2.6100e+02 5.6600e+02\n",
      " 3.1500e+03 4.3980e+03 1.1293e+04 9.8100e+02 8.8000e+02 8.7400e+02\n",
      " 6.2900e+03 1.5200e+02 3.5400e+02 4.2000e+01 2.4550e+03 8.4000e+02\n",
      " 4.8500e+02 7.9800e+03 2.6960e+03 8.4200e+02 1.6240e+03 2.0809e+04\n",
      " 6.5640e+03 8.1800e+02 7.5080e+03 5.8800e+02 9.1300e+02 4.2000e+02\n",
      " 4.2300e+03 5.2900e+02 2.9000e+01 1.9770e+03 1.0010e+03 5.2600e+02\n",
      " 3.7480e+03 9.3800e+02 7.4000e+02 8.1000e+02 5.9900e+02 3.2850e+03\n",
      " 1.1143e+04 3.3760e+03 5.3100e+02 2.3840e+03 5.0300e+02 2.4040e+03\n",
      " 1.4000e+02 3.3540e+03 8.5600e+02 4.1400e+02 2.2270e+03 4.2230e+03\n",
      " 2.5600e+02 7.7480e+03 3.0900e+02 1.8790e+03 7.5950e+03 2.8020e+03\n",
      " 3.0000e+02 5.1380e+03 1.4120e+03 9.5960e+03 7.6600e+02 5.1720e+03\n",
      " 8.5300e+02 5.6800e+02 1.4760e+03 1.4400e+03 3.3060e+03 1.0590e+03\n",
      " 2.9400e+02 5.3200e+02 6.7330e+03 7.3400e+02 2.4000e+02 6.4800e+02\n",
      " 2.1500e+02 6.6690e+03 6.1200e+02 1.5360e+03 2.5830e+03 1.2200e+02\n",
      " 1.2490e+03 2.2300e+02 1.9000e+02 1.2500e+02 7.2710e+03 2.4000e+03\n",
      " 2.2340e+03 7.7800e+02 2.2600e+02 8.1700e+02 7.9600e+02 2.3000e+02\n",
      " 2.8800e+02 6.3200e+02 3.2270e+03 7.0000e+03 2.0229e+04 5.9030e+03\n",
      " 6.9010e+03 8.3000e+02 2.2880e+03 1.6954e+04 4.7340e+03 3.7500e+02\n",
      " 7.4900e+02 1.6400e+02 7.0100e+02 6.7700e+02 8.7600e+02 6.3150e+03\n",
      " 8.9600e+02 9.0580e+03 4.3600e+02 1.0530e+03 7.1300e+02 2.3700e+02\n",
      " 1.0163e+04 4.6600e+02 6.2200e+02 9.1590e+03 7.1200e+02 7.3700e+02\n",
      " 7.6200e+02 1.2550e+03 4.3900e+02 8.2000e+01 7.1700e+02 2.1100e+02\n",
      " 8.0200e+02 7.5960e+03 1.0840e+03 7.7500e+02 4.1000e+01 1.4860e+03\n",
      " 1.6071e+04 2.0650e+03 7.0260e+03 6.0000e+02 9.2600e+02 3.2190e+03\n",
      " 3.5750e+03 1.2600e+03 6.6700e+02 2.8170e+03 3.2160e+03 1.1963e+04\n",
      " 1.6280e+03 1.7700e+02 1.2700e+02 2.3600e+02 2.5150e+03 1.0200e+03\n",
      " 2.5060e+03 6.6020e+03 2.6990e+03 8.3500e+02 2.0500e+02 9.2400e+02\n",
      " 1.3760e+03 9.1900e+02 4.4300e+02 2.3450e+03 5.7900e+02 1.0170e+03\n",
      " 6.6070e+03 1.3290e+03 2.3130e+03 2.7300e+02 2.3870e+03 4.6400e+02\n",
      " 6.6600e+02 7.8900e+02 9.9330e+03 5.1500e+02 8.1000e+01 1.1500e+02\n",
      " 9.7000e+01 4.3800e+02 5.2090e+03 1.2620e+03 3.9200e+02 1.4780e+03\n",
      " 1.4600e+03 1.6860e+03 6.8000e+01 8.3000e+01 9.1000e+01 2.9880e+03\n",
      " 5.8240e+03 5.0800e+02 8.2000e+02 1.6963e+04 2.9140e+03 8.3700e+02\n",
      " 1.8000e+02 5.3700e+02 2.1750e+03 2.9100e+02 7.4920e+03 4.5000e+01\n",
      " 4.5700e+02 2.3860e+03 7.2900e+02 2.7200e+02 1.7900e+02 1.2130e+03\n",
      " 3.7000e+02 3.1600e+02 1.9720e+03 3.1100e+02 1.3610e+03 4.1320e+03\n",
      " 3.2090e+03 1.0460e+03 2.3010e+03 2.8950e+03 7.9700e+02 1.6340e+03\n",
      " 5.0000e+01 1.7970e+03 4.8530e+03 7.9000e+01 2.5700e+03 4.7100e+02\n",
      " 2.0160e+03 1.0060e+03 3.7400e+02 2.8820e+03 7.6000e+01 6.4200e+02\n",
      " 4.0480e+03 1.4530e+03 1.2200e+03 3.2470e+03 9.4100e+02 9.0040e+03\n",
      " 1.6660e+03 2.8200e+02 2.7030e+03 1.1660e+03 5.9500e+02 8.0500e+02\n",
      " 1.8500e+02 2.1800e+02 2.3100e+02 3.5430e+03 4.9000e+02 3.3800e+02\n",
      " 1.9540e+03 5.1200e+02 3.2200e+02 1.4100e+02 5.2100e+02 1.4250e+03\n",
      " 5.3600e+02 1.1630e+03 4.9500e+02 6.9620e+03 1.8700e+02 4.1570e+03\n",
      " 1.5390e+03 1.1530e+03 6.7900e+02 1.2350e+04 1.7540e+03 8.4500e+02\n",
      " 2.3300e+02 1.4300e+02 1.0900e+03 2.0760e+03 4.2400e+02 5.8000e+02\n",
      " 2.4400e+02 3.2320e+03 1.9000e+01 7.1600e+02 2.8540e+03 6.0200e+02\n",
      " 6.8700e+02 2.8900e+02 1.4390e+03 9.7880e+03 2.9300e+02 7.2700e+02\n",
      " 2.8750e+03 3.5000e+02 8.5000e+01 1.4000e+03 9.3220e+03 7.8600e+02\n",
      " 7.3880e+03 9.5400e+03 7.0200e+02 1.5000e+02 9.5200e+02 1.6250e+04\n",
      " 1.3540e+03 9.6000e+01 6.1600e+02 1.9730e+03 5.0900e+02 3.7890e+03\n",
      " 2.3000e+01 5.6490e+03 7.4500e+02 3.6900e+02 2.8500e+02 1.8260e+03\n",
      " 4.8000e+01 5.4400e+02 2.2900e+02 3.8660e+03 3.2000e+02 4.2830e+03\n",
      " 1.6190e+03 6.4900e+02 7.3000e+01 4.2900e+02 1.6010e+03 2.0620e+03\n",
      " 6.2300e+02 2.2700e+02 6.5620e+03 2.3250e+03 9.9600e+02 6.3300e+02\n",
      " 1.5920e+03 6.8900e+02 3.1460e+03 6.7000e+02 1.5010e+03 2.7000e+02\n",
      " 2.7900e+02 6.2000e+02 2.8470e+03 8.5800e+02 7.1900e+02 4.0000e+02\n",
      " 1.1900e+03 3.3900e+02 3.7700e+03 6.2500e+02 1.0050e+03 1.8300e+03\n",
      " 9.3360e+03 5.2830e+03 2.1050e+03 5.1960e+03 2.5240e+03 3.1420e+03\n",
      " 2.9250e+03 1.2400e+03 1.4730e+03 4.6000e+02 1.8600e+02 4.0300e+02\n",
      " 7.4200e+02 3.8700e+02 2.3670e+03 2.7680e+03 1.2010e+03 9.4600e+02\n",
      " 1.4550e+03 2.4140e+03 2.4800e+02 4.9100e+02 7.2600e+02 2.8000e+01\n",
      " 7.3300e+02 2.7830e+03 3.1310e+03 4.5310e+03 1.9590e+03 9.1100e+02\n",
      " 6.4500e+02 8.0000e+01 1.0830e+03 2.2800e+02 3.8400e+02 2.1100e+03\n",
      " 2.0300e+02 1.1000e+02 3.4850e+03 7.0900e+02 3.3610e+03 7.4400e+02\n",
      " 4.4020e+03 1.3790e+03 1.0302e+04 3.4530e+03 1.4590e+03 2.9600e+02\n",
      " 1.1110e+03 1.3810e+03 1.3620e+03 1.0000e+03 1.5800e+02 2.5720e+03\n",
      " 4.5830e+03 9.9100e+02 3.9400e+02 3.7000e+01 2.5700e+02 7.4300e+02\n",
      " 2.9900e+02 2.1410e+03 3.4700e+02 5.6300e+02 1.2970e+03 2.0310e+03\n",
      " 2.8200e+03 9.4500e+02 6.6000e+01 5.6000e+01 1.1070e+03 6.8300e+02\n",
      " 4.5500e+02 3.3300e+02 2.5000e+02 1.8070e+03 2.6810e+03 3.4620e+03\n",
      " 7.8100e+02 2.3110e+03 6.3100e+02 3.0260e+03 4.7900e+02 1.1020e+03\n",
      " 8.0100e+02 4.0560e+03 4.9130e+03 2.0700e+03 4.5300e+02 1.3100e+02\n",
      " 8.1570e+03 4.5400e+02 1.8390e+03 2.7160e+03 3.8600e+02 4.0930e+03\n",
      " 3.5500e+02 3.7260e+03 1.6330e+03 5.3300e+03 4.4100e+02 7.5300e+02\n",
      " 1.0910e+03 2.0320e+03 2.4050e+03 2.3397e+04 6.4300e+02 2.2790e+03\n",
      " 4.9330e+03 7.8000e+02 5.5800e+02 1.1800e+03 1.2100e+03 8.8400e+02\n",
      " 1.1020e+04 3.1560e+03 2.1890e+03 7.3600e+02 1.6830e+03 2.6400e+02\n",
      " 5.3900e+02 1.6900e+02 4.1600e+02 2.3770e+03 8.2100e+02 7.5100e+02\n",
      " 4.2480e+03 2.2390e+03 1.2570e+03 5.6420e+03 2.4190e+03 7.1000e+02\n",
      " 2.0750e+03 4.8300e+02 1.3080e+03 1.9450e+03 3.9800e+02 7.2500e+03\n",
      " 2.1610e+03 9.0500e+02 2.4620e+03 2.1760e+03 2.1150e+03 3.9730e+03\n",
      " 1.7080e+03 3.4100e+02 5.4600e+02 5.9800e+02 7.6210e+03 2.1820e+03\n",
      " 1.0651e+04 6.3800e+02 5.7780e+03 1.0700e+02 7.1500e+02 1.5170e+03\n",
      " 2.9180e+03 6.8820e+03 2.9200e+02 1.0580e+03 1.2110e+03 3.8060e+03\n",
      " 6.5800e+02 1.9980e+03 7.9800e+02 2.0450e+03 4.7200e+02 5.9800e+03\n",
      " 4.0380e+03 8.7300e+02 4.8130e+03 6.0300e+02 6.0100e+02 8.6500e+02\n",
      " 8.4700e+02 2.6800e+03]\n",
      "######################################################################\n",
      "--->>ShoppingMall unique values :\n",
      " [0.000e+00 6.350e+02 2.630e+02 1.360e+02 2.530e+02 2.430e+02 8.000e+00\n",
      " 2.600e+01 1.800e+01 5.273e+03 1.200e+01 3.000e+01 8.700e+01 1.350e+02\n",
      " 1.235e+03 1.585e+03 9.970e+02 3.900e+01 8.200e+01 2.000e+00 5.710e+02\n",
      " 2.305e+03 1.000e+00 6.108e+03 2.300e+01 5.210e+02 1.480e+02 7.050e+02\n",
      " 1.175e+03 1.404e+03 2.060e+02 2.420e+02 5.650e+02 4.000e+00 8.098e+03\n",
      " 2.200e+01 7.800e+01 7.280e+02 2.839e+03 4.620e+02 1.380e+02 4.100e+01\n",
      " 7.022e+03 7.900e+01 1.299e+03 4.220e+02 1.320e+02 8.100e+01 1.026e+03\n",
      " 2.880e+02 7.000e+00 7.550e+02 2.590e+02 6.100e+02 4.391e+03 7.370e+02\n",
      " 1.247e+03 3.000e+00 9.320e+02 5.170e+02 6.700e+01 2.219e+03 1.000e+01\n",
      " 7.590e+02 4.870e+02 6.252e+03 4.410e+02 2.000e+01 1.970e+02 8.580e+02\n",
      " 2.736e+03 5.410e+02 6.870e+02 1.022e+03 3.710e+02 6.300e+01 1.310e+02\n",
      " 6.720e+02 2.427e+03 9.900e+01 1.023e+03 5.500e+01 6.730e+02 1.580e+02\n",
      " 2.840e+02 1.281e+03 1.435e+03 1.740e+02 1.100e+01 1.469e+03 1.057e+03\n",
      " 1.456e+03 2.220e+02 1.110e+03 8.810e+02 6.910e+02 1.608e+03 2.640e+02\n",
      " 5.400e+01 1.790e+03 4.600e+01 2.210e+02 1.020e+03 5.830e+02 1.604e+03\n",
      " 3.500e+02 6.590e+02 3.300e+01 1.817e+03 5.000e+00 7.480e+02 1.487e+03\n",
      " 8.920e+02 1.195e+03 1.750e+02 2.780e+02 4.700e+01 3.500e+01 3.770e+02\n",
      " 8.000e+01 5.290e+02 2.690e+02 2.990e+02 7.620e+02 6.930e+02 5.900e+01\n",
      " 2.350e+02 3.767e+03 2.851e+03 6.440e+02 3.000e+02 5.120e+02 1.162e+03\n",
      " 3.100e+01 2.800e+01 6.970e+02 1.140e+02 4.970e+02 2.572e+03 7.830e+02\n",
      " 5.200e+01 3.440e+02 5.100e+01 1.510e+02 1.719e+03 6.300e+02 9.780e+02\n",
      " 4.230e+02 6.560e+02 5.400e+02 3.800e+01 1.161e+03 3.460e+02 3.200e+01\n",
      " 8.300e+01 2.940e+02 1.500e+02 3.520e+02 2.329e+03 1.810e+02 1.400e+01\n",
      " 5.390e+02 1.863e+03 1.600e+01 4.800e+01 1.094e+03 8.190e+02 2.250e+02\n",
      " 1.547e+03 9.270e+02 2.190e+02 5.970e+02 3.250e+02 1.690e+02 6.080e+02\n",
      " 9.950e+02 2.600e+02 2.936e+03 7.770e+02 8.292e+03 7.500e+01 6.500e+01\n",
      " 2.438e+03 4.300e+02 9.200e+01 3.320e+02 8.420e+02 3.720e+02 8.880e+02\n",
      " 2.620e+03 4.500e+01 3.630e+02 8.300e+02 1.166e+03 1.274e+03 2.130e+02\n",
      " 7.410e+02 8.710e+02 9.260e+02 2.400e+01 9.800e+01 1.090e+03 7.740e+02\n",
      " 6.290e+02 1.650e+02 3.600e+01 1.277e+03 2.160e+02 3.010e+02 2.521e+03\n",
      " 4.000e+01 7.400e+01 9.940e+02 1.566e+03 7.040e+02 5.850e+02 3.780e+02\n",
      " 5.840e+02 1.121e+03 8.017e+03 4.060e+02 2.768e+03 2.100e+01 4.760e+02\n",
      " 7.380e+02 9.000e+00 6.050e+02 1.217e+03 1.300e+01 5.600e+01 2.020e+02\n",
      " 2.700e+01 7.470e+02 7.090e+02 2.345e+03 5.740e+02 7.960e+02 2.980e+02\n",
      " 4.530e+02 6.061e+03 2.970e+02 3.380e+02 4.200e+01 2.000e+02 6.890e+02\n",
      " 8.450e+02 2.620e+02 3.760e+02 1.126e+03 4.661e+03 2.338e+03 5.300e+01\n",
      " 6.660e+02 1.290e+02 3.170e+02 1.400e+02 9.060e+02 2.570e+02 6.340e+02\n",
      " 1.120e+02 7.240e+02 7.150e+02 4.300e+01 2.950e+02 6.920e+02 4.510e+02\n",
      " 2.900e+01 2.080e+02 5.730e+02 7.270e+02 6.860e+02 5.320e+02 4.940e+02\n",
      " 9.690e+02 1.270e+02 1.160e+02 8.740e+02 1.990e+02 2.070e+02 1.522e+03\n",
      " 4.380e+02 8.560e+02 8.590e+02 7.060e+02 7.700e+02 3.950e+02 2.960e+02\n",
      " 1.059e+03 8.480e+02 7.400e+02 1.900e+01 3.870e+02 3.110e+02 4.780e+02\n",
      " 1.610e+03 8.500e+02 1.104e+03 5.649e+03 1.230e+02 2.267e+03 6.990e+02\n",
      " 2.670e+02 7.020e+02 1.352e+03 3.280e+02 1.819e+03 1.950e+02 2.760e+03\n",
      " 8.490e+02 1.330e+02 6.880e+02 3.765e+03 1.184e+03 1.103e+03 6.000e+01\n",
      " 1.388e+03 8.610e+02 9.100e+01 6.000e+00 4.310e+02 2.638e+03 8.500e+01\n",
      " 2.380e+02 1.631e+03 2.271e+03 1.202e+03 1.730e+02 3.030e+02 8.890e+02\n",
      " 3.270e+02 1.240e+02 7.000e+01 1.500e+01 7.700e+01 8.160e+02 3.450e+02\n",
      " 1.110e+02 8.800e+01 5.490e+02 1.923e+03 1.880e+02 9.580e+02 1.780e+02\n",
      " 1.600e+02 1.342e+03 9.820e+02 1.030e+02 3.070e+02 1.680e+02 3.820e+02\n",
      " 2.740e+02 9.770e+02 3.160e+02 2.710e+02 1.001e+03 8.400e+01 1.008e+03\n",
      " 4.600e+02 1.560e+02 6.760e+02 3.700e+01 1.170e+02 1.490e+02 1.425e+03\n",
      " 7.120e+02 7.230e+02 6.850e+02 1.300e+02 1.420e+02 1.698e+03 1.320e+03\n",
      " 4.410e+03 3.560e+02 6.400e+01 1.630e+03 2.451e+03 2.183e+03 5.080e+02\n",
      " 9.360e+02 7.140e+02 9.300e+01 3.790e+02 2.718e+03 2.751e+03 1.072e+03\n",
      " 2.450e+02 2.230e+02 2.820e+02 8.060e+02 1.188e+03 6.900e+01 5.000e+01\n",
      " 7.600e+01 1.930e+02 9.490e+02 4.850e+02 9.170e+02 8.550e+02 2.660e+02\n",
      " 4.150e+02 6.260e+02 3.540e+02 1.700e+01 6.310e+02 8.690e+02 1.275e+03\n",
      " 6.630e+02 1.583e+03 2.330e+02 3.129e+03 3.200e+02 7.720e+02 5.690e+02\n",
      " 2.050e+02 2.081e+03 5.040e+02 8.870e+02 8.790e+02 2.490e+02 6.540e+02\n",
      " 8.251e+03 5.450e+02 2.089e+03 2.320e+02 1.746e+03 1.710e+02 1.340e+02\n",
      " 7.100e+01 6.110e+02 4.610e+02 1.353e+03 1.050e+02 9.700e+01 9.500e+01\n",
      " 6.240e+02 4.390e+02 2.262e+03 3.610e+02 1.177e+03 1.530e+02 7.870e+02\n",
      " 7.690e+02 6.190e+02 1.000e+02 5.420e+02 7.930e+02 9.480e+02 1.460e+02\n",
      " 6.060e+02 2.110e+02 5.790e+02 1.613e+03 4.450e+02 1.168e+03 4.130e+02\n",
      " 4.420e+02 1.444e+03 9.960e+02 9.130e+02 1.365e+03 8.180e+02 7.800e+02\n",
      " 7.680e+02 3.091e+03 4.210e+02 3.930e+02 1.214e+03 4.460e+03 1.062e+03\n",
      " 1.090e+02 1.741e+03 3.650e+02 5.960e+02 5.800e+01 6.420e+02 4.090e+02\n",
      " 6.100e+01 1.048e+03 2.121e+03 1.296e+03 6.200e+01 5.580e+02 2.920e+02\n",
      " 3.510e+02 1.025e+03 1.010e+03 1.430e+02 1.630e+02 1.317e+03 1.014e+03\n",
      " 4.550e+02 6.023e+03 1.423e+03 2.837e+03 7.160e+02 1.030e+03 7.030e+02\n",
      " 1.222e+03 9.450e+02 8.380e+02 1.041e+03 5.940e+02 6.830e+02 7.170e+02\n",
      " 2.488e+03 2.500e+01 1.599e+03 1.565e+03 7.250e+02 1.210e+02 1.618e+03\n",
      " 6.140e+02 3.509e+03 1.150e+02 3.180e+02 1.450e+02 1.987e+03 9.840e+02\n",
      " 1.789e+03 2.760e+02 1.079e+03 1.080e+02 3.970e+02 1.143e+03 2.170e+02\n",
      " 4.020e+02 1.220e+03 2.127e+03 6.320e+02 7.200e+01 6.510e+02 8.430e+02\n",
      " 1.156e+03 7.000e+02 6.130e+02 9.460e+02 4.570e+02 2.280e+02 8.440e+02\n",
      " 1.540e+02 3.074e+03 9.930e+02 8.070e+02 6.550e+02 1.351e+03 1.410e+02\n",
      " 2.646e+03 9.830e+02 4.700e+02 5.190e+02 2.730e+02 4.860e+02 1.066e+03\n",
      " 2.104e+03 9.280e+02 5.950e+02 8.640e+02 9.680e+02 3.400e+01 8.310e+02\n",
      " 1.442e+03 5.250e+02 1.900e+02 1.896e+03 1.211e+03 6.200e+02 6.170e+02\n",
      " 9.600e+01 8.020e+02 4.950e+02 4.471e+03 7.300e+01 8.660e+02 5.280e+02\n",
      " 3.830e+02 6.460e+02 7.610e+02 4.290e+02 2.332e+03 6.470e+02 1.117e+03\n",
      " 7.260e+02 8.780e+02 2.140e+02 2.461e+03 1.709e+03 2.153e+03 5.100e+02\n",
      " 1.040e+02 1.005e+03 2.580e+02 4.080e+02 5.330e+02 2.396e+03 1.153e+03\n",
      " 7.350e+02 4.680e+02 1.078e+03 1.440e+02 3.050e+02 4.900e+02 9.040e+02\n",
      " 5.090e+02 5.140e+02 5.700e+01 7.320e+02 1.390e+02 1.820e+02 8.980e+02\n",
      " 1.063e+03 3.290e+02 1.570e+02 6.600e+01 8.680e+02 1.610e+02 6.960e+02\n",
      " 2.270e+02 6.020e+02 4.200e+02 1.367e+03 1.825e+03 1.250e+02 7.990e+02\n",
      " 2.790e+02 1.720e+02 2.560e+02 2.216e+03 1.512e+03 6.070e+02 1.015e+03\n",
      " 2.561e+03 3.120e+02 1.070e+02 7.570e+02 7.750e+02 7.010e+02 2.090e+02\n",
      " 9.760e+02 5.720e+02 1.349e+03 6.520e+02 2.228e+03 1.393e+03 3.230e+02\n",
      " 1.245e+03 2.871e+03 1.171e+03 6.820e+02 9.400e+02 9.540e+02 1.950e+03\n",
      " 9.520e+02 1.446e+03 7.210e+02 1.660e+02 1.968e+03 1.187e+03 2.890e+02\n",
      " 9.430e+02 9.400e+01 9.750e+02 8.120e+02 2.619e+03 1.370e+02 5.470e+02\n",
      " 4.790e+02 2.035e+03 3.260e+02 7.110e+02 2.237e+03 4.100e+02 9.710e+02\n",
      " 8.390e+02 1.260e+03 3.880e+02 3.340e+02 2.510e+02 9.700e+02 5.600e+02\n",
      " 6.940e+02 1.328e+03 9.650e+02 7.290e+02 4.170e+02 3.550e+02 1.773e+03\n",
      " 4.740e+02 3.700e+02 8.400e+02 1.322e+03 4.400e+02 6.210e+02 2.257e+03\n",
      " 1.319e+03 6.150e+02 1.464e+03 2.680e+02 2.142e+03 1.693e+03 1.307e+03\n",
      " 9.530e+02 3.429e+03 9.660e+02 1.039e+03 1.520e+02 1.636e+03 1.130e+02\n",
      " 7.980e+02 7.130e+02 6.620e+02 1.311e+03 2.156e+03 5.430e+02 1.258e+03\n",
      " 3.851e+03]\n",
      "######################################################################\n",
      "--->>Spa unique values :\n",
      " [0.0000e+00 2.8230e+03 1.8100e+02 1.1300e+02 2.3700e+02 7.0000e+00\n",
      " 1.4000e+01 1.6870e+03 9.0300e+02 4.5700e+02 5.6900e+02 3.1440e+03\n",
      " 3.0000e+00 1.6090e+03 4.0000e+00 1.4090e+03 1.8000e+01 1.1800e+02\n",
      " 2.1400e+02 2.6500e+02 8.6600e+02 5.9900e+02 1.0000e+00 3.6000e+01\n",
      " 2.9000e+01 7.2300e+02 1.2130e+03 1.5020e+03 2.1000e+01 7.5600e+02\n",
      " 4.6500e+02 4.5720e+03 1.5500e+02 1.2767e+04 2.0000e+00 1.5310e+03\n",
      " 1.3000e+01 1.8130e+03 7.5100e+02 8.5000e+01 6.0200e+02 8.5170e+03\n",
      " 4.6000e+01 1.5600e+03 6.2000e+01 9.1900e+02 1.9360e+03 3.6800e+02\n",
      " 6.1300e+02 1.0790e+03 4.4000e+01 9.7800e+02 4.9660e+03 1.0000e+01\n",
      " 4.2000e+01 3.0800e+02 4.8820e+03 3.4900e+03 4.9300e+02 7.0400e+02\n",
      " 3.9300e+02 5.0000e+01 6.0000e+00 7.8300e+02 3.3200e+02 7.3600e+02\n",
      " 8.8200e+02 1.0280e+03 6.2800e+02 7.6680e+03 1.5000e+01 3.8000e+01\n",
      " 1.6300e+02 4.8600e+02 3.1500e+02 2.3800e+02 1.6000e+01 1.1210e+03\n",
      " 4.4200e+02 3.9500e+02 2.4880e+03 4.4700e+02 1.1540e+03 1.0200e+02\n",
      " 8.0000e+00 6.1000e+01 1.0243e+04 5.3200e+02 3.3300e+02 5.0500e+02\n",
      " 1.7000e+02 7.5500e+02 5.0000e+00 8.7400e+02 6.6000e+01 3.3600e+02\n",
      " 4.0000e+01 5.3900e+02 1.6900e+02 7.8700e+02 1.1000e+01 4.3400e+02\n",
      " 1.1970e+03 1.9350e+03 1.4120e+03 4.7800e+02 3.7170e+03 1.3420e+03\n",
      " 3.8600e+02 6.2100e+02 1.6630e+03 7.4020e+03 8.3000e+01 1.6780e+03\n",
      " 2.3000e+01 3.8580e+03 2.3930e+03 2.2000e+01 2.2170e+03 2.0000e+01\n",
      " 2.4100e+02 2.6730e+03 3.6500e+02 3.2430e+03 3.7500e+02 7.3200e+02\n",
      " 7.9800e+02 1.6000e+02 1.1600e+02 8.0800e+02 3.7000e+02 6.9620e+03\n",
      " 5.6000e+01 6.2820e+03 2.5600e+02 5.2700e+02 4.5000e+01 9.0000e+00\n",
      " 1.5000e+02 6.0000e+01 1.8800e+02 4.1000e+01 7.7000e+01 5.6200e+02\n",
      " 3.6130e+03 4.8400e+02 1.6240e+03 4.5840e+03 1.1200e+02 1.5140e+03\n",
      " 9.1000e+01 4.6300e+02 4.7000e+01 4.4900e+02 1.4200e+02 1.2000e+01\n",
      " 2.2100e+02 7.5700e+02 1.1490e+03 1.8240e+03 4.2400e+02 9.4800e+02\n",
      " 1.6120e+03 9.1000e+02 6.0100e+02 1.3100e+02 6.3600e+02 2.0000e+02\n",
      " 1.7000e+01 1.4460e+03 1.7070e+03 4.3000e+02 1.2600e+02 3.3700e+02\n",
      " 1.9080e+03 9.0100e+02 2.5100e+02 1.9000e+01 1.9200e+02 2.0100e+02\n",
      " 1.5100e+02 3.5000e+01 3.1830e+03 7.5360e+03 4.2200e+02 4.8500e+02\n",
      " 4.9000e+02 7.7100e+02 5.6800e+02 7.6000e+01 7.4980e+03 5.2200e+02\n",
      " 1.6160e+03 7.5800e+02 6.9900e+02 9.2000e+02 6.7100e+02 4.5200e+02\n",
      " 5.3500e+02 1.8900e+02 6.7200e+02 8.9990e+03 1.2200e+02 2.9800e+02\n",
      " 6.8000e+01 8.8600e+02 1.6320e+03 1.0380e+03 2.8180e+03 4.0200e+02\n",
      " 8.6000e+01 4.7900e+02 4.9760e+03 9.1300e+02 2.1200e+02 1.3010e+03\n",
      " 2.7100e+02 3.9400e+02 7.0700e+02 7.2000e+01 1.2200e+03 8.2200e+02\n",
      " 6.0600e+02 4.7640e+03 3.1700e+02 3.3800e+02 6.1000e+02 2.1800e+02\n",
      " 9.3000e+01 1.2000e+02 3.5100e+02 1.3840e+03 3.5500e+02 1.6700e+02\n",
      " 2.4000e+02 3.7480e+03 7.4100e+02 1.6410e+03 2.4500e+02 1.4500e+02\n",
      " 8.2700e+02 1.8500e+02 6.3200e+02 4.1600e+03 9.7400e+02 6.3800e+02\n",
      " 6.0000e+02 1.3110e+03 4.3900e+02 1.2600e+03 5.3000e+01 3.9100e+02\n",
      " 3.8900e+02 3.2700e+02 9.9400e+02 1.7570e+03 2.8300e+02 6.7000e+01\n",
      " 4.2570e+03 1.1000e+02 5.9000e+02 3.9000e+01 6.3000e+01 1.4700e+02\n",
      " 8.4000e+01 5.9300e+02 2.0700e+02 1.3700e+02 1.2400e+02 9.5100e+02\n",
      " 2.0600e+03 2.3200e+02 6.6300e+02 9.8000e+02 9.2900e+02 2.7000e+01\n",
      " 1.0600e+02 5.2900e+02 1.2730e+03 8.9700e+02 4.0600e+02 5.3600e+02\n",
      " 1.1230e+03 6.8800e+02 5.9500e+02 3.7000e+01 7.8800e+02 3.7800e+02\n",
      " 2.7600e+02 1.1880e+03 1.5520e+03 3.7100e+02 3.0000e+01 9.1700e+02\n",
      " 1.6100e+02 2.4000e+01 2.4600e+02 2.6000e+02 2.5200e+02 5.2000e+01\n",
      " 5.6000e+02 8.6700e+02 1.5850e+03 3.5880e+03 4.4100e+02 5.7000e+01\n",
      " 7.0900e+02 5.8310e+03 3.3000e+01 1.2100e+02 1.3300e+02 1.9900e+02\n",
      " 5.9570e+03 3.1100e+02 6.3100e+02 6.3000e+02 3.4000e+01 4.1710e+03\n",
      " 4.0000e+02 8.5800e+03 1.7590e+03 3.4500e+02 9.8500e+02 1.6850e+03\n",
      " 9.6300e+02 8.0200e+02 5.1500e+02 1.7000e+03 1.9400e+03 1.1180e+03\n",
      " 4.9000e+01 1.1870e+03 2.1840e+03 2.3400e+02 6.6500e+02 6.5000e+01\n",
      " 2.4270e+03 4.4300e+02 4.5100e+02 1.2960e+03 2.9280e+03 9.5000e+01\n",
      " 4.4500e+02 2.0510e+03 1.8300e+02 8.9500e+02 1.7710e+03 3.8290e+03\n",
      " 1.5733e+04 1.5255e+04 5.5340e+03 7.5000e+01 1.7420e+03 3.4200e+02\n",
      " 4.0100e+02 3.8100e+02 6.5500e+02 5.9200e+02 1.6560e+03 2.4050e+03\n",
      " 2.5000e+02 1.0900e+03 2.9700e+02 5.1000e+01 1.7300e+02 5.1560e+03\n",
      " 2.0800e+02 7.9600e+02 7.8400e+02 5.2520e+03 3.7520e+03 3.6400e+02\n",
      " 7.7500e+02 1.2842e+04 1.9230e+03 2.8820e+03 2.0610e+03 3.7450e+03\n",
      " 3.5600e+03 1.0900e+02 7.1200e+02 9.6000e+01 1.7880e+03 6.3860e+03\n",
      " 2.8000e+01 1.7500e+02 7.1600e+02 3.7620e+03 6.3070e+03 5.0600e+02\n",
      " 9.6600e+02 4.4670e+03 2.1700e+02 4.7200e+02 8.8400e+02 6.8400e+02\n",
      " 2.2870e+03 9.2200e+02 4.1900e+02 7.3400e+02 1.0232e+04 4.0700e+02\n",
      " 6.6700e+02 3.7690e+03 2.5000e+01 2.0500e+02 9.4000e+01 3.7440e+03\n",
      " 7.4400e+02 3.0200e+02 3.0900e+02 2.2000e+02 5.4900e+02 1.3170e+03\n",
      " 1.0450e+03 2.1400e+03 2.6750e+03 8.7000e+01 6.8600e+02 1.9660e+03\n",
      " 7.2000e+02 5.9000e+01 7.7000e+02 4.3000e+01 5.8400e+02 5.4000e+01\n",
      " 7.1800e+02 6.2890e+03 1.4300e+02 7.9000e+01 8.5100e+02 7.6200e+02\n",
      " 7.5000e+02 5.4100e+02 9.0000e+01 5.3700e+02 9.9100e+02 1.6750e+03\n",
      " 4.1460e+03 2.8600e+02 2.1000e+02 3.5600e+02 8.1000e+01 7.4500e+02\n",
      " 2.6000e+01 1.7700e+02 5.1900e+02 1.7800e+02 5.0300e+02 1.5230e+03\n",
      " 2.3600e+02 6.4400e+02 1.4240e+03 6.2510e+03 1.3960e+03 7.8100e+02\n",
      " 2.2840e+03 3.7200e+02 4.6950e+03 7.0680e+03 1.2437e+04 2.3470e+03\n",
      " 8.0400e+02 9.2600e+02 4.4600e+02 1.6030e+03 1.8470e+03 4.6100e+02\n",
      " 3.4600e+02 9.5700e+02 9.4300e+02 6.1900e+02 1.3800e+02 3.0600e+02\n",
      " 1.0610e+03 3.0500e+02 7.9400e+02 1.1850e+03 2.6700e+02 1.3120e+03\n",
      " 5.9280e+03 5.3100e+02 6.5200e+02 1.3900e+03 1.0300e+02 1.2800e+02\n",
      " 4.6180e+03 2.8480e+03 1.5080e+03 3.9900e+02 2.2600e+02 5.5200e+02\n",
      " 8.9100e+02 2.7400e+02 4.1500e+02 3.4390e+03 1.0670e+03 3.1000e+01\n",
      " 9.8600e+02 1.4950e+03 1.6500e+02 8.9000e+01 3.4100e+02 5.4820e+03\n",
      " 4.0720e+03 5.2300e+02 1.0350e+03 2.5250e+03 8.0960e+03 1.2790e+03\n",
      " 1.5900e+02 8.2500e+02 2.7800e+02 8.1900e+02 1.7840e+03 7.0600e+02\n",
      " 2.3000e+02 1.9400e+02 2.5970e+03 1.8660e+03 1.3510e+03 2.6100e+02\n",
      " 4.3300e+02 2.8800e+02 1.9300e+02 4.3600e+02 9.8000e+01 1.2380e+03\n",
      " 5.2290e+03 6.8900e+02 1.3400e+02 4.2900e+02 4.2000e+02 9.9000e+01\n",
      " 6.8100e+02 6.1620e+03 1.0800e+03 4.9600e+02 6.5400e+02 8.8900e+02\n",
      " 7.4600e+02 2.0260e+03 1.1483e+04 5.7000e+02 1.3580e+03 3.5900e+02\n",
      " 1.3200e+03 2.1820e+03 1.1160e+03 1.9610e+03 6.2980e+03 3.8170e+03\n",
      " 4.1700e+02 6.9200e+02 8.8000e+01 3.0810e+03 3.6050e+03 2.0950e+03\n",
      " 3.4000e+02 2.4900e+03 1.8220e+03 1.2840e+03 6.6000e+02 1.1790e+03\n",
      " 7.9100e+02 2.3100e+02 2.6400e+02 1.5100e+03 1.0290e+03 6.9000e+02\n",
      " 6.9600e+02 1.7290e+03 6.2900e+02 6.9700e+02 3.2400e+02 6.1600e+02\n",
      " 4.7000e+02 1.5300e+02 2.5670e+03 7.0500e+02 1.1700e+02 4.9200e+02\n",
      " 1.1080e+03 3.8500e+02 2.6900e+03 6.6800e+02 3.0480e+03 2.1460e+03\n",
      " 2.8400e+02 1.9844e+04 5.8000e+02 8.7100e+02 5.5000e+01 6.2500e+02\n",
      " 6.3900e+02 1.5200e+02 2.8100e+02 2.6240e+03 1.7990e+03 1.0400e+02\n",
      " 5.3870e+03 4.0180e+03 7.9500e+02 8.9800e+02 2.5540e+03 2.2300e+02\n",
      " 4.8000e+01 1.4600e+03 6.9000e+01 8.8300e+02 4.9800e+02 2.7580e+03\n",
      " 1.0630e+03 1.1920e+03 1.3983e+04 6.9400e+02 7.3900e+02 7.6900e+02\n",
      " 2.5930e+03 6.5900e+02 1.4820e+03 4.0500e+02 2.7900e+02 1.3940e+03\n",
      " 1.0650e+03 8.4400e+02 2.5800e+02 6.8500e+02 2.9410e+03 4.8300e+02\n",
      " 1.6440e+03 2.0770e+03 1.2690e+04 1.4400e+02 7.1400e+02 5.2600e+02\n",
      " 7.4000e+02 7.2200e+02 7.6100e+02 2.4420e+03 3.7700e+02 1.0100e+02\n",
      " 6.6200e+02 4.6700e+02 3.8280e+03 1.1780e+03 3.2800e+02 2.4200e+03\n",
      " 3.2000e+02 1.2700e+02 3.6900e+02 1.6470e+03 5.5400e+02 5.5500e+02\n",
      " 9.3800e+02 1.2940e+03 1.5800e+02 6.4200e+02 1.1400e+02 1.4600e+02\n",
      " 6.9800e+02 4.9500e+02 4.2100e+02 3.4300e+03 5.8650e+03 9.6400e+02\n",
      " 1.0800e+02 6.7400e+02 1.7380e+03 3.7300e+02 8.3800e+02 4.9900e+02\n",
      " 1.4440e+03 6.0500e+02 2.0160e+03 6.4720e+03 1.9060e+03 5.0800e+02\n",
      " 5.1250e+03 4.5400e+02 6.6030e+03 3.4930e+03 3.4730e+03 1.6230e+03\n",
      " 5.5300e+02 6.8700e+02 9.4500e+02 6.4000e+01 9.8910e+03 1.4790e+03\n",
      " 4.1200e+02 1.4710e+03 7.6900e+03 9.7900e+02 2.9200e+02 5.8600e+02\n",
      " 3.4800e+02 1.1000e+03 2.0300e+02 1.1900e+02 2.2060e+03 7.4900e+02\n",
      " 3.8200e+02 1.4470e+03 1.0190e+03 5.6600e+02 6.0300e+02 1.8200e+02\n",
      " 1.7130e+03 5.9800e+02 3.2100e+02 1.3440e+03 8.9110e+03 5.7200e+02\n",
      " 7.0000e+01 2.5400e+02 6.4500e+02 9.7000e+01 3.6700e+02 1.4390e+03\n",
      " 1.2270e+03 9.0900e+02 5.7370e+03 7.8000e+02 7.7700e+02 6.5300e+02\n",
      " 1.2630e+03 3.5700e+02 2.4120e+03 1.3200e+02 9.0200e+02 1.6140e+03\n",
      " 7.5400e+02 1.0470e+03 3.0430e+03 2.9300e+02 4.4410e+03 8.1100e+02\n",
      " 7.6800e+02 1.5200e+03 1.8820e+03 1.0700e+02 5.8000e+01 1.6200e+02\n",
      " 2.9900e+02 1.5340e+03 2.6300e+02 2.3500e+02 3.5300e+02 6.1700e+02\n",
      " 6.5800e+02 1.2480e+03 4.7300e+02 9.2000e+01 7.3000e+01 1.8560e+03\n",
      " 2.5360e+03 2.1190e+03 7.0100e+02 1.0880e+03 1.1520e+03 4.7240e+03\n",
      " 3.6580e+03 1.6810e+03 1.7400e+02 7.2500e+02 1.5190e+03 2.5900e+02\n",
      " 7.3000e+02 7.8500e+02 2.4800e+02 2.9100e+02 1.5180e+03 1.0070e+03\n",
      " 8.9600e+02 1.1100e+02 8.1800e+02 8.7300e+02 2.6200e+02 1.4730e+03\n",
      " 9.8700e+02 3.2370e+03 4.8000e+02 6.7700e+02 1.0660e+03 1.9990e+03\n",
      " 1.8270e+03 3.7100e+03 2.5500e+02 4.9230e+03 1.7200e+02 2.6060e+03\n",
      " 3.0130e+03 5.5000e+02 1.3690e+03 7.8900e+02 4.7020e+03 3.1040e+03\n",
      " 1.4900e+02 7.2800e+02 7.1000e+01 4.3310e+03 1.1470e+03 6.5550e+03\n",
      " 4.9700e+02 5.1880e+03 3.9930e+03 1.0130e+03 2.5820e+03 9.0600e+02\n",
      " 3.1200e+02 3.5270e+03 9.6700e+02 3.7830e+03 3.7600e+02 5.4200e+02\n",
      " 1.6270e+03 1.4252e+04 3.1960e+03 7.2600e+02 2.2120e+03 1.2250e+03\n",
      " 1.3660e+03 1.0990e+03 6.8120e+03 2.1530e+03 1.0230e+03 1.8720e+03\n",
      " 7.8000e+01 1.7160e+03 1.3770e+03 1.8120e+03 1.6800e+02]\n",
      "######################################################################\n",
      "--->>VRDeck unique values :\n",
      " [0.0000e+00 5.8500e+02 6.0000e+01 1.0100e+03 2.2400e+02 9.2000e+01\n",
      " 6.9000e+02 3.4300e+02 6.3000e+01 1.2350e+03 1.5500e+02 4.2200e+02\n",
      " 2.3000e+01 3.6700e+02 1.5000e+01 4.8400e+02 5.5600e+02 6.8600e+02\n",
      " 1.5760e+03 2.4580e+03 9.7000e+01 5.0900e+02 3.5230e+03 2.2300e+02\n",
      " 1.3600e+02 1.1720e+03 4.5000e+02 5.8000e+01 1.6300e+02 1.8000e+01\n",
      " 1.1930e+03 2.4390e+03 4.1000e+01 1.7140e+03 6.4390e+03 7.8000e+01\n",
      " 1.0000e+02 1.2560e+03 9.4000e+01 1.0000e+00 2.2000e+01 4.0550e+03\n",
      " 2.8100e+02 5.2400e+02 6.0800e+02 1.2400e+02 9.0000e+00 5.2200e+02\n",
      " 7.9600e+02 7.0000e+00 5.8320e+03 1.3730e+03 1.9750e+03 3.0000e+00\n",
      " 5.2880e+03 5.5300e+02 1.4000e+01 1.4440e+03 5.0000e+00 8.1000e+01\n",
      " 8.3500e+02 6.8900e+02 4.6100e+02 2.7560e+03 1.6000e+01 4.6000e+01\n",
      " 2.1000e+01 6.5900e+02 1.2980e+03 4.4600e+02 2.4710e+03 4.6410e+03\n",
      " 1.1300e+03 3.2000e+01 4.2400e+02 1.0250e+03 1.7000e+01 1.3850e+03\n",
      " 2.5600e+02 5.7000e+01 3.1000e+01 3.0400e+02 4.3700e+02 4.6790e+03\n",
      " 2.5830e+03 2.3100e+02 1.7100e+02 2.7600e+02 6.0000e+00 7.8800e+02\n",
      " 1.7200e+02 5.2000e+01 1.4400e+02 2.5050e+03 4.4190e+03 1.4560e+03\n",
      " 3.5060e+03 1.5940e+04 5.1000e+01 1.0000e+01 5.0600e+02 2.0000e+00\n",
      " 3.0000e+01 2.7700e+02 4.0000e+00 4.6200e+02 9.3000e+01 8.3300e+02\n",
      " 5.9150e+03 6.2200e+02 6.5120e+03 5.2180e+03 3.4000e+01 4.1500e+02\n",
      " 4.8200e+02 6.5300e+02 6.3200e+02 9.0800e+02 1.5600e+02 2.2570e+03\n",
      " 1.6500e+02 1.4050e+03 7.4000e+01 9.0000e+01 5.3000e+01 5.0800e+02\n",
      " 4.4900e+02 1.9000e+01 1.2863e+04 1.1000e+01 5.1300e+02 6.1190e+03\n",
      " 4.9000e+01 2.4000e+01 6.1510e+03 1.3800e+02 2.1580e+03 2.1500e+02\n",
      " 7.5300e+02 9.4200e+02 2.1700e+03 3.0700e+02 1.5820e+03 3.6100e+02\n",
      " 1.2000e+02 5.8150e+03 1.7420e+03 1.0310e+03 2.8820e+03 2.7500e+02\n",
      " 7.9000e+01 2.7000e+01 6.5600e+02 5.3800e+02 2.6000e+01 3.6000e+01\n",
      " 3.3110e+03 3.4100e+02 8.0000e+00 4.4800e+02 7.5570e+03 1.5900e+02\n",
      " 6.1100e+02 2.8000e+02 1.2600e+03 5.0000e+01 1.6100e+02 1.0300e+02\n",
      " 3.5100e+02 4.1900e+02 6.6100e+02 5.7000e+02 5.5000e+01 9.5000e+01\n",
      " 1.0600e+02 7.3820e+03 7.4700e+03 1.2000e+01 4.7000e+01 5.8240e+03\n",
      " 2.1880e+03 5.9000e+01 2.7350e+03 1.4200e+02 2.0000e+01 8.9000e+01\n",
      " 3.8770e+03 5.7800e+02 4.4200e+02 1.3500e+02 1.4268e+04 8.0030e+03\n",
      " 5.9100e+02 6.9200e+02 1.0800e+02 4.0000e+01 1.1240e+03 2.7320e+03\n",
      " 7.2100e+02 2.9700e+02 3.6200e+02 3.2700e+02 8.7900e+02 3.0800e+02\n",
      " 1.8300e+02 1.4000e+02 1.8100e+02 1.1410e+03 2.8900e+02 1.6620e+03\n",
      " 6.0830e+03 5.5500e+03 2.6000e+02 6.5200e+02 2.1490e+03 1.3300e+02\n",
      " 1.9610e+03 5.3000e+02 1.2226e+04 4.3000e+02 1.0500e+02 8.4000e+01\n",
      " 3.8700e+02 1.5100e+02 1.0680e+03 1.1700e+02 8.7000e+01 7.0460e+03\n",
      " 4.4110e+03 3.0200e+02 3.5000e+02 7.1000e+01 1.1250e+03 8.6000e+01\n",
      " 8.8000e+02 1.5200e+02 6.5400e+02 1.4080e+03 1.0550e+03 3.1550e+03\n",
      " 9.5400e+02 4.9200e+02 8.7200e+02 6.1700e+02 8.7800e+02 3.9000e+01\n",
      " 8.8200e+02 7.7900e+02 2.6010e+03 1.9170e+03 1.3100e+02 8.6500e+02\n",
      " 8.9600e+02 1.1632e+04 3.5500e+02 2.5200e+02 2.7200e+02 3.2090e+03\n",
      " 2.6900e+02 6.6600e+02 1.1280e+03 3.0300e+02 1.1100e+02 7.1610e+03\n",
      " 6.5700e+02 6.4300e+02 1.5930e+03 1.5125e+04 8.3000e+01 2.2700e+02\n",
      " 2.3580e+03 2.0060e+03 6.5000e+01 1.7650e+03 3.7700e+02 2.0300e+02\n",
      " 6.8500e+02 6.0310e+03 1.9086e+04 6.3100e+02 4.5000e+01 2.8270e+03\n",
      " 7.2000e+01 5.6000e+01 9.8200e+02 1.8200e+02 4.9600e+02 8.7300e+02\n",
      " 1.3250e+03 2.4060e+03 1.1800e+02 3.2170e+03 3.2230e+03 4.7800e+02\n",
      " 3.2000e+02 2.3300e+02 5.8700e+02 3.1500e+02 3.6900e+02 6.7000e+01\n",
      " 1.0650e+03 7.0300e+02 3.7900e+02 1.3170e+03 1.2010e+03 6.6800e+02\n",
      " 7.5000e+01 1.2810e+03 2.5000e+01 9.1000e+01 3.8080e+03 5.7200e+02\n",
      " 3.1400e+02 6.2000e+02 2.0700e+02 7.6600e+02 1.2920e+03 3.5900e+03\n",
      " 2.6500e+02 9.6000e+02 8.2000e+01 1.3000e+01 3.5400e+02 2.1660e+03\n",
      " 6.4200e+02 3.1780e+03 1.5700e+02 5.5200e+02 5.1400e+02 7.6000e+01\n",
      " 4.3200e+02 4.4840e+03 1.3870e+03 3.2900e+02 1.9190e+03 1.9400e+02\n",
      " 2.0800e+02 4.7300e+02 4.0300e+02 1.1330e+03 2.1800e+02 5.5100e+02\n",
      " 1.2390e+03 1.3700e+02 4.7360e+03 7.1200e+02 8.0800e+02 4.4000e+01\n",
      " 8.0300e+02 7.3900e+02 3.6560e+03 3.7620e+03 1.2700e+02 7.0900e+02\n",
      " 1.5690e+03 1.4700e+03 1.5630e+03 5.4700e+02 1.1520e+03 2.8620e+03\n",
      " 2.4300e+02 1.1333e+04 3.9600e+02 1.1130e+03 6.0300e+02 1.7900e+02\n",
      " 1.1110e+03 1.7400e+02 2.4130e+03 6.4500e+02 6.2000e+01 5.1800e+02\n",
      " 6.0760e+03 7.6900e+02 7.4200e+02 7.7000e+01 5.5800e+02 8.7700e+02\n",
      " 2.8600e+02 3.3000e+01 5.5130e+03 2.3600e+02 3.8000e+01 2.1860e+03\n",
      " 2.9220e+03 3.6000e+02 2.2430e+03 2.7900e+02 4.3000e+01 6.7700e+02\n",
      " 6.8000e+01 4.6300e+02 2.5100e+02 2.3340e+03 1.2060e+03 6.7800e+02\n",
      " 1.1700e+03 2.6040e+03 1.0400e+02 3.1040e+03 2.7220e+03 2.1700e+02\n",
      " 9.5900e+02 1.0040e+03 1.2970e+03 1.3970e+03 2.0190e+03 4.0900e+02\n",
      " 8.9700e+02 5.3400e+02 6.4900e+02 6.4950e+03 1.0780e+03 4.2000e+01\n",
      " 2.1950e+03 1.2300e+02 2.9440e+03 6.6300e+02 1.5680e+03 8.2550e+03\n",
      " 3.7200e+02 2.8210e+03 1.3200e+02 3.7000e+01 2.0600e+02 8.0000e+01\n",
      " 3.2950e+03 3.4200e+02 3.0810e+03 2.7100e+02 5.8830e+03 2.5500e+02\n",
      " 6.3660e+03 7.7000e+02 4.0000e+02 4.5900e+02 3.2500e+02 4.5300e+02\n",
      " 7.4800e+02 1.2500e+02 3.5210e+03 6.8100e+02 1.3900e+03 8.7100e+02\n",
      " 3.5700e+02 5.0500e+02 1.5440e+03 7.6300e+02 7.2600e+02 7.1700e+02\n",
      " 5.5000e+02 7.1500e+02 1.8850e+03 3.6410e+03 3.1290e+03 1.2200e+02\n",
      " 1.2800e+02 4.1110e+03 1.0200e+03 1.4200e+03 5.9200e+02 6.3800e+02\n",
      " 1.1090e+03 4.3400e+02 5.3900e+02 1.4210e+03 1.5350e+03 3.4500e+02\n",
      " 5.2800e+02 1.1225e+04 1.9800e+02 8.4430e+03 2.9910e+03 3.8200e+02\n",
      " 1.6380e+03 1.6490e+03 4.5200e+02 1.7790e+03 1.9100e+02 7.5500e+02\n",
      " 3.6300e+02 7.7490e+03 8.1800e+02 4.0930e+03 5.4000e+01 1.1450e+03\n",
      " 2.8500e+02 4.4300e+02 2.0500e+02 7.9850e+03 1.7840e+03 3.1520e+03\n",
      " 6.1000e+01 7.0000e+01 7.7800e+02 2.1750e+03 7.5600e+02 3.0620e+03\n",
      " 2.1040e+03 1.4300e+02 7.6500e+02 3.6800e+02 2.9000e+01 9.3300e+02\n",
      " 3.8100e+02 5.8600e+02 1.5080e+03 5.2200e+03 2.5900e+02 4.1020e+03\n",
      " 8.8600e+02 2.0920e+03 1.2100e+03 1.3400e+02 7.3120e+03 5.0700e+02\n",
      " 4.3800e+02 1.1150e+03 4.2500e+02 3.1000e+02 3.2800e+02 3.3000e+02\n",
      " 7.2800e+02 3.4900e+02 5.0300e+02 8.8300e+02 1.7000e+02 1.9300e+02\n",
      " 7.8500e+02 3.0850e+03 4.8800e+02 1.0750e+03 1.3660e+03 4.7900e+02\n",
      " 2.7770e+03 6.2400e+02 2.1600e+02 6.4000e+01 6.3000e+02 3.1700e+02\n",
      " 8.1400e+02 8.0900e+02 3.4000e+02 9.0900e+02 2.2730e+03 8.1700e+02\n",
      " 6.0400e+02 6.3400e+02 5.5400e+02 1.9940e+03 1.5040e+03 1.3040e+03\n",
      " 5.6100e+02 2.1300e+02 1.2730e+03 4.8000e+01 3.7300e+02 1.5400e+02\n",
      " 1.9860e+03 7.3500e+02 9.7700e+02 5.1600e+02 3.8600e+02 4.4350e+03\n",
      " 4.8500e+02 4.3300e+02 4.3260e+03 2.8870e+03 7.2400e+02 5.2700e+02\n",
      " 1.4700e+02 5.8100e+02 2.4000e+02 1.6240e+03 8.6300e+02 3.2340e+03\n",
      " 5.6400e+02 5.6110e+03 1.6514e+04 1.5150e+03 1.0587e+04 3.2720e+03\n",
      " 1.3940e+03 1.1900e+03 2.1200e+02 7.6430e+03 1.5190e+03 3.2400e+02\n",
      " 7.9200e+02 7.2300e+02 6.7000e+02 1.4587e+04 7.3000e+02 8.2800e+02\n",
      " 9.0000e+02 6.8200e+02 2.6800e+02 1.1940e+03 1.0200e+02 8.5000e+01\n",
      " 8.0200e+02 6.6000e+01 3.9940e+03 1.0810e+03 1.0980e+03 2.2272e+04\n",
      " 1.0100e+02 7.2200e+02 1.4100e+02 2.8400e+02 1.8800e+02 9.1300e+02\n",
      " 7.0700e+02 9.1400e+02 1.8440e+03 3.1850e+03 2.1680e+03 7.3600e+02\n",
      " 1.2900e+02 1.4120e+03 1.6600e+02 7.0000e+02 9.9700e+02 1.0900e+02\n",
      " 4.8900e+02 2.2500e+02 1.8670e+04 9.6260e+03 1.7540e+03 4.5320e+03\n",
      " 1.4500e+02 1.1500e+02 3.6500e+02 1.7300e+02 7.7300e+02 2.4400e+02\n",
      " 9.6130e+03 6.2600e+02 1.6700e+02 2.0000e+03 4.7200e+02 1.0050e+03\n",
      " 9.1900e+02 5.8790e+03 5.1000e+02 4.0700e+02 2.6550e+03 2.0790e+03\n",
      " 4.8300e+02 8.8000e+01 2.2600e+02 1.5520e+03 5.5900e+02 8.7600e+02\n",
      " 1.3340e+03 3.2100e+02 1.2380e+03 8.5200e+02 7.1900e+02 8.9200e+02\n",
      " 7.2290e+03 6.5800e+02 1.9660e+03 3.1900e+02 3.3100e+02 1.8680e+03\n",
      " 1.0260e+03 1.6170e+03 1.7210e+03 5.6800e+02 2.2000e+02 6.2900e+02\n",
      " 4.8600e+02 7.3300e+02 1.1200e+03 3.2280e+03 3.1530e+03 1.1650e+03\n",
      " 7.8300e+02 4.0090e+03 2.3420e+03 1.1060e+03 7.1300e+02 2.2100e+02\n",
      " 3.0500e+02 5.1900e+02 9.0100e+02 4.5400e+02 3.5800e+02 3.9300e+02\n",
      " 1.2410e+03 8.4900e+02 3.8600e+03 1.1300e+02 3.7400e+02 7.8900e+02\n",
      " 7.5800e+02 1.0720e+03 2.4200e+02 2.6980e+03 1.3390e+03 1.6060e+03\n",
      " 6.9460e+03 8.5300e+02 7.9000e+02 2.0670e+03 1.6120e+03 6.9000e+01\n",
      " 9.9000e+01 4.1100e+02 9.7400e+02 1.6200e+02 7.1600e+02 2.2190e+03\n",
      " 4.5500e+02 6.2500e+02 8.4400e+02 1.9050e+03 1.3760e+03 1.9500e+02\n",
      " 2.5670e+03 2.6990e+03 5.8650e+03 1.9700e+02 1.7570e+03 1.5110e+03\n",
      " 3.3300e+02 7.0500e+02 5.2760e+03 6.6400e+02 4.4570e+03 1.2160e+03\n",
      " 1.5000e+02 2.8900e+03 4.2810e+03 1.5180e+03 1.1900e+02 2.6400e+02\n",
      " 7.9400e+02 3.9100e+02 7.7200e+02 5.1820e+03 1.4600e+02 1.6160e+03\n",
      " 2.4900e+02 1.3020e+03 7.5400e+02 1.0700e+03 1.0360e+03 8.0500e+02\n",
      " 7.3400e+02 1.9220e+03 2.5620e+03 1.2260e+03 2.7000e+02 4.5740e+03\n",
      " 1.5620e+03 3.6490e+03 1.4850e+03 2.7240e+03 3.1600e+02 3.9700e+02\n",
      " 1.2430e+03 1.7600e+02 1.8130e+03 1.2113e+04 2.2720e+03 3.5000e+01\n",
      " 5.4300e+02 4.8100e+02 1.7500e+02 1.8900e+02 9.0600e+02 6.0020e+03\n",
      " 1.1440e+03 3.0000e+03 3.3800e+02 9.2800e+02 9.9800e+02 2.1460e+03\n",
      " 2.6280e+03 4.6170e+03 1.9950e+03 3.1300e+02 9.6300e+02 1.8410e+03\n",
      " 8.6700e+02 1.7200e+03 2.6500e+03 3.1080e+03 3.0930e+03 3.3400e+02\n",
      " 1.4834e+04 4.9400e+02 6.1800e+02 5.2300e+02]\n",
      "######################################################################\n"
     ]
    }
   ],
   "source": [
    "for i in Space_ship_test.columns:\n",
    "    print(f'--->>{i} unique values :\\n {Space_ship_test[i].unique()}')\n",
    "    print('#' *70)"
   ]
  },
  {
   "cell_type": "markdown",
   "id": "67454939",
   "metadata": {
    "papermill": {
     "duration": 0.017295,
     "end_time": "2025-10-22T20:48:37.887538",
     "exception": false,
     "start_time": "2025-10-22T20:48:37.870243",
     "status": "completed"
    },
    "tags": []
   },
   "source": [
    "We make **OneHot Encoding** For **HomePlanet** column by using this code:"
   ]
  },
  {
   "cell_type": "code",
   "execution_count": 43,
   "id": "d7415ab9",
   "metadata": {
    "execution": {
     "iopub.execute_input": "2025-10-22T20:48:37.924160Z",
     "iopub.status.busy": "2025-10-22T20:48:37.923035Z",
     "iopub.status.idle": "2025-10-22T20:48:37.933253Z",
     "shell.execute_reply": "2025-10-22T20:48:37.932185Z"
    },
    "papermill": {
     "duration": 0.030018,
     "end_time": "2025-10-22T20:48:37.934851",
     "exception": false,
     "start_time": "2025-10-22T20:48:37.904833",
     "status": "completed"
    },
    "tags": []
   },
   "outputs": [],
   "source": [
    "# Apply One-Hot Encoding \n",
    "Space_ship_test = pd.get_dummies(Space_ship_test, columns=['HomePlanet'], prefix='HomePlanet')"
   ]
  },
  {
   "cell_type": "markdown",
   "id": "74eb5abf",
   "metadata": {
    "papermill": {
     "duration": 0.017664,
     "end_time": "2025-10-22T20:48:37.970442",
     "exception": false,
     "start_time": "2025-10-22T20:48:37.952778",
     "status": "completed"
    },
    "tags": []
   },
   "source": [
    "To extract important features from **Cabin** column we use this code:"
   ]
  },
  {
   "cell_type": "code",
   "execution_count": 44,
   "id": "4515af87",
   "metadata": {
    "execution": {
     "iopub.execute_input": "2025-10-22T20:48:38.022626Z",
     "iopub.status.busy": "2025-10-22T20:48:38.022236Z",
     "iopub.status.idle": "2025-10-22T20:48:38.042420Z",
     "shell.execute_reply": "2025-10-22T20:48:38.040652Z"
    },
    "papermill": {
     "duration": 0.050307,
     "end_time": "2025-10-22T20:48:38.045110",
     "exception": false,
     "start_time": "2025-10-22T20:48:37.994803",
     "status": "completed"
    },
    "tags": []
   },
   "outputs": [],
   "source": [
    "Space_ship_test[['Deck', 'CabinNum', 'Side']] = Space_ship_test['Cabin'].str.split('/', expand=True)\n",
    "\n",
    "#Drop Main column\n",
    "Space_ship_test = Space_ship_test.drop(['Cabin'],axis=1)"
   ]
  },
  {
   "cell_type": "markdown",
   "id": "24e21e2c",
   "metadata": {
    "papermill": {
     "duration": 0.017558,
     "end_time": "2025-10-22T20:48:38.083943",
     "exception": false,
     "start_time": "2025-10-22T20:48:38.066385",
     "status": "completed"
    },
    "tags": []
   },
   "source": [
    "To Categorial **Age** column to Catigorical ages we use this code:"
   ]
  },
  {
   "cell_type": "code",
   "execution_count": 45,
   "id": "31cb23b1",
   "metadata": {
    "execution": {
     "iopub.execute_input": "2025-10-22T20:48:38.120165Z",
     "iopub.status.busy": "2025-10-22T20:48:38.119698Z",
     "iopub.status.idle": "2025-10-22T20:48:38.127502Z",
     "shell.execute_reply": "2025-10-22T20:48:38.126408Z"
    },
    "papermill": {
     "duration": 0.027853,
     "end_time": "2025-10-22T20:48:38.129177",
     "exception": false,
     "start_time": "2025-10-22T20:48:38.101324",
     "status": "completed"
    },
    "tags": []
   },
   "outputs": [],
   "source": [
    "Space_ship_test['AgeGroup'] = pd.cut(\n",
    "    Space_ship_test['Age'],\n",
    "    bins=[-1, 12, 18, 30, 50, 70, 100],\n",
    "    labels=['Child', 'Teen', 'YoungAdult', 'Adult', 'Senior', 'Elder'])"
   ]
  },
  {
   "cell_type": "markdown",
   "id": "84d13fa4",
   "metadata": {
    "papermill": {
     "duration": 0.01722,
     "end_time": "2025-10-22T20:48:38.163599",
     "exception": false,
     "start_time": "2025-10-22T20:48:38.146379",
     "status": "completed"
    },
    "tags": []
   },
   "source": [
    "To turn Features Which are Non Numerical to Numerical values by using this code:"
   ]
  },
  {
   "cell_type": "code",
   "execution_count": 46,
   "id": "a78fedfe",
   "metadata": {
    "execution": {
     "iopub.execute_input": "2025-10-22T20:48:38.200413Z",
     "iopub.status.busy": "2025-10-22T20:48:38.199616Z",
     "iopub.status.idle": "2025-10-22T20:48:38.208326Z",
     "shell.execute_reply": "2025-10-22T20:48:38.207425Z"
    },
    "papermill": {
     "duration": 0.028457,
     "end_time": "2025-10-22T20:48:38.209843",
     "exception": false,
     "start_time": "2025-10-22T20:48:38.181386",
     "status": "completed"
    },
    "tags": []
   },
   "outputs": [],
   "source": [
    "# To turn VIP to Numerical column\n",
    "Space_ship_test['VIP'] = Space_ship_test['VIP'].astype(int)\n",
    "\n",
    "# To turn CrypoSleep to Numerical column\n",
    "Space_ship_test['CryoSleep'] = Space_ship_test['CryoSleep'].astype(int)\n",
    "\n",
    "# To turn CabinNum to Numerical column\n",
    "Space_ship_test['CabinNum'] = pd.to_numeric(Space_ship_test['CabinNum'], errors='coerce')"
   ]
  },
  {
   "cell_type": "markdown",
   "id": "5e34dca5",
   "metadata": {
    "papermill": {
     "duration": 0.016954,
     "end_time": "2025-10-22T20:48:38.244165",
     "exception": false,
     "start_time": "2025-10-22T20:48:38.227211",
     "status": "completed"
    },
    "tags": []
   },
   "source": [
    "To extract **TotalSpend** for evry one we use this code:"
   ]
  },
  {
   "cell_type": "code",
   "execution_count": 47,
   "id": "2f661b55",
   "metadata": {
    "execution": {
     "iopub.execute_input": "2025-10-22T20:48:38.280107Z",
     "iopub.status.busy": "2025-10-22T20:48:38.279788Z",
     "iopub.status.idle": "2025-10-22T20:48:38.285651Z",
     "shell.execute_reply": "2025-10-22T20:48:38.284701Z"
    },
    "papermill": {
     "duration": 0.026309,
     "end_time": "2025-10-22T20:48:38.287476",
     "exception": false,
     "start_time": "2025-10-22T20:48:38.261167",
     "status": "completed"
    },
    "tags": []
   },
   "outputs": [],
   "source": [
    "Space_ship_test['TotalSpend'] = (Space_ship_test['RoomService'] +\n",
    "Space_ship_test['FoodCourt'] +Space_ship_test['ShoppingMall'] +Space_ship_test['Spa'] +\n",
    "                                  Space_ship_test['VRDeck'])"
   ]
  },
  {
   "cell_type": "markdown",
   "id": "4ed6ae05",
   "metadata": {
    "papermill": {
     "duration": 0.017037,
     "end_time": "2025-10-22T20:48:38.322215",
     "exception": false,
     "start_time": "2025-10-22T20:48:38.305178",
     "status": "completed"
    },
    "tags": []
   },
   "source": [
    "Derived Spending and Behavior Features by using this code:"
   ]
  },
  {
   "cell_type": "code",
   "execution_count": 48,
   "id": "38fa2174",
   "metadata": {
    "execution": {
     "iopub.execute_input": "2025-10-22T20:48:38.359889Z",
     "iopub.status.busy": "2025-10-22T20:48:38.359598Z",
     "iopub.status.idle": "2025-10-22T20:48:38.369427Z",
     "shell.execute_reply": "2025-10-22T20:48:38.368585Z"
    },
    "papermill": {
     "duration": 0.030568,
     "end_time": "2025-10-22T20:48:38.370899",
     "exception": false,
     "start_time": "2025-10-22T20:48:38.340331",
     "status": "completed"
    },
    "tags": []
   },
   "outputs": [],
   "source": [
    "# Spending ratio per age\n",
    "Space_ship_test['Spend_per_Age'] = Space_ship_test['TotalSpend'] / (Space_ship_test['Age'] + 1)\n",
    "\n",
    "# Whether the passenger spent any money\n",
    "Space_ship_test['SpentAnything'] = (Space_ship_test['TotalSpend'] > 0).astype(int)\n",
    "\n",
    "# Total luxury spending (Spa + VRDeck)\n",
    "Space_ship_test['LuxurySpend'] = Space_ship_test['Spa'] + Space_ship_test['VRDeck']\n",
    "\n",
    "# Ratio of RoomService cost to total spending\n",
    "Space_ship_test['RoomServiceRatio'] = Space_ship_test['RoomService'] / (Space_ship_test['TotalSpend'] + 1)\n",
    "\n",
    "# Whether the passenger is awake (not in CryoSleep)\n",
    "Space_ship_test['Awake'] = 1 - Space_ship_test['CryoSleep']"
   ]
  },
  {
   "cell_type": "markdown",
   "id": "d5707a05",
   "metadata": {
    "papermill": {
     "duration": 0.017274,
     "end_time": "2025-10-22T20:48:38.405541",
     "exception": false,
     "start_time": "2025-10-22T20:48:38.388267",
     "status": "completed"
    },
    "tags": []
   },
   "source": [
    "To examin data if there is any Non Numerical Columns:"
   ]
  },
  {
   "cell_type": "code",
   "execution_count": 49,
   "id": "18c80934",
   "metadata": {
    "execution": {
     "iopub.execute_input": "2025-10-22T20:48:38.441648Z",
     "iopub.status.busy": "2025-10-22T20:48:38.441024Z",
     "iopub.status.idle": "2025-10-22T20:48:38.453867Z",
     "shell.execute_reply": "2025-10-22T20:48:38.452798Z"
    },
    "papermill": {
     "duration": 0.032701,
     "end_time": "2025-10-22T20:48:38.455457",
     "exception": false,
     "start_time": "2025-10-22T20:48:38.422756",
     "status": "completed"
    },
    "tags": []
   },
   "outputs": [
    {
     "name": "stdout",
     "output_type": "stream",
     "text": [
      "<class 'pandas.core.frame.DataFrame'>\n",
      "RangeIndex: 4277 entries, 0 to 4276\n",
      "Data columns (total 23 columns):\n",
      " #   Column             Non-Null Count  Dtype   \n",
      "---  ------             --------------  -----   \n",
      " 0   PassengerId        4277 non-null   object  \n",
      " 1   CryoSleep          4277 non-null   int64   \n",
      " 2   Destination        4277 non-null   object  \n",
      " 3   Age                4277 non-null   float64 \n",
      " 4   VIP                4277 non-null   int64   \n",
      " 5   RoomService        4277 non-null   float64 \n",
      " 6   FoodCourt          4277 non-null   float64 \n",
      " 7   ShoppingMall       4277 non-null   float64 \n",
      " 8   Spa                4277 non-null   float64 \n",
      " 9   VRDeck             4277 non-null   float64 \n",
      " 10  HomePlanet_Earth   4277 non-null   bool    \n",
      " 11  HomePlanet_Europa  4277 non-null   bool    \n",
      " 12  HomePlanet_Mars    4277 non-null   bool    \n",
      " 13  Deck               4277 non-null   object  \n",
      " 14  CabinNum           4277 non-null   int64   \n",
      " 15  Side               4277 non-null   object  \n",
      " 16  AgeGroup           4277 non-null   category\n",
      " 17  TotalSpend         4277 non-null   float64 \n",
      " 18  Spend_per_Age      4277 non-null   float64 \n",
      " 19  SpentAnything      4277 non-null   int64   \n",
      " 20  LuxurySpend        4277 non-null   float64 \n",
      " 21  RoomServiceRatio   4277 non-null   float64 \n",
      " 22  Awake              4277 non-null   int64   \n",
      "dtypes: bool(3), category(1), float64(10), int64(5), object(4)\n",
      "memory usage: 651.9+ KB\n"
     ]
    }
   ],
   "source": [
    "Space_ship_test.info()"
   ]
  },
  {
   "cell_type": "markdown",
   "id": "bd5a7990",
   "metadata": {
    "papermill": {
     "duration": 0.017587,
     "end_time": "2025-10-22T20:48:38.490673",
     "exception": false,
     "start_time": "2025-10-22T20:48:38.473086",
     "status": "completed"
    },
    "tags": []
   },
   "source": [
    "So we applying **One-Hot Encoding** to Destination, Side, Deck, and AgeGroup columns :"
   ]
  },
  {
   "cell_type": "code",
   "execution_count": 50,
   "id": "2b8dd429",
   "metadata": {
    "execution": {
     "iopub.execute_input": "2025-10-22T20:48:38.527174Z",
     "iopub.status.busy": "2025-10-22T20:48:38.526844Z",
     "iopub.status.idle": "2025-10-22T20:48:38.539382Z",
     "shell.execute_reply": "2025-10-22T20:48:38.538479Z"
    },
    "papermill": {
     "duration": 0.033192,
     "end_time": "2025-10-22T20:48:38.541224",
     "exception": false,
     "start_time": "2025-10-22T20:48:38.508032",
     "status": "completed"
    },
    "tags": []
   },
   "outputs": [],
   "source": [
    "Space_ship_test = pd.get_dummies(Space_ship_test,\n",
    "    columns=['Destination', 'Side', 'Deck', 'AgeGroup'],\n",
    "    prefix=['Dest', 'Side', 'Deck', 'AgeGroup'])"
   ]
  },
  {
   "cell_type": "code",
   "execution_count": 51,
   "id": "9544e944",
   "metadata": {
    "execution": {
     "iopub.execute_input": "2025-10-22T20:48:38.578413Z",
     "iopub.status.busy": "2025-10-22T20:48:38.577643Z",
     "iopub.status.idle": "2025-10-22T20:48:38.598624Z",
     "shell.execute_reply": "2025-10-22T20:48:38.597465Z"
    },
    "papermill": {
     "duration": 0.041475,
     "end_time": "2025-10-22T20:48:38.600298",
     "exception": false,
     "start_time": "2025-10-22T20:48:38.558823",
     "status": "completed"
    },
    "tags": []
   },
   "outputs": [
    {
     "data": {
      "text/html": [
       "<div>\n",
       "<style scoped>\n",
       "    .dataframe tbody tr th:only-of-type {\n",
       "        vertical-align: middle;\n",
       "    }\n",
       "\n",
       "    .dataframe tbody tr th {\n",
       "        vertical-align: top;\n",
       "    }\n",
       "\n",
       "    .dataframe thead th {\n",
       "        text-align: right;\n",
       "    }\n",
       "</style>\n",
       "<table border=\"1\" class=\"dataframe\">\n",
       "  <thead>\n",
       "    <tr style=\"text-align: right;\">\n",
       "      <th></th>\n",
       "      <th>PassengerId</th>\n",
       "      <th>CryoSleep</th>\n",
       "      <th>Age</th>\n",
       "      <th>VIP</th>\n",
       "      <th>RoomService</th>\n",
       "      <th>FoodCourt</th>\n",
       "      <th>ShoppingMall</th>\n",
       "      <th>Spa</th>\n",
       "      <th>VRDeck</th>\n",
       "      <th>HomePlanet_Earth</th>\n",
       "      <th>...</th>\n",
       "      <th>Deck_E</th>\n",
       "      <th>Deck_F</th>\n",
       "      <th>Deck_G</th>\n",
       "      <th>Deck_T</th>\n",
       "      <th>AgeGroup_Child</th>\n",
       "      <th>AgeGroup_Teen</th>\n",
       "      <th>AgeGroup_YoungAdult</th>\n",
       "      <th>AgeGroup_Adult</th>\n",
       "      <th>AgeGroup_Senior</th>\n",
       "      <th>AgeGroup_Elder</th>\n",
       "    </tr>\n",
       "  </thead>\n",
       "  <tbody>\n",
       "    <tr>\n",
       "      <th>0</th>\n",
       "      <td>0013_01</td>\n",
       "      <td>1</td>\n",
       "      <td>27.0</td>\n",
       "      <td>0</td>\n",
       "      <td>0.0</td>\n",
       "      <td>0.0</td>\n",
       "      <td>0.0</td>\n",
       "      <td>0.0</td>\n",
       "      <td>0.0</td>\n",
       "      <td>True</td>\n",
       "      <td>...</td>\n",
       "      <td>False</td>\n",
       "      <td>False</td>\n",
       "      <td>True</td>\n",
       "      <td>False</td>\n",
       "      <td>False</td>\n",
       "      <td>False</td>\n",
       "      <td>True</td>\n",
       "      <td>False</td>\n",
       "      <td>False</td>\n",
       "      <td>False</td>\n",
       "    </tr>\n",
       "    <tr>\n",
       "      <th>1</th>\n",
       "      <td>0018_01</td>\n",
       "      <td>0</td>\n",
       "      <td>19.0</td>\n",
       "      <td>0</td>\n",
       "      <td>0.0</td>\n",
       "      <td>9.0</td>\n",
       "      <td>0.0</td>\n",
       "      <td>2823.0</td>\n",
       "      <td>0.0</td>\n",
       "      <td>True</td>\n",
       "      <td>...</td>\n",
       "      <td>False</td>\n",
       "      <td>True</td>\n",
       "      <td>False</td>\n",
       "      <td>False</td>\n",
       "      <td>False</td>\n",
       "      <td>False</td>\n",
       "      <td>True</td>\n",
       "      <td>False</td>\n",
       "      <td>False</td>\n",
       "      <td>False</td>\n",
       "    </tr>\n",
       "    <tr>\n",
       "      <th>2</th>\n",
       "      <td>0019_01</td>\n",
       "      <td>1</td>\n",
       "      <td>31.0</td>\n",
       "      <td>0</td>\n",
       "      <td>0.0</td>\n",
       "      <td>0.0</td>\n",
       "      <td>0.0</td>\n",
       "      <td>0.0</td>\n",
       "      <td>0.0</td>\n",
       "      <td>False</td>\n",
       "      <td>...</td>\n",
       "      <td>False</td>\n",
       "      <td>False</td>\n",
       "      <td>False</td>\n",
       "      <td>False</td>\n",
       "      <td>False</td>\n",
       "      <td>False</td>\n",
       "      <td>False</td>\n",
       "      <td>True</td>\n",
       "      <td>False</td>\n",
       "      <td>False</td>\n",
       "    </tr>\n",
       "    <tr>\n",
       "      <th>3</th>\n",
       "      <td>0021_01</td>\n",
       "      <td>0</td>\n",
       "      <td>38.0</td>\n",
       "      <td>0</td>\n",
       "      <td>0.0</td>\n",
       "      <td>6652.0</td>\n",
       "      <td>0.0</td>\n",
       "      <td>181.0</td>\n",
       "      <td>585.0</td>\n",
       "      <td>False</td>\n",
       "      <td>...</td>\n",
       "      <td>False</td>\n",
       "      <td>False</td>\n",
       "      <td>False</td>\n",
       "      <td>False</td>\n",
       "      <td>False</td>\n",
       "      <td>False</td>\n",
       "      <td>False</td>\n",
       "      <td>True</td>\n",
       "      <td>False</td>\n",
       "      <td>False</td>\n",
       "    </tr>\n",
       "    <tr>\n",
       "      <th>4</th>\n",
       "      <td>0023_01</td>\n",
       "      <td>0</td>\n",
       "      <td>20.0</td>\n",
       "      <td>0</td>\n",
       "      <td>10.0</td>\n",
       "      <td>0.0</td>\n",
       "      <td>635.0</td>\n",
       "      <td>0.0</td>\n",
       "      <td>0.0</td>\n",
       "      <td>True</td>\n",
       "      <td>...</td>\n",
       "      <td>False</td>\n",
       "      <td>True</td>\n",
       "      <td>False</td>\n",
       "      <td>False</td>\n",
       "      <td>False</td>\n",
       "      <td>False</td>\n",
       "      <td>True</td>\n",
       "      <td>False</td>\n",
       "      <td>False</td>\n",
       "      <td>False</td>\n",
       "    </tr>\n",
       "  </tbody>\n",
       "</table>\n",
       "<p>5 rows × 38 columns</p>\n",
       "</div>"
      ],
      "text/plain": [
       "  PassengerId  CryoSleep   Age  VIP  RoomService  FoodCourt  ShoppingMall  \\\n",
       "0     0013_01          1  27.0    0          0.0        0.0           0.0   \n",
       "1     0018_01          0  19.0    0          0.0        9.0           0.0   \n",
       "2     0019_01          1  31.0    0          0.0        0.0           0.0   \n",
       "3     0021_01          0  38.0    0          0.0     6652.0           0.0   \n",
       "4     0023_01          0  20.0    0         10.0        0.0         635.0   \n",
       "\n",
       "      Spa  VRDeck  HomePlanet_Earth  ...  Deck_E  Deck_F  Deck_G  Deck_T  \\\n",
       "0     0.0     0.0              True  ...   False   False    True   False   \n",
       "1  2823.0     0.0              True  ...   False    True   False   False   \n",
       "2     0.0     0.0             False  ...   False   False   False   False   \n",
       "3   181.0   585.0             False  ...   False   False   False   False   \n",
       "4     0.0     0.0              True  ...   False    True   False   False   \n",
       "\n",
       "   AgeGroup_Child  AgeGroup_Teen  AgeGroup_YoungAdult  AgeGroup_Adult  \\\n",
       "0           False          False                 True           False   \n",
       "1           False          False                 True           False   \n",
       "2           False          False                False            True   \n",
       "3           False          False                False            True   \n",
       "4           False          False                 True           False   \n",
       "\n",
       "   AgeGroup_Senior  AgeGroup_Elder  \n",
       "0            False           False  \n",
       "1            False           False  \n",
       "2            False           False  \n",
       "3            False           False  \n",
       "4            False           False  \n",
       "\n",
       "[5 rows x 38 columns]"
      ]
     },
     "execution_count": 51,
     "metadata": {},
     "output_type": "execute_result"
    }
   ],
   "source": [
    "Space_ship_test.head(5)"
   ]
  },
  {
   "cell_type": "markdown",
   "id": "1a2608f3",
   "metadata": {
    "papermill": {
     "duration": 0.01752,
     "end_time": "2025-10-22T20:48:38.636323",
     "exception": false,
     "start_time": "2025-10-22T20:48:38.618803",
     "status": "completed"
    },
    "tags": []
   },
   "source": [
    "## **Prediction**"
   ]
  },
  {
   "cell_type": "code",
   "execution_count": 52,
   "id": "e235fe0f",
   "metadata": {
    "execution": {
     "iopub.execute_input": "2025-10-22T20:48:38.673294Z",
     "iopub.status.busy": "2025-10-22T20:48:38.672962Z",
     "iopub.status.idle": "2025-10-22T20:48:38.679782Z",
     "shell.execute_reply": "2025-10-22T20:48:38.678843Z"
    },
    "papermill": {
     "duration": 0.027224,
     "end_time": "2025-10-22T20:48:38.681551",
     "exception": false,
     "start_time": "2025-10-22T20:48:38.654327",
     "status": "completed"
    },
    "tags": []
   },
   "outputs": [],
   "source": [
    "test_Id = Space_ship_test['PassengerId'].copy()\n",
    "Space_ship_test = Space_ship_test.drop(['PassengerId'],axis=1)"
   ]
  },
  {
   "cell_type": "code",
   "execution_count": 53,
   "id": "b80cbfd2",
   "metadata": {
    "execution": {
     "iopub.execute_input": "2025-10-22T20:48:38.719088Z",
     "iopub.status.busy": "2025-10-22T20:48:38.718756Z",
     "iopub.status.idle": "2025-10-22T20:48:38.801559Z",
     "shell.execute_reply": "2025-10-22T20:48:38.800872Z"
    },
    "papermill": {
     "duration": 0.103775,
     "end_time": "2025-10-22T20:48:38.803409",
     "exception": false,
     "start_time": "2025-10-22T20:48:38.699634",
     "status": "completed"
    },
    "tags": []
   },
   "outputs": [],
   "source": [
    "predictions = xgb.predict(Space_ship_test)"
   ]
  },
  {
   "cell_type": "markdown",
   "id": "a0dbf693",
   "metadata": {
    "papermill": {
     "duration": 0.01741,
     "end_time": "2025-10-22T20:48:38.839367",
     "exception": false,
     "start_time": "2025-10-22T20:48:38.821957",
     "status": "completed"
    },
    "tags": []
   },
   "source": [
    "## **Submission**"
   ]
  },
  {
   "cell_type": "code",
   "execution_count": 54,
   "id": "25e2da74",
   "metadata": {
    "execution": {
     "iopub.execute_input": "2025-10-22T20:48:38.876626Z",
     "iopub.status.busy": "2025-10-22T20:48:38.875880Z",
     "iopub.status.idle": "2025-10-22T20:48:38.881183Z",
     "shell.execute_reply": "2025-10-22T20:48:38.880167Z"
    },
    "papermill": {
     "duration": 0.025361,
     "end_time": "2025-10-22T20:48:38.882708",
     "exception": false,
     "start_time": "2025-10-22T20:48:38.857347",
     "status": "completed"
    },
    "tags": []
   },
   "outputs": [],
   "source": [
    "submission = pd.DataFrame({\n",
    "    'PassengerId': test_Id,\n",
    "    'Transported': predictions.astype(bool)\n",
    "})"
   ]
  },
  {
   "cell_type": "code",
   "execution_count": 55,
   "id": "003e7893",
   "metadata": {
    "execution": {
     "iopub.execute_input": "2025-10-22T20:48:38.920623Z",
     "iopub.status.busy": "2025-10-22T20:48:38.920335Z",
     "iopub.status.idle": "2025-10-22T20:48:38.928973Z",
     "shell.execute_reply": "2025-10-22T20:48:38.927997Z"
    },
    "papermill": {
     "duration": 0.029421,
     "end_time": "2025-10-22T20:48:38.930365",
     "exception": false,
     "start_time": "2025-10-22T20:48:38.900944",
     "status": "completed"
    },
    "tags": []
   },
   "outputs": [
    {
     "data": {
      "text/html": [
       "<div>\n",
       "<style scoped>\n",
       "    .dataframe tbody tr th:only-of-type {\n",
       "        vertical-align: middle;\n",
       "    }\n",
       "\n",
       "    .dataframe tbody tr th {\n",
       "        vertical-align: top;\n",
       "    }\n",
       "\n",
       "    .dataframe thead th {\n",
       "        text-align: right;\n",
       "    }\n",
       "</style>\n",
       "<table border=\"1\" class=\"dataframe\">\n",
       "  <thead>\n",
       "    <tr style=\"text-align: right;\">\n",
       "      <th></th>\n",
       "      <th>PassengerId</th>\n",
       "      <th>Transported</th>\n",
       "    </tr>\n",
       "  </thead>\n",
       "  <tbody>\n",
       "    <tr>\n",
       "      <th>0</th>\n",
       "      <td>0013_01</td>\n",
       "      <td>True</td>\n",
       "    </tr>\n",
       "    <tr>\n",
       "      <th>1</th>\n",
       "      <td>0018_01</td>\n",
       "      <td>False</td>\n",
       "    </tr>\n",
       "    <tr>\n",
       "      <th>2</th>\n",
       "      <td>0019_01</td>\n",
       "      <td>True</td>\n",
       "    </tr>\n",
       "    <tr>\n",
       "      <th>3</th>\n",
       "      <td>0021_01</td>\n",
       "      <td>True</td>\n",
       "    </tr>\n",
       "    <tr>\n",
       "      <th>4</th>\n",
       "      <td>0023_01</td>\n",
       "      <td>False</td>\n",
       "    </tr>\n",
       "  </tbody>\n",
       "</table>\n",
       "</div>"
      ],
      "text/plain": [
       "  PassengerId  Transported\n",
       "0     0013_01         True\n",
       "1     0018_01        False\n",
       "2     0019_01         True\n",
       "3     0021_01         True\n",
       "4     0023_01        False"
      ]
     },
     "execution_count": 55,
     "metadata": {},
     "output_type": "execute_result"
    }
   ],
   "source": [
    "submission.head(5)"
   ]
  },
  {
   "cell_type": "code",
   "execution_count": 56,
   "id": "08da61e2",
   "metadata": {
    "execution": {
     "iopub.execute_input": "2025-10-22T20:48:38.970256Z",
     "iopub.status.busy": "2025-10-22T20:48:38.969889Z",
     "iopub.status.idle": "2025-10-22T20:48:38.984710Z",
     "shell.execute_reply": "2025-10-22T20:48:38.983590Z"
    },
    "papermill": {
     "duration": 0.036691,
     "end_time": "2025-10-22T20:48:38.986606",
     "exception": false,
     "start_time": "2025-10-22T20:48:38.949915",
     "status": "completed"
    },
    "tags": []
   },
   "outputs": [],
   "source": [
    "submission.to_csv(\"submission.csv\", index=False)"
   ]
  }
 ],
 "metadata": {
  "kaggle": {
   "accelerator": "none",
   "dataSources": [
    {
     "databundleVersionId": 3220602,
     "sourceId": 34377,
     "sourceType": "competition"
    }
   ],
   "dockerImageVersionId": 31153,
   "isGpuEnabled": false,
   "isInternetEnabled": true,
   "language": "python",
   "sourceType": "notebook"
  },
  "kernelspec": {
   "display_name": "Python 3",
   "language": "python",
   "name": "python3"
  },
  "language_info": {
   "codemirror_mode": {
    "name": "ipython",
    "version": 3
   },
   "file_extension": ".py",
   "mimetype": "text/x-python",
   "name": "python",
   "nbconvert_exporter": "python",
   "pygments_lexer": "ipython3",
   "version": "3.11.13"
  },
  "papermill": {
   "default_parameters": {},
   "duration": 33.951798,
   "end_time": "2025-10-22T20:48:39.734178",
   "environment_variables": {},
   "exception": null,
   "input_path": "__notebook__.ipynb",
   "output_path": "__notebook__.ipynb",
   "parameters": {},
   "start_time": "2025-10-22T20:48:05.782380",
   "version": "2.6.0"
  }
 },
 "nbformat": 4,
 "nbformat_minor": 5
}
